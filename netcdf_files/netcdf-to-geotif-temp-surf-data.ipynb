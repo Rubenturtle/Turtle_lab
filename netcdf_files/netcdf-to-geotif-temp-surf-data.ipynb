{
 "cells": [
  {
   "cell_type": "markdown",
   "metadata": {},
   "source": [
    "# Netcdf to Geotif\n",
    "- Main goal is to extract and process Copernicus land surface temperature data\n",
    "- Data Source : https://land.copernicus.eu/global/products/lst\n",
    "- We have a bunch of files we want to transform from Netcdf to geotif\n",
    "- later we are going to do some operations as a raster calculator\n",
    "- Notes: \n",
    "   - the netcdf files are in diferent folders\n",
    "   - the netcdf has multiple variables with multiple dimensions\n",
    "   - our netcdf has only one band\n"
   ]
  },
  {
   "cell_type": "code",
   "execution_count": 14,
   "metadata": {},
   "outputs": [],
   "source": [
    "import netCDF4 as nc\n",
    "from osgeo import gdal\n",
    "import numpy as np\n",
    "import os"
   ]
  },
  {
   "cell_type": "code",
   "execution_count": 2,
   "metadata": {},
   "outputs": [
    {
     "name": "stdout",
     "output_type": "stream",
     "text": [
      "['C:/Users/admin/Documents/03_data/Reeni_C0153950/LST10_TCI_202101110000_GLOBE_GEO_V2.1.1', 'C:/Users/admin/Documents/03_data/Reeni_C0153950/LST10_TCI_202101210000_GLOBE_GEO_V2.1.1']\n"
     ]
    }
   ],
   "source": [
    "\"\"\"Make a folder list\"\"\"\n",
    "# path = r\"//akif.internal/public/demo-geo-stack/geoserver/data/im-data-soil/isric-bdticm-m-250m-ll_mosaic_10240\"\n",
    "main_path = r\"C:\\Users\\admin\\Documents\\03_data\\Reeni_C0153950\"\n",
    "os.chdir(main_path)\n",
    "Folder_list = [] #f for f in os.listdir(path) if os.isfile(mypath,f)\n",
    "for file in os.listdir(main_path):\n",
    "    if os.path.isdir(file):\n",
    "        if file not in Folder_list:\n",
    "            Folder_list.append(os.path.join(main_path, file).replace(\"\\\\\",\"/\"))\n",
    "    else:\n",
    "        pass\n",
    "\n",
    "print(Folder_list[0:2])"
   ]
  },
  {
   "cell_type": "code",
   "execution_count": 44,
   "metadata": {},
   "outputs": [],
   "source": [
    "\"\"\"Main automatized process. Read the rest for further info\"\"\"\n",
    "\n",
    "gdal.UseExceptions()\n",
    "\n",
    "try: fn.close()  # just to be safe, make sure dataset is not already open.\n",
    "except: pass\n",
    "for folder in Folder_list[:]: #1 for testing\n",
    "    for file in os.listdir(folder):\n",
    "        if file.endswith(\".nc\"):\n",
    "            fn = os.path.join(folder, file).replace(\"/\",\"\\\\\")#.replace(\"\\\\\",\"/\")\n",
    "        else:\n",
    "            pass\n",
    "\n",
    "    # Open the nectcdf file, there is only one per folder in this case\n",
    "    \n",
    "    ds = nc.Dataset(fn) # If the file is open for write access (mode='w', 'r+' or 'a')\n",
    "    file_name = os.path.basename(fn)\n",
    "    output = os.path.join(main_path, file_name).replace(\".nc\",\".tif\")\n",
    "    band = 1\n",
    "    gdaltranString = \"gdal_translate -of GTiff -a_srs epsg:4326 -b \" + str(band) + \" -co COMPRESS=DEFLATE -co TILED=YES NETCDF:\" + str(fn) + \":MEDIAN \" + str(output)\n",
    "    os.system(gdaltranString)\n",
    "    output = None\n",
    "\n"
   ]
  },
  {
   "cell_type": "code",
   "execution_count": null,
   "metadata": {},
   "outputs": [],
   "source": [
    "ds = nc.Dataset(fn) # If the file is open for write access (mode='w', 'r+' or 'a')\n",
    "# Here we print the characteristics\n",
    "print(ds)\n",
    "# print(ds.__dict__) # here we print the characteristics as a dictionary"
   ]
  },
  {
   "cell_type": "code",
   "execution_count": 35,
   "metadata": {},
   "outputs": [
    {
     "name": "stdout",
     "output_type": "stream",
     "text": [
      "C:\\Users\\admin\\Documents\\03_data\\Reeni_C0153950\n"
     ]
    }
   ],
   "source": [
    "print(os.getcwd())"
   ]
  },
  {
   "cell_type": "code",
   "execution_count": 10,
   "metadata": {},
   "outputs": [
    {
     "name": "stdout",
     "output_type": "stream",
     "text": [
      "<class 'netCDF4._netCDF4.Dimension'>: name = 'lat', size = 3584\n",
      "\n",
      "<class 'netCDF4._netCDF4.Dimension'>: name = 'lon', size = 8064\n",
      "\n",
      "<class 'netCDF4._netCDF4.Dimension'> (unlimited): name = 'time', size = 1\n",
      "\n",
      "<class 'netCDF4._netCDF4.Dimension'>: name = 'phony_dim_3', size = 0\n",
      "\n",
      "odict_keys(['FRAC_VALID_OBS', 'MAX', 'MEDIAN', 'MIN', 'TCI', 'crs', 'lat', 'lon', 'time'])\n"
     ]
    },
    {
     "name": "stderr",
     "output_type": "stream",
     "text": [
      "c:\\Users\\admin\\.conda\\envs\\gdal_env\\lib\\site-packages\\ipykernel_launcher.py:4: DeprecationWarning: tostring() is deprecated. Use tobytes() instead.\n",
      "  after removing the cwd from sys.path.\n"
     ]
    }
   ],
   "source": [
    "\"\"\"Dimensions check\"\"\"\n",
    "#each variable has its own dimensions, we want MEDIAN\n",
    "for dim in ds.dimensions.values():\n",
    "    print(dim) #it is no possible to iterate the dimension\n",
    "\n",
    "\"\"\"Variables check\"\"\"\n",
    "print (ds.variables.keys())"
   ]
  },
  {
   "cell_type": "code",
   "execution_count": 33,
   "metadata": {},
   "outputs": [
    {
     "name": "stdout",
     "output_type": "stream",
     "text": [
      "('time', 'lat', 'lon')\n"
     ]
    }
   ],
   "source": [
    "median_variable = ds.variables['MEDIAN']\n",
    "print(median_variable.dimensions) "
   ]
  },
  {
   "cell_type": "code",
   "execution_count": 43,
   "metadata": {},
   "outputs": [],
   "source": [
    "\"\"\"Here we start transforming the data\"\"\"\n",
    "gdal.UseExceptions()\n",
    "\n",
    "file_name = os.path.basename(fn)\n",
    "output = os.path.join(main_path, file_name).replace(\".nc\",\".tif\")\n",
    "band = 1\n",
    "\n",
    "# nn = gdal.Translate(output, fn, \n",
    "#                 format='GTIFF',\n",
    "#                 # format='NetCDF',\n",
    "#                 # bandList = [1]\n",
    "#                 # creationOptions = ['COMPRESS=DEFLATE','TILED=YES']\n",
    "#                 )\n",
    "\n",
    "gdaltranString = \"gdal_translate -of GTiff -a_srs epsg:4326 -b \" + str(band) + \" -co COMPRESS=DEFLATE -co TILED=YES NETCDF:\" + str(fn) + \":MEDIAN \" + str(output)\n",
    "# gdaltranString = \"gdal_translate -of GTiff -a_srs epsg:4326 -b \" + str(1) + \" -co COMPRESS=DEFLATE -co TILED=YES \" + str(fn) + \" \" + str(output)\n",
    "\n",
    "os.system(gdaltranString)\n",
    "output = None\n",
    "\n",
    "#gdal_translate -of GTiff -b 10 input.nc output.tiff  # to get 10th band, it works fine"
   ]
  },
  {
   "cell_type": "markdown",
   "metadata": {},
   "source": [
    "https://cds.climate.copernicus.eu/cdsapp#!/dataset/derived-utci-historical?tab=overview"
   ]
  }
 ],
 "metadata": {
  "kernelspec": {
   "display_name": "Python 3.9.12 ('geoprocessing')",
   "language": "python",
   "name": "python3"
  },
  "language_info": {
   "codemirror_mode": {
    "name": "ipython",
    "version": 3
   },
   "file_extension": ".py",
   "mimetype": "text/x-python",
   "name": "python",
   "nbconvert_exporter": "python",
   "pygments_lexer": "ipython3",
   "version": "3.9.12"
  },
  "orig_nbformat": 4,
  "vscode": {
   "interpreter": {
    "hash": "ef1643838ba400d9e56910a4ebe1d7c2ddcc0867ba383b6e8e5b6e0b2b833d6e"
   }
  }
 },
 "nbformat": 4,
 "nbformat_minor": 2
}
