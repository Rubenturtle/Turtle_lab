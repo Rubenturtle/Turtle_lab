{
 "cells": [
  {
   "cell_type": "markdown",
   "metadata": {},
   "source": [
    "# Climpy data\n",
    "- Reading a NetCDF file, analyzing the internals and finally extract the dessired layer into new files (under development)\n",
    "- WIth GDAL, extracting the bands one by one into new files (finished)"
   ]
  },
  {
   "cell_type": "code",
   "execution_count": 1,
   "metadata": {},
   "outputs": [],
   "source": [
    "from osgeo import gdal\n",
    "import netCDF4 as nc\n",
    "from netCDF4 import num2date\n",
    "import os\n",
    "\n",
    "# concept of bands: https://stackoverflow.com/questions/52046282/convert-netcdf-nc-to-geotiff"
   ]
  },
  {
   "cell_type": "code",
   "execution_count": 2,
   "metadata": {},
   "outputs": [],
   "source": [
    "def open_netcdf(data_path):\n",
    "    ds = nc.Dataset(data_path, mode='r+') #, mode='w',format='NETCDF4'\n",
    "    return ds\n",
    "\n",
    "# Tip: longitude and latitute define the size of the layers. Time defines the number of layers inside \n",
    "def get_dimension_list(dataset):\n",
    "    dimensions_list = list(dataset.dimensions.values())\n",
    "    return dimensions_list\n",
    "\n",
    "def get_variable_list(dataset):\n",
    "    variables_list = list(dataset.variables.keys())\n",
    "    return variables_list\n",
    "\n",
    "\n",
    "def get_time_dimension_properties(ds):\n",
    "    time_variable = ds.variables['time']\n",
    "    print(\"time units:\", time_variable.units)\n",
    "    print(\"time calendar:\", getattr(time_variable, 'calendar', 'standard'))\n",
    "    print(\"time dimensions:\", time_variable.dimensions)\n",
    "    # Esto no sive pero me ha costado tanto que no quiero borrarlo\n",
    "    days_since_yyyy_mm_dd = ' '.join(time_variable.units.split()[:3])  # Extract \"days since YYYY-MM-DD\" part\n",
    "    dates = num2date(time_variable[:], units=time_variable.units, calendar=getattr(time_variable, 'calendar', 'standard'))\n",
    "\n",
    "    time_min, time_max = min(dates), max(dates)\n",
    "    print(f'Time range: {time_min} to {time_max}')\n",
    "\n",
    "def get_date_list(ds):\n",
    "    date_list = []\n",
    "    dimension = 'time'\n",
    "    for dim in ds.dimensions.values():\n",
    "        if dim == ds.dimensions[dimension]:\n",
    "            print(\"number of date bands: \", len(dim))\n",
    "            variable = ds.variables[dimension]\n",
    "            starting_date = variable.units\n",
    "            array = variable[:]\n",
    "            time_format = nc.num2date(array,starting_date)\n",
    "            for date_element in time_format:\n",
    "                # replace \"-\" for \" \" so \"split\" can work, filter and create a list by digits and finally join them in a single string with \"_\" as separator\n",
    "                date_element_formated = \"_\".join([str(s) for s in str(date_element).replace(\"-\",\" \").split() if s.isdigit()])\n",
    "                date_list.append(date_element_formated)\n",
    "        else:\n",
    "            continue\n",
    "    return date_list\n",
    "\n",
    "def create_output_folder(path):\n",
    "    root_dir = os.path.dirname(path)\n",
    "    output_folder = \"netcdf_output\"\n",
    "    output_dir = os.path.join(root_dir, output_folder).replace(\"\\\\\",\"/\")\n",
    "    if not os.path.exists(output_dir):\n",
    "        os.mkdir(output_dir)\n",
    "    return output_dir\n",
    "\n",
    "def netcdf_to_geotiff(data_path, output_dir, variable, date_list):\n",
    "    gdal.UseExceptions()\n",
    "\n",
    "    file_name = os.path.basename(data_path)\n",
    "    print(file_name)\n",
    "    k = 0\n",
    "    for i in date_list: # [0:2] \"for testing\"\n",
    "        k += 1\n",
    "        output = output_dir + \"/\" + file_name.replace(\".nc\",\"\") + \"_\" + i + \".tif\"\n",
    "        print(output)\n",
    "        \"\"\"Method1\"\"\"\n",
    "        # gdal.Translate(output, fn, \n",
    "        #                 format='NetCDF', # format='GTIFF',\n",
    "        #                 bandList = [1],\n",
    "        #                 creationOptions = ['COMPRESS=DEFLATE','TILED=YES']\n",
    "        #                 )\n",
    "        \"\"\"Method2\"\"\"\n",
    "        gdaltranString = \"gdal_translate -of GTiff -a_srs epsg:4326 -b \" + str(k) + \" -co COMPRESS=DEFLATE -co TILED=YES NETCDF:\" + str(data_path) + f\":{variable} \" + str(output)\n",
    "        os.system(gdaltranString)\n",
    "        output = None\n",
    "\n",
    "    # gdal_translate -of GTiff -b 10 input.nc output.tiff  # to get 10th band, it works fine\n",
    "\n"
   ]
  },
  {
   "cell_type": "code",
   "execution_count": 3,
   "metadata": {},
   "outputs": [],
   "source": [
    "data_path = r\"C:\\Users\\admin\\Downloads\\reg_rcp85_17g_accretion.nc\"\n",
    "\n",
    "try: \n",
    "    ds.close()  # just to be safe, make sure dataset is not already open.\n",
    "except: \n",
    "    pass\n",
    "\n",
    "ds = open_netcdf(data_path)\n",
    "dimensions_list = get_dimension_list(ds)\n",
    "variables_list = get_variable_list(ds)\n",
    "# get_time_dimension_properties(ds)"
   ]
  },
  {
   "cell_type": "code",
   "execution_count": 4,
   "metadata": {},
   "outputs": [
    {
     "data": {
      "text/plain": [
       "['Accretion', 'transverse_mercator', 'StdTime', 'x', 'y']"
      ]
     },
     "execution_count": 4,
     "metadata": {},
     "output_type": "execute_result"
    }
   ],
   "source": [
    "variables_list"
   ]
  },
  {
   "cell_type": "code",
   "execution_count": 9,
   "metadata": {},
   "outputs": [
    {
     "name": "stdout",
     "output_type": "stream",
     "text": [
      "number of date bands:  1\n",
      "C3S-LC-L4-LCCS-Map-300m-P1Y-2022-v2.1.1.nc\n",
      "C:/Users/admin/Downloads/dataset-satellite-land-cover/netcdf_output/C3S-LC-L4-LCCS-Map-300m-P1Y-2022-v2.1.1_2022_01_01.tif\n"
     ]
    },
    {
     "name": "stderr",
     "output_type": "stream",
     "text": [
      "c:\\Users\\admin\\.conda\\envs\\gdal_env\\lib\\site-packages\\ipykernel_launcher.py:35: DeprecationWarning: `np.bool` is a deprecated alias for the builtin `bool`. To silence this warning, use `bool` by itself. Doing this will not modify any behavior and is safe. If you specifically wanted the numpy scalar type, use `np.bool_` here.\n",
      "Deprecated in NumPy 1.20; for more details and guidance: https://numpy.org/devdocs/release/1.20.0-notes.html#deprecations\n"
     ]
    }
   ],
   "source": [
    "output_dir = create_output_folder(data_path)\n",
    "date_list = get_date_list(ds)\n",
    "variable = \"lccs_class\"\n",
    "netcdf_to_geotiff(data_path, output_dir, variable, date_list)"
   ]
  }
 ],
 "metadata": {
  "kernelspec": {
   "display_name": "gdal_env",
   "language": "python",
   "name": "python3"
  },
  "language_info": {
   "codemirror_mode": {
    "name": "ipython",
    "version": 3
   },
   "file_extension": ".py",
   "mimetype": "text/x-python",
   "name": "python",
   "nbconvert_exporter": "python",
   "pygments_lexer": "ipython3",
   "version": "3.7.12"
  },
  "orig_nbformat": 4
 },
 "nbformat": 4,
 "nbformat_minor": 2
}
