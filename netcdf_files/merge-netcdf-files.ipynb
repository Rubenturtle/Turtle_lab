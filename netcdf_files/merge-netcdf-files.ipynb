{
 "cells": [
  {
   "cell_type": "markdown",
   "metadata": {},
   "source": [
    "# Merge Netcdf files\n",
    "- sometimes is better doing this process before, than transforming eveything to geotiff"
   ]
  },
  {
   "cell_type": "code",
   "execution_count": 1,
   "metadata": {},
   "outputs": [],
   "source": [
    "\n",
    "import netCDF4\n",
    "import os\n",
    "import numpy\n",
    "import xarray"
   ]
  },
  {
   "cell_type": "code",
   "execution_count": 2,
   "metadata": {},
   "outputs": [],
   "source": [
    "os.chdir(r\"Z:\\z_resources\\ruben\\mrt_2022\")\n",
    "ds = xarray.open_mfdataset('ecmwf_mrt_*_v1.1_con.nc',combine = 'nested', concat_dim=\"time\") #open_mfdataset = opens files with read-only access"
   ]
  },
  {
   "cell_type": "code",
   "execution_count": 3,
   "metadata": {},
   "outputs": [],
   "source": [
    "ds_mean = ds.resample(time='1H').mean()"
   ]
  },
  {
   "cell_type": "code",
   "execution_count": 14,
   "metadata": {},
   "outputs": [],
   "source": [
    "ds_mean.to_netcdf('ecmwf_mtr_mean_2022_ruben.nc')"
   ]
  },
  {
   "cell_type": "code",
   "execution_count": 12,
   "metadata": {},
   "outputs": [],
   "source": [
    "ds.to_netcdf('ecmwf_mtr_combined_2022.nc')"
   ]
  }
 ],
 "metadata": {
  "kernelspec": {
   "display_name": "Python 3.10.4 ('xarray_env')",
   "language": "python",
   "name": "python3"
  },
  "language_info": {
   "codemirror_mode": {
    "name": "ipython",
    "version": 3
   },
   "file_extension": ".py",
   "mimetype": "text/x-python",
   "name": "python",
   "nbconvert_exporter": "python",
   "pygments_lexer": "ipython3",
   "version": "3.10.4"
  },
  "orig_nbformat": 4,
  "vscode": {
   "interpreter": {
    "hash": "d8e768fa603c1090aa9527649d052b1ad3d0b3bc97b0cb9651c604ef6ae90835"
   }
  }
 },
 "nbformat": 4,
 "nbformat_minor": 2
}
