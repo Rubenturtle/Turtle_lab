{
 "cells": [
  {
   "cell_type": "markdown",
   "metadata": {},
   "source": [
    "# Netcdf to Geotif\n",
    "- Main goal is to extract and process Copernicus utci and mrt data\n",
    "- Data Source : https://cds.climate.copernicus.eu/cdsapp#!/dataset/derived-utci-historical?tab=overview\n",
    "- We have a bunch of files we want to transform from Netcdf to geotif\n",
    "- later we are going to do some operations as a raster calculator\n",
    "- Notes: \n",
    "   - the netcdf files are in diferent folders\n",
    "   - the netcdf has multiple variables with multiple dimensions\n",
    "   - our netcdf has only one band\n"
   ]
  },
  {
   "cell_type": "code",
   "execution_count": 20,
   "metadata": {},
   "outputs": [],
   "source": [
    "import netCDF4 as nc\n",
    "from osgeo import gdal\n",
    "import numpy as np\n",
    "import os"
   ]
  },
  {
   "cell_type": "code",
   "execution_count": 21,
   "metadata": {},
   "outputs": [],
   "source": [
    "\"\"\"Function to get the dates of the netcdf\"\"\"\n",
    "def datelist(dimension):\n",
    "    date_list = []\n",
    "\n",
    "    for dim in ds.dimensions.values():\n",
    "        if dim == ds.dimensions[dimension]:\n",
    "            number_bands = len(dim) #number of bands\n",
    "            variable = ds.variables[dimension]\n",
    "            starting_date = variable.units\n",
    "            array = variable[:]\n",
    "            time_format = nc.num2date(array,starting_date)\n",
    "            for date_element in time_format:\n",
    "                # replace \"-\" for \" \" so \"split\" can work, filter and create a list by digits and finally join them in a single string with \"_\" as separator\n",
    "                date_element_formated = \"_\".join([str(s) for s in str(date_element).replace(\":\",\" \").split(\" \") if s.isdigit()])\n",
    "\n",
    "                date_list.append(date_element_formated)\n",
    "        else:\n",
    "            continue\n",
    "        return date_list #, number_bands\n"
   ]
  },
  {
   "cell_type": "code",
   "execution_count": 23,
   "metadata": {},
   "outputs": [
    {
     "name": "stderr",
     "output_type": "stream",
     "text": [
      "c:\\Users\\admin\\.conda\\envs\\gdal_env\\lib\\site-packages\\ipykernel_launcher.py:9: DeprecationWarning: tostring() is deprecated. Use tobytes() instead.\n",
      "  if __name__ == '__main__':\n",
      "c:\\Users\\admin\\.conda\\envs\\gdal_env\\lib\\site-packages\\ipykernel_launcher.py:10: DeprecationWarning: `np.bool` is a deprecated alias for the builtin `bool`. To silence this warning, use `bool` by itself. Doing this will not modify any behavior and is safe. If you specifically wanted the numpy scalar type, use `np.bool_` here.\n",
      "Deprecated in NumPy 1.20; for more details and guidance: https://numpy.org/devdocs/release/1.20.0-notes.html#deprecations\n",
      "  # Remove the CWD from sys.path while we load stuff.\n"
     ]
    }
   ],
   "source": [
    "# try: fn.close()  # just to be safe, make sure dataset is not already open.\n",
    "# except: pass\n",
    "\n",
    "gdal.UseExceptions()\n",
    "\n",
    "folder = r\"Z:\\z_resources\\ruben\\utci_2021\"\n",
    "output_folder = r\"Z:\\z_resources\\ruben\\utci_2021\\raster_output\"\n",
    "for file in os.listdir(folder):\n",
    "    if file.endswith(\".nc\"):\n",
    "        fn = os.path.join(folder, file).replace(\"/\",\"\\\\\")#.replace(\"\\\\\",\"/\")\n",
    "    else:\n",
    "        pass\n",
    "\n",
    "    ds = nc.Dataset(fn) # If the file is open for write access (mode='w', 'r+' or 'a')\n",
    "\n",
    "    dimension = \"time\"\n",
    "    band = 0\n",
    "    file_name = os.path.basename(fn)\n",
    "    for t in datelist(dimension):\n",
    "        band += 1\n",
    "        output = os.path.join(output_folder, file_name).replace(\".nc\",\"\")  + \"_\" + t + \".tif\"\n",
    "        gdaltranString = \"gdal_translate -of GTiff -a_srs epsg:4326 -b \" + str(band) + \" -co COMPRESS=DEFLATE -co TILED=YES NETCDF:\" + str(fn) + \":utci \" + str(output)\n",
    "        os.system(gdaltranString)\n",
    "        output = None\n"
   ]
  },
  {
   "cell_type": "code",
   "execution_count": 19,
   "metadata": {},
   "outputs": [
    {
     "name": "stdout",
     "output_type": "stream",
     "text": [
      "c:\\Users\\admin\\Documents\\01_Ruben_Scripts\n"
     ]
    }
   ],
   "source": [
    "print(os.getcwd())"
   ]
  },
  {
   "cell_type": "code",
   "execution_count": 5,
   "metadata": {},
   "outputs": [
    {
     "name": "stdout",
     "output_type": "stream",
     "text": [
      "<class 'netCDF4._netCDF4.Dimension'> (unlimited): name = 'time', size = 24\n",
      "\n",
      "<class 'netCDF4._netCDF4.Dimension'>: name = 'lon', size = 1440\n",
      "\n",
      "<class 'netCDF4._netCDF4.Dimension'>: name = 'lat', size = 601\n",
      "\n",
      "odict_keys(['time', 'lon', 'lat', 'utci'])\n"
     ]
    },
    {
     "name": "stderr",
     "output_type": "stream",
     "text": [
      "c:\\Users\\admin\\.conda\\envs\\gdal_env\\lib\\site-packages\\ipykernel_launcher.py:4: DeprecationWarning: tostring() is deprecated. Use tobytes() instead.\n",
      "  after removing the cwd from sys.path.\n"
     ]
    }
   ],
   "source": [
    "\"\"\"Dimensions check\"\"\"\n",
    "#each variable has its own dimensions, we want MEDIAN\n",
    "for dim in ds.dimensions.values():\n",
    "    print(dim) #it is no possible to iterate the dimension\n",
    "\n",
    "\"\"\"Variables check\"\"\"\n",
    "print (ds.variables.keys())"
   ]
  },
  {
   "cell_type": "code",
   "execution_count": 18,
   "metadata": {},
   "outputs": [
    {
     "name": "stdout",
     "output_type": "stream",
     "text": [
      "('time', 'lat', 'lon')\n"
     ]
    }
   ],
   "source": [
    "utci_variable = ds.variables['utci']\n",
    "print(utci_variable.dimensions)"
   ]
  },
  {
   "cell_type": "code",
   "execution_count": 43,
   "metadata": {},
   "outputs": [],
   "source": [
    "\"\"\"Here we start transforming the data\"\"\"\n",
    "gdal.UseExceptions()\n",
    "\n",
    "file_name = os.path.basename(fn)\n",
    "output = os.path.join(main_path, file_name).replace(\".nc\",\".tif\")\n",
    "band = 1\n",
    "\n",
    "# nn = gdal.Translate(output, fn, \n",
    "#                 format='GTIFF',\n",
    "#                 # format='NetCDF',\n",
    "#                 # bandList = [1]\n",
    "#                 # creationOptions = ['COMPRESS=DEFLATE','TILED=YES']\n",
    "#                 )\n",
    "\n",
    "gdaltranString = \"gdal_translate -of GTiff -a_srs epsg:4326 -b \" + str(band) + \" -co COMPRESS=DEFLATE -co TILED=YES NETCDF:\" + str(fn) + \":utci \" + str(output)\n",
    "# gdaltranString = \"gdal_translate -of GTiff -a_srs epsg:4326 -b \" + str(1) + \" -co COMPRESS=DEFLATE -co TILED=YES \" + str(fn) + \" \" + str(output)\n",
    "\n",
    "os.system(gdaltranString)\n",
    "output = None\n",
    "\n",
    "#gdal_translate -of GTiff -b 10 input.nc output.tiff  # to get 10th band, it works fine"
   ]
  },
  {
   "cell_type": "markdown",
   "metadata": {},
   "source": [
    "https://cds.climate.copernicus.eu/cdsapp#!/dataset/derived-utci-historical?tab=overview"
   ]
  }
 ],
 "metadata": {
  "kernelspec": {
   "display_name": "Python 3.9.12 ('geoprocessing')",
   "language": "python",
   "name": "python3"
  },
  "language_info": {
   "codemirror_mode": {
    "name": "ipython",
    "version": 3
   },
   "file_extension": ".py",
   "mimetype": "text/x-python",
   "name": "python",
   "nbconvert_exporter": "python",
   "pygments_lexer": "ipython3",
   "version": "3.9.12"
  },
  "orig_nbformat": 4,
  "vscode": {
   "interpreter": {
    "hash": "ef1643838ba400d9e56910a4ebe1d7c2ddcc0867ba383b6e8e5b6e0b2b833d6e"
   }
  }
 },
 "nbformat": 4,
 "nbformat_minor": 2
}
