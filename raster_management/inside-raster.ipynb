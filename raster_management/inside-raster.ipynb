{
 "cells": [
  {
   "cell_type": "markdown",
   "metadata": {},
   "source": [
    "# Get into a raster file\n",
    "- This concept is to understand what is isnide a raster file\n",
    "- Step by step we will look into"
   ]
  },
  {
   "cell_type": "code",
   "execution_count": 1,
   "metadata": {},
   "outputs": [],
   "source": [
    "from osgeo import gdal\n",
    "import numpy, sys, os"
   ]
  },
  {
   "cell_type": "code",
   "execution_count": 3,
   "metadata": {},
   "outputs": [],
   "source": [
    "\"\"\"Open the raster file\"\"\"\n",
    "gdal.AllRegister()\n",
    "\n",
    "datafile = gdal.Open(r\"//akif.internal/public/demo-geo-stack/geoserver/data/aries-heco_ind_watr/wetlands_colombia_4326_25m_v2_translate.tif\")\n",
    "gt = datafile.GetGeoTransform() #we get the extreme values\n",
    "band = datafile.GetRasterBand(1)\n"
   ]
  },
  {
   "cell_type": "code",
   "execution_count": null,
   "metadata": {},
   "outputs": [],
   "source": [
    "\"\"\"Here we get the size of the file\"\"\"\n",
    "width = datafile.RasterXSize #columns\n",
    "height = datafile.RasterYSize #rows\n",
    "\n",
    "#we get the array, there are two ways\n",
    "array = band.ReadAsArray(0, 0, width, height)\n",
    "# myarray = numpy.array(datafile.GetRasterBand(1).ReadAsArray()) #this is ther other way\n",
    "\n"
   ]
  },
  {
   "cell_type": "code",
   "execution_count": null,
   "metadata": {},
   "outputs": [],
   "source": [
    "\"\"\"Create the output image from the input layer\"\"\"\n",
    "driver = datafile.GetDriver()\n",
    "outDs = driver.Create(r\"//akif.internal/public/demo-geo-stack/geoserver/data/aries-heco_ind_watr/output.tif\", width, height, 1, gdal.GDT_Byte) #GDT_Int32, GDT_Float32\n",
    "if outDs is None:\n",
    "    print ('Could not create file')\n",
    "    sys.exit(1)\n",
    "\n",
    "# create the output image\n",
    "outBand = outDs.GetRasterBand(1)\n",
    "\n",
    "# write the data\n",
    "outBand.WriteArray(array, 0, 0)\n",
    "# outBand.WriteArray(myarray) #esta es la otra posibilidad\n",
    "\n",
    "# flush data to disk, set the NoData value and calculate stats\n",
    "outBand.FlushCache()\n",
    "outBand.SetNoDataValue(15)\n",
    "\n",
    "# georeference the image and set the projection\n",
    "outDs.SetGeoTransform(datafile.GetGeoTransform())\n",
    "outDs.SetProjection(datafile.GetProjection())\n",
    "\n",
    "\n",
    "outDs = None\n"
   ]
  },
  {
   "cell_type": "code",
   "execution_count": null,
   "metadata": {},
   "outputs": [],
   "source": [
    "#I have no idea why I have this\n",
    "\n",
    "# define your tile size\n",
    "# it could be 256,512 or 1024. it depends on your scope\n",
    "# tilesize = 50 #int((width * height) / 10)\n",
    "# \"\"\"Here we start with the tyiling\"\"\"\n",
    "# for i in range(0, width, tilesize): #tilesize marks from where to where in width\n",
    "#     for j in range(0, height, tilesize): #tilesize in height\n",
    "#         #for the edge parts, so we don't get nodata from the borders\n",
    "#         w = min(i+tilesize, width) - i\n",
    "#         h = min(j+tilesize, height) - j\n",
    "#         #we preapre the sentence\n",
    "#         array = band.ReadAsArray(j, i, w, h)\n",
    "        \n",
    "#         print(array)\n",
    "# datafile = None"
   ]
  }
 ],
 "metadata": {
  "kernelspec": {
   "display_name": "base",
   "language": "python",
   "name": "python3"
  },
  "language_info": {
   "codemirror_mode": {
    "name": "ipython",
    "version": 3
   },
   "file_extension": ".py",
   "mimetype": "text/x-python",
   "name": "python",
   "nbconvert_exporter": "python",
   "pygments_lexer": "ipython3",
   "version": "3.9.7"
  },
  "orig_nbformat": 4,
  "vscode": {
   "interpreter": {
    "hash": "ea83a5ad54c8cc9e7ff8f4ab9d2bf25c75f7997df51cce98e5453f4f3fcc4a0a"
   }
  }
 },
 "nbformat": 4,
 "nbformat_minor": 2
}
