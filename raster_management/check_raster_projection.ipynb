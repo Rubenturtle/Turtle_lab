{
 "cells": [
  {
   "cell_type": "code",
   "execution_count": 21,
   "metadata": {},
   "outputs": [],
   "source": [
    "import os\n",
    "from osgeo import gdal\n",
    "from osgeo import osr"
   ]
  },
  {
   "cell_type": "code",
   "execution_count": 44,
   "metadata": {},
   "outputs": [],
   "source": [
    "def get_raster_list(folder_path):\n",
    "    raster_list = [os.path.join(folder_path,file) for file in os.listdir(folder_path) if file.endswith('.tif')]\n",
    "\n",
    "    if len(raster_list) == 0:\n",
    "        print(\"No raster files found in the folder.\")\n",
    "        return\n",
    "    else:\n",
    "        return raster_list\n",
    "\n",
    "def check_projection(raster_list, srs_desired):\n",
    "    not_matching_rasters = []\n",
    "    raster_length = len(raster_list)\n",
    "    # Check the projection of each raster file\n",
    "    for index, file in enumerate(raster_list):\n",
    "        print(f\"Iteration {index+1}/{raster_length}\", end='\\r')\n",
    "        raster = gdal.Open(file)\n",
    "        projection = raster.GetProjection()\n",
    "        # print(projection)\n",
    "        srs_raster = osr.SpatialReference(wkt=projection)\n",
    "        if not srs_raster.IsSame(srs_desired):\n",
    "            # print(f\"Raster file '{file}' does not match the desired projection.\")\n",
    "            not_matching_rasters.append(file)\n",
    "            \n",
    "        raster = None\n",
    "    if not not_matching_rasters:\n",
    "        print(\"All raster files have the desired projection.\")\n",
    "    else:\n",
    "        print(\"There are resources that don't match the desired projection\")\n",
    "\n",
    "    return not_matching_rasters"
   ]
  },
  {
   "cell_type": "code",
   "execution_count": 45,
   "metadata": {},
   "outputs": [
    {
     "name": "stdout",
     "output_type": "stream",
     "text": [
      "There are resources that don't match the desired projection\n"
     ]
    }
   ],
   "source": [
    "\"\"\"Check if all the rasters go with the desired projection\"\"\"\n",
    "# folder_path = r\"Z:\\data\\ruben\\tcd_2012_020m_eu_03035_d03_full_mosaic\"\n",
    "folder_path = r\"Z:\\data\\ruben\\tcd_2015_020m_eu_03035_d05_full_mosaic\"\n",
    "# folder_path = r\"Z:\\data\\ruben\\tcd_2018_010m_eu_03035_v2_0_mosaic\"\n",
    "desired_projection = int(3035)\n",
    "raster_list = get_raster_list(folder_path)\n",
    "\n",
    "selected_projection = osr.SpatialReference()\n",
    "selected_projection.ImportFromEPSG(desired_projection)\n",
    "not_matching_rasters = check_projection(raster_list[0:30], selected_projection) # Esto es super lento"
   ]
  },
  {
   "cell_type": "code",
   "execution_count": null,
   "metadata": {},
   "outputs": [],
   "source": [
    "\"\"\"Check if all the rasters have the same projection\"\"\"\n",
    "\n",
    "raster_list = get_raster_list(folder_path)\n",
    "\n",
    "# Open the reference raster of the first layer to get its projection\n",
    "reference_ds = gdal.Open(raster_list[0])\n",
    "reference_projection = reference_ds.GetProjection()\n",
    "srs_reference = osr.SpatialReference(wkt=reference_projection)\n",
    "reference_ds = None  # Close the reference raster dataset\n",
    "\n",
    "not_matching_rasters = check_projection(raster_list, srs_reference)\n"
   ]
  }
 ],
 "metadata": {
  "kernelspec": {
   "display_name": "geo_forge_env",
   "language": "python",
   "name": "python3"
  },
  "language_info": {
   "codemirror_mode": {
    "name": "ipython",
    "version": 3
   },
   "file_extension": ".py",
   "mimetype": "text/x-python",
   "name": "python",
   "nbconvert_exporter": "python",
   "pygments_lexer": "ipython3",
   "version": "3.8.15"
  }
 },
 "nbformat": 4,
 "nbformat_minor": 2
}
