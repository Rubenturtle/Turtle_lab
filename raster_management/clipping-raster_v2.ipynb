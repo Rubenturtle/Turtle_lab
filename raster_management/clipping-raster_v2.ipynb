{
 "cells": [
  {
   "attachments": {},
   "cell_type": "markdown",
   "metadata": {},
   "source": [
    "We are going to clip some rasters into a big mosaic. \n",
    "- Make sure the import is multiple or simple\n",
    "- if multiple set the folder where all the layers are\n",
    "- do the clipping into a created folder of the same name"
   ]
  },
  {
   "cell_type": "code",
   "execution_count": 1,
   "metadata": {},
   "outputs": [],
   "source": [
    "#Import the libraries\n",
    "import os\n",
    "import sys\n",
    "from osgeo import gdal, gdalconst\n",
    "import numpy as np\n",
    "import glob\n",
    "\n",
    "gdal.UseExceptions()"
   ]
  },
  {
   "cell_type": "code",
   "execution_count": null,
   "metadata": {},
   "outputs": [],
   "source": [
    "def get_raster_file_list(path):\n",
    "    \"\"\"\n",
    "    Get a list of the raster files inside the folder\n",
    "    Parameters:\n",
    "    - path (str): path of the folder with the resources.\n",
    "\n",
    "    Returns:\n",
    "    - File_list (list). list of the resources.\n",
    "    \"\"\"\n",
    "    File_list = [] #f for f in os.listdir(path) if os.isfile(mypath,f)\n",
    "    for file in os.listdir(path):\n",
    "        if file.endswith(\".tif\") or file.endswith(\".tiff\"):\n",
    "            if file not in File_list:\n",
    "                File_list.append(os.path.join(path,file))\n",
    "        else:\n",
    "            pass\n",
    "    return File_list\n",
    "\n",
    "def create_folder_if_not_exists(folder_path):\n",
    "    \"\"\"\n",
    "    Create a folder if it doesn't exist.\n",
    "\n",
    "    Parameters:\n",
    "    folder_path (str): The path of the folder to be created.\n",
    "    \"\"\"\n",
    "    if not os.path.exists(folder_path):\n",
    "        os.makedirs(folder_path)\n",
    "        print(f\"Folder created at: {folder_path}\")\n",
    "    else:\n",
    "        print(f\"Folder already exists at: {folder_path}\")"
   ]
  },
  {
   "cell_type": "code",
   "execution_count": 2,
   "metadata": {},
   "outputs": [],
   "source": [
    "\"\"\"Set folder main location\"\"\"\n",
    "input_path = r\"C:\\Users\\admin\\Downloads\\fire_forest_loss_2001-23_annual\\test\"\n",
    "output_path = os.path.join(input_path, \"output\")"
   ]
  },
  {
   "cell_type": "code",
   "execution_count": 3,
   "metadata": {},
   "outputs": [
    {
     "name": "stdout",
     "output_type": "stream",
     "text": [
      "['C:\\\\Users\\\\admin\\\\Downloads\\\\fire_forest_loss_2001-23_annual\\\\test\\\\global_glad_fire_forest_loss_2001-23_annual.tif']\n"
     ]
    }
   ],
   "source": [
    "\"\"\"Get a list of the files inside the folder you want to clipin case of MULTIPLE files, if single, figure it out\"\"\" \n",
    "create_folder_if_not_exists(output_path)\n",
    "File_list = get_raster_file_list(input_path)"
   ]
  },
  {
   "cell_type": "code",
   "execution_count": 4,
   "metadata": {},
   "outputs": [],
   "source": [
    "\"\"\"Do the clipping of the file\"\"\"\n",
    "\"\"\"We open the file in case of SINGLE\"\"\"\n",
    "file_snap_list = []\n",
    "for file in File_list[:]:\n",
    "    # file = \"level_1_landsat_oli_captured_prior_to_2018_4326_1.tif\" #esto se omite cuando hagamos todos\n",
    "    datafile = gdal.Open(file)\n",
    "\n",
    "    # Get the band from the input dataset, Remove the color table and Set the ColorInterp to Gray\n",
    "    band = datafile.GetRasterBand(1)\n",
    "    band.SetRasterColorTable(None)\n",
    "    band.SetColorInterpretation(gdalconst.GCI_GrayIndex)\n",
    "\n",
    "    \"\"\"Here we create and go the folder which will contain the mosaic\"\"\"\n",
    "    dataname = os.path.basename(file).replace('.tif','')\n",
    "    output_path = os.path.join(output_path, dataname + \"_mosaic\")\n",
    "    if not os.path.exists(output_path):\n",
    "        os.mkdir(output_path)\n",
    "\n",
    "    \"\"\"Here we get the size of the file\"\"\"\n",
    "    width = datafile.RasterXSize #columns\n",
    "    height = datafile.RasterYSize #rows\n",
    "    # define your tile size\n",
    "    # it could be 256,512 or 1024. it depends on your scope\n",
    "    tilesize = 27470\n",
    "\n",
    "    # We might need a calculator here on how many tiles we predict to produce.\n",
    "\n",
    "    \"\"\"Here we start with the tiling\"\"\"\n",
    "    for i in range(0, width, tilesize): #tilesize marks from where to where in width\n",
    "        for j in range(0, height, tilesize): #tilesize in height\n",
    "            # for the edge parts, so we don't get nodata from the borders\n",
    "            w = min(i+tilesize, width) - i\n",
    "            h = min(j+tilesize, height) - j\n",
    "            # we preapre the sentence\n",
    "            output_file = output_path + \"\\\\\" + dataname + \"_\" + str(i) + \"_\" + str(j) + \".tif\"\n",
    "            file_snap_list.append(output_file)\n",
    "            try:\n",
    "                \"\"\"Set the parameters of the clipping\"\"\"\n",
    "                ds = gdal.Translate(output_file, datafile, format = 'GTiff', \n",
    "                noData = 0, \n",
    "                # outputType = gdal.GDT_Int16, \n",
    "                creationOptions = ['COMPRESS=DEFLATE', 'TILED=YES','COPY_SRC_OVERVIEWS=YES'], \n",
    "                srcWin = [str(i), str(j), str(w), str(h)])\n",
    "\n",
    "            except RuntimeError:\n",
    "                print(\"The script got an error\")\n",
    "                sys.exit(1)\n",
    "                \n",
    "    \"\"\"We have to close the file in order to proceed for the next parts\"\"\"\n",
    "    ds = None\n",
    "\n",
    "    "
   ]
  },
  {
   "cell_type": "code",
   "execution_count": 4,
   "metadata": {},
   "outputs": [
    {
     "name": "stdout",
     "output_type": "stream",
     "text": [
      "['C:\\\\Users\\\\admin\\\\Downloads\\\\treecover_2000\\\\output']\n"
     ]
    }
   ],
   "source": [
    "\"\"\"Get all the folders in case of multiple\"\"\"\n",
    "# Get a list of all items (files and folders) in the directory\n",
    "all_items = os.listdir(output_path)\n",
    "\n",
    "# Filter the list to include only folders (directories)\n",
    "folder_paths = [os.path.join(output_path, item) for item in all_items if os.path.isdir(os.path.join(path, item))]\n",
    "print(folder_paths)"
   ]
  },
  {
   "cell_type": "code",
   "execution_count": 5,
   "metadata": {},
   "outputs": [],
   "source": [
    "\"\"\"In case for a single folder\"\"\"\n",
    "path = r\"C:\\Users\\admin\\Downloads\\fire_forest_loss_2001-23_annual\\test\\global_glad_fire_forest_loss_2001-23_annual_mosaic\"\n",
    "folder_paths = [path]"
   ]
  },
  {
   "cell_type": "code",
   "execution_count": 6,
   "metadata": {},
   "outputs": [],
   "source": [
    "\"\"\"with this block, we delete tiles that include just nodata\"\"\"\n",
    "for folder in folder_paths:\n",
    "    # get a list of all the files at the pointer\n",
    "    tiles=glob.glob(folder.replace(\"/\",\"\\\\\") + '/*')\n",
    "    for img in tiles:\n",
    "        ds_filter = gdal.Open(img, gdal.GA_ReadOnly)\n",
    "\n",
    "        # Get the nodata value\n",
    "        band = ds_filter.GetRasterBand(1)\n",
    "        nodata_value = band.GetNoDataValue()\n",
    "\n",
    "        #read data as array\n",
    "        ds_array=ds_filter.ReadAsArray()\n",
    "\n",
    "        check=np.all(ds_array==nodata_value) # ds_array==nodata_value\n",
    "        if check:\n",
    "            ds_filter = None #we have to close the file before deleting it\n",
    "            # print(img)\n",
    "            os.remove(img)\n",
    "            continue\n",
    "\n",
    "    ds_array=None\n",
    "    np_where_img=None"
   ]
  }
 ],
 "metadata": {
  "kernelspec": {
   "display_name": "rasterio_env",
   "language": "python",
   "name": "python3"
  },
  "language_info": {
   "codemirror_mode": {
    "name": "ipython",
    "version": 3
   },
   "file_extension": ".py",
   "mimetype": "text/x-python",
   "name": "python",
   "nbconvert_exporter": "python",
   "pygments_lexer": "ipython3",
   "version": "3.8.15"
  },
  "orig_nbformat": 4,
  "vscode": {
   "interpreter": {
    "hash": "29a267db8be7d3971bd41f29a427330e78fe3f80f39d92baa14f02164110da17"
   }
  }
 },
 "nbformat": 4,
 "nbformat_minor": 2
}
