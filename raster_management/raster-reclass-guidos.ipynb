{
 "cells": [
  {
   "cell_type": "code",
   "execution_count": 10,
   "metadata": {},
   "outputs": [],
   "source": [
    "from osgeo import gdal, gdalconst\n",
    "import os\n",
    "import numpy as np"
   ]
  },
  {
   "cell_type": "code",
   "execution_count": 11,
   "metadata": {},
   "outputs": [],
   "source": [
    "def reclassify_raster(input_path, output_path, reclass_dict):\n",
    "    # Open the input raster\n",
    "    input_ds = gdal.Open(input_path, gdalconst.GA_ReadOnly)\n",
    "    if input_ds is None:\n",
    "        print(f\"Error: Unable to open input raster {input_path}\")\n",
    "        return\n",
    "\n",
    "    # Get raster information\n",
    "    rows = input_ds.RasterYSize\n",
    "    cols = input_ds.RasterXSize\n",
    "    bands = input_ds.RasterCount\n",
    "\n",
    "    # Create an output raster\n",
    "    driver = gdal.GetDriverByName('GTiff')\n",
    "    output_ds = driver.Create(output_path, cols, rows, bands, gdal.GDT_Byte, options=['COMPRESS=DEFLATE', 'TILED=YES'])\n",
    "    output_ds.SetProjection(input_ds.GetProjection())\n",
    "    output_ds.SetGeoTransform(input_ds.GetGeoTransform())\n",
    "\n",
    "    # Reclassify each pixel\n",
    "    for band in range(1, bands + 1):\n",
    "        input_band = input_ds.GetRasterBand(band)\n",
    "        output_band = output_ds.GetRasterBand(band)\n",
    "        output_band.SetNoDataValue(0)  # Set nodata value to 0\n",
    "\n",
    "\n",
    "        data = input_band.ReadAsArray()\n",
    "\n",
    "        # Reclassify using the provided dictionary\n",
    "        for key, value in reclass_dict.items():\n",
    "            data[data == key] = value\n",
    "\n",
    "        output_band.WriteArray(data)\n",
    "\n",
    "    # Close datasets\n",
    "    input_ds = None\n",
    "    output_ds = None"
   ]
  },
  {
   "cell_type": "code",
   "execution_count": 12,
   "metadata": {},
   "outputs": [
    {
     "name": "stdout",
     "output_type": "stream",
     "text": [
      "Reclassification complete.\n"
     ]
    }
   ],
   "source": [
    "if __name__ == \"__main__\":\n",
    "    input_folder = r\"\\\\192.168.250.122\\GeoServer\\data\\esa_people\\forest_connectivity\"\n",
    "    output_folder = r\"\\\\192.168.250.122\\GeoServer\\data\\esa_people\\forest_connectivity\\reclassified\"\n",
    "    reclass_dict = {\n",
    "        0:0, 1:1, 2:2, 3:3, 4:4, 5:5, 6:6, 7:7, 8:8, 9:9,\n",
    "        10:10, 11:11, 12:12, 13:13, 14:14, 15:15, 16:16, 17:17, 18:18, 19:19, 20:20, 21:21, 22:22, 23:23,\n",
    "        24:24, 25:25, 26:26, 27:27, 28:28, 29:29, 30:30, 31:31, 32:32, 33:33, 34:34, 35:35, 36:36, 37:37,\n",
    "        38:38, 39:39, 40:40, 41:41, 42:42, 43:43, 44:44, 45:45, 46:46, 47:47, 48:48, 49:49, 50:50, 51:51,\n",
    "        52:52, 53:53, 54:54, 55:55, 56:56, 57:57, 58:58, 59:59, 60:60, 61:61, 62:62, 63:63, 64:64, 65:65,\n",
    "        66:66, 67:67, 68:68, 69:69, 70:70, 71:71, 72:72, 73:73, 74:74, 75:75, 76:76, 77:77, 78:78, 79:79,\n",
    "        80:80, 81:81, 82:82, 83:83, 84:84, 85:85, 86:86, 87:87, 88:88, 89:89, 90:90, 91:91, 92:92, 93:93,\n",
    "        94:94, 95:95, 96:96, 97:97, 98:98, 99:99, 100:100, 101:0, 102:0, 103:103, 104:0,\n",
    "        105:105, 106:106, 107:107, 108:108, 109:109, 110:110, 111:111, 112:0, 113:0, 114:0,\n",
    "        115:0, 116:0, 117:0, 118:0, 119:0, 120:0, 121:0, 122:0,\n",
    "        123:0, 124:0, 125:125, 126:126, 127:127, 128:128, 129:129, 130:130, 131:131, 132:132,\n",
    "        133:133, 134:134, 135:135, 136:136, 137:137, 138:138, 139:139, 140:140, 141:141, 142:142, 143:143,\n",
    "        144:144, 145:145, 146:146, 147:147, 148:148, 149:149, 150:150, 151:151, 152:152, 153:153, 154:154,\n",
    "        155:155, 156:156, 157:157, 158:158, 159:159, 160:160, 161:161, 162:162, 163:163, 164:164, 165:165,\n",
    "        166:166, 167:167, 168:168, 169:169, 170:170, 171:171, 172:172, 173:173, 174:174, 175:175,\n",
    "        176:0, 177:0, 178:0, 179:0, 180:0, 181:0, 182:0, 183:0, \n",
    "        184:0, 185:0, 186:0, 187:0, 188:0, 189:0, 190:0, 191:0, \n",
    "        192:0, 193:0, 194:0, 195:0, 196:0, 197:0, 198:0, 199:0,\n",
    "        200:0, 201:0, 202:0, 203:0, 204:0, 205:0, 206:0, 207:0, \n",
    "        208:0, 209:0, 210:0, 211:0, 212:0, 213:0, 214:0, 215:0, \n",
    "        216:0, 217:0, 218:0, 219:0, 220:0, 221:0, 222:0, 223:0,\n",
    "        224:0, 225:0, 226:0, 227:0, 228:0, 229:0, 230:0, 231:0, \n",
    "        232:0, 233:0, 234:0, 235:0, 236:0, 237:0, 238:0, 239:0, \n",
    "        240:0, 241:0, 242:0, 243:0, 244:0, 245:0, 246:0, 247:0,\n",
    "        248:0, 249:0, 250:0, 251:0, 252:0, 253:0, 254:254, 255:0\n",
    "    }\n",
    "\n",
    "    # Loop through each raster in the input folder\n",
    "    for file_name in os.listdir(input_folder):\n",
    "        if file_name.endswith(\".tif\"):  # Assuming raster files are in GeoTIFF format\n",
    "            input_path = os.path.join(input_folder, file_name)\n",
    "            output_name = os.path.splitext(file_name)[0] + \"_reclass.tif\"\n",
    "            output_path = os.path.join(output_folder, output_name)\n",
    "\n",
    "            reclassify_raster(input_path, output_path, reclass_dict)\n",
    "\n",
    "    print(\"Reclassification complete.\")"
   ]
  }
 ],
 "metadata": {
  "kernelspec": {
   "display_name": "geo_forge_env",
   "language": "python",
   "name": "python3"
  },
  "language_info": {
   "codemirror_mode": {
    "name": "ipython",
    "version": 3
   },
   "file_extension": ".py",
   "mimetype": "text/x-python",
   "name": "python",
   "nbconvert_exporter": "python",
   "pygments_lexer": "ipython3",
   "version": "3.7.12"
  }
 },
 "nbformat": 4,
 "nbformat_minor": 2
}
