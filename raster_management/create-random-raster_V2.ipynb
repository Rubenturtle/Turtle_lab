{
 "cells": [
  {
   "cell_type": "markdown",
   "metadata": {},
   "source": [
    "# Create random raster\n",
    "Here we are going to generate a random raster for testing"
   ]
  },
  {
   "cell_type": "code",
   "execution_count": 2,
   "metadata": {},
   "outputs": [],
   "source": [
    "from osgeo import gdal, osr\n",
    "import os\n",
    "import numpy as np\n",
    "\n",
    "#directory\n",
    "# os.chdir(r\"//akif.internal/public/demo-geo-stack/geoserver/data/im-nca-southafrica/\")\n",
    "os.chdir(r\"Z:\\z_resources\\im-nca-senegal\\complete_trial\\vector_union\")"
   ]
  },
  {
   "cell_type": "code",
   "execution_count": 3,
   "metadata": {},
   "outputs": [],
   "source": [
    "#We create the raster\n",
    "def array2raster(newRasterfn,rasterOrigin,pixelWidth,pixelHeight,array):\n",
    "\n",
    "    cols = array.shape[1]\n",
    "    rows = array.shape[0]\n",
    "    originX = rasterOrigin[0]\n",
    "    originY = rasterOrigin[1]\n",
    "\n",
    "    driver = gdal.GetDriverByName('GTiff')\n",
    "    outRaster = driver.Create(newRasterfn, cols, rows, 1, gdal.GDT_Byte)\n",
    "    outRaster.SetGeoTransform((originX, pixelWidth, 0, originY, 0, pixelHeight))\n",
    "    outband = outRaster.GetRasterBand(1)\n",
    "    outband.WriteArray(array)\n",
    "    outRasterSRS = osr.SpatialReference()\n",
    "    outRasterSRS.ImportFromEPSG(9221) #set the projection\n",
    "    outRaster.SetProjection(outRasterSRS.ExportToWkt())\n",
    "    outband.FlushCache()"
   ]
  },
  {
   "cell_type": "code",
   "execution_count": 4,
   "metadata": {},
   "outputs": [],
   "source": [
    "#we reverse the array\n",
    "def main(newRasterfn,rasterOrigin,pixelWidth,pixelHeight,array):\n",
    "    reversed_arr = array[::-1] # reverse array so the tif looks like the array\n",
    "    array2raster(newRasterfn,rasterOrigin,pixelWidth,pixelHeight,reversed_arr) # convert array to raster"
   ]
  },
  {
   "cell_type": "code",
   "execution_count": 7,
   "metadata": {},
   "outputs": [],
   "source": [
    "if __name__ == \"__main__\":\n",
    "    rasterOrigin = (-123.25745,45.43013)\n",
    "    pixelWidth = 10\n",
    "    pixelHeight = 10\n",
    "    newRasterfn = 'test_sample.tif'\n",
    "\n",
    "    value_list_1 = [19, 13, 18, 3, 3, 3, 15, 19, 3, 13, 18, 10, 3, 3, 10, 2, 2, 18, 3, 10, 19, 10, 10, 19, 21, 20, 19, 19, 4, 15, 4, 14, 14, 4, 1, 1, 10, 4, 4, 14, 4, 1, 4, 4, 9, 6, 14, 14, 1, 10, 18, 10, 3, 20, 10, 10, 10, 21, 18, 18, 11, 18, 10, 1, 3, 10, 10, 3, 19, 11, 9, 13, 9, 1, 18, 4, 4, 4, 4, 3, 4, 4]\n",
    "    value_list_2 = [13, 18, 13, 13, 19, 18, 18, 15, 12, 19, 15, 19, 15, 5, 13, 19, 18, 9, 9, 5, 20, 18, 12, 9, 19, 19, 19, 2, 16, 19, 19, 18, 6, 19, 5, 8, 18, 13, 6, 5, 12, 9, 18, 13, 13, 15, 13, 15, 2, 16, 17, 18, 17, 2, 21, 18, 20, 18, 21, 20, 16, 16, 7, 9, 11, 21, 19, 19, 6, 6, 21, 11, 15, 21, 20, 2, 2, 17, 11]\n",
    "\n",
    "    # array = np.random.choice([0, 1], size=(500, 1000)) #rows and columns\n",
    "    array = np.random.choice(value_list_2, size=(500, 1000))\n",
    "\n",
    "\n",
    "    main(newRasterfn,rasterOrigin,pixelWidth,pixelHeight,array)"
   ]
  }
 ],
 "metadata": {
  "kernelspec": {
   "display_name": "Python 3.9.12 ('geoprocessing')",
   "language": "python",
   "name": "python3"
  },
  "language_info": {
   "codemirror_mode": {
    "name": "ipython",
    "version": 3
   },
   "file_extension": ".py",
   "mimetype": "text/x-python",
   "name": "python",
   "nbconvert_exporter": "python",
   "pygments_lexer": "ipython3",
   "version": "3.8.15"
  },
  "orig_nbformat": 4,
  "vscode": {
   "interpreter": {
    "hash": "ef1643838ba400d9e56910a4ebe1d7c2ddcc0867ba383b6e8e5b6e0b2b833d6e"
   }
  }
 },
 "nbformat": 4,
 "nbformat_minor": 2
}
