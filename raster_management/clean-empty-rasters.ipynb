{
 "cells": [
  {
   "cell_type": "code",
   "execution_count": 1,
   "metadata": {},
   "outputs": [],
   "source": [
    "#Import the libraries\n",
    "import os\n",
    "import sys\n",
    "from osgeo import gdal\n",
    "import numpy as np\n",
    "import glob\n",
    "\n",
    "gdal.UseExceptions()"
   ]
  },
  {
   "cell_type": "code",
   "execution_count": 2,
   "metadata": {},
   "outputs": [],
   "source": [
    "\"\"\"Set folder main location\"\"\"\n",
    "path = r\"C:\\Users\\admin\\Downloads\\wetlands\""
   ]
  },
  {
   "cell_type": "code",
   "execution_count": 3,
   "metadata": {},
   "outputs": [],
   "source": [
    "\"\"\"in case of multiple folders. Get all the folders\"\"\"\n",
    "# Get a list of all items (files and folders) in the directory\n",
    "all_items = os.listdir(path)\n",
    "\n",
    "# Filter the list to include only folders (directories)\n",
    "folder_paths = [os.path.join(path, item) for item in all_items if os.path.isdir(os.path.join(path, item))]"
   ]
  },
  {
   "cell_type": "code",
   "execution_count": 3,
   "metadata": {},
   "outputs": [],
   "source": [
    "\"\"\"In case of a single folder\"\"\"\n",
    "folder_paths = [path]"
   ]
  },
  {
   "cell_type": "code",
   "execution_count": 4,
   "metadata": {},
   "outputs": [],
   "source": [
    "\"\"\"with this block, we delete tiles that include just nodata\"\"\"\n",
    "# os.chdir(r\"//akif.internal/public/z_resources/hydrosoil/hihydrosoil_ruben\")\n",
    "# dir = r\"Z:\\demo-geo-stack\\geoserver\\data\\im-data-soil\\isric-bdticm-m-250m-ll_mosaic_10240\"\n",
    "for folder in folder_paths:\n",
    "    # get a list of all the files\n",
    "    tiles=glob.glob(folder.replace(\"/\",\"\\\\\") + '/*')\n",
    "    for img in tiles:\n",
    "        ds_filter = gdal.Open(img, gdal.GA_ReadOnly)\n",
    "\n",
    "        # Get the first band (assuming a single-band raster)\n",
    "        band = ds_filter.GetRasterBand(1)\n",
    "\n",
    "        # Get the nodata value\n",
    "        nodata_value = band.GetNoDataValue()\n",
    "\n",
    "        #read data as array\n",
    "        ds_array=ds_filter.ReadAsArray()\n",
    "\n",
    "        # Change here the value.\n",
    "        check=np.all(ds_array==0) # ds_array==nodata_value\n",
    "        if check:\n",
    "            ds_filter = None #we have to close the file before deleting it\n",
    "            # print(img)\n",
    "            os.remove(img)\n",
    "            continue\n",
    "\n",
    "    ds_array=None\n",
    "    np_where_img=None"
   ]
  }
 ],
 "metadata": {
  "kernelspec": {
   "display_name": "geo_forge_env",
   "language": "python",
   "name": "python3"
  },
  "language_info": {
   "codemirror_mode": {
    "name": "ipython",
    "version": 3
   },
   "file_extension": ".py",
   "mimetype": "text/x-python",
   "name": "python",
   "nbconvert_exporter": "python",
   "pygments_lexer": "ipython3",
   "version": "3.8.15"
  }
 },
 "nbformat": 4,
 "nbformat_minor": 2
}
