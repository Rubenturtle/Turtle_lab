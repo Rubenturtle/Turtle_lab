{
 "cells": [
  {
   "attachments": {},
   "cell_type": "markdown",
   "metadata": {},
   "source": [
    "THis script cuts a raster file by a multipolygon file"
   ]
  },
  {
   "cell_type": "code",
   "execution_count": 1,
   "metadata": {},
   "outputs": [],
   "source": [
    "import geopandas as gpd\n",
    "import rasterio\n",
    "from rasterio.mask import mask\n",
    "import matplotlib.pyplot as plt\n",
    "import os"
   ]
  },
  {
   "cell_type": "code",
   "execution_count": 2,
   "metadata": {},
   "outputs": [],
   "source": [
    "# Load the multipolygon shapefile\n",
    "multipolygon_file = r\"Z:\\veg_c_storage_rawdata\\wb_global_countries\\klab_tiles_vcs_bbox.shp\"\n",
    "multipolygon = gpd.read_file(multipolygon_file)"
   ]
  },
  {
   "cell_type": "code",
   "execution_count": 3,
   "metadata": {},
   "outputs": [
    {
     "name": "stdout",
     "output_type": "stream",
     "text": [
      "[]\n"
     ]
    }
   ],
   "source": [
    "\"\"\"Take the folders in case there is more than one folder\"\"\"\n",
    "# main_path = r\"Z:\\veg_c_storage_rawdata\\testing\\to_merge\"\n",
    "main_path = r\"Z:\\veg_c_storage_rawdata\\testing\\to_merge\\split_process\"\n",
    "os.chdir(main_path)\n",
    "Folder_list = [] #f for f in os.listdir(path) if os.isfile(mypath,f)\n",
    "for file in os.listdir(main_path): # [1:]\n",
    "    if os.path.isdir(file):\n",
    "        if file not in Folder_list:\n",
    "            Folder_list.append(os.path.join(main_path, file).replace(\"\\\\\",\"/\"))\n",
    "    else:\n",
    "        pass\n",
    "\n",
    "print(Folder_list[:])"
   ]
  },
  {
   "cell_type": "code",
   "execution_count": 3,
   "metadata": {},
   "outputs": [
    {
     "name": "stdout",
     "output_type": "stream",
     "text": [
      "['Z:\\\\veg_c_storage_rawdata\\\\testing\\\\to_merge\\\\split_process']\n"
     ]
    }
   ],
   "source": [
    "\"\"\"In case there is only one folder\"\"\"\n",
    "# main_path = r\"C:/Users/admin/Downloads/drive-download-20230605T205149Z-001\"\n",
    "main_path = r\"Z:\\veg_c_storage_rawdata\\testing\\to_merge\\split_process\"\n",
    "os.chdir(main_path)\n",
    "Folder_list = [main_path]\n",
    "print(Folder_list[:])"
   ]
  },
  {
   "cell_type": "code",
   "execution_count": 4,
   "metadata": {},
   "outputs": [
    {
     "name": "stdout",
     "output_type": "stream",
     "text": [
      "['Z:/veg_c_storage_rawdata/testing/to_merge/split_process/vcs_2011_global_300m.tif']\n"
     ]
    }
   ],
   "source": [
    "\"\"\"check if it takes all files\"\"\"\n",
    "for folder in Folder_list[:]: #[:]\n",
    "    File_list = [] #f for f in os.listdir(path) if os.isfile(mypath,f)\n",
    "    for file in os.listdir(folder):\n",
    "        if file.endswith(\".tiff\") or file.endswith(\".tif\"):\n",
    "            if file not in File_list:\n",
    "                File_list.append(os.path.join(folder, file).replace(\"\\\\\",\"/\"))\n",
    "print(File_list)"
   ]
  },
  {
   "cell_type": "code",
   "execution_count": 5,
   "metadata": {},
   "outputs": [],
   "source": [
    "\"\"\"If we want to filter our selection in the shapefile\"\"\"\n",
    "# Specify the column name to filter polygons\n",
    "column_name = 'tile_index'\n",
    "desired_values = [6443, 6444,6445 ,6446 ,6461 ,6462 ,6463 ,6469 ,6470 ,6471 ,6472]  # List of desired values\n",
    "# 2012, 2013, 2014, 2015, 2016, 2017, 2018: 6443, 6444,6445 ,6446 ,6461 ,6462 ,6463 ,6469 ,6470 ,6471 ,6472\n",
    "\n",
    "# Filter polygons based on the column values\n",
    "multipolygon = multipolygon[multipolygon[column_name].isin(desired_values)]"
   ]
  },
  {
   "cell_type": "code",
   "execution_count": 6,
   "metadata": {},
   "outputs": [],
   "source": [
    "# Iterate over each polygon in the multipolygon\n",
    "for folder in Folder_list[:]:\n",
    "    for file in os.listdir(folder):\n",
    "        # we get the path with the name\n",
    "        data_path = os.path.join(folder, file).replace(\"\\\\\",\"/\")\n",
    "        raster = rasterio.open(data_path)\n",
    "        for idx, polygon in multipolygon.iterrows(): # .loc[0:1]\n",
    "            # Get the value from the \"tile_index\" column\n",
    "            tile_index = polygon[\"tile_index\"]\n",
    "            \n",
    "            # Mask the raster with the polygon geometry\n",
    "            masked_image, transformed_affine = mask(raster, [polygon.geometry], crop=True)\n",
    "            \n",
    "            out_meta = raster.meta\n",
    "\n",
    "            out_meta.update({\"driver\": \"GTiff\",\n",
    "                            \"height\": masked_image.shape[1],\n",
    "                            \"width\": masked_image.shape[2],\n",
    "                            \"transform\": transformed_affine,\n",
    "                            \"compress\":\"deflate\",\n",
    "                            \"tiled\":True})\n",
    "\n",
    "            # Create a new raster file with the masked image\n",
    "            masked_raster_file = folder + r\"\\tile_{}.tiff\".format(tile_index)\n",
    "            with rasterio.open(masked_raster_file, \"w\", **out_meta) as dst:\n",
    "                dst.write(masked_image)"
   ]
  },
  {
   "cell_type": "code",
   "execution_count": null,
   "metadata": {},
   "outputs": [],
   "source": [
    "# Plot the masked image for preview\n",
    "plt.imshow(masked_image[0], cmap='gray')\n",
    "plt.title(f\"Masked Image - Tile Index: {tile_index}\")\n",
    "plt.show()"
   ]
  }
 ],
 "metadata": {
  "kernelspec": {
   "display_name": "geo_forge_env",
   "language": "python",
   "name": "python3"
  },
  "language_info": {
   "codemirror_mode": {
    "name": "ipython",
    "version": 3
   },
   "file_extension": ".py",
   "mimetype": "text/x-python",
   "name": "python",
   "nbconvert_exporter": "python",
   "pygments_lexer": "ipython3",
   "version": "3.8.15"
  },
  "orig_nbformat": 4
 },
 "nbformat": 4,
 "nbformat_minor": 2
}
