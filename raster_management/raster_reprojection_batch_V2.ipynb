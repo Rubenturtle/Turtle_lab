{
 "cells": [
  {
   "attachments": {},
   "cell_type": "markdown",
   "metadata": {},
   "source": [
    "## Data reprojection\n",
    "- We want in this code to reproject a list of files with the corresponding desired reprojection\n",
    "- We have to know what kind of data do we have for the data interpolation\n",
    "- Once we have that, we can start reprojecting the data"
   ]
  },
  {
   "cell_type": "code",
   "execution_count": 1,
   "metadata": {},
   "outputs": [],
   "source": [
    "\"\"\"This script goes for every tif file in a folder\"\"\"\n",
    "\n",
    "import os\n",
    "from sys import path\n",
    "from osgeo import gdal\n",
    "from numpy import random"
   ]
  },
  {
   "cell_type": "code",
   "execution_count": null,
   "metadata": {},
   "outputs": [],
   "source": [
    "\"\"\"BEWARE WITH THE INDEXATION\"\"\"\n",
    "# path=r\"//akif.internal/public/z_resources/\"\n",
    "# out=r\"//akif.internal/public/z_resources/\"\n",
    "\n",
    "path = r\"C:/Users/admin/Documents/03_data/Urdaibai_data_for_server/raster\"\n",
    "out = r\"C:/Users/admin/Documents/03_data/Urdaibai_data_for_server/raster/out\"\n",
    "\n",
    "\n",
    "\"\"\"\n",
    "Tenemos que comprobar que los datos sean Categoricos o contiugos\n",
    "Para categoricos habria que hacer el vecino proximo\n",
    "Para continuos habría que hacerlo Bicubica - Bilineal\n",
    "\"\"\"\n",
    "\n",
    "os.chdir(r\"C:/Users/admin/Documents/03_data/Urdaibai_data_for_server/raster\")\n",
    "\n",
    "\n",
    "# print(os.listdir(path))\n",
    "#This iterates for every file in the directory\n",
    "for file in os.listdir(path):\n",
    "    #we only take the ones ended with tif\n",
    "    if file.endswith('.tif'):\n",
    "        #lets start analizing the data properties\n",
    "        dataset = gdal.Open(file)\n",
    "        stats =  dataset.GetRasterBand(1).GetStatistics(0,1) #it will return a list(Min, Max, Mean, StdDev)\n",
    "        Metadata_domain = dataset.GetMetadataDomainList() #From here we get the 'IMAGE_STRUCTURE'\n",
    "        image_structure = dataset.GetMetadata('IMAGE_STRUCTURE') #here inside\n",
    "\n",
    "        # Use dict.get method in case the metadata dict does not have a 'COMPRESSION' key\n",
    "        compression = image_structure.get('COMPRESSION', None)\n",
    "\n",
    "        #Get a subset of the data as a test\n",
    "\n",
    "\n",
    "        dataset = None\n",
    "        # resampleAlg = gdal.GRIORA_NearestNeighbour\n",
    "        # resampleAlg = gdal.GRIORA_Bilinear\n",
    "        # esto añadelo al final\n",
    "\n",
    "        #we concatenate the path\n",
    "        input = path +\"/\"+ file\n",
    "        output = out + '/' + file.replace(\".tif\",\"\") + \"_4326.tif\"\n",
    "        #here is the GDAL transformation, we set the path + / + variable\n",
    "        gdal.Warp(output, input, creationOptions = ['COMPRESS=' + str(compression)], dstSRS = \"EPSG:4326\")\n",
    "        \n",
    "    else:\n",
    "        pass\n",
    "\n",
    "\n",
    "print(\"It's over the transformation\")\n",
    "\n"
   ]
  },
  {
   "attachments": {},
   "cell_type": "markdown",
   "metadata": {},
   "source": [
    "The idea here was to see what kind of data pixels do we have, and in order of what we get, do a transformation in with the nearest neightbour,\n",
    "bilineal, cubical or so... IT IS NOT FINISHED"
   ]
  },
  {
   "cell_type": "code",
   "execution_count": null,
   "metadata": {},
   "outputs": [],
   "source": [
    "#We want to see here the inside of a raster file\n",
    "os.chdir(r\"C:/Users/admin/Documents/03_data/Urdaibai_data_for_server/raster/out\")\n",
    "file = \"Arcilla_percentage_Urdaibai_4326.tif\"\n",
    "\n",
    "datafile = gdal.Open(file)\n",
    "gt = datafile.GetGeoTransform() #we get the extreme values\n",
    "\n",
    "band = datafile.GetRasterBand(1)\n",
    "\n",
    "\"\"\"Here we get the size of the file\"\"\"\n",
    "width = datafile.RasterXSize #columns\n",
    "height = datafile.RasterYSize #rows\n",
    "# define your tile size\n",
    "# it could be 256,512 or 1024. it depends on your scope\n",
    "tilesize = 50 #int((width * height) / 10)\n",
    "\"\"\"Here we start with the tyiling\"\"\"\n",
    "for i in range(0, width, tilesize): #tilesize marks from where to where in width\n",
    "    for j in range(0, height, tilesize): #tilesize in height\n",
    "        #for the edge parts, so we don't get nodata from the borders\n",
    "        w = min(i+tilesize, width) - i\n",
    "        h = min(j+tilesize, height) - j\n",
    "        #we preapre the sentence\n",
    "        array = band.ReadAsArray(j, i, w, h)\n",
    "        \n",
    "        print(array)\n",
    "# datafile = None"
   ]
  }
 ],
 "metadata": {
  "kernelspec": {
   "display_name": "Python 3.9.12 ('geoprocessing')",
   "language": "python",
   "name": "python3"
  },
  "language_info": {
   "codemirror_mode": {
    "name": "ipython",
    "version": 3
   },
   "file_extension": ".py",
   "mimetype": "text/x-python",
   "name": "python",
   "nbconvert_exporter": "python",
   "pygments_lexer": "ipython3",
   "version": "3.7.12"
  },
  "orig_nbformat": 4,
  "vscode": {
   "interpreter": {
    "hash": "ef1643838ba400d9e56910a4ebe1d7c2ddcc0867ba383b6e8e5b6e0b2b833d6e"
   }
  }
 },
 "nbformat": 4,
 "nbformat_minor": 2
}
