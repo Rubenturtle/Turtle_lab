{
 "cells": [
  {
   "cell_type": "markdown",
   "metadata": {},
   "source": [
    "# Update the values of a raster\n",
    "- with a csv holding the current values and the ones to update\n",
    "- I update value per value the raster in an array and update the raster\n",
    "- WARNING: for this script for now, make a copy of the file"
   ]
  },
  {
   "cell_type": "code",
   "execution_count": 2,
   "metadata": {},
   "outputs": [],
   "source": [
    "import os\n",
    "import gdal\n",
    "import geopandas as gpd\n",
    "import numpy as np"
   ]
  },
  {
   "cell_type": "code",
   "execution_count": 2,
   "metadata": {},
   "outputs": [],
   "source": [
    "raster_path = r\"C:\\Users\\admin\\Downloads\\forest\\ForestCondition_2018_Uncertainty.tif\"\n",
    "csv_path = r\"C:\\Users\\admin\\Downloads\\forest\\ForestCondition_2018_Uncertainty_reclass.csv\"\n",
    "output_raster_path = r\"C:\\Users\\admin\\Downloads\\forest\""
   ]
  },
  {
   "cell_type": "code",
   "execution_count": 3,
   "metadata": {},
   "outputs": [],
   "source": [
    "raster_dataset = gdal.Open(raster_path, gdal.GA_Update)  # Open the raster in update mode\n",
    "# Check if the raster dataset was successfully opened\n",
    "if raster_dataset is None:\n",
    "    raise Exception(\"Failed to open the raster dataset.\")\n",
    "\n",
    "# Load the CSV data\n",
    "csv_data = gpd.read_file(csv_path)"
   ]
  },
  {
   "cell_type": "code",
   "execution_count": 4,
   "metadata": {},
   "outputs": [],
   "source": [
    "# Iterate through the CSV data and update the raster values\n",
    "for index, row in csv_data.iterrows():\n",
    "    current_value = float(row['Current_value'])  # Convert to float\n",
    "    new_value = float(row['New_value'])  # Convert to float\n",
    "\n",
    "    # Read the raster band as an array\n",
    "    raster_band = raster_dataset.GetRasterBand(1)\n",
    "    raster_array = raster_band.ReadAsArray()\n",
    "\n",
    "    # Update the raster values where the current value matches\n",
    "    raster_array[raster_array == current_value] = new_value\n",
    "\n",
    "    # Write the updated array back to the raster band\n",
    "    raster_band.WriteArray(raster_array, 0, 0)\n",
    "\n",
    "# Close and save the dataset\n",
    "raster_dataset = None \n",
    "# time: 45mins"
   ]
  },
  {
   "cell_type": "markdown",
   "metadata": {},
   "source": [
    "# Update SOME raster values"
   ]
  },
  {
   "cell_type": "code",
   "execution_count": 1,
   "metadata": {},
   "outputs": [],
   "source": [
    "# Input raster file path\n",
    "input_raster_path = r\"C:\\Users\\admin\\Downloads\\forest\\ForestTypology_2018.tif\"\n",
    "\n",
    "# Output raster file path\n",
    "output_raster_path = r\"C:\\Users\\admin\\Downloads\\forest\\ForestTypology_2018_fixed.tif\""
   ]
  },
  {
   "cell_type": "code",
   "execution_count": 3,
   "metadata": {},
   "outputs": [],
   "source": [
    "# Define the reclassification mapping as a dictionary\n",
    "reclass_mapping = {\n",
    "    211: 65535,\n",
    "    212: 65535, \n",
    "    213: 65535,\n",
    "    224: 65535\n",
    "}\n",
    "\n",
    "# Open the input raster using GDAL\n",
    "input_raster = gdal.Open(input_raster_path, gdal.GA_ReadOnly)\n",
    "if input_raster is None:\n",
    "    print(\"Could not open the input raster file.\")\n",
    "    exit(1)\n",
    "\n",
    "# Read the raster data into a NumPy array\n",
    "band = input_raster.GetRasterBand(1)\n",
    "raster_data = band.ReadAsArray()\n",
    "\n"
   ]
  },
  {
   "cell_type": "code",
   "execution_count": 4,
   "metadata": {},
   "outputs": [],
   "source": [
    "# Iterate through the reclassification mapping and apply changes\n",
    "for current_value, new_value in reclass_mapping.items():\n",
    "    raster_data[raster_data == current_value] = new_value"
   ]
  },
  {
   "cell_type": "code",
   "execution_count": 5,
   "metadata": {},
   "outputs": [],
   "source": [
    "# Create a new output raster with the reclassified data\n",
    "driver = gdal.GetDriverByName(\"GTiff\")\n",
    "output_raster = driver.Create(output_raster_path, input_raster.RasterXSize, input_raster.RasterYSize, 1, band.DataType)\n",
    "\n",
    "# Write the reclassified data to the output raster\n",
    "output_band = output_raster.GetRasterBand(1)\n",
    "output_band.WriteArray(raster_data)\n",
    "\n",
    "# Set the projection and geotransform\n",
    "output_raster.SetProjection(input_raster.GetProjection())\n",
    "output_raster.SetGeoTransform(input_raster.GetGeoTransform())\n",
    "\n",
    "# Set the NoData value in the output raster's metadata\n",
    "output_band.SetNoDataValue(65535)\n",
    "\n",
    "# Close the raster datasets\n",
    "input_raster = None\n",
    "output_raster = None"
   ]
  }
 ],
 "metadata": {
  "kernelspec": {
   "display_name": "gdal_env",
   "language": "python",
   "name": "python3"
  },
  "language_info": {
   "codemirror_mode": {
    "name": "ipython",
    "version": 3
   },
   "file_extension": ".py",
   "mimetype": "text/x-python",
   "name": "python",
   "nbconvert_exporter": "python",
   "pygments_lexer": "ipython3",
   "version": "3.7.12"
  },
  "orig_nbformat": 4
 },
 "nbformat": 4,
 "nbformat_minor": 2
}
