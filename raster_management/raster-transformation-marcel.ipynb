{
 "cells": [
  {
   "cell_type": "code",
   "execution_count": 7,
   "metadata": {},
   "outputs": [],
   "source": [
    "import os\n",
    "import rasterio\n",
    "from rasterio.transform import from_origin\n",
    "from rasterio.mask import mask\n",
    "from shapely.geometry import box\n",
    "from osgeo import gdal"
   ]
  },
  {
   "cell_type": "markdown",
   "metadata": {},
   "source": [
    "# Clip the rasters\n",
    "- Clip a raster with a reference raster one"
   ]
  },
  {
   "cell_type": "code",
   "execution_count": 12,
   "metadata": {},
   "outputs": [],
   "source": [
    "def clip_raster(input_path, output_path, reference_raster):\n",
    "    # Open the reference raster to get its bounds\n",
    "    with rasterio.open(reference_raster) as ref_ds:\n",
    "        reference_bounds = ref_ds.bounds\n",
    "\n",
    "    # Create a geometry from the reference raster's bounds\n",
    "    reference_geometry = box(reference_bounds.left, reference_bounds.bottom, reference_bounds.right, reference_bounds.top)\n",
    "\n",
    "    \"\"\"Prepare the name\"\"\"\n",
    "    # Extract the filename without extension\n",
    "    filename_no_ext = os.path.splitext(os.path.basename(input_path))[0]\n",
    "\n",
    "    # Create the output filename with \"_clipped\" suffix\n",
    "    output_filename = f\"{filename_no_ext}_clipped.tif\"\n",
    "    output_path = os.path.join(output_folder, output_filename)\n",
    "\n",
    "    # Open the input raster to be clipped\n",
    "    with rasterio.open(input_path) as ds:\n",
    "        # Clip the raster to the reference raster's geometry\n",
    "        out_image, out_transform = mask(ds, shapes=[reference_geometry], crop=True)\n",
    "\n",
    "        # Update the raster properties\n",
    "        kwargs = ds.meta.copy()\n",
    "        kwargs.update({\n",
    "            'driver': 'GTiff',\n",
    "            'transform': out_transform,\n",
    "            'width': out_image.shape[2],\n",
    "            'height': out_image.shape[1],\n",
    "            'compress': \"deflate\",\n",
    "            'tiled': True\n",
    "        })\n",
    "\n",
    "        # Create a new output raster with the clipped properties\n",
    "        with rasterio.open(output_path, 'w', **kwargs) as dst:\n",
    "            dst.write(out_image)\n",
    "\n",
    "def process_rasters(input_folder, output_folder, reference_raster):\n",
    "    # Iterate through raster files in the input folder\n",
    "    for filename in os.listdir(input_folder):\n",
    "        if filename.endswith(\".tif\") or filename.endswith(\".tiff\"):\n",
    "            input_path = os.path.join(input_folder, filename)\n",
    "            output_path = os.path.join(output_folder, filename)\n",
    "            \n",
    "            # Clip the raster and save a copy\n",
    "            clip_raster(input_path, output_path, reference_raster)"
   ]
  },
  {
   "cell_type": "code",
   "execution_count": 13,
   "metadata": {},
   "outputs": [],
   "source": [
    "# Set the paths and reference raster\n",
    "input_folder = r\"C:\\Users\\admin\\Downloads\\01_import\\relative_magnitude_fragmentation\"\n",
    "output_folder = r\"C:\\Users\\admin\\Downloads\\02_outputs\"\n",
    "# reference_raster = r\"C:\\Users\\admin\\Downloads\\marcel\\data_extraction\\test_data\\forest-condition_lower-bounds-reference-areas_year2000_EPSG3035.tif\"\n",
    "reference_raster = r\"C:\\Users\\admin\\Downloads\\marcel\\forest-condition_lower-bounds-reference-areas_year2000_EPSG3035.tif\"\n",
    "\n",
    "# Process rasters\n",
    "process_rasters(input_folder, output_folder, reference_raster)"
   ]
  },
  {
   "cell_type": "markdown",
   "metadata": {},
   "source": [
    "# assign the resolution"
   ]
  },
  {
   "cell_type": "code",
   "execution_count": 14,
   "metadata": {},
   "outputs": [],
   "source": [
    "def reproject_raster(input_path, output_path):\n",
    "    # Set the target projection (EPSG:3035)\n",
    "    target_projection = 'EPSG:3035'\n",
    "\n",
    "    # Set the desired width and height\n",
    "    target_width = 66583\n",
    "    target_height = 58832\n",
    "\n",
    "    # Set the desired extent\n",
    "    target_extent = [943600.0, 941700.0, 7601900.0, 6824900.0]\n",
    "                     \n",
    "    # Set the options for gdal.Warp\n",
    "    options = gdal.WarpOptions(\n",
    "        format=\"GTiff\",\n",
    "        width=target_width,\n",
    "        height=target_height,\n",
    "        dstSRS=target_projection,\n",
    "        outputBounds=target_extent,\n",
    "        # dstNodata=255,\n",
    "        creationOptions=['COMPRESS=DEFLATE', 'TILED=YES']\n",
    "        # resampleAlg=gdal.GRA_Bilinear  # You can choose a different resampling algorithm if needed\n",
    "    )\n",
    "\n",
    "    # Reproject the raster using gdal.Warp\n",
    "    gdal.Warp(output_path, input_path, options=options)\n",
    "    \n",
    "    # gdal.Warp(output_path, input_path, creationOptions = ['COMPRESS=DEFLATE', 'TILED=YES'], \n",
    "    #           width=target_width, height=target_height, dstSRS=target_projection, outputBounds=target_extent)\n",
    "\n",
    "def process_output_folder(input_folder, output_folder):\n",
    "    # Iterate through raster files in the output folder\n",
    "    for filename in os.listdir(input_folder):\n",
    "        if filename.endswith(\"_clipped.tif\"):\n",
    "            input_path = os.path.join(input_folder, filename)\n",
    "            output_path = os.path.join(output_folder, filename.replace(\"_clipped.tif\",\"\") + \"_adapted.tif\")\n",
    "            print(output_path)\n",
    "            # Reproject the raster and save a copy\n",
    "            reproject_raster(input_path, output_path)"
   ]
  },
  {
   "cell_type": "code",
   "execution_count": 15,
   "metadata": {},
   "outputs": [
    {
     "name": "stdout",
     "output_type": "stream",
     "text": [
      "C:\\Users\\admin\\Downloads\\02_outputs\\adapted\\Copernicus_combined_drought_indicator_avg_of_EU_v3_2012_adapted.tif\n",
      "C:\\Users\\admin\\Downloads\\02_outputs\\adapted\\relative_magnitude_fragmentation_2000_merged_total_clip_3035_adapted.tif\n"
     ]
    }
   ],
   "source": [
    "# Set the paths and target raster\n",
    "input_folder = r\"C:\\Users\\admin\\Downloads\\02_outputs\"\n",
    "output_folder = r\"C:\\Users\\admin\\Downloads\\02_outputs\\adapted\"\n",
    "\n",
    "# Create the output folder if it doesn't exist\n",
    "os.makedirs(output_folder, exist_ok=True)\n",
    "\n",
    "# Process rasters in the output folder\n",
    "process_output_folder(input_folder, output_folder)"
   ]
  }
 ],
 "metadata": {
  "kernelspec": {
   "display_name": "geo_forge_env",
   "language": "python",
   "name": "python3"
  },
  "language_info": {
   "codemirror_mode": {
    "name": "ipython",
    "version": 3
   },
   "file_extension": ".py",
   "mimetype": "text/x-python",
   "name": "python",
   "nbconvert_exporter": "python",
   "pygments_lexer": "ipython3",
   "version": "3.8.15"
  }
 },
 "nbformat": 4,
 "nbformat_minor": 2
}
