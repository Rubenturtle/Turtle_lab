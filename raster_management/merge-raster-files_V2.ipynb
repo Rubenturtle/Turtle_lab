{
 "cells": [
  {
   "cell_type": "code",
   "execution_count": 1,
   "metadata": {},
   "outputs": [],
   "source": [
    "from osgeo import gdal\n",
    "import os"
   ]
  },
  {
   "cell_type": "code",
   "execution_count": null,
   "metadata": {},
   "outputs": [],
   "source": [
    "\"\"\"Take the folders in case there is more than one folder\"\"\"\n",
    "# main_path = r\"C:/Users/admin/Downloads/intact_forest\"\n",
    "# main_path = r\"//akif.internal/public/z_resources/ruben/wb_temporal/cstorage_gabon2020\"\n",
    "main_path = r\"Z:\\veg_c_storage_rawdata\\testing\\merge\"\n",
    "os.chdir(main_path)\n",
    "Folder_list = [] #f for f in os.listdir(path) if os.isfile(mypath,f)\n",
    "for file in os.listdir(main_path): # [1:]\n",
    "    if os.path.isdir(file):\n",
    "        if file not in Folder_list:\n",
    "            Folder_list.append(os.path.join(main_path, file).replace(\"\\\\\",\"/\"))\n",
    "    else:\n",
    "        pass\n",
    "print(Folder_list[:10])"
   ]
  },
  {
   "cell_type": "code",
   "execution_count": 2,
   "metadata": {},
   "outputs": [
    {
     "name": "stdout",
     "output_type": "stream",
     "text": [
      "['C:\\\\Users\\\\admin\\\\Downloads\\\\fire_forest_loss_2001-23_annual']\n"
     ]
    }
   ],
   "source": [
    "\"\"\"In case there is only one folder\"\"\"\n",
    "# main_path = r\"C:/Users/admin/Downloads/drive-download-20230605T205149Z-001\"\n",
    "# # main_path = r\"Z:\\veg_c_storage_rawdata\\testing\\to_merge\\second_merge\\2010_1\"\n",
    "main_path = r\"C:\\Users\\admin\\Downloads\\fire_forest_loss_2001-23_annual\"\n",
    "os.chdir(main_path)\n",
    "# Folder_list = [\"Z:/z_resources/im-wb/results/cstorage_gabon2002_second_try\"]\n",
    "Folder_list = [main_path]\n",
    "print(Folder_list[:])"
   ]
  },
  {
   "cell_type": "code",
   "execution_count": 3,
   "metadata": {},
   "outputs": [
    {
     "name": "stdout",
     "output_type": "stream",
     "text": [
      "['C:/Users/admin/Downloads/fire_forest_loss_2001-23_annual/AFR_fire_forest_loss_2001-23_annual.tif', 'C:/Users/admin/Downloads/fire_forest_loss_2001-23_annual/EUR_fire_forest_loss_2001-23_annual.tif', 'C:/Users/admin/Downloads/fire_forest_loss_2001-23_annual/LAM_fire_forest_loss_2001-23_annual.tif', 'C:/Users/admin/Downloads/fire_forest_loss_2001-23_annual/NAM_fire_forest_loss_2001-23_annual.tif', 'C:/Users/admin/Downloads/fire_forest_loss_2001-23_annual/SEA-AUS_fire_forest_loss_2001-23_annual.tif']\n",
      "5\n"
     ]
    }
   ],
   "source": [
    "\"\"\"check if it takes all files\"\"\"\n",
    "for folder in Folder_list[:]: #[:]\n",
    "    File_list = [] #f for f in os.listdir(path) if os.isfile(mypath,f)\n",
    "    for file in os.listdir(folder):\n",
    "        if file.endswith(\".tiff\") or file.endswith(\".tif\"):\n",
    "            if file not in File_list:\n",
    "                File_list.append(os.path.join(folder, file).replace(\"\\\\\",\"/\"))\n",
    "print(File_list)\n",
    "print(len(File_list))"
   ]
  },
  {
   "cell_type": "code",
   "execution_count": 9,
   "metadata": {},
   "outputs": [
    {
     "name": "stdout",
     "output_type": "stream",
     "text": [
      "The nodata value is not set.\n"
     ]
    }
   ],
   "source": [
    "# Get the raster band\n",
    "for file in File_list[0:1]:\n",
    "    # Open the raster file\n",
    "    dataset = gdal.Open(file)\n",
    "    if dataset is None:\n",
    "        print(\"Error: Unable to open raster file\")\n",
    "    else:\n",
    "        # Get the raster band\n",
    "        band = dataset.GetRasterBand(1)  # Assuming you are working with the first band\n",
    "        if band is None:\n",
    "            print(\"Error: Unable to access raster band\")\n",
    "        else:\n",
    "            # Get the nodata value of the band\n",
    "            nodata_value = band.GetNoDataValue()\n",
    "            if nodata_value is None:\n",
    "                print(\"The nodata value is not set.\")\n"
   ]
  },
  {
   "cell_type": "code",
   "execution_count": 4,
   "metadata": {},
   "outputs": [
    {
     "name": "stdout",
     "output_type": "stream",
     "text": [
      "starting: C:\\Users\\admin\\Downloads\\fire_forest_loss_2001-23_annual\n",
      "fire_forest_loss_2001-23_annual_merged_total.tif\n"
     ]
    }
   ],
   "source": [
    "\"\"\"\n",
    "- Get a list of the raster files inside the folder.\n",
    "- Do the geoprocessing per each file\n",
    "\"\"\"\n",
    "#beware if the folder indexation is okay\n",
    "for folder in Folder_list[:]: #[:10]\n",
    "    print(\"starting: \" + folder)\n",
    "    File_list = [] #f for f in os.listdir(path) if os.isfile(mypath,f)\n",
    "    for file in os.listdir(folder):\n",
    "        if file.endswith(\".tiff\") or file.endswith(\".tif\"):\n",
    "            if file not in File_list:\n",
    "                File_list.append(os.path.join(folder, file).replace(\"\\\\\",\"/\"))\n",
    "        else:\n",
    "            pass\n",
    "    output = os.path.basename(folder) + \"_merged_total.tif\" #if the output is the name of the folder\n",
    "    # for a single output\n",
    "    # output = \"vcs_2020_global_300m_1.tif\"\n",
    "\n",
    "    # Specify the desired pixel size in the output\n",
    "    # x_resolution = 100  # Horizontal pixel size\n",
    "    # y_resolution = 100  # Vertical pixel size\n",
    "\n",
    "    \"\"\"Geoprocessing\"\"\"\n",
    "    merged_tif = gdal.Warp(output, File_list, format=\"GTiff\",\n",
    "            # outputType = gdal.GDT_Byte, # this thing converts nodata values to zeros\n",
    "            # srcNodata = -32768, # gives a value to the nodata areas\n",
    "            # srcWin = [str(180), str(84), str(-180), str(-57)]\n",
    "            # xRes=x_resolution, yRes=y_resolution,\n",
    "            dstNodata = 0, # sets the no data value\n",
    "            # dstSRS = 'EPSG:3035',\n",
    "            creationOptions=[\"COMPRESS=DEFLATE\", \"TILED=YES\"])\n",
    "    \n",
    "    \"\"\"remove the color pallete\"\"\" # optional         \n",
    "    # band = merged_tif.GetRasterBand(1)\n",
    "    # band.SetRasterColorTable(None)\n",
    "    # # Close file and flush to disk\n",
    "    # del band\n",
    "\n",
    "    merged_tif = None \n",
    "    print(output)\n",
    "\n",
    "    #time = 396"
   ]
  },
  {
   "cell_type": "code",
   "execution_count": null,
   "metadata": {},
   "outputs": [],
   "source": [
    "\"\"\"File parser / For testing\"\"\"\n",
    "\n",
    "path = r\"Z:\\z_resources\\ruben\\utci_2021\\raster_output\"\n",
    "File_list = [] #f for f in os.listdir(path) if os.isfile(mypath,f)\n",
    "for file in os.listdir(path): \n",
    "    if \".tif\" in file:\n",
    "        if file not in File_list:\n",
    "            # File_list.append(os.path.join(path, file).replace(\"\\\\\",\"/\"))\n",
    "            File_list.append(file)\n",
    "    else:\n",
    "        pass\n",
    "    \n",
    "    file_string = \" \".join(File_list)\n",
    "    print(file_string)"
   ]
  },
  {
   "cell_type": "code",
   "execution_count": 17,
   "metadata": {},
   "outputs": [],
   "source": [
    "os.chdir(path)\n",
    "text_file = open(\"sample.txt\", \"w\")\n",
    "n = text_file.write(file_string)\n",
    "text_file.close()"
   ]
  },
  {
   "cell_type": "code",
   "execution_count": 6,
   "metadata": {},
   "outputs": [
    {
     "name": "stdout",
     "output_type": "stream",
     "text": [
      "\\\\akif.internal\\public\\z_resources\\ruben\\wb_temporal\\cstorage_gabon2020\n"
     ]
    }
   ],
   "source": [
    "print(os.getcwd())"
   ]
  }
 ],
 "metadata": {
  "kernelspec": {
   "display_name": "Python 3.7.12 ('gdal_env')",
   "language": "python",
   "name": "python3"
  },
  "language_info": {
   "codemirror_mode": {
    "name": "ipython",
    "version": 3
   },
   "file_extension": ".py",
   "mimetype": "text/x-python",
   "name": "python",
   "nbconvert_exporter": "python",
   "pygments_lexer": "ipython3",
   "version": "3.8.15"
  },
  "orig_nbformat": 4,
  "vscode": {
   "interpreter": {
    "hash": "13fb4f61f9b1971e99363de4d9200a528ac37b1d4677b1025546b3653dbc06d9"
   }
  }
 },
 "nbformat": 4,
 "nbformat_minor": 2
}
