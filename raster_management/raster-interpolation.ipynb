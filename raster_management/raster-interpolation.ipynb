{
 "cells": [
  {
   "cell_type": "markdown",
   "metadata": {},
   "source": [
    "- **Supported Algorithms**\n",
    "1. **`invdist` (Inverse Distance Weighting - IDW)**\n",
    "   - `power`: Determines the weighting of distances. Higher values give more influence to nearby points.\n",
    "   - `radius1` and `radius2`: Search radii for nearby points in X and Y directions.\n",
    "   - `nodata`: Value assigned where interpolation is not possible.\n",
    "\n",
    "2. **`nearest` (Nearest Neighbor)**\n",
    "   - Assigns values of the nearest point to each grid cell.\n",
    "3. **`average` (Simple Averaging)**\n",
    "   - Averages the values of nearby points within the search radius.\n",
    "\n",
    "4. **`linear` (Linear Interpolation)**\n",
    "   - Generates a triangulated irregular network (TIN) for linear interpolation.\n"
   ]
  },
  {
   "cell_type": "code",
   "execution_count": null,
   "metadata": {},
   "outputs": [],
   "source": [
    "from osgeo import gdal\n",
    "import os"
   ]
  },
  {
   "cell_type": "code",
   "execution_count": null,
   "metadata": {},
   "outputs": [],
   "source": [
    "def create_folder_if_not_exists(folder_path):\n",
    "    if not os.path.exists(folder_path):\n",
    "        os.makedirs(folder_path)\n",
    "        print(f\"Folder created at: {folder_path}\")\n",
    "    else:\n",
    "        print(f\"Folder already exists at: {folder_path}\")\n",
    "\n",
    "def get_raster_file_list(path):\n",
    "    File_list = [] #f for f in os.listdir(path) if os.isfile(mypath,f)\n",
    "    for file in os.listdir(path):\n",
    "        # \"32628\" is just to get here necessary ones\n",
    "        if file.endswith(\".tif\") or file.endswith(\".tiff\"):\n",
    "            if file not in File_list:\n",
    "                File_list.append(os.path.join(path,file))\n",
    "        else:\n",
    "            pass\n",
    "    return File_list\n",
    "\n",
    "def get_vector_file_list(path):\n",
    "    File_list = [] #f for f in os.listdir(path) if os.isfile(mypath,f)\n",
    "    for file in os.listdir(path):\n",
    "        # \"32628\" is just to get here necessary ones\n",
    "        if file.endswith(\".shp\"):\n",
    "            if file not in File_list:\n",
    "                File_list.append(os.path.join(path,file))\n",
    "        else:\n",
    "            pass\n",
    "    return File_list\n",
    "\n",
    "def interpolation(input_file, output_path, zfield):\n",
    "    \"\"\"\n",
    "    Creates an interpolation of a vector file using GDAL's Grid utility.\n",
    "\n",
    "    Parameters:\n",
    "    input_file (str): The path to the input vector file (e.g., a shapefile) to be interpolated.\n",
    "    output (str): The path for the output raster file.\n",
    "    zfield (str): The name of the field in the input vector dataset that contains the values to interpolate.\n",
    "\n",
    "    Returns:\n",
    "    output(str): The path for the output raster file.\n",
    "    \"\"\"\n",
    "    # dataSource = ogr.Open(file, 0) # 0 = read mode\n",
    "    # layer = dataSource.GetLayer()\n",
    "    output_file = os.path.basename(input_file).replace(\".shp\",\".tif\")\n",
    "    output = os.path.join(output_path, output_file)\n",
    "    \n",
    "    # Example :power=3:radius1=2000:radius2=2000\"\n",
    "    nn = gdal.Grid(output, input_file, zfield=zfield, algorithm = \"invdist:power=3:radius1=0.07:radius2=0.07:nodata=0\",\n",
    "    width = 100,\n",
    "    height = 100\n",
    "    )\n",
    "    nn = None\n",
    "    print(f\"Finished with: {os.path.basename(output)}\")\n",
    "    return output\n",
    "\n",
    "def mask_raster(input_file, output_path, cutfile):\n",
    "    output_file = os.path.basename(input_file).replace(\".tif\",\"_clip.tif\")\n",
    "    output = os.path.join(output_path, output_file)\n",
    "\n",
    "    ds_clipped = gdal.Warp(output, \n",
    "        format = 'Gtiff', \n",
    "        cutlineDSName=cutfile,\n",
    "        cropToCutline=True,\n",
    "        srcDSOrSrcDSTab=input_file,\n",
    "        creationOptions = ['COMPRESS=DEFLATE','TILED=YES','BLOCKXSIZE=128','BLOCKYSIZE=128']) \n",
    "\n",
    "    ds_clipped = None\n",
    "    return (f\"Finished with: {os.path.basename(output)}\")\n"
   ]
  },
  {
   "cell_type": "code",
   "execution_count": null,
   "metadata": {},
   "outputs": [],
   "source": [
    "\"\"\"Define the inputs\"\"\"\n",
    "input_path = r\"\"\n",
    "interpolation_path = input_path + \"\\inpterpolation_path\"\n",
    "masking_path = input_path + \"\\masking_path\"\n",
    "\n",
    "cutfile = r\"\""
   ]
  },
  {
   "cell_type": "code",
   "execution_count": null,
   "metadata": {},
   "outputs": [],
   "source": [
    "create_folder_if_not_exists(interpolation_path)\n",
    "create_folder_if_not_exists(masking_path)\n",
    "\n",
    "vector_file_list = get_vector_file_list(input_path)\n",
    "for file in vector_file_list:\n",
    "    output_interpolation = interpolation(file, interpolation_path, \"value_name\")\n",
    "    mask_raster(output_interpolation, masking_path, cutfile)\n"
   ]
  }
 ],
 "metadata": {
  "kernelspec": {
   "display_name": "rasterio_env",
   "language": "python",
   "name": "python3"
  },
  "language_info": {
   "name": "python",
   "version": "3.8.15"
  }
 },
 "nbformat": 4,
 "nbformat_minor": 2
}
