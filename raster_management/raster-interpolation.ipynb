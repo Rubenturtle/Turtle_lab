{
 "cells": [
  {
   "cell_type": "code",
   "execution_count": null,
   "metadata": {},
   "outputs": [],
   "source": [
    "from osgeo import gdal\n",
    "import os"
   ]
  },
  {
   "cell_type": "code",
   "execution_count": null,
   "metadata": {},
   "outputs": [],
   "source": [
    "shp_file_list = []\n",
    "path = r\"C:\\Users\\admin\\Documents\\03_data\\Anna\\Prec_ERG5_Eraclito\""
   ]
  },
  {
   "cell_type": "code",
   "execution_count": null,
   "metadata": {},
   "outputs": [],
   "source": [
    "\"\"\"Get a list of the tif files\"\"\"\n",
    "#Get a list of the files inside the folder\n",
    "tif_file_list = [] #f for f in os.listdir(path) if os.isfile(mypath,f)\n",
    "for file in os.listdir(path):\n",
    "    if \".tif\" in file:\n",
    "        if file not in tif_file_list:\n",
    "            tif_file_list.append(file)\n",
    "    else:\n",
    "        pass\n",
    "print(tif_file_list)"
   ]
  },
  {
   "cell_type": "code",
   "execution_count": null,
   "metadata": {},
   "outputs": [],
   "source": [
    "for file in shp_file_list:\n",
    "    # dataSource = ogr.Open(file, 0) #0 = read mode\n",
    "    # layer = dataSource.GetLayer()\n",
    "    output = file.replace(\".shp\",\".tif\")\n",
    "    nn = gdal.Grid(output, file, zfield=\"Value\", algorithm = \"invdist:power=3:radius1=0.07:radius2=0.07:nodata=0\",\n",
    "    width = 100,\n",
    "    height = 100\n",
    "    # :power=3:radius1=2000:radius2=2000\"\n",
    "    )\n",
    "    nn = None"
   ]
  },
  {
   "cell_type": "code",
   "execution_count": null,
   "metadata": {},
   "outputs": [],
   "source": [
    "\"\"\"Do the clipping area\"\"\"\n",
    "os.chdir(r\"C:\\Users\\admin\\Documents\\03_data\\Anna\\Prec_ERG5_Eraclito\")\n",
    "cutfile = \"italy_region.shp\"\n",
    "for file in tif_file_list:\n",
    "\n",
    "    ds_clipped = gdal.Warp(file.replace(\".tif\",\"_clip.tif\"), \n",
    "        format = 'Gtiff', \n",
    "        cutlineDSName=cutfile,\n",
    "        cropToCutline=True,\n",
    "        srcDSOrSrcDSTab=file,\n",
    "        creationOptions = ['COMPRESS=DEFLATE','TILED=YES','BLOCKXSIZE=128','BLOCKYSIZE=128']) \n",
    "\n",
    "        #input_raster_filepath, output_raster_filepath, cutlineDSName=road_buffered_filepath, cropToCutline=True)\n",
    "    ds_clipped = None"
   ]
  },
  {
   "cell_type": "code",
   "execution_count": null,
   "metadata": {},
   "outputs": [],
   "source": []
  }
 ],
 "metadata": {
  "kernelspec": {
   "display_name": "rasterio_env",
   "language": "python",
   "name": "python3"
  },
  "language_info": {
   "name": "python",
   "version": "3.8.15"
  }
 },
 "nbformat": 4,
 "nbformat_minor": 2
}
