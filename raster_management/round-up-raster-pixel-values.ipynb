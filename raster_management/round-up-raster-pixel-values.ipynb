{
 "cells": [
  {
   "cell_type": "markdown",
   "metadata": {},
   "source": [
    "Esto no está ni medianamente bien hecho"
   ]
  },
  {
   "cell_type": "code",
   "execution_count": 2,
   "metadata": {},
   "outputs": [],
   "source": [
    "from osgeo import gdal, gdalconst\n",
    "import math\n",
    "import numpy as np\n",
    "import subprocess"
   ]
  },
  {
   "cell_type": "code",
   "execution_count": 12,
   "metadata": {},
   "outputs": [],
   "source": [
    "def determine_data_type(data):\n",
    "    min_val = np.nanmin(data)\n",
    "    max_val = np.nanmax(data)\n",
    "    print(min_val)\n",
    "    print(max_val)\n",
    "    \n",
    "    if np.issubdtype(data.dtype, np.integer):\n",
    "        if min_val >= 0:\n",
    "            if max_val <= 255:\n",
    "                return np.uint8\n",
    "            elif max_val <= 65535:\n",
    "                return np.uint16\n",
    "            else:\n",
    "                return np.uint32\n",
    "        else:\n",
    "            if min_val >= -128 and max_val <= 127:\n",
    "                return np.int8\n",
    "            elif min_val >= -32768 and max_val <= 32767:\n",
    "                return np.int16\n",
    "            else:\n",
    "                return np.int32\n",
    "    else:\n",
    "        if min_val >= -3.4e38 and max_val <= 3.4e38:\n",
    "            return np.float32\n",
    "        else:\n",
    "            return np.float64"
   ]
  },
  {
   "cell_type": "code",
   "execution_count": 15,
   "metadata": {},
   "outputs": [
    {
     "name": "stdout",
     "output_type": "stream",
     "text": [
      "37.1478286657143\n",
      "46.938502811428584\n"
     ]
    }
   ],
   "source": [
    "\"\"\"Change the number of decimals\"\"\"\n",
    "\"\"\"This shit does not take space for huge data with decimals that requires float32\"\"\"\n",
    "# Open the raster file\n",
    "raster_file = r\"Z:\\z_resources\\im-nca-germany\\results_shared_with_destatis\\german_terrestrial_ecosystem_type_results_epsg25832\\german_terrestrial_ecosystem_type.tiff\"\n",
    "output_file = r\"Z:\\z_resources\\im-nca-germany\\results_shared_with_destatis\\german_terrestrial_ecosystem_type_results_epsg25832\\german_terrestrial_ecosystem_type_1.tiff\"\n",
    "input_raster = gdal.Open(raster_file, gdal.GA_ReadOnly)\n",
    "\n",
    "# Number of decimal places to round to (It does not work)\n",
    "decimal_places = 4\n",
    "\n",
    "new_nodata_value = -250  # Replace with your desired NoData value\n",
    "\n",
    "# Read the first band to analyze data type\n",
    "raster_band = input_raster.GetRasterBand(1)\n",
    "# Esto hay que mejorarlo, quiero que tome todo, no solo \n",
    "first_scanline = raster_band.ReadAsArray(0, 0, raster_band.XSize, 1)\n",
    "\n",
    "# Determine the optimal data type based on the first scanline\n",
    "optimal_dtype = determine_data_type(first_scanline)\n",
    "\n",
    "# Create an output raster file with the determined data type\n",
    "driver = gdal.GetDriverByName('GTiff')\n",
    "output_raster = driver.Create(\n",
    "    output_file, \n",
    "    input_raster.RasterXSize, \n",
    "    input_raster.RasterYSize, \n",
    "    input_raster.RasterCount, \n",
    "    gdalconst.GDT_Float32 if np.issubdtype(optimal_dtype, np.floating) else gdalconst.GDT_Int32,\n",
    "    options = ['COMPRESS=DEFLATE', 'TILED=YES']\n",
    ")\n",
    "\n",
    "# Copy over the geotransform and projection from the input raster\n",
    "output_raster.SetGeoTransform(input_raster.GetGeoTransform())\n",
    "output_raster.SetProjection(input_raster.GetProjection())\n",
    "\n",
    "# Loop through each band in the raster\n",
    "for band_num in range(1, input_raster.RasterCount + 1):\n",
    "    input_band = input_raster.GetRasterBand(band_num)\n",
    "    output_band = output_raster.GetRasterBand(band_num)\n",
    "    \n",
    "    # Set the new NoData value\n",
    "    output_band.SetNoDataValue(new_nodata_value)\n",
    "    \n",
    "    for y in range(input_band.YSize):\n",
    "        scanline = input_band.ReadAsArray(0, y, input_band.XSize, 1).astype(np.float32)\n",
    "        \n",
    "        # Round the values to the specified number of decimal places\n",
    "        rounded_scanline = np.round(scanline, decimals=decimal_places)\n",
    "        \n",
    "        # Replace NoData values in the rounded_scanline with the new NoData value\n",
    "        mask = np.isnan(scanline)\n",
    "        rounded_scanline[mask] = new_nodata_value\n",
    "        \n",
    "        # Convert rounded_scanline to the optimal data type before writing\n",
    "        rounded_scanline = rounded_scanline.astype(optimal_dtype)\n",
    "        \n",
    "        # Write the modified scanline to the output raster\n",
    "        output_band.WriteArray(rounded_scanline, 0, y)\n",
    "\n",
    "# Close the input and output raster files\n",
    "input_raster = None\n",
    "output_raster = None"
   ]
  },
  {
   "cell_type": "code",
   "execution_count": 11,
   "metadata": {},
   "outputs": [
    {
     "data": {
      "text/plain": [
       "numpy.float32"
      ]
     },
     "execution_count": 11,
     "metadata": {},
     "output_type": "execute_result"
    }
   ],
   "source": [
    "optimal_dtype"
   ]
  }
 ],
 "metadata": {
  "kernelspec": {
   "display_name": "gdal_env",
   "language": "python",
   "name": "python3"
  },
  "language_info": {
   "codemirror_mode": {
    "name": "ipython",
    "version": 3
   },
   "file_extension": ".py",
   "mimetype": "text/x-python",
   "name": "python",
   "nbconvert_exporter": "python",
   "pygments_lexer": "ipython3",
   "version": "3.7.12"
  },
  "orig_nbformat": 4
 },
 "nbformat": 4,
 "nbformat_minor": 2
}
