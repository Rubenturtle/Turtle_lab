{
 "cells": [
  {
   "cell_type": "code",
   "execution_count": 2,
   "metadata": {},
   "outputs": [],
   "source": [
    "import geopandas as gpd\n",
    "import rasterio\n",
    "from rasterio.mask import mask\n",
    "from shapely.geometry import box\n",
    "import os"
   ]
  },
  {
   "cell_type": "code",
   "execution_count": 3,
   "metadata": {},
   "outputs": [],
   "source": [
    "def mask_raster_with_shapefile(raster_path, shapefile_path, output_dir):\n",
    "    # Read the raster dataset\n",
    "    with rasterio.open(raster_path) as src:\n",
    "        # Read the shapefile\n",
    "        gdf = gpd.read_file(shapefile_path)\n",
    "\n",
    "        for idx, feature in gdf.iterrows():\n",
    "            # Get the geometry of the feature\n",
    "            geo_feature = gpd.GeoSeries(feature['geometry'])\n",
    "\n",
    "            # Crop the raster to the bounding box of the feature\n",
    "            out_image, out_transform = mask(src, geo_feature, crop=True)\n",
    "\n",
    "            # Update metadata for the cropped raster\n",
    "            out_meta = src.meta.copy()\n",
    "            out_meta.update({\n",
    "                'height': out_image.shape[1],\n",
    "                'width': out_image.shape[2],\n",
    "                'transform': out_transform,\n",
    "                'compress': 'deflate',  # Set compression to deflate\n",
    "                'tiled': True,  # Enable tiling\n",
    "            })\n",
    "\n",
    "            # Construct the output file name using the base name of the input raster\n",
    "            base_name = os.path.splitext(os.path.basename(raster_path))[0]\n",
    "            output_filename = f\"{output_dir}/{base_name}_split_{idx + 1}.tif\"\n",
    "\n",
    "            # Write the cropped raster to a new file\n",
    "            with rasterio.open(output_filename, 'w', **out_meta) as dest:\n",
    "                dest.write(out_image)\n",
    "\n",
    "            print(f\"Output raster created: {output_filename}\")"
   ]
  },
  {
   "cell_type": "code",
   "execution_count": 4,
   "metadata": {},
   "outputs": [
    {
     "name": "stdout",
     "output_type": "stream",
     "text": [
      "Output raster created: C:\\Users\\admin\\Downloads\\copernicus_tree_cover_density_HR/TCD_2018_010m_eu_04326_V2_0_reclass_mask_split_1.tif\n",
      "Output raster created: C:\\Users\\admin\\Downloads\\copernicus_tree_cover_density_HR/TCD_2018_010m_eu_04326_V2_0_reclass_mask_split_2.tif\n",
      "Output raster created: C:\\Users\\admin\\Downloads\\copernicus_tree_cover_density_HR/TCD_2018_010m_eu_04326_V2_0_reclass_mask_split_3.tif\n",
      "Output raster created: C:\\Users\\admin\\Downloads\\copernicus_tree_cover_density_HR/TCD_2018_010m_eu_04326_V2_0_reclass_mask_split_4.tif\n",
      "Output raster created: C:\\Users\\admin\\Downloads\\copernicus_tree_cover_density_HR/TCD_2018_010m_eu_04326_V2_0_reclass_mask_split_5.tif\n",
      "Output raster created: C:\\Users\\admin\\Downloads\\copernicus_tree_cover_density_HR/TCD_2018_010m_eu_04326_V2_0_reclass_mask_split_6.tif\n",
      "Output raster created: C:\\Users\\admin\\Downloads\\copernicus_tree_cover_density_HR/TCD_2018_010m_eu_04326_V2_0_reclass_mask_split_7.tif\n"
     ]
    }
   ],
   "source": [
    "if __name__ == \"__main__\":\n",
    "    # Replace these paths with your raster and shapefile paths\n",
    "    raster_path = r\"C:\\Users\\admin\\Downloads\\copernicus_tree_cover_density_HR\\TDC_2018_split_and_fragmentation\\TCD_2018_010m_eu_04326_V2_0_reclass_mask.tif\"\n",
    "    shapefile_path = r\"C:\\Users\\admin\\Downloads\\copernicus_tree_cover_density_HR\\focus_countries_dissolved_split.shp\"\n",
    "\n",
    "    # Replace this path with the directory where you want to save the output rasters\n",
    "    output_dir = r\"C:\\Users\\admin\\Downloads\\copernicus_tree_cover_density_HR\"\n",
    "\n",
    "    # Create the output directory if it doesn't exist\n",
    "    os.makedirs(output_dir, exist_ok=True)\n",
    "\n",
    "    mask_raster_with_shapefile(raster_path, shapefile_path, output_dir)\n"
   ]
  }
 ],
 "metadata": {
  "kernelspec": {
   "display_name": "geo_forge_env",
   "language": "python",
   "name": "python3"
  },
  "language_info": {
   "codemirror_mode": {
    "name": "ipython",
    "version": 3
   },
   "file_extension": ".py",
   "mimetype": "text/x-python",
   "name": "python",
   "nbconvert_exporter": "python",
   "pygments_lexer": "ipython3",
   "version": "3.8.15"
  }
 },
 "nbformat": 4,
 "nbformat_minor": 2
}
