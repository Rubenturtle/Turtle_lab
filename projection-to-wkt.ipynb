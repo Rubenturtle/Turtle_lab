{
 "cells": [
  {
   "cell_type": "markdown",
   "metadata": {},
   "source": [
    "# Projection to wkt\n",
    "Here we are going to transform the file projection text to a wkt so we can import into geoserver"
   ]
  },
  {
   "cell_type": "code",
   "execution_count": 1,
   "metadata": {},
   "outputs": [],
   "source": [
    "from osgeo import gdal,osr,ogr\n",
    "import os"
   ]
  },
  {
   "cell_type": "markdown",
   "metadata": {},
   "source": [
    "# From a raster file"
   ]
  },
  {
   "cell_type": "code",
   "execution_count": null,
   "metadata": {},
   "outputs": [],
   "source": [
    "os.chdir(r\"//akif.internal/public/demo-geo-stack/geoserver/data/im-nca-southafrica/\")\n",
    "path = r\"//akif.internal/public/demo-geo-stack/geoserver/data/im-nca-southafrica/\"\n",
    "\n",
    "ds=gdal.Open(r'test_sample.tif')\n",
    "prj=ds.GetProjection()\n",
    "print (prj) #we get the wkt as string\n",
    "\n",
    "#We get here the different parameters\n",
    "srs = osr.SpatialReference(wkt=prj)\n",
    "if srs.IsProjected:\n",
    "    # print (srs.GetAttrValue('projcs'))\n",
    "# print (srs.GetAttrValue('geogcs'))\n",
    "    print(srs) #we get on a tree form the projection"
   ]
  },
  {
   "cell_type": "markdown",
   "metadata": {},
   "source": [
    "# From a vector file"
   ]
  },
  {
   "cell_type": "code",
   "execution_count": 39,
   "metadata": {},
   "outputs": [
    {
     "name": "stdout",
     "output_type": "stream",
     "text": [
      "PROJCS[\"Hartebeesthoek94_ZAF_BSU_Albers_25E\",\n",
      "    GEOGCS[\"Hartebeesthoek94\",\n",
      "        DATUM[\"Hartebeesthoek94\",\n",
      "            SPHEROID[\"WGS 84\",6378137,298.257223563,\n",
      "                AUTHORITY[\"EPSG\",\"7030\"]],\n",
      "            AUTHORITY[\"EPSG\",\"6148\"]],\n",
      "        PRIMEM[\"Greenwich\",0],\n",
      "        UNIT[\"Degree\",0.0174532925199433]],\n",
      "    PROJECTION[\"Albers_Conic_Equal_Area\"],\n",
      "    PARAMETER[\"latitude_of_center\",-30],\n",
      "    PARAMETER[\"longitude_of_center\",25],\n",
      "    PARAMETER[\"standard_parallel_1\",-22],\n",
      "    PARAMETER[\"standard_parallel_2\",-38],\n",
      "    PARAMETER[\"false_easting\",1400000],\n",
      "    PARAMETER[\"false_northing\",1300000],\n",
      "    UNIT[\"metre\",1,\n",
      "        AUTHORITY[\"EPSG\",\"9001\"]],\n",
      "    AXIS[\"Easting\",EAST],\n",
      "    AXIS[\"Northing\",NORTH]]\n"
     ]
    }
   ],
   "source": [
    "os.chdir(r\"//akif.internal/public/demo-geo-stack/geoserver/data/im-nca-southafrica/gadm/\")\n",
    "path = r\"//akif.internal/public/demo-geo-stack/geoserver/data/im-nca-southafrica/\"\n",
    "\n",
    "driver = ogr.GetDriverByName('ESRI Shapefile')\n",
    "dataset=driver.Open(r'gadm_9221_south_africa.shp')\n",
    "# from Layer\n",
    "layer = dataset.GetLayer()\n",
    "spatialRef = layer.GetSpatialRef()\n",
    "# from Geometry\n",
    "feature = layer.GetNextFeature()\n",
    "geom = feature.GetGeometryRef()\n",
    "spatialRef = geom.GetSpatialReference()\n",
    "print(spatialRef)"
   ]
  },
  {
   "cell_type": "markdown",
   "metadata": {},
   "source": [
    "# From a proj4 string"
   ]
  },
  {
   "cell_type": "code",
   "execution_count": 6,
   "metadata": {},
   "outputs": [
    {
     "name": "stdout",
     "output_type": "stream",
     "text": [
      "PROJCS[\"unknown\",GEOGCS[\"unknown\",DATUM[\"Unknown based on International 1924 (Hayford 1909, 1910) ellipsoid\",SPHEROID[\"International 1924 (Hayford 1909, 1910)\",6378388,297]],PRIMEM[\"Greenwich\",0,AUTHORITY[\"EPSG\",\"8901\"]],UNIT[\"degree\",0.0174532925199433,AUTHORITY[\"EPSG\",\"9122\"]]],PROJECTION[\"Equidistant_Conic\"],PARAMETER[\"latitude_of_center\",30],PARAMETER[\"longitude_of_center\",10],PARAMETER[\"standard_parallel_1\",43],PARAMETER[\"standard_parallel_2\",62],PARAMETER[\"false_easting\",0],PARAMETER[\"false_northing\",0],UNIT[\"metre\",1,AUTHORITY[\"EPSG\",\"9001\"]],AXIS[\"Easting\",EAST],AXIS[\"Northing\",NORTH]]\n",
      "______________________________\n",
      "PROJCS[\"unknown\",\n",
      "    GEOGCS[\"unknown\",\n",
      "        DATUM[\"Unknown based on International 1924 (Hayford 1909, 1910) ellipsoid\",\n",
      "            SPHEROID[\"International 1924 (Hayford 1909, 1910)\",6378388,297]],\n",
      "        PRIMEM[\"Greenwich\",0,\n",
      "            AUTHORITY[\"EPSG\",\"8901\"]],\n",
      "        UNIT[\"degree\",0.0174532925199433,\n",
      "            AUTHORITY[\"EPSG\",\"9122\"]]],\n",
      "    PROJECTION[\"Equidistant_Conic\"],\n",
      "    PARAMETER[\"latitude_of_center\",30],\n",
      "    PARAMETER[\"longitude_of_center\",10],\n",
      "    PARAMETER[\"standard_parallel_1\",43],\n",
      "    PARAMETER[\"standard_parallel_2\",62],\n",
      "    PARAMETER[\"false_easting\",0],\n",
      "    PARAMETER[\"false_northing\",0],\n",
      "    UNIT[\"metre\",1,\n",
      "        AUTHORITY[\"EPSG\",\"9001\"]],\n",
      "    AXIS[\"Easting\",EAST],\n",
      "    AXIS[\"Northing\",NORTH]]\n"
     ]
    }
   ],
   "source": [
    "\"\"\"\n",
    "This one works.\n",
    "Find the projection in QGIS and copy the proj string.\n",
    "Copy the output string and replace the 3 unknowns with the corresponding info of the QGIS proj string\n",
    "\n",
    "\"\"\"\n",
    "# proj4_string = \"+proj=aea +lat_0=-30 +lon_0=25 +lat_1=-22 +lat_2=-38 +x_0=1400000 +y_0=1300000 +ellps=WGS84 +towgs84=0,0,0,0,0,0,0 +units=m +no_defs\"\n",
    "proj4_string = \"+proj=eqdc +lat_0=30 +lon_0=10 +lat_1=43 +lat_2=62 +x_0=0 +y_0=0 +ellps=intl +units=m +no_defs\"\n",
    "srs = osr.SpatialReference()\n",
    "srs.ImportFromProj4(proj4_string)\n",
    "\n",
    "print(str(srs.ExportToWkt())) # in one line\n",
    "print(\"______________________________\")\n",
    "print(srs) # original form"
   ]
  }
 ],
 "metadata": {
  "kernelspec": {
   "display_name": "Python 3.9.12 ('geoprocessing')",
   "language": "python",
   "name": "python3"
  },
  "language_info": {
   "codemirror_mode": {
    "name": "ipython",
    "version": 3
   },
   "file_extension": ".py",
   "mimetype": "text/x-python",
   "name": "python",
   "nbconvert_exporter": "python",
   "pygments_lexer": "ipython3",
   "version": "3.9.12 | packaged by conda-forge | (main, Mar 24 2022, 23:18:12) [MSC v.1929 64 bit (AMD64)]"
  },
  "orig_nbformat": 4,
  "vscode": {
   "interpreter": {
    "hash": "ef1643838ba400d9e56910a4ebe1d7c2ddcc0867ba383b6e8e5b6e0b2b833d6e"
   }
  }
 },
 "nbformat": 4,
 "nbformat_minor": 2
}
