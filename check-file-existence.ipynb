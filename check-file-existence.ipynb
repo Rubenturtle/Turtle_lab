{
 "cells": [
  {
   "cell_type": "code",
   "execution_count": 4,
   "metadata": {},
   "outputs": [],
   "source": [
    "import os\n",
    "import re"
   ]
  },
  {
   "cell_type": "code",
   "execution_count": 6,
   "metadata": {},
   "outputs": [],
   "source": [
    "folder_path = r'Z:\\veg_c_storage_rawdata\\testing\\cstorage_2020'  # Replace with the path to your folder\n",
    "\n",
    "file_numbers = set()  # To store the extracted numbers\n",
    "\n",
    "# Iterate over the files in the folder\n",
    "for filename in os.listdir(folder_path):\n",
    "    if os.path.isfile(os.path.join(folder_path, filename)):\n",
    "        file_name, file_extension = os.path.splitext(filename)\n",
    "        # file_name = re.search(r'\\d+', file_name)\n",
    "        file_name = re.findall(r'\\d+', file_name)[0]\n",
    "        try:\n",
    "            file_number = int(file_name)\n",
    "            file_numbers.add(file_number)\n",
    "        except ValueError:\n",
    "            continue  # Skip files that don't have a valid number in their names\n"
   ]
  },
  {
   "cell_type": "code",
   "execution_count": 9,
   "metadata": {},
   "outputs": [],
   "source": [
    "# Find missing numbers\n",
    "max_number = 6498\n",
    "min_number = 1356\n",
    "missing_numbers = set(range(min_number, max_number + 1)).difference(file_numbers)"
   ]
  },
  {
   "cell_type": "code",
   "execution_count": null,
   "metadata": {},
   "outputs": [],
   "source": [
    "\n",
    "\n",
    "# Display missing numbers\n",
    "if missing_numbers:\n",
    "    print(\"Missing numbers:\")\n",
    "    for number in sorted(missing_numbers):\n",
    "        print(number)\n",
    "else:\n",
    "    print(\"No missing numbers.\")"
   ]
  }
 ],
 "metadata": {
  "kernelspec": {
   "display_name": "gdal_env",
   "language": "python",
   "name": "python3"
  },
  "language_info": {
   "codemirror_mode": {
    "name": "ipython",
    "version": 3
   },
   "file_extension": ".py",
   "mimetype": "text/x-python",
   "name": "python",
   "nbconvert_exporter": "python",
   "pygments_lexer": "ipython3",
   "version": "3.8.15"
  },
  "orig_nbformat": 4
 },
 "nbformat": 4,
 "nbformat_minor": 2
}
