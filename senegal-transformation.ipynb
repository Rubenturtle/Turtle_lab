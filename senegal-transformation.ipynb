{
 "cells": [
  {
   "cell_type": "markdown",
   "metadata": {},
   "source": [
    "# Senegal data transformation\n",
    "- move the layer to the side\n",
    "- clipp the layer\n",
    "- reclassify the content of the file\n",
    "- reproject the data\n",
    "\n",
    "UNFINISHED"
   ]
  },
  {
   "cell_type": "code",
   "execution_count": 1,
   "metadata": {},
   "outputs": [],
   "source": [
    "#Import the libraries\n",
    "import os\n",
    "import sys\n",
    "from osgeo import gdal\n",
    "from osgeo import ogr\n",
    "import numpy as np\n",
    "import glob\n",
    "import pandas as pd\n",
    "import geopandas as gpd\n",
    "\n",
    "\n",
    "gdal.UseExceptions()"
   ]
  },
  {
   "cell_type": "code",
   "execution_count": 2,
   "metadata": {},
   "outputs": [
    {
     "name": "stdout",
     "output_type": "stream",
     "text": [
      "['land_cover_10m_2010.tif', 'land_cover_10m_2015.tif', 'land_cover_10m_2015_moved.tif']\n"
     ]
    }
   ],
   "source": [
    "\"\"\"We specify the current working direcroty\"\"\"\n",
    "# os.chdir(r\"//akif.internal/public/z_resources/hydrosoil/hihydrosoil_ruben\") #works fine\n",
    "\n",
    "\n",
    "#Get a list of the two files inside the folder\n",
    "path = r\"//akif.internal/public/demo-geo-stack/geoserver/data/nca_senegal_land_cover_10m_26_classes/workspace\"\n",
    "File_list = [] #f for f in os.listdir(path) if os.isfile(mypath,f)\n",
    "for file in os.listdir(path):\n",
    "    if file.endswith(\".tif\"):\n",
    "        if file not in File_list:\n",
    "            File_list.append(file)\n",
    "    else:\n",
    "        pass\n",
    "print(File_list)\n"
   ]
  },
  {
   "cell_type": "code",
   "execution_count": null,
   "metadata": {},
   "outputs": [],
   "source": [
    "\"\"\"We are going to move the layer 2015 2'4m to the side, so both 2010 and 2015 layers are equal, they are both 10m pixel size\"\"\"\n",
    "#Source: https://gis.stackexchange.com/questions/13561/how-to-translate-reposition-a-raster-in-python\n",
    "os.chdir(r\"//akif.internal/public/demo-geo-stack/geoserver/data/nca_senegal_land_cover_10m_26_classes/workspace\")\n",
    "\n",
    "# Open in read/write mode\n",
    "ds_2015 = gdal.Open(\"land_cover_10m_2015.tif\", 1) # 0=Read-only, 1=Read-Write\n",
    "\n",
    "# Get affine transform coefficients\n",
    "gt = ds_2015.GetGeoTransform()\n",
    "print(gt) #example (2776450.0, 100.0, 0.0, 6352650.0, 0.0, -100.0)\n",
    "#The geotransform gt object is a 6-parameter tuple described here. You want to edit the first and fourth items:\n",
    "\n",
    "# Convert tuple to list, so we can modify it\n",
    "gtl = list(gt)\n",
    "#change the values\n",
    "gtl[0] -= 24.0  # Move west 2,4 km / 1000 = 1km\n",
    "# Example [2777450.0, 100.0, 0.0, 6332650.0, 0.0, -100.0]\n",
    "\n",
    "\n",
    "#Source: https://gis.stackexchange.com/questions/75891/in-python-reading-a-gdal-raster-from-memory-instead-of-a-file/75893\n",
    "# we real the original file, and do the corresponding transformation\n",
    "dst_filename = \"land_cover_10m_2015_moved.tif\"\n",
    "driver = gdal.GetDriverByName('GTif') #We set here the format, MEM/GTif\n",
    "dst_ds = driver.CreateCopy( dst_filename, ds_2015, 0,\n",
    "            # outputType = gdal.GDT_Int16, \n",
    "            options = ['COMPRESS=DEFLATE','TILED=YES','BLOCKXSIZE=128','BLOCKYSIZE=128','BIGTIFF=YES','COPY_SRC_OVERVIEWS=YES'] )\n",
    "# Save the geotransform to the raster\n",
    "dst_ds.SetGeoTransform(tuple(gtl))\n",
    "\n",
    "\n",
    "dst_ds = None # equivalent to save/close"
   ]
  },
  {
   "cell_type": "code",
   "execution_count": null,
   "metadata": {},
   "outputs": [
    {
     "ename": "Error",
     "evalue": "Session cannot generate requests",
     "output_type": "error",
     "traceback": [
      "Error: Session cannot generate requests",
      "at S.executeCodeCell (c:\\Users\\admin\\.vscode\\extensions\\ms-toolsai.jupyter-2021.10.1101450599\\out\\client\\extension.js:66:301742)",
      "at S.execute (c:\\Users\\admin\\.vscode\\extensions\\ms-toolsai.jupyter-2021.10.1101450599\\out\\client\\extension.js:66:300732)",
      "at S.start (c:\\Users\\admin\\.vscode\\extensions\\ms-toolsai.jupyter-2021.10.1101450599\\out\\client\\extension.js:66:296408)",
      "at processTicksAndRejections (internal/process/task_queues.js:93:5)",
      "at async t.CellExecutionQueue.executeQueuedCells (c:\\Users\\admin\\.vscode\\extensions\\ms-toolsai.jupyter-2021.10.1101450599\\out\\client\\extension.js:66:312326)",
      "at async t.CellExecutionQueue.start (c:\\Users\\admin\\.vscode\\extensions\\ms-toolsai.jupyter-2021.10.1101450599\\out\\client\\extension.js:66:311862)"
     ]
    }
   ],
   "source": [
    "\"\"\"Here we do the clipping part\"\"\"\n",
    "os.chdir(r\"//akif.internal/public/demo-geo-stack/geoserver/data/nca_senegal_land_cover_10m_26_classes/workspace\")\n",
    "\n",
    "os.chdir(r\"//akif.internal/public/demo-geo-stack/geoserver/data/nca_senegal_land_cover_10m_26_classes/workspace\")\n",
    "#ds_2015 is already opened\n",
    "ds_2010 = gdal.Open(\"land_cover_10m_2010.tif\", 1) # 0=Read-only, 1=Read-Write\n",
    "\n",
    "# This is to elaborate the table we parse with the SQL sentence\n",
    "vector_ds = ogr.GetDriverByName('ESRI Shapefile').CreateDataSource(\"senegal_au_fixed.shp\")\n",
    "lyr = vector_ds.CreateLayer('cutline')\n",
    "f = ogr.Feature(lyr.GetLayerDefn())\n",
    "lyr.CreateFeature(f)\n",
    "f = None\n",
    "# vector_ds = None\n",
    "\n",
    "sql = \"SELECT * FROM cutline\" #Build the OGR SQL\n",
    "\n",
    "# Clip the input Raster\n",
    "\n",
    "ds_2010_clipped = gdal.Warp(ds_2010, \n",
    "        format = 'MEM', \n",
    "        cutlineDSName=\"senegal_au_fixed.shp\",\n",
    "        cutlineSQL=sql,\n",
    "        # cropToCutline=True,\n",
    "        srcDSOrSrcDSTab=ds_2010,\n",
    "        creationOptions = ['COMPRESS=DEFLATE','TILED=YES','BLOCKXSIZE=128','BLOCKYSIZE=128','BIGTIFF=YES','COPY_SRC_OVERVIEWS=YES']) \n",
    "        #RuntimeError: Failed to identify source layer from datasource. \n",
    "\n",
    "ds_2015_clipped = gdal.Warp(ds_2015, \n",
    "        format = 'MEM', \n",
    "        cutlineDSName=\"senegal_au_fixed.shp\",\n",
    "        cutlineSQL=sql,\n",
    "        # cropToCutline=True,\n",
    "        creationOptions = ['COMPRESS=DEFLATE','TILED=YES','BLOCKXSIZE=128','BLOCKYSIZE=128','BIGTIFF=YES','COPY_SRC_OVERVIEWS=YES'])\n",
    "\n",
    "ogr.GetDriverByName('ESRI Shapefile').DeleteDataSource(\"senegal_au_fixed.shp\")\n",
    "\n",
    "ds_2015 = None \n",
    "ds_2010 = None\n",
    "\n"
   ]
  },
  {
   "cell_type": "code",
   "execution_count": 5,
   "metadata": {},
   "outputs": [],
   "source": [
    "os.chdir(r\"//akif.internal/public/demo-geo-stack/geoserver/data/nca_senegal_land_cover_10m_26_classes/workspace\")\n",
    "\n",
    "\n",
    "\n",
    "# This is to elaborate the table we parse with the SQL sentence\n",
    "vector_ds = ogr.GetDriverByName('ESRI Shapefile').CreateDataSource(\"senegal_au_fixed.shp\")\n",
    "lyr = vector_ds.CreateLayer('cutline')"
   ]
  },
  {
   "cell_type": "code",
   "execution_count": null,
   "metadata": {},
   "outputs": [],
   "source": [
    "\"\"\"Here we do the reclassification\"\"\"\n",
    "\n"
   ]
  }
 ],
 "metadata": {
  "interpreter": {
   "hash": "18a43b7b0ec0ebc8e0283c9b56cb351972e27c719084286c879186d4b017f817"
  },
  "kernelspec": {
   "display_name": "Python 3.7.11 64-bit ('gdal': conda)",
   "name": "python3"
  },
  "language_info": {
   "codemirror_mode": {
    "name": "ipython",
    "version": 3
   },
   "file_extension": ".py",
   "mimetype": "text/x-python",
   "name": "python",
   "nbconvert_exporter": "python",
   "pygments_lexer": "ipython3",
   "version": "3.7.12"
  },
  "orig_nbformat": 4
 },
 "nbformat": 4,
 "nbformat_minor": 2
}
