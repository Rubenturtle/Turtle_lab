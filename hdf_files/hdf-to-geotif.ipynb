{
 "cells": [
  {
   "cell_type": "markdown",
   "metadata": {},
   "source": [
    "# HDF to Geotif"
   ]
  },
  {
   "cell_type": "code",
   "execution_count": 9,
   "metadata": {},
   "outputs": [],
   "source": [
    "from osgeo import gdal\n",
    "import os\n"
   ]
  },
  {
   "cell_type": "code",
   "execution_count": 7,
   "metadata": {},
   "outputs": [
    {
     "name": "stdout",
     "output_type": "stream",
     "text": [
      "['VNP46A4.A2020001.h00v01.001.2021125044916.h5', 'VNP46A4.A2020001.h00v02.001.2021125090221.h5', 'VNP46A4.A2020001.h00v03.001.2021118145651.h5', 'VNP46A4.A2020001.h00v06.001.2021118145653.h5', 'VNP46A4.A2020001.h00v09.001.2021125122627.h5', 'VNP46A4.A2020001.h00v10.001.2021125013226.h5', 'VNP46A4.A2020001.h00v11.001.2021125122620.h5', 'VNP46A4.A2020001.h00v13.001.2021119101536.h5', 'VNP46A4.A2020001.h00v14.001.2021119101505.h5', 'VNP46A4.A2020001.h00v15.001.2021121003934.h5']\n"
     ]
    }
   ],
   "source": [
    "## List input raster files\n",
    "os.chdir(r'C:\\Users\\admin\\Downloads\\nightdata')\n",
    "rasterFiles = os.listdir(os.getcwd())\n",
    "print(rasterFiles[:10])\n"
   ]
  },
  {
   "cell_type": "code",
   "execution_count": 5,
   "metadata": {},
   "outputs": [
    {
     "name": "stdout",
     "output_type": "stream",
     "text": [
      "VNP46A4.A2020001.h00v01.001.2021125044916\n"
     ]
    }
   ],
   "source": [
    "#Get File Name Prefix (without format)\n",
    "rasterFilePre = rasterFiles[0][:-3]\n",
    "print(rasterFilePre)\n",
    "\n",
    "fileExtension = \"_BBOX.tif\""
   ]
  },
  {
   "cell_type": "code",
   "execution_count": null,
   "metadata": {},
   "outputs": [],
   "source": [
    "for file in rasterFiles:\n",
    "    rasterFilePre = file[:-3]\n",
    "    #print(rasterFilePre)\n",
    "\n",
    "    fileExtension = \"_BBOX.tif\"\n",
    "    ## Open HDF file\n",
    "    hdflayer = gdal.Open(file, gdal.GA_ReadOnly)\n",
    "\n",
    "    #print (hdflayer.GetSubDatasets())\n",
    "\n",
    "    # Open raster layer\n",
    "    #hdflayer.GetSubDatasets()[0][0] - for first layer\n",
    "    #hdflayer.GetSubDatasets()[1][0] - for second layer ...etc\n",
    "    subhdflayer = hdflayer.GetSubDatasets()[0][0]\n",
    "    rlayer = gdal.Open(subhdflayer, gdal.GA_ReadOnly)\n",
    "    #outputName = rlayer.GetMetadata_Dict()['long_name']\n",
    "\n",
    "    #Subset the Long Name\n",
    "    outputName = subhdflayer[92:]\n",
    "\n",
    "    outputNameNoSpace = outputName.strip().replace(\" \",\"_\").replace(\"/\",\"_\")\n",
    "    outputNameFinal = outputNameNoSpace + rasterFilePre + fileExtension\n",
    "    #print(outputNameFinal)\n",
    "\n",
    "    outputFolder = r\"C:\\Users\\admin\\Downloads\\nightdata_output_folder\"\n",
    "\n",
    "    outputRaster = outputFolder + \"\\\\\" + outputNameFinal\n",
    "\n",
    "    #collect bounding box coordinates\n",
    "    HorizontalTileNumber = int(rlayer.GetMetadata_Dict()[\"HorizontalTileNumber\"])\n",
    "    VerticalTileNumber = int(rlayer.GetMetadata_Dict()[\"VerticalTileNumber\"])\n",
    "        \n",
    "    WestBoundCoord = (10*HorizontalTileNumber) - 180\n",
    "    NorthBoundCoord = 90-(10*VerticalTileNumber)\n",
    "    EastBoundCoord = WestBoundCoord + 10\n",
    "    SouthBoundCoord = NorthBoundCoord - 10\n",
    "\n",
    "    EPSG = \"-a_srs EPSG:4326\" #WGS84\n",
    "\n",
    "    translateOptionText = EPSG + \" -a_ullr \" + str(WestBoundCoord) + \" \" + str(NorthBoundCoord) + \" \" + str(EastBoundCoord) + \" \" + str(SouthBoundCoord)\n",
    "\n",
    "    translateoptions = gdal.TranslateOptions(gdal.ParseCommandLine(translateOptionText))\n",
    "    gdal.Translate(outputRaster,rlayer, options=translateoptions)\n",
    "\n",
    "    hdflayer = None\n",
    "    rlayer = None\n",
    "\n",
    "    #Display image in QGIS (run it within QGIS python Console) - remove comment to display\n",
    "    #iface.addRasterLayer(outputRaster, outputNameFinal)\n",
    "\n"
   ]
  },
  {
   "cell_type": "code",
   "execution_count": null,
   "metadata": {},
   "outputs": [],
   "source": [
    "#delete xml files that are generated after opening the hdf files\n",
    "\n",
    "post_file_list = os.listdir(os.getcwd())\n",
    "for item in post_file_list:\n",
    "    if item.endswith(\".xml\"):\n",
    "        os.remove(os.path.join(os.getcwd(), item))"
   ]
  },
  {
   "cell_type": "code",
   "execution_count": 11,
   "metadata": {},
   "outputs": [
    {
     "name": "stdout",
     "output_type": "stream",
     "text": [
      "['elds_AllAngle_Composite_Snow_CoveredVNP46A4.A2020001.h00v01.001.2021125044916_BBOX.tif', 'elds_AllAngle_Composite_Snow_CoveredVNP46A4.A2020001.h00v02.001.2021125090221_BBOX.tif', 'elds_AllAngle_Composite_Snow_CoveredVNP46A4.A2020001.h00v03.001.2021118145651_BBOX.tif', 'elds_AllAngle_Composite_Snow_CoveredVNP46A4.A2020001.h00v06.001.2021118145653_BBOX.tif', 'elds_AllAngle_Composite_Snow_CoveredVNP46A4.A2020001.h00v09.001.2021125122627_BBOX.tif', 'elds_AllAngle_Composite_Snow_CoveredVNP46A4.A2020001.h00v10.001.2021125013226_BBOX.tif', 'elds_AllAngle_Composite_Snow_CoveredVNP46A4.A2020001.h00v11.001.2021125122620_BBOX.tif', 'elds_AllAngle_Composite_Snow_CoveredVNP46A4.A2020001.h00v13.001.2021119101536_BBOX.tif', 'elds_AllAngle_Composite_Snow_CoveredVNP46A4.A2020001.h00v14.001.2021119101505_BBOX.tif', 'elds_AllAngle_Composite_Snow_CoveredVNP46A4.A2020001.h00v15.001.2021121003934_BBOX.tif']\n"
     ]
    }
   ],
   "source": [
    "#Merge all the data\n",
    "#output files list\n",
    "os.chdir(r'C:\\Users\\admin\\Downloads\\nightdata_output_folder')\n",
    "rasterOutputFiles = os.listdir(os.getcwd())\n",
    "print(rasterOutputFiles[:10])\n",
    "\n",
    "#Merge the data\n",
    "g = gdal.Warp(\"output_nodata_2.tif\", \n",
    "                rasterOutputFiles, \n",
    "                format= \"GTiff\",\n",
    "                # format = 'MEM',\n",
    "                srcNodata = 65535,\n",
    "                dstNodata = 65535,\n",
    "                options=[\"COMPRESS=DEFLATE\", \"TILED=YES\"])\n",
    "\n",
    "\n",
    "\n",
    "\n",
    "g = None # Close file and flush to disk\n",
    "\n",
    "\n"
   ]
  },
  {
   "cell_type": "code",
   "execution_count": null,
   "metadata": {},
   "outputs": [],
   "source": [
    "# read in data from first band of input raster\n",
    "band1 = g.GetRasterBand(1)\n",
    "rows = g.RasterYSize\n",
    "cols = g.RasterXSize\n",
    "vals = band1.ReadAsArray(0, 0, cols, rows)\n",
    "\n",
    "# create single-band float32 output raster\n",
    "driver = g.GetDriver()\n",
    "out_data = driver.Create(raster_output, cols, rows, 1, GDT_Float32)\n",
    "if out_data is None:\n",
    "    print 'Could not create output file %s' % raster_output\n",
    "    return None"
   ]
  }
 ],
 "metadata": {
  "kernelspec": {
   "display_name": "Python 3.9.12 ('geoprocessing')",
   "language": "python",
   "name": "python3"
  },
  "language_info": {
   "codemirror_mode": {
    "name": "ipython",
    "version": 3
   },
   "file_extension": ".py",
   "mimetype": "text/x-python",
   "name": "python",
   "nbconvert_exporter": "python",
   "pygments_lexer": "ipython3",
   "version": "3.9.12"
  },
  "orig_nbformat": 4,
  "vscode": {
   "interpreter": {
    "hash": "ef1643838ba400d9e56910a4ebe1d7c2ddcc0867ba383b6e8e5b6e0b2b833d6e"
   }
  }
 },
 "nbformat": 4,
 "nbformat_minor": 2
}
