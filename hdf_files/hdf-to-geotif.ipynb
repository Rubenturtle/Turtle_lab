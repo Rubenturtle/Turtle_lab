{
 "cells": [
  {
   "cell_type": "markdown",
   "metadata": {},
   "source": [
    "# HDF to Geotif"
   ]
  },
  {
   "cell_type": "code",
   "execution_count": 9,
   "metadata": {},
   "outputs": [],
   "source": [
    "from osgeo import gdal\n",
    "import os\n"
   ]
  },
  {
   "cell_type": "code",
   "execution_count": null,
   "metadata": {},
   "outputs": [],
   "source": [
    "def get_hdf_file_list(path):\n",
    "    \"\"\"\n",
    "    Get a list of the hdf files inside the folder\n",
    "    Parameters:\n",
    "    - path (str): path of the folder with the resources.\n",
    "\n",
    "    Returns:\n",
    "    - File_list (list). list of the resources.\n",
    "    \"\"\"\n",
    "    File_list = [] #f for f in os.listdir(path) if os.isfile(mypath,f)\n",
    "    for file in os.listdir(path):\n",
    "        if file.endswith(\".h5\"):\n",
    "            if file not in File_list:\n",
    "                File_list.append(os.path.join(path,file))\n",
    "        else:\n",
    "            pass\n",
    "    return File_list\n",
    "\n",
    "def create_folder_if_not_exists(folder_path):\n",
    "    \"\"\"\n",
    "    Create a folder if it doesn't exist.\n",
    "\n",
    "    Parameters:\n",
    "    folder_path (str): The path of the folder to be created.\n",
    "    \"\"\"\n",
    "    if not os.path.exists(folder_path):\n",
    "        os.makedirs(folder_path)\n",
    "        print(f\"Folder created at: {folder_path}\")\n",
    "    else:\n",
    "        print(f\"Folder already exists at: {folder_path}\")\n",
    "        \n",
    "        \n",
    "def remove_files_with_format(path, format):\n",
    "    \"\"\"\n",
    "    Create a folder if it doesn't exist.\n",
    "\n",
    "    Parameters:\n",
    "    folder_path (str): The path of the folder to be created.\n",
    "    \"\"\"\n",
    "    for file in os.listdir(path):\n",
    "        if file.endswith(format):\n",
    "            os.remove(os.path.join(file))"
   ]
  },
  {
   "cell_type": "code",
   "execution_count": null,
   "metadata": {},
   "outputs": [],
   "source": [
    "## List input raster files\n",
    "\n",
    "input_path = r\"C:\\Users\\admin\\Downloads\\nightdata\"\n",
    "outputFolder = input_path + \"\\output_data\"\n",
    "\n",
    "create_folder_if_not_exists(outputFolder)\n",
    "rasterFiles = get_hdf_file_list(input_path)"
   ]
  },
  {
   "cell_type": "code",
   "execution_count": null,
   "metadata": {},
   "outputs": [],
   "source": [
    "for file in rasterFiles[:]:\n",
    "\n",
    "    ## Open HDF file\n",
    "    hdflayer = gdal.Open(file, gdal.GA_ReadOnly)\n",
    "\n",
    "    #print (hdflayer.GetSubDatasets())\n",
    "\n",
    "    # Open raster layer\n",
    "    #hdflayer.GetSubDatasets()[0][0] - for first layer\n",
    "    #hdflayer.GetSubDatasets()[1][0] - for second layer ...etc\n",
    "    \n",
    "    sub_hdf_layer = hdflayer.GetSubDatasets()[0][0]\n",
    "    rlayer = gdal.Open(sub_hdf_layer, gdal.GA_ReadOnly)\n",
    "    #outputName = rlayer.GetMetadata_Dict()['long_name']\n",
    "\n",
    "\n",
    "    \"\"\"This will be updated depending on the data\"\"\"\n",
    "    #Subset the Long Name\n",
    "    outputName = sub_hdf_layer[92:]\n",
    "\n",
    "    outputNameNoSpace = outputName.strip().replace(\" \",\"_\").replace(\"/\",\"_\")\n",
    "    file_name = os.path.basename(file[:-3])\n",
    "    outputNameFinal = outputNameNoSpace + \"_\" + file_name + \"_BBOX.tif\"\n",
    "    #print(outputNameFinal)\n",
    "\n",
    "    output_raster = os.path.join(outputFolder, outputNameFinal)\n",
    "\n",
    "    #collect bounding box coordinates\n",
    "    HorizontalTileNumber = int(rlayer.GetMetadata_Dict()[\"HorizontalTileNumber\"])\n",
    "    VerticalTileNumber = int(rlayer.GetMetadata_Dict()[\"VerticalTileNumber\"])\n",
    "        \n",
    "    WestBoundCoord = (10*HorizontalTileNumber) - 180\n",
    "    NorthBoundCoord = 90-(10*VerticalTileNumber)\n",
    "    EastBoundCoord = WestBoundCoord + 10\n",
    "    SouthBoundCoord = NorthBoundCoord - 10\n",
    "\n",
    "    EPSG = \"-a_srs EPSG:4326\" #WGS84\n",
    "\n",
    "    translateOptionText = EPSG + \" -a_ullr \" + str(WestBoundCoord) + \" \" + str(NorthBoundCoord) + \" \" + str(EastBoundCoord) + \" \" + str(SouthBoundCoord)\n",
    "\n",
    "    translateoptions = gdal.TranslateOptions(gdal.ParseCommandLine(translateOptionText))\n",
    "    gdal.Translate(output_raster, rlayer, options=translateoptions)\n",
    "\n",
    "    hdflayer = None\n",
    "    rlayer = None\n",
    "\n",
    "    #Display image in QGIS (run it within QGIS python Console) - remove comment to display\n",
    "    #iface.addRasterLayer(outputRaster, outputNameFinal)\n",
    "\n"
   ]
  },
  {
   "cell_type": "code",
   "execution_count": null,
   "metadata": {},
   "outputs": [],
   "source": [
    "#delete xml files that are generated after opening the hdf files\n",
    "remove_files_with_format(input_path, \".xml\")\n"
   ]
  }
 ],
 "metadata": {
  "kernelspec": {
   "display_name": "Python 3.9.12 ('geoprocessing')",
   "language": "python",
   "name": "python3"
  },
  "language_info": {
   "codemirror_mode": {
    "name": "ipython",
    "version": 3
   },
   "file_extension": ".py",
   "mimetype": "text/x-python",
   "name": "python",
   "nbconvert_exporter": "python",
   "pygments_lexer": "ipython3",
   "version": "3.9.12"
  },
  "orig_nbformat": 4,
  "vscode": {
   "interpreter": {
    "hash": "ef1643838ba400d9e56910a4ebe1d7c2ddcc0867ba383b6e8e5b6e0b2b833d6e"
   }
  }
 },
 "nbformat": 4,
 "nbformat_minor": 2
}
