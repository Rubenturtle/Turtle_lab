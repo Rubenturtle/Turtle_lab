{
 "cells": [
  {
   "cell_type": "code",
   "execution_count": null,
   "id": "17c73231-8af3-4986-8fdc-11674bf97363",
   "metadata": {},
   "outputs": [],
   "source": [
    "import rasterio\n",
    "import h5py as hdf\n",
    "import numpy as np\n",
    "from rasterio.windows import Window\n",
    "from rasterio.crs import CRS\n"
   ]
  },
  {
   "cell_type": "code",
   "execution_count": null,
   "id": "60d20504-e261-4f87-b2f2-7640faee1318",
   "metadata": {},
   "outputs": [],
   "source": [
    "# set the addres of HDF file\n",
    "inputHdfile = r\"address.extension\"\n",
    "\n",
    "# set the address for the output raster.\n",
    "writeRaster = r\"address.extension\""
   ]
  },
  {
   "cell_type": "code",
   "execution_count": null,
   "id": "2c23b4c4-c5e2-40b7-b855-2ba3a16e43b8",
   "metadata": {},
   "outputs": [],
   "source": []
  },
  {
   "cell_type": "code",
   "execution_count": null,
   "id": "437804c8-fbcc-4a0d-af3c-370da070caf9",
   "metadata": {},
   "outputs": [],
   "source": [
    "# this is the projection that the hdf has been built upon\n",
    "src_profile ={'driver': 'HFA', 'dtype': 'uint8', 'nodata': 255.0, 'width': 161229, 'height': 104481, 'count': 1, 'crs': CRS.from_wkt('PROJCS[\"Albers_Conic_Equal_Area\",GEOGCS[\"GCS_GRS_1980_IUGG_1980\",DATUM[\"D_unknown\",SPHEROID[\"GRS80\",6378137,298.257222101]],PRIMEM[\"Greenwich\",0],UNIT[\"Degree\",0.0174532925199433]],PROJECTION[\"Albers_Conic_Equal_Area\"],PARAMETER[\"latitude_of_center\",23],PARAMETER[\"longitude_of_center\",-96],PARAMETER[\"standard_parallel_1\",29.3],PARAMETER[\"standard_parallel_2\",45.5],PARAMETER[\"false_easting\",0],PARAMETER[\"false_northing\",0],UNIT[\"metre\",1,AUTHORITY[\"EPSG\",\"9001\"]],AXIS[\"Easting\",EAST],AXIS[\"Northing\",NORTH]]'), 'transform': rasterio.Affine(30.0, 0.0, -2493641.627346346,\n",
    "       0.0, -30.0, 3310674.817445671), 'blockxsize': 64, 'blockysize': 64, 'tiled': True}"
   ]
  },
  {
   "cell_type": "code",
   "execution_count": null,
   "id": "94063136-f791-4d80-bdf2-16cdfb1b0222",
   "metadata": {},
   "outputs": [],
   "source": [
    "src_profile"
   ]
  },
  {
   "cell_type": "code",
   "execution_count": null,
   "id": "ecb1a53c-40db-4437-87f8-181c329bba9f",
   "metadata": {},
   "outputs": [],
   "source": [
    "# find the key(s) of the hdf file\n",
    "with hdf.File(inputHdfile, 'r') as f:\n",
    "    key = f.keys()\n",
    "    print(f.keys())"
   ]
  },
  {
   "cell_type": "code",
   "execution_count": null,
   "id": "0006ab4b-9c7c-4de2-b3ab-0437066f613a",
   "metadata": {},
   "outputs": [],
   "source": [
    "# set the key\n",
    "key='ST'"
   ]
  },
  {
   "cell_type": "code",
   "execution_count": null,
   "id": "bb7115fb-dc63-4df1-90b4-3e52c4f5a1ce",
   "metadata": {},
   "outputs": [],
   "source": [
    "# you can set the datatype or the format of the file here. HFA is the .img format.\n",
    "src_profile['driver']= 'HFA'\n",
    "src_profile['dtype'] = 'float64'"
   ]
  },
  {
   "cell_type": "code",
   "execution_count": null,
   "id": "0d018b21-9d19-47b1-aabe-6d3430892f79",
   "metadata": {},
   "outputs": [],
   "source": [
    "w_raster =  src_profile['width']\n",
    "h_raster = src_profile['height']"
   ]
  },
  {
   "cell_type": "code",
   "execution_count": null,
   "id": "22404f36-cd2f-40c4-9781-706d14b76183",
   "metadata": {},
   "outputs": [],
   "source": [
    "# Window(col_off,row_off,width,height)\n",
    "lstWins =[\n",
    "    (0,0,w_raster, 20000),\n",
    "    (0,20000,w_raster,20000),\n",
    "    (0,40000,w_raster,20000),\n",
    "    (0,60000,w_raster,20000),\n",
    "    (0,80000,w_raster,h_raster-80000)\n",
    "]\n",
    "lstStEnd =[\n",
    "    #rowStart,rowEnd,colStart,colEnd\n",
    "    [0,20000,0,w_raster],\n",
    "    [20000,40000,0,w_raster],\n",
    "    [40000,60000,0,w_raster],\n",
    "    [60000,80000,0,w_raster],\n",
    "    [80000,h_raster,0,w_raster]\n",
    "]\n",
    "\n",
    "with rasterio.open(writeRaster, 'w', **src_profile) as dst:\n",
    "    print(dst.shape)\n",
    "    with hdf.File(inputHdfile,'r') as f:\n",
    "        arData = f[key]\n",
    "        for win,stEnd in zip(lstWins, lstStEnd):\n",
    "            print (win,stEnd)\n",
    "            Z = arData[stEnd[0]:stEnd[1],stEnd[2]:stEnd[3]]\n",
    "            print(Z.shape)\n",
    "            dst.write(Z,window=Window(win[0],win[1],win[2],win[3]), indexes = 1)"
   ]
  },
  {
   "cell_type": "code",
   "execution_count": null,
   "id": "0d3a33bf-e578-49a0-865b-4a9e0bac8a5c",
   "metadata": {},
   "outputs": [],
   "source": []
  }
 ],
 "metadata": {
  "kernelspec": {
   "display_name": "Python 3.9.12 ('geoprocessing')",
   "language": "python",
   "name": "python3"
  },
  "language_info": {
   "codemirror_mode": {
    "name": "ipython",
    "version": 3
   },
   "file_extension": ".py",
   "mimetype": "text/x-python",
   "name": "python",
   "nbconvert_exporter": "python",
   "pygments_lexer": "ipython3",
   "version": "3.9.12"
  },
  "vscode": {
   "interpreter": {
    "hash": "ef1643838ba400d9e56910a4ebe1d7c2ddcc0867ba383b6e8e5b6e0b2b833d6e"
   }
  }
 },
 "nbformat": 4,
 "nbformat_minor": 5
}
