{
 "cells": [
  {
   "cell_type": "code",
   "execution_count": 1,
   "metadata": {},
   "outputs": [],
   "source": [
    "from osgeo import gdal,ogr,osr\n",
    "import pandas as pd\n",
    "import geopandas as gpd\n",
    "from shapely import wkt\n",
    "from itertools import compress\n",
    "import numpy as np\n",
    "import matplotlib.pyplot as plt\n",
    "import os\n",
    "import glob\n",
    "import numpy"
   ]
  },
  {
   "cell_type": "code",
   "execution_count": 3,
   "metadata": {},
   "outputs": [],
   "source": [
    "def ImageBoundry(FilePath):\n",
    "        #for aspect data\n",
    "        imgname=FilePath\n",
    "\n",
    "        from osgeo import gdal,ogr\n",
    "        ds = gdal.Open(FilePath)\n",
    "        gt = ds.GetGeoTransform()  # captures origin and pixel size\n",
    "        srs = osr.SpatialReference()\n",
    "        srs.ImportFromEPSG(4326)\n",
    "        \n",
    "\n",
    "        \n",
    "        ULC = gdal.ApplyGeoTransform(gt, 0, 0) #Upper Left Corner\n",
    "        URC = gdal.ApplyGeoTransform(gt, ds.RasterXSize, 0) #Upper Right Corner\n",
    "        LLC = gdal.ApplyGeoTransform(gt, 0, ds.RasterYSize) #Lower Left Corner\n",
    "        LRC = gdal.ApplyGeoTransform(gt, ds.RasterXSize, ds.RasterYSize) #Lower Right Corner\n",
    "                   \n",
    "        ring = ogr.Geometry(ogr.wkbLinearRing)\n",
    "        ring.AddPoint_2D(ULC[0], ULC[1])\n",
    "        ring.AddPoint_2D(URC[0], URC[1])\n",
    "        ring.AddPoint_2D(LRC[0], LRC[1])\n",
    "        ring.AddPoint_2D(LLC[0], LLC[1])\n",
    "        ring.AddPoint_2D(ULC[0], ULC[1]) \n",
    "        poly=ogr.Geometry(ogr.wkbPolygon)\n",
    "        poly.AddGeometry(ring)\n",
    "        #poly.SpatialReference('EPSG:4326')\n",
    "        # second item is name of the image\n",
    "        return poly.ExportToJson() ,imgname"
   ]
  },
  {
   "cell_type": "code",
   "execution_count": 2,
   "metadata": {},
   "outputs": [],
   "source": [
    "# mosaic_files=glob.glob('../data/Modis_Fire_Date/max_tif_mosaic_4326/*')\n",
    "# mosaic_files=sorted(mosaic_files)\n",
    "\n",
    "mosaic_files=glob.glob(r'//akif.internal/public/demo-geo-stack/geoserver/data/im-data-soil/isric-bdticm-m-250m-ll.tif')\n",
    "mosaic_files=sorted(mosaic_files)"
   ]
  },
  {
   "cell_type": "code",
   "execution_count": 4,
   "metadata": {},
   "outputs": [
    {
     "ename": "NameError",
     "evalue": "name 'year_info' is not defined",
     "output_type": "error",
     "traceback": [
      "\u001b[1;31m---------------------------------------------------------------------------\u001b[0m",
      "\u001b[1;31mNameError\u001b[0m                                 Traceback (most recent call last)",
      "\u001b[1;32m<timed exec>\u001b[0m in \u001b[0;36m<module>\u001b[1;34m\u001b[0m\n",
      "\u001b[1;31mNameError\u001b[0m: name 'year_info' is not defined"
     ]
    }
   ],
   "source": [
    "%%time\n",
    "for img in mosaic_files:\n",
    "    # define tiles path\n",
    "    path=r'//akif.internal/public/demo-geo-stack/geoserver/data/im-data-soil/akif_test_mosaic/'\n",
    "    input_path=img\n",
    "    # year_info=os.path.basename(img)[-8:-4]\n",
    "    # try:\n",
    "    #     # create year folder under target folder (path)\n",
    "    #     os.mkdir(path+year_info)\n",
    "    # except:\n",
    "    #     pass\n",
    "    \n",
    "    # # name of tile image\n",
    "    # output_path=path+year_info+'/modis_MCD64A1_burned_area_'+year_info+'_tile_'\n",
    "    output_path=path\n",
    "\n",
    "    ds = gdal.Open(img)\n",
    "    band = ds.GetRasterBand(1)\n",
    "    xsize = band.XSize\n",
    "    ysize = band.YSize\n",
    "    # define your tile size\n",
    "    # it could be 256,512 or 1024. it depends on your scope\n",
    "    tile_size_x = 512\n",
    "    tile_size_y = 512\n",
    "    for i in range(0, xsize, tile_size_x):\n",
    "        if xsize-i < tile_size_x:\n",
    "            i=xsize-tile_size_x            \n",
    "        for j in range(0, ysize, tile_size_y):\n",
    "            if ysize-j < tile_size_y:\n",
    "                j=ysize-tile_size_y\n",
    "    \n",
    "            com_string = \"gdal_translate -of GTIFF -srcwin \" + str(i)+ \", \" + str(j) + \", \" + str(tile_size_x) + \", \" + str(tile_size_y) + \" \" + str(input_path)+ \" \" + str(output_path)  + str(i) + \"_\" + str(j) + \".tif\"\n",
    "            #print(com_string)\n",
    "            os.system(com_string)\n",
    "        \n",
    "    # with this block, we delete tiles that include just nodata\n",
    "    tiles=glob.glob(path+year_info+'/*')\n",
    "    for img in tiles:\n",
    "        hdf_ds = gdal.Open(img, gdal.GA_ReadOnly)\n",
    "        array_img=hdf_ds.ReadAsArray()\n",
    "        np_where_img = numpy.where((array_img<1),-32768,(array_img))\n",
    "        check=numpy.all(np_where_img==-32768)\n",
    "        # if np_where_img all value equal nodata value\n",
    "        # remove the img\n",
    "        if check:\n",
    "            os.remove(img)\n",
    "            continue\n",
    "    \n",
    "    array_img=None\n",
    "    np_where_img=None\n",
    "    print(path+year_info)"
   ]
  },
  {
   "cell_type": "code",
   "execution_count": 10,
   "metadata": {},
   "outputs": [],
   "source": [
    "path=r'//akif.internal/public/demo-geo-stack/geoserver/data/im-data-soil/akif_test_mosaic/'\n",
    "tiles=glob.glob(path + \"*\")\n",
    "\n",
    "\n",
    "# Z:\\demo-geo-stack\\geoserver\\data\\im-data-soil\\akif_test_mosaic\n"
   ]
  },
  {
   "cell_type": "code",
   "execution_count": 18,
   "metadata": {},
   "outputs": [],
   "source": [
    "output_path = r\"//akif.internal/public/demo-geo-stack/geoserver/data/im-data-soil/akif_test_mosaic_copy/\""
   ]
  },
  {
   "cell_type": "code",
   "execution_count": 15,
   "metadata": {},
   "outputs": [],
   "source": [
    "import shutil"
   ]
  },
  {
   "cell_type": "code",
   "execution_count": 19,
   "metadata": {},
   "outputs": [
    {
     "data": {
      "text/plain": [
       "'//akif.internal/public/demo-geo-stack/geoserver/data/im-data-soil/akif_test_mosaic_copy/131584_55296.tif'"
      ]
     },
     "execution_count": 19,
     "metadata": {},
     "output_type": "execute_result"
    }
   ],
   "source": [
    "shutil.copy(tiles[0],output_path)"
   ]
  },
  {
   "cell_type": "code",
   "execution_count": 21,
   "metadata": {},
   "outputs": [],
   "source": [
    "output_path = r\"//akif.internal/public/demo-geo-stack/geoserver/data/im-data-soil/akif_test_mosaic_copy/\"\n",
    "\n",
    "for img in tiles:\n",
    "    try:\n",
    "        hdf_ds = gdal.Open(img, gdal.GA_ReadOnly)\n",
    "        array_img=hdf_ds.ReadAsArray()\n",
    "        np_where_img = numpy.where((array_img<1),-32768,(array_img))\n",
    "        check=numpy.all(np_where_img==-32768)\n",
    "        # if np_where_img all value equal nodata value\n",
    "        # remove the img\n",
    "        if not check: #if data has different value\n",
    "            shutil.copy(img,output_path)\n",
    "            continue\n",
    "    except:\n",
    "        continue\n",
    "    \n",
    "array_img=None\n",
    "np_where_img=None\n",
    "# print(path+year_info)"
   ]
  },
  {
   "cell_type": "code",
   "execution_count": 14,
   "metadata": {},
   "outputs": [
    {
     "name": "stdout",
     "output_type": "stream",
     "text": [
      "Collecting pytest-shutil\n",
      "  Downloading pytest_shutil-1.7.0-py2.py3-none-any.whl (15 kB)\n",
      "Requirement already satisfied: six in c:\\users\\admin\\.conda\\envs\\gdal\\lib\\site-packages (from pytest-shutil) (1.16.0)\n",
      "Collecting mock\n",
      "  Downloading mock-4.0.3-py3-none-any.whl (28 kB)\n",
      "Collecting contextlib2\n",
      "  Downloading contextlib2-21.6.0-py2.py3-none-any.whl (13 kB)\n",
      "Collecting termcolor\n",
      "  Downloading termcolor-1.1.0.tar.gz (3.9 kB)\n",
      "  Preparing metadata (setup.py): started\n",
      "  Preparing metadata (setup.py): finished with status 'done'\n",
      "Collecting pytest\n",
      "  Downloading pytest-6.2.5-py3-none-any.whl (280 kB)\n",
      "Collecting execnet\n",
      "  Downloading execnet-1.9.0-py2.py3-none-any.whl (39 kB)\n",
      "Collecting path.py\n",
      "  Downloading path.py-12.5.0-py3-none-any.whl (2.3 kB)\n",
      "Collecting path\n",
      "  Downloading path-16.2.0-py3-none-any.whl (21 kB)\n",
      "Collecting pluggy<2.0,>=0.12\n",
      "  Downloading pluggy-1.0.0-py2.py3-none-any.whl (13 kB)\n",
      "Collecting packaging\n",
      "  Downloading packaging-21.3-py3-none-any.whl (40 kB)\n",
      "Collecting atomicwrites>=1.0\n",
      "  Downloading atomicwrites-1.4.0-py2.py3-none-any.whl (6.8 kB)\n",
      "Requirement already satisfied: attrs>=19.2.0 in c:\\users\\admin\\.conda\\envs\\gdal\\lib\\site-packages (from pytest->pytest-shutil) (21.2.0)\n",
      "Requirement already satisfied: colorama in c:\\users\\admin\\.conda\\envs\\gdal\\lib\\site-packages (from pytest->pytest-shutil) (0.4.1)\n",
      "Collecting toml\n",
      "  Downloading toml-0.10.2-py2.py3-none-any.whl (16 kB)\n",
      "Requirement already satisfied: importlib-metadata>=0.12 in c:\\users\\admin\\.conda\\envs\\gdal\\lib\\site-packages (from pytest->pytest-shutil) (4.8.2)\n",
      "Collecting iniconfig\n",
      "  Downloading iniconfig-1.1.1-py2.py3-none-any.whl (5.0 kB)\n",
      "Collecting py>=1.8.2\n",
      "  Downloading py-1.11.0-py2.py3-none-any.whl (98 kB)\n",
      "Requirement already satisfied: zipp>=0.5 in c:\\users\\admin\\.conda\\envs\\gdal\\lib\\site-packages (from importlib-metadata>=0.12->pytest->pytest-shutil) (3.6.0)\n",
      "Requirement already satisfied: typing-extensions>=3.6.4 in c:\\users\\admin\\.conda\\envs\\gdal\\lib\\site-packages (from importlib-metadata>=0.12->pytest->pytest-shutil) (4.0.0)\n",
      "Requirement already satisfied: pyparsing!=3.0.5,>=2.0.2 in c:\\users\\admin\\.conda\\envs\\gdal\\lib\\site-packages (from packaging->pytest->pytest-shutil) (3.0.6)\n",
      "Building wheels for collected packages: termcolor\n",
      "  Building wheel for termcolor (setup.py): started\n",
      "  Building wheel for termcolor (setup.py): finished with status 'done'\n",
      "  Created wheel for termcolor: filename=termcolor-1.1.0-py3-none-any.whl size=4847 sha256=ab001807ea2a1c48d69140ee1985df9602dde5928ee8d5b551e93992c4b90d9e\n",
      "  Stored in directory: c:\\users\\admin\\appdata\\local\\pip\\cache\\wheels\\3f\\e3\\ec\\8a8336ff196023622fbcb36de0c5a5c218cbb24111d1d4c7f2\n",
      "Successfully built termcolor"
     ]
    }
   ],
   "source": [
    "!pip install pytest-shutil"
   ]
  },
  {
   "cell_type": "code",
   "execution_count": null,
   "metadata": {},
   "outputs": [],
   "source": []
  }
 ],
 "metadata": {
  "interpreter": {
   "hash": "18a43b7b0ec0ebc8e0283c9b56cb351972e27c719084286c879186d4b017f817"
  },
  "kernelspec": {
   "display_name": "Python 3.7.11 64-bit ('gdal': conda)",
   "name": "python3"
  },
  "language_info": {
   "codemirror_mode": {
    "name": "ipython",
    "version": 3
   },
   "file_extension": ".py",
   "mimetype": "text/x-python",
   "name": "python",
   "nbconvert_exporter": "python",
   "pygments_lexer": "ipython3",
   "version": "3.7.12"
  },
  "orig_nbformat": 4
 },
 "nbformat": 4,
 "nbformat_minor": 2
}
