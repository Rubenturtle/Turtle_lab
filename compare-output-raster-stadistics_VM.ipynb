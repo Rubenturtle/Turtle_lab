{
 "cells": [
  {
   "cell_type": "markdown",
   "metadata": {},
   "source": [
    "# Compare raster stadistics\n",
    "- This script compares two folders of files, and tells us the difference stadistics between both folders\n",
    "- We assume that between these two folders we have the same layers, but with a transformation"
   ]
  },
  {
   "cell_type": "code",
   "execution_count": null,
   "metadata": {},
   "outputs": [],
   "source": [
    "import os\n",
    "from sys import path\n",
    "from osgeo import gdal\n",
    "from numpy import random"
   ]
  },
  {
   "cell_type": "code",
   "execution_count": null,
   "metadata": {},
   "outputs": [],
   "source": [
    "\"\"\"Folder 1\"\"\"\n",
    "#check the validity. What we want from here is to compare the stats of the transformed files with the original one\n",
    "os.chdir(r\"C:/Users/admin/Documents/03_data/Urdaibai_data_for_server/raster\")\n",
    "\n",
    "#Here we create a dictionary out of the layers and store the stats\n",
    "input_dict = {}\n",
    "path = r\"C:/Users/admin/Documents/03_data/Urdaibai_data_for_server/raster/\"\n",
    "for in_file in os.listdir(path):\n",
    "    #we only take the ones ended with tif\n",
    "    if in_file.endswith('.tif'):   \n",
    "        datafile = gdal.Open(in_file)\n",
    "        in_stats =   datafile.GetRasterBand(1).GetStatistics(0,1) #it will return (Min, Max, Mean, StdDev)\n",
    "        input_dict[str(in_file)] = str(in_stats) #we import the values\n",
    "\n",
    "        print(datafile.GetMetadataDomainList())\n",
    "        print(datafile.GetMetadata('IMAGE_STRUCTURE'))\n",
    "        print(in_stats)\n",
    "        print(input_dict)\n",
    "        datafile = None"
   ]
  },
  {
   "cell_type": "code",
   "execution_count": null,
   "metadata": {},
   "outputs": [],
   "source": [
    "\"\"\"Folder 2\"\"\"\n",
    "\n",
    "os.chdir(r\"C:/Users/admin/Documents/03_data/Urdaibai_data_for_server/raster/out\")\n",
    "output_dict = {}\n",
    "out = r\"C:/Users/admin/Documents/03_data/Urdaibai_data_for_server/raster/out\"\n",
    "for out_file in os.listdir(out):\n",
    "    #we only take the ones ended with tif\n",
    "    if out_file.endswith('.tif'):\n",
    "        out_dataset = gdal.Open(out_file)\n",
    "        out_stats =   out_dataset.GetRasterBand(1).GetStatistics(0,1) #it will return a list(Min, Max, Mean, StdDev)\n",
    "        output_dict[str(out_file)] = str(out_stats)\n",
    "        out_dataset = None\n",
    "        "
   ]
  },
  {
   "cell_type": "code",
   "execution_count": null,
   "metadata": {},
   "outputs": [],
   "source": [
    "\"\"\"Here we compare both dictionaries\"\"\"\n",
    "\n",
    "# this is a good idea -> shared_items = {k: x[k] for k in x if k in y and x[k] == y[k]}\n",
    "for key in output_dict:\n",
    "    new_key = key.replace(\"_4326\",\"\")\n",
    "    if new_key in input_dict:\n",
    "        print (new_key, input_dict[new_key])\n",
    "        print (key, output_dict[key])"
   ]
  }
 ],
 "metadata": {
  "language_info": {
   "name": "python"
  },
  "orig_nbformat": 4
 },
 "nbformat": 4,
 "nbformat_minor": 2
}
