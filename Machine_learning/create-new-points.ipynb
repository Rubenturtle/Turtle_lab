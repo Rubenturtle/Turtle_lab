{
 "cells": [
  {
   "cell_type": "code",
   "execution_count": 1,
   "metadata": {},
   "outputs": [],
   "source": [
    "import geopandas as gpd\n",
    "import numpy as np\n",
    "from sklearn.neighbors import KernelDensity\n",
    "from shapely.geometry import Point, Polygon\n",
    "from shapely.ops import unary_union"
   ]
  },
  {
   "cell_type": "code",
   "execution_count": null,
   "metadata": {},
   "outputs": [],
   "source": [
    "def generate_points_in_gaps(input_shapefile, output_shapefile, num_new_points=1000, bandwidth=0.001):\n",
    "    # Load the input shapefile\n",
    "    gdf = gpd.read_file(input_shapefile)\n",
    "    \n",
    "    # Extract coordinates of the existing points\n",
    "    coordinates = np.array([(point.x, point.y) for point in gdf.geometry])\n",
    "    \n",
    "    # Create a bounding box around the points\n",
    "    minx, miny, maxx, maxy = gdf.total_bounds\n",
    "    bounding_box = Polygon([(minx, miny), (minx, maxy), (maxx, maxy), (maxx, miny), (minx, miny)])\n",
    "    \n",
    "    # Buffer the points slightly to create an area of influence around them\n",
    "    buffered_points = gdf.buffer(bandwidth).geometry.unary_union\n",
    "    \n",
    "    # Identify the gaps (areas not covered by points)\n",
    "    gaps = bounding_box.difference(buffered_points)\n",
    "    \n",
    "    # Fit a Kernel Density model to the coordinates\n",
    "    kde = KernelDensity(bandwidth=bandwidth)\n",
    "    kde.fit(coordinates)\n",
    "    \n",
    "    # Sample new points\n",
    "    new_points = []\n",
    "    while len(new_points) < num_new_points:\n",
    "        new_coordinates = kde.sample(1)\n",
    "        new_point = Point(new_coordinates[0])\n",
    "        \n",
    "        # Check if the new point is within the gaps\n",
    "        if gaps.contains(new_point):\n",
    "            new_points.append(new_point)\n",
    "    \n",
    "    # Create a new GeoDataFrame with the generated points\n",
    "    new_gdf = gpd.GeoDataFrame(geometry=new_points, crs=gdf.crs)\n",
    "    \n",
    "    # Save the new points to the output shapefile\n",
    "    new_gdf.to_file(output_shapefile, driver='ESRI Shapefile')"
   ]
  },
  {
   "cell_type": "code",
   "execution_count": null,
   "metadata": {},
   "outputs": [],
   "source": [
    "input_shapefile = \"input_buildings.shp\"\n",
    "output_shapefile = \"output_filled_points.shp\"\n",
    "generate_points_in_gaps(input_shapefile, output_shapefile)"
   ]
  }
 ],
 "metadata": {
  "kernelspec": {
   "display_name": "geo_forge_env",
   "language": "python",
   "name": "python3"
  },
  "language_info": {
   "codemirror_mode": {
    "name": "ipython",
    "version": 3
   },
   "file_extension": ".py",
   "mimetype": "text/x-python",
   "name": "python",
   "nbconvert_exporter": "python",
   "pygments_lexer": "ipython3",
   "version": "3.8.15"
  }
 },
 "nbformat": 4,
 "nbformat_minor": 2
}
