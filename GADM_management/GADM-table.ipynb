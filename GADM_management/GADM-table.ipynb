{
 "cells": [
  {
   "cell_type": "markdown",
   "metadata": {},
   "source": [
    "# GADM table code\n",
    "\n",
    "- The aim of this script is to automatize the process we do everythime we want to extract the GADM layer and process it\n",
    "Caspian sea\n",
    "\n",
    "USE LEVEL 1\n",
    "jamur and kasmir IND & PKS\n",
    "ilemi triangle SSUD\n",
    "hala triangle SUDAN and EGY\n",
    "\n",
    "1. toma el valor de GID\n",
    "2. añadele a GID el valor que se ha ido contando sobre el\n",
    "\n",
    "UNFINISHED"
   ]
  },
  {
   "cell_type": "code",
   "execution_count": 1,
   "metadata": {},
   "outputs": [],
   "source": [
    "import geopandas as gpd\n",
    "import matplotlib.pyplot as plt\n",
    "import pandas as pd\n",
    "\n",
    "file= r\"C:\\Users\\ruben.crespo\\Documents\\03_tests\\administrative_units\\06_final_GADM\\gadm_adm_lev0_ruben_1.shp\" "
   ]
  },
  {
   "cell_type": "code",
   "execution_count": 3,
   "metadata": {},
   "outputs": [
    {
     "data": {
      "text/plain": [
       "Index(['Shape_Area', 'Country_n', 'GID_unik', 'fd', 'GID', 'geometry'], dtype='object')"
      ]
     },
     "execution_count": 3,
     "metadata": {},
     "output_type": "execute_result"
    }
   ],
   "source": [
    "# open file\n",
    "gadm_gdf = gpd.read_file(file)\n",
    "#read the column titles\n",
    "gdf.columns"
   ]
  },
  {
   "cell_type": "markdown",
   "metadata": {},
   "source": [
    "How to concatenate data: https://datatofish.com/concatenate-values-python/\n",
    "\n",
    "**Note for myself.** There is no way to concatenate a str and an int together"
   ]
  },
  {
   "cell_type": "code",
   "execution_count": 15,
   "metadata": {},
   "outputs": [
    {
     "data": {
      "text/plain": [
       "0      ABW1\n",
       "1      AFG1\n",
       "2      AGO1\n",
       "3      AIA1\n",
       "4      ALA1\n",
       "       ... \n",
       "278    CHL3\n",
       "279    CHL4\n",
       "280    FJI1\n",
       "281    FJI2\n",
       "282    FJI3\n",
       "Name: test, Length: 283, dtype: object"
      ]
     },
     "execution_count": 15,
     "metadata": {},
     "output_type": "execute_result"
    }
   ],
   "source": [
    "# add test column and concatenate the GID with an acumulative number grouped by the GID value\n",
    "gdf[\"test\"] = gdf['GID'] + (gdf.groupby('GID').cumcount()+1).map(str)\n",
    "gdf[\"test\"]\n"
   ]
  },
  {
   "cell_type": "code",
   "execution_count": 7,
   "metadata": {},
   "outputs": [
    {
     "data": {
      "text/plain": [
       "Shape_Area     float64\n",
       "Country_n       object\n",
       "GID_unik        object\n",
       "fd              object\n",
       "GID             object\n",
       "geometry      geometry\n",
       "test            object\n",
       "dtype: object"
      ]
     },
     "execution_count": 7,
     "metadata": {},
     "output_type": "execute_result"
    }
   ],
   "source": [
    "\n",
    "gdf[[\"test\", \"GID_unik\",\"GID\"]]\n",
    "gdf.dtypes"
   ]
  },
  {
   "cell_type": "code",
   "execution_count": 16,
   "metadata": {},
   "outputs": [
    {
     "data": {
      "text/plain": [
       "0      NaN\n",
       "1      NaN\n",
       "2      NaN\n",
       "3      NaN\n",
       "4      NaN\n",
       "      ... \n",
       "278    NaN\n",
       "279    NaN\n",
       "280    NaN\n",
       "281    NaN\n",
       "282    NaN\n",
       "Name: test_list, Length: 283, dtype: object"
      ]
     },
     "execution_count": 16,
     "metadata": {},
     "output_type": "execute_result"
    }
   ],
   "source": [
    "\n",
    "#gdf['test_list'] = gdf.groupby('GID')['test'].apply(list)\n",
    "#https://stackoverflow.com/questions/17841149/pandas-groupby-how-to-get-a-union-of-strings\n",
    "gdf['test_list'] = gdf.groupby('GID')['test'].apply(lambda x: x.sum())\n",
    "gdf['test_list']\n",
    "#gdf[[\"test\", \"test_list\"]]\n"
   ]
  },
  {
   "cell_type": "code",
   "execution_count": 11,
   "metadata": {},
   "outputs": [
    {
     "data": {
      "text/plain": [
       "A\n",
       "a    {A, B, C}\n",
       "b    {A, B, C}\n",
       "dtype: object"
      ]
     },
     "execution_count": 11,
     "metadata": {},
     "output_type": "execute_result"
    }
   ],
   "source": [
    "df = pd.DataFrame({'A': 'a a b'.split(), 'B': [1,2,3], 'C': [4,6, 5]})\n",
    "g = df.groupby('A')\n",
    "g.apply(lambda x: \"{%s}\" %  ', '.join(x))"
   ]
  },
  {
   "cell_type": "code",
   "execution_count": null,
   "metadata": {},
   "outputs": [],
   "source": [
    "def func(row):\n",
    "    if row['mobile'] == 'mobile':\n",
    "        return 'mobile'\n",
    "    elif row['tablet'] =='tablet':\n",
    "        return 'tablet' \n",
    "    else:\n",
    "        return 'other'"
   ]
  },
  {
   "cell_type": "code",
   "execution_count": null,
   "metadata": {},
   "outputs": [],
   "source": [
    "\n",
    "\n",
    "for index, content in gdf.iterrows():   \n",
    "\n",
    "    # get 'not disjoint' countries\n",
    "    neighbors = gdf[~gdf.geometry.disjoint(content.geometry)].NAME.tolist()\n",
    "\n",
    "    # remove own name of the country from the list\n",
    "    neighbors = [ name for name in neighbors if content.NAME != name ]\n",
    "\n",
    "    # add names of neighbors as NEIGHBORS value\n",
    "    gdf.at[index, \"NEIGHBORS\"] = \", \".join(neighbors)\n",
    "   \n",
    "# save GeoDataFrame as a new file\n",
    "gdf.to_file(\"c:/path/to/newfile.shp\")"
   ]
  }
 ],
 "metadata": {
  "interpreter": {
   "hash": "efb3c01cf419d515c0ebd604cd1348e94331c8bb3b06657d390efa5bbbc56aa0"
  },
  "kernelspec": {
   "display_name": "Python 3.8.5 64-bit ('base': conda)",
   "name": "python3"
  },
  "language_info": {
   "codemirror_mode": {
    "name": "ipython",
    "version": 3
   },
   "file_extension": ".py",
   "mimetype": "text/x-python",
   "name": "python",
   "nbconvert_exporter": "python",
   "pygments_lexer": "ipython3",
   "version": "3.9.12"
  },
  "orig_nbformat": 4
 },
 "nbformat": 4,
 "nbformat_minor": 2
}
