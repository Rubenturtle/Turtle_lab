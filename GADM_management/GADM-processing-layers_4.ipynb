{
 "cells": [
  {
   "cell_type": "markdown",
   "metadata": {},
   "source": [
    "# GADM process layers\n",
    "Our clients want to use their country context, so we have to edit our GADM layer and make these new country context fit into GADM layer\n",
    "Here is the process:\n",
    "- Locate the polygon we want to substitute in the GADM layer\n",
    "- Delete it from the layer\n",
    "- from the new polygon, get coordinate possitions\n",
    "- select the surrounding countries\n",
    "- snap the surrounding countries to the polygon\n",
    "\n",
    "- import layers:\n",
    "    * GADM layer\n",
    "    * Client country \n",
    "\n",
    "- Main idea: https://gis.stackexchange.com/questions/245064/snapping-multiple-nodes-of-a-polygon-to-the-nodes-of-a-line\n",
    "- Create a linestring from the polygon: https://gis.stackexchange.com/questions/290756/transforming-a-polygon-to-a-linestring\n",
    "- Snap Geopandas: https://gis.stackexchange.com/questions/290092/how-to-do-snapping-in-geopandas\n",
    "- https://gis.stackexchange.com/questions/203058/why-is-shapelys-snapping-geo-snaps-not-working-as-expected"
   ]
  },
  {
   "cell_type": "code",
   "execution_count": 1,
   "metadata": {},
   "outputs": [],
   "source": [
    "import geopandas as gpd\n",
    "import pandas as pd\n",
    "import numpy as np\n",
    "from shapely.geometry import Polygon, MultiPolygon, Point, LineString, box\n",
    "import os\n",
    "from sys import path\n",
    "import matplotlib.pyplot as plt\n",
    "from rtree import index\n",
    "from scipy.spatial import cKDTree\n",
    "import itertools\n",
    "from operator import itemgetter\n",
    "\n"
   ]
  },
  {
   "cell_type": "code",
   "execution_count": 2,
   "metadata": {},
   "outputs": [],
   "source": [
    "\"\"\"Create dataframes of the import data\"\"\"\n",
    "os.chdir(r\"C:\\Users\\ruben.crespo\\Documents\\03_tests\\administrative_units\\09_norway_case\")\n",
    "\n",
    "client_country_name = \"NOR\"\n",
    "\n",
    "gadm_path = r\"C:\\Users\\ruben.crespo\\Documents\\03_tests\\administrative_units\\09_norway_case\\administrative_units_un_gadm_level0_can_rus_3.shp\"\n",
    "client_path = r\"C:/Users/ruben.crespo/Documents/03_tests/administrative_units/09_norway_case/kommuner_2022_wgs84_navn.shp\"\n",
    "gadm_gdf = gpd.read_file(gadm_path)\n",
    "client_gdf = gpd.read_file(client_path)"
   ]
  },
  {
   "cell_type": "code",
   "execution_count": 3,
   "metadata": {},
   "outputs": [
    {
     "name": "stdout",
     "output_type": "stream",
     "text": [
      "{'Polygon': 363}\n"
     ]
    }
   ],
   "source": [
    "# https://stackoverflow.com/questions/60780959/how-to-filter-a-geodataframe-by-geometry-type\n",
    "\"\"\"Here we check the geometry type and the number of polygons 6f the import file\"\"\"\n",
    "geometry_dic = {}\n",
    "geometry_type = client_gdf.geom_type.unique().tolist() #we create a list of unique geometries\n",
    "if len(geometry_type) > 0: #if there are more than one type we list them\n",
    "    for i in geometry_type:\n",
    "        geometry_gdf = client_gdf[client_gdf.geom_type == i] #new df with the geometry\n",
    "        geometry_rows = geometry_gdf.shape[0] #number of elements\n",
    "        geometry_dic.update({i:geometry_rows}) #add to dic\n",
    "        \n",
    "        \n",
    "print(geometry_dic)\n",
    "\n",
    "# geometry_str = ''.join(geometry_gdf.geom_type.unique().tolist()) #transform the list to string\n"
   ]
  },
  {
   "cell_type": "code",
   "execution_count": 3,
   "metadata": {},
   "outputs": [
    {
     "name": "stdout",
     "output_type": "stream",
     "text": [
      "0    Polygon\n",
      "dtype: object\n"
     ]
    }
   ],
   "source": [
    "\"\"\"if we have a multipolygon (lots of polygons), we dissolve it\"\"\"\n",
    "client_area_gdf = client_gdf.dissolve()\n",
    "# check again its geometry\n",
    "print(str(client_area_gdf.geom_type))"
   ]
  },
  {
   "cell_type": "code",
   "execution_count": 4,
   "metadata": {},
   "outputs": [
    {
     "name": "stderr",
     "output_type": "stream",
     "text": [
      "C:\\Users\\ruben.crespo\\AppData\\Local\\Temp\\ipykernel_11512\\628527967.py:14: FutureWarning: The frame.append method is deprecated and will be removed from pandas in a future version. Use pandas.concat instead.\n",
      "  gadm_countries_gdf = neightbour_countries_gdf.append(client_gadm_gdf)\n"
     ]
    }
   ],
   "source": [
    "\"\"\"Here we create the GADM boundaries and the client country\"\"\"\n",
    "\n",
    "\"\"\"We extract from GADM the client ccountry\"\"\"\n",
    "client_gadm_gdf = gadm_gdf.loc[(gadm_gdf[\"CID\"] == client_country_name)] \n",
    "\n",
    "\"\"\"Extract from GADM the surrounding countries of the one we want to edit\"\"\"\n",
    "for row_index, row in gadm_gdf.iterrows():\n",
    "    if row[0] == client_country_name: #the country we are importing\n",
    "        neightbour_countries_gdf = gadm_gdf[gadm_gdf.geometry.touches(row['geometry'])] #esta bien\n",
    "    else:\n",
    "        pass\n",
    "\n",
    "\"\"\"Union the gadm and client layers and dissolve it\"\"\"\n",
    "gadm_countries_gdf = neightbour_countries_gdf.append(client_gadm_gdf) #esta bien\n",
    "gadm_boundaries_gdf = gadm_countries_gdf.dissolve() #esta bien\n",
    "\n",
    "\"\"\"Diference of the client and the gadm countries\"\"\"\n",
    "client_country_gs = client_area_gdf.difference(gadm_boundaries_gdf, align= False) #this is the template, esta bien\n",
    "client_country_gs = client_area_gdf.difference(client_country_gs, align= False) #no esta bien, sale un pico en un extremo\n",
    "client_country_gdf = gpd.GeoDataFrame(geometry=client_country_gs) #esta bien\n",
    "#time = 1,69"
   ]
  },
  {
   "cell_type": "code",
   "execution_count": 17,
   "metadata": {},
   "outputs": [
    {
     "data": {
      "text/html": [
       "<div>\n",
       "<style scoped>\n",
       "    .dataframe tbody tr th:only-of-type {\n",
       "        vertical-align: middle;\n",
       "    }\n",
       "\n",
       "    .dataframe tbody tr th {\n",
       "        vertical-align: top;\n",
       "    }\n",
       "\n",
       "    .dataframe thead th {\n",
       "        text-align: right;\n",
       "    }\n",
       "</style>\n",
       "<table border=\"1\" class=\"dataframe\">\n",
       "  <thead>\n",
       "    <tr style=\"text-align: right;\">\n",
       "      <th></th>\n",
       "      <th>CID</th>\n",
       "      <th>Shape_Leng</th>\n",
       "      <th>Shape_Area</th>\n",
       "      <th>Country_n</th>\n",
       "      <th>GID</th>\n",
       "      <th>GID_list</th>\n",
       "      <th>GID_n</th>\n",
       "      <th>geometry</th>\n",
       "    </tr>\n",
       "  </thead>\n",
       "  <tbody>\n",
       "    <tr>\n",
       "      <th>61</th>\n",
       "      <td>FIN</td>\n",
       "      <td>231.567531</td>\n",
       "      <td>62.931585</td>\n",
       "      <td>Finland</td>\n",
       "      <td>FIN</td>\n",
       "      <td>FIN</td>\n",
       "      <td>Finland</td>\n",
       "      <td>MULTIPOLYGON (((22.49806 59.72403, 22.49806 59...</td>\n",
       "    </tr>\n",
       "    <tr>\n",
       "      <th>182</th>\n",
       "      <td>SWE</td>\n",
       "      <td>352.792209</td>\n",
       "      <td>79.228140</td>\n",
       "      <td>Sweden</td>\n",
       "      <td>SWE</td>\n",
       "      <td>SWE</td>\n",
       "      <td>Sweden</td>\n",
       "      <td>MULTIPOLYGON (((12.94139 55.46375, 12.94139 55...</td>\n",
       "    </tr>\n",
       "    <tr>\n",
       "      <th>377</th>\n",
       "      <td>RUS</td>\n",
       "      <td>70.305320</td>\n",
       "      <td>30.520940</td>\n",
       "      <td>Russia</td>\n",
       "      <td>RUS45</td>\n",
       "      <td>RUS1,RUS...,RUS84</td>\n",
       "      <td>Murmansk</td>\n",
       "      <td>MULTIPOLYGON (((40.53593 67.83385, 40.53750 67...</td>\n",
       "    </tr>\n",
       "  </tbody>\n",
       "</table>\n",
       "</div>"
      ],
      "text/plain": [
       "     CID  Shape_Leng  Shape_Area Country_n    GID           GID_list  \\\n",
       "61   FIN  231.567531   62.931585   Finland    FIN                FIN   \n",
       "182  SWE  352.792209   79.228140    Sweden    SWE                SWE   \n",
       "377  RUS   70.305320   30.520940    Russia  RUS45  RUS1,RUS...,RUS84   \n",
       "\n",
       "        GID_n                                           geometry  \n",
       "61    Finland  MULTIPOLYGON (((22.49806 59.72403, 22.49806 59...  \n",
       "182    Sweden  MULTIPOLYGON (((12.94139 55.46375, 12.94139 55...  \n",
       "377  Murmansk  MULTIPOLYGON (((40.53593 67.83385, 40.53750 67...  "
      ]
     },
     "execution_count": 17,
     "metadata": {},
     "output_type": "execute_result"
    }
   ],
   "source": [
    "neightbour_countries_gdf.head()"
   ]
  },
  {
   "cell_type": "code",
   "execution_count": 18,
   "metadata": {},
   "outputs": [
    {
     "data": {
      "text/plain": [
       "61     MULTIPOLYGON (((22.49806 59.72403, 22.49806 59...\n",
       "182    MULTIPOLYGON (((12.94139 55.46375, 12.94139 55...\n",
       "377    MULTIPOLYGON (((40.53593 67.83385, 40.53750 67...\n",
       "dtype: geometry"
      ]
     },
     "execution_count": 18,
     "metadata": {},
     "output_type": "execute_result"
    }
   ],
   "source": [
    "finished_countries_gs"
   ]
  },
  {
   "cell_type": "code",
   "execution_count": 19,
   "metadata": {},
   "outputs": [
    {
     "name": "stderr",
     "output_type": "stream",
     "text": [
      "c:\\Users\\ruben.crespo\\Anaconda3\\envs\\geoprocessing\\lib\\site-packages\\geopandas\\geoseries.py:207: FutureWarning: The default dtype for empty Series will be 'object' instead of 'float64' in a future version. Specify a dtype explicitly to silence this warning.\n",
      "  s = pd.Series(data, index=index, name=name, **kwargs)\n",
      "c:\\Users\\ruben.crespo\\Anaconda3\\envs\\geoprocessing\\lib\\site-packages\\geopandas\\geoseries.py:551: FutureWarning: The series.append method is deprecated and will be removed from pandas in a future version. Use pandas.concat instead.\n",
      "  val = getattr(super(GeoSeries, self), mtd)(*args, **kwargs)\n",
      "c:\\Users\\ruben.crespo\\Anaconda3\\envs\\geoprocessing\\lib\\site-packages\\geopandas\\geoseries.py:551: FutureWarning: The series.append method is deprecated and will be removed from pandas in a future version. Use pandas.concat instead.\n",
      "  val = getattr(super(GeoSeries, self), mtd)(*args, **kwargs)\n",
      "c:\\Users\\ruben.crespo\\Anaconda3\\envs\\geoprocessing\\lib\\site-packages\\geopandas\\geoseries.py:551: FutureWarning: The series.append method is deprecated and will be removed from pandas in a future version. Use pandas.concat instead.\n",
      "  val = getattr(super(GeoSeries, self), mtd)(*args, **kwargs)\n"
     ]
    }
   ],
   "source": [
    "\"\"\"Difference of the neightbours and the client\"\"\"\n",
    "# new_neightbour_countries_gdf = neightbour_countries_gdf.difference(client_country_gdf, align= False) #esta bien\n",
    "\n",
    "\"\"\"We create an empty GeoDataFrame to append inside the country geometries that are finished\"\"\"\n",
    "finished_countries_gs = gpd.GeoSeries()#.reindex_like(new_neightbour_countries_gs)\n",
    "finished_countries_gs.crs = \"EPSG:4326\"\n",
    "\n",
    "countries = []\n",
    "for row_index, country in neightbour_countries_gdf.iterrows():\n",
    "    countries.append(country[0])\n",
    "\n",
    "for i in countries:\n",
    "    \"\"\"Get the country\"\"\"\n",
    "    country_gdf = neightbour_countries_gdf.loc[(neightbour_countries_gdf[\"CID\"] == i)] \n",
    "    \n",
    "    \"\"\"Difference of the country and the client\"\"\"\n",
    "    country_gs = country_gdf.difference(client_country_gdf, align= False) #esta bien\n",
    "    \n",
    "    \"\"\"Append new country to the finished gs list\"\"\"\n",
    "    finished_countries_gs = finished_countries_gs.append(country_gs)\n",
    "\n",
    "\"\"\"Update the neighbours gdf with the gs\"\"\"\n",
    "neightbour_countries_gdf = neightbour_countries_gdf.set_geometry(finished_countries_gs) #works fine"
   ]
  },
  {
   "cell_type": "code",
   "execution_count": 22,
   "metadata": {},
   "outputs": [],
   "source": [
    "\"\"\"Union the client and the neightbours\"\"\"\n",
    "gadm_client_union_gs = client_country_gdf.geometry.union(neightbour_countries_gdf.dissolve(), align=False)"
   ]
  },
  {
   "cell_type": "code",
   "execution_count": 23,
   "metadata": {},
   "outputs": [],
   "source": [
    "\"\"\"Get the remainings\"\"\"\n",
    "remainings_gs = gadm_boundaries_gdf.difference(gadm_client_union_gs, align= False)\n",
    "# remainings_gs = gadm_union_gs.difference(country_union_gs, align= False)"
   ]
  },
  {
   "cell_type": "code",
   "execution_count": 24,
   "metadata": {},
   "outputs": [
    {
     "name": "stderr",
     "output_type": "stream",
     "text": [
      "c:\\Users\\ruben.crespo\\Anaconda3\\envs\\geoprocessing\\lib\\site-packages\\geopandas\\io\\file.py:299: FutureWarning: pandas.Int64Index is deprecated and will be removed from pandas in a future version. Use pandas.Index with the appropriate dtype instead.\n",
      "  pd.Int64Index,\n"
     ]
    }
   ],
   "source": [
    "remainings_gs.to_file('remainings_gs.shp', driver=\"ESRI Shapefile\")"
   ]
  },
  {
   "cell_type": "code",
   "execution_count": 18,
   "metadata": {},
   "outputs": [],
   "source": [
    "\"\"\"Explode the remainings and create a gdf out of it\"\"\"\n",
    "\n",
    "remainings_gdf = gpd.GeoDataFrame(geometry=remainings_gs)\n",
    "remainings_gdf = remainings_gdf.explode(index_parts=False)\n",
    "remainings_gdf = remainings_gdf.reset_index().drop([\"level_0\", \"level_1\"], axis = 1) #this is to remove the multiindex"
   ]
  },
  {
   "cell_type": "code",
   "execution_count": 19,
   "metadata": {},
   "outputs": [
    {
     "name": "stderr",
     "output_type": "stream",
     "text": [
      "C:\\Users\\ruben.crespo\\AppData\\Local\\Temp\\ipykernel_13148\\3728427008.py:1: UserWarning: Geometry is in a geographic CRS. Results from 'centroid' are likely incorrect. Use 'GeoSeries.to_crs()' to re-project geometries to a projected CRS before this operation.\n",
      "\n",
      "  remainings_gdf['centroid'] = remainings_gdf.centroid\n"
     ]
    }
   ],
   "source": [
    "remainings_gdf['centroid'] = remainings_gdf.centroid\n",
    "# remainings_centroid_gdf = gpd.GeoDataFrame(geometry=remainings_centroid_gs)\n",
    "remainings_gdf.head()"
   ]
  },
  {
   "cell_type": "code",
   "execution_count": 29,
   "metadata": {},
   "outputs": [
    {
     "name": "stdout",
     "output_type": "stream",
     "text": [
      "<class 'shapely.geometry.multipolygon.MultiPolygon'>\n",
      "<class 'shapely.geometry.multipolygon.MultiPolygon'>\n",
      "<class 'shapely.geometry.multipolygon.MultiPolygon'>\n"
     ]
    }
   ],
   "source": [
    "for row_index, row_neightbour in neightbour_countries_gdf.iterrows():\n",
    "    print(type(row_neightbour['geometry']))"
   ]
  },
  {
   "cell_type": "code",
   "execution_count": null,
   "metadata": {},
   "outputs": [],
   "source": [
    "\"\"\"Esto pinta bien\"\"\"\n",
    "closest_neightbour_gs = gpd.GeoSeries()#.reindex_like(new_neightbour_countries_gs)\n",
    "closest_neightbour_gs.crs = \"EPSG:4326\"\n",
    "\n",
    "polygon_list = []\n",
    "\n",
    "for row_index, row_remainings in remainings_gdf.iterrows():\n",
    "    # print(type(row['centroid'])) #geometry point\n",
    "    closest_polygon = min(neightbour_countries_gdf['geometry'], key=row_remainings['centroid'].distance) #geometry_type\n",
    "    for row_index, row_neightbour in neightbour_countries_gdf:\n",
    "        if closest_polygon == row_neightbour['geometry']:\n",
    "            \n",
    "    polygon_list.append(closest_polygon)\n",
    "    \n",
    "    \n",
    "closest_neightbour_gs = gpd.GeoSeries(polygon_list)\n",
    "closest_neightbour_gs.crs = \"EPSG:4326\"\n",
    "\n",
    "remainings_gdf['closest_neigh'] = closest_neightbour_gs #chekea el index porque siempre es 0\n",
    "# remainings_gdf\n",
    "# neightbour_countries_gdf"
   ]
  },
  {
   "cell_type": "code",
   "execution_count": 21,
   "metadata": {},
   "outputs": [
    {
     "name": "stderr",
     "output_type": "stream",
     "text": [
      "c:\\Users\\ruben.crespo\\Anaconda3\\envs\\geoprocessing\\lib\\site-packages\\geopandas\\geoseries.py:207: FutureWarning: The default dtype for empty Series will be 'object' instead of 'float64' in a future version. Specify a dtype explicitly to silence this warning.\n",
      "  s = pd.Series(data, index=index, name=name, **kwargs)\n"
     ]
    }
   ],
   "source": [
    "\"\"\"Esto pinta bien\"\"\"\n",
    "closest_neightbour_gs = gpd.GeoSeries()#.reindex_like(new_neightbour_countries_gs)\n",
    "closest_neightbour_gs.crs = \"EPSG:4326\"\n",
    "\n",
    "polygon_list = []\n",
    "\n",
    "for row_index, row_remainings in remainings_gdf.iterrows():\n",
    "    # print(type(row['centroid'])) #geometry point\n",
    "    closest_polygon = min(neightbour_countries_gdf['geometry'], key=row_remainings['centroid'].distance) #geometry_type  \n",
    "    polygon_list.append(closest_polygon)\n",
    "    \n",
    "    \n",
    "closest_neightbour_gs = gpd.GeoSeries(polygon_list)\n",
    "closest_neightbour_gs.crs = \"EPSG:4326\"\n",
    "\n",
    "remainings_gdf['closest_neigh'] = closest_neightbour_gs #chekea el index porque siempre es 0\n",
    "# remainings_gdf\n",
    "# neightbour_countries_gdf"
   ]
  },
  {
   "cell_type": "code",
   "execution_count": 16,
   "metadata": {},
   "outputs": [
    {
     "data": {
      "text/plain": [
       "0       MULTIPOLYGON (((12.94139 55.46375, 12.94139 55...\n",
       "1       MULTIPOLYGON (((12.94139 55.46375, 12.94139 55...\n",
       "2       MULTIPOLYGON (((40.53593 67.83385, 40.53750 67...\n",
       "3       MULTIPOLYGON (((40.53593 67.83385, 40.53750 67...\n",
       "4       MULTIPOLYGON (((40.53593 67.83385, 40.53750 67...\n",
       "                              ...                        \n",
       "1711    MULTIPOLYGON (((12.94139 55.46375, 12.94139 55...\n",
       "1712    MULTIPOLYGON (((12.94139 55.46375, 12.94139 55...\n",
       "1713    MULTIPOLYGON (((12.94139 55.46375, 12.94139 55...\n",
       "1714    MULTIPOLYGON (((12.94139 55.46375, 12.94139 55...\n",
       "1715    MULTIPOLYGON (((12.94139 55.46375, 12.94139 55...\n",
       "Length: 1716, dtype: geometry"
      ]
     },
     "execution_count": 16,
     "metadata": {},
     "output_type": "execute_result"
    }
   ],
   "source": [
    "closest_neightbour_gs"
   ]
  },
  {
   "cell_type": "code",
   "execution_count": 22,
   "metadata": {},
   "outputs": [
    {
     "data": {
      "text/html": [
       "<div>\n",
       "<style scoped>\n",
       "    .dataframe tbody tr th:only-of-type {\n",
       "        vertical-align: middle;\n",
       "    }\n",
       "\n",
       "    .dataframe tbody tr th {\n",
       "        vertical-align: top;\n",
       "    }\n",
       "\n",
       "    .dataframe thead th {\n",
       "        text-align: right;\n",
       "    }\n",
       "</style>\n",
       "<table border=\"1\" class=\"dataframe\">\n",
       "  <thead>\n",
       "    <tr style=\"text-align: right;\">\n",
       "      <th></th>\n",
       "      <th>geometry</th>\n",
       "      <th>centroid</th>\n",
       "      <th>closest_neigh</th>\n",
       "    </tr>\n",
       "  </thead>\n",
       "  <tbody>\n",
       "    <tr>\n",
       "      <th>0</th>\n",
       "      <td>POLYGON ((3.90469 60.18490, 3.90625 60.18542, ...</td>\n",
       "      <td>POINT (3.90625 60.18438)</td>\n",
       "      <td>MULTIPOLYGON (((12.94139 55.46375, 12.94139 55...</td>\n",
       "    </tr>\n",
       "    <tr>\n",
       "      <th>1</th>\n",
       "      <td>POLYGON ((11.21917 59.08695, 11.22486 59.08761...</td>\n",
       "      <td>POINT (11.22546 59.08733)</td>\n",
       "      <td>MULTIPOLYGON (((12.94139 55.46375, 12.94139 55...</td>\n",
       "    </tr>\n",
       "    <tr>\n",
       "      <th>2</th>\n",
       "      <td>POLYGON ((30.82240 69.79010, 30.82344 69.79115...</td>\n",
       "      <td>POINT (30.84569 69.77750)</td>\n",
       "      <td>MULTIPOLYGON (((40.53593 67.83385, 40.53750 67...</td>\n",
       "    </tr>\n",
       "    <tr>\n",
       "      <th>3</th>\n",
       "      <td>POLYGON ((30.87122 69.75460, 30.87404 69.75218...</td>\n",
       "      <td>POINT (30.87149 69.75323)</td>\n",
       "      <td>MULTIPOLYGON (((40.53593 67.83385, 40.53750 67...</td>\n",
       "    </tr>\n",
       "    <tr>\n",
       "      <th>4</th>\n",
       "      <td>POLYGON ((30.87738 69.75045, 30.87902 69.75035...</td>\n",
       "      <td>POINT (30.88142 69.74205)</td>\n",
       "      <td>MULTIPOLYGON (((40.53593 67.83385, 40.53750 67...</td>\n",
       "    </tr>\n",
       "  </tbody>\n",
       "</table>\n",
       "</div>"
      ],
      "text/plain": [
       "                                            geometry  \\\n",
       "0  POLYGON ((3.90469 60.18490, 3.90625 60.18542, ...   \n",
       "1  POLYGON ((11.21917 59.08695, 11.22486 59.08761...   \n",
       "2  POLYGON ((30.82240 69.79010, 30.82344 69.79115...   \n",
       "3  POLYGON ((30.87122 69.75460, 30.87404 69.75218...   \n",
       "4  POLYGON ((30.87738 69.75045, 30.87902 69.75035...   \n",
       "\n",
       "                    centroid  \\\n",
       "0   POINT (3.90625 60.18438)   \n",
       "1  POINT (11.22546 59.08733)   \n",
       "2  POINT (30.84569 69.77750)   \n",
       "3  POINT (30.87149 69.75323)   \n",
       "4  POINT (30.88142 69.74205)   \n",
       "\n",
       "                                       closest_neigh  \n",
       "0  MULTIPOLYGON (((12.94139 55.46375, 12.94139 55...  \n",
       "1  MULTIPOLYGON (((12.94139 55.46375, 12.94139 55...  \n",
       "2  MULTIPOLYGON (((40.53593 67.83385, 40.53750 67...  \n",
       "3  MULTIPOLYGON (((40.53593 67.83385, 40.53750 67...  \n",
       "4  MULTIPOLYGON (((40.53593 67.83385, 40.53750 67...  "
      ]
     },
     "execution_count": 22,
     "metadata": {},
     "output_type": "execute_result"
    }
   ],
   "source": [
    "# remainings_gdf['closest_neigh'] = closest_neightbour_gs\n",
    "remainings_gdf.head()"
   ]
  },
  {
   "cell_type": "code",
   "execution_count": null,
   "metadata": {},
   "outputs": [],
   "source": []
  },
  {
   "cell_type": "code",
   "execution_count": 53,
   "metadata": {},
   "outputs": [],
   "source": [
    "remainings_gdf.to_file('remainings_gdf.shp', driver=\"ESRI Shapefile\")"
   ]
  },
  {
   "cell_type": "code",
   "execution_count": 33,
   "metadata": {},
   "outputs": [],
   "source": [
    "#https://www.geeksforgeeks.org/python-map-function/\n",
    "\n",
    "gpd1 = gpd.GeoDataFrame([['John', 1, Point(1, 1)],\n",
    "                         ['Smith', 1, Point(2, 2)],\n",
    "                         ['Soap', 1, Point(0, 2)]],\n",
    "                        columns=['Name', 'ID', 'geometry'])\n",
    "gpd2 = gpd.GeoDataFrame([['Work', LineString([Point(100, 0), Point(100, 1)])],\n",
    "                         ['Shops', LineString([Point(101, 0), Point(101, 1), Point(102, 3)])],\n",
    "                         ['Home',  LineString([Point(101, 0), Point(102, 1)])]],\n",
    "                        columns=['Place', 'geometry'])\n",
    "\n",
    "gdfB_cols=['Place']\n",
    "A = np.concatenate([np.array(geom.coords) for geom in gpd1.geometry.to_list()]) #we make everything an array of points\n",
    "B = [np.array(geom.coords) for geom in gpd2.geometry.to_list()] #here we have an array per object\n",
    "B_ix = tuple(itertools.chain.from_iterable([itertools.repeat(i, x) for i, x in enumerate(list(map(len, B)))])) #we create an index, relating the created point to the object index\n",
    "B = np.concatenate(B) #we split the array and create only one with everything"
   ]
  },
  {
   "cell_type": "code",
   "execution_count": null,
   "metadata": {},
   "outputs": [],
   "source": [
    "\n",
    "ckd_tree = cKDTree(B)\n",
    "dist, idx = ckd_tree.query(A, k=1)\n",
    "idx = itemgetter(*idx)(B_ix)\n",
    "gdf = pd.concat([gpd1, gpd2.loc[idx, gdfB_cols].reset_index(drop=True), pd.Series(dist, name='dist')], axis=1)"
   ]
  },
  {
   "cell_type": "markdown",
   "metadata": {},
   "source": [
    "ANother thing"
   ]
  },
  {
   "cell_type": "code",
   "execution_count": 24,
   "metadata": {},
   "outputs": [
    {
     "name": "stderr",
     "output_type": "stream",
     "text": [
      "c:\\Users\\ruben.crespo\\Anaconda3\\envs\\geoprocessing\\lib\\site-packages\\geopandas\\geoseries.py:207: FutureWarning: The default dtype for empty Series will be 'object' instead of 'float64' in a future version. Specify a dtype explicitly to silence this warning.\n",
      "  s = pd.Series(data, index=index, name=name, **kwargs)\n"
     ]
    }
   ],
   "source": [
    "\"\"\"We create an empty GeoDataFrame to append inside the country geometries that are finished\"\"\"\n",
    "finished_countries_gs = gpd.GeoSeries()#.reindex_like(new_neightbour_countries_gs)\n",
    "finished_countries_gs.crs = \"EPSG:4326\""
   ]
  },
  {
   "cell_type": "code",
   "execution_count": 8,
   "metadata": {},
   "outputs": [
    {
     "data": {
      "text/plain": [
       "['FIN', 'SWE', 'RUS']"
      ]
     },
     "execution_count": 8,
     "metadata": {},
     "output_type": "execute_result"
    }
   ],
   "source": [
    "\"\"\"Get the country list, and start doing a difference with both main and surrounding countries\"\"\" \n",
    "countries = []\n",
    "for row_index, country in neightbour_countries_gdf.iterrows():\n",
    "    countries.append(country[0])\n",
    "countries"
   ]
  },
  {
   "cell_type": "code",
   "execution_count": null,
   "metadata": {},
   "outputs": [],
   "source": [
    "for i in countries:\n",
    "    \"\"\"Get the country\"\"\"\n",
    "    country_gdf = neightbour_countries_gdf.loc[(neightbour_countries_gdf[\"CID\"] == i)] \n",
    "    \n",
    "    \"\"\"Difference of the country and the client\"\"\"\n",
    "    country_gs = country_gdf.difference(client_country_gdf, align= False) #esta bien\n",
    "    \n",
    "    \"\"\"Union of the country and the client\"\"\"\n",
    "    country_union_gs = country_gs.union(client_country_gdf.geometry, align=False)\n",
    "    \n",
    "    country_union_gs.to_file('country_union_gs{}.shp'.format(i), driver=\"ESRI Shapefile\")\n",
    "    \n",
    "    #el error esta aqui\n",
    "    # country_union_gs.to_file('country_union_gs{}.shp'.format(i), driver=\"ESRI Shapefile\")\n",
    "    \n",
    "    \"\"\"Union the gadm ones\"\"\"\n",
    "    gadm_country_gdf = neightbour_countries_gdf.loc[(neightbour_countries_gdf[\"CID\"] == i)]\n",
    "    gadm_union_gs = client_gadm_gdf.geometry.union(gadm_country_gdf.geometry, align=False)\n",
    "    \n",
    "    \"\"\"Get the remaninings of the difference with both gadm union and the other\"\"\"\n",
    "    remainings_gs = gadm_union_gs.difference(country_union_gs, align= False)\n",
    "    \n",
    "    gadm_union_gs=None\n",
    "    \n",
    "    \"\"\"Union the remainings with the country\"\"\"\n",
    "    country_gdf = country_gdf.union(remainings_gs, align= False)\n",
    "    \n",
    "    \"\"\"Append new country to the finished gs list\"\"\"\n",
    "    finished_countries_gs = finished_countries_gs.append(country_gdf.geometry)\n",
    "    #time = 1,20"
   ]
  },
  {
   "cell_type": "code",
   "execution_count": null,
   "metadata": {},
   "outputs": [],
   "source": [
    "country_gdf = neightbour_countries_gdf.loc[(neightbour_countries_gdf[\"CID\"] == \"FIN\")] \n",
    "\n",
    "\"\"\"Difference of the country and the client\"\"\"\n",
    "country_gs = country_gdf.difference(client_country_gdf, align= False) #esta bien\n",
    "\n",
    "\"\"\"Union of the country and the client\"\"\"\n",
    "country_union_gs = country_gs.union(client_country_gdf.geometry, align=False) #vamos a evitar esta union\n",
    "\n",
    "\"\"\"Get the remaninings of the difference with both gadm union and the other\"\"\"\n",
    "remainings_gs = gadm_union_gs.difference(country_union_gs, align= False)\n",
    "remainings_gs.to_file('remainings_gs.shp', driver=\"ESRI Shapefile\")\n",
    "\n",
    "\"\"\"Split the remainings to the corresponding country\"\"\"\n",
    "\n",
    "remainings_gs.plot()"
   ]
  },
  {
   "cell_type": "code",
   "execution_count": 18,
   "metadata": {},
   "outputs": [
    {
     "data": {
      "text/html": [
       "<div>\n",
       "<style scoped>\n",
       "    .dataframe tbody tr th:only-of-type {\n",
       "        vertical-align: middle;\n",
       "    }\n",
       "\n",
       "    .dataframe tbody tr th {\n",
       "        vertical-align: top;\n",
       "    }\n",
       "\n",
       "    .dataframe thead th {\n",
       "        text-align: right;\n",
       "    }\n",
       "</style>\n",
       "<table border=\"1\" class=\"dataframe\">\n",
       "  <thead>\n",
       "    <tr style=\"text-align: right;\">\n",
       "      <th></th>\n",
       "      <th>CID</th>\n",
       "      <th>Shape_Leng</th>\n",
       "      <th>Shape_Area</th>\n",
       "      <th>Country_n</th>\n",
       "      <th>GID</th>\n",
       "      <th>GID_list</th>\n",
       "      <th>GID_n</th>\n",
       "      <th>geometry</th>\n",
       "    </tr>\n",
       "  </thead>\n",
       "  <tbody>\n",
       "    <tr>\n",
       "      <th>61</th>\n",
       "      <td>FIN</td>\n",
       "      <td>231.567531</td>\n",
       "      <td>62.931585</td>\n",
       "      <td>Finland</td>\n",
       "      <td>FIN</td>\n",
       "      <td>FIN</td>\n",
       "      <td>Finland</td>\n",
       "      <td>MULTIPOLYGON (((22.49806 59.72430, 22.49917 59...</td>\n",
       "    </tr>\n",
       "    <tr>\n",
       "      <th>182</th>\n",
       "      <td>SWE</td>\n",
       "      <td>352.792209</td>\n",
       "      <td>79.228140</td>\n",
       "      <td>Sweden</td>\n",
       "      <td>SWE</td>\n",
       "      <td>SWE</td>\n",
       "      <td>Sweden</td>\n",
       "      <td>MULTIPOLYGON (((12.94139 55.46292, 12.94195 55...</td>\n",
       "    </tr>\n",
       "    <tr>\n",
       "      <th>377</th>\n",
       "      <td>RUS</td>\n",
       "      <td>70.305320</td>\n",
       "      <td>30.520940</td>\n",
       "      <td>Russia</td>\n",
       "      <td>RUS45</td>\n",
       "      <td>RUS1,RUS...,RUS84</td>\n",
       "      <td>Murmansk</td>\n",
       "      <td>MULTIPOLYGON (((40.53750 67.83334, 40.53959 67...</td>\n",
       "    </tr>\n",
       "  </tbody>\n",
       "</table>\n",
       "</div>"
      ],
      "text/plain": [
       "     CID  Shape_Leng  Shape_Area Country_n    GID           GID_list  \\\n",
       "61   FIN  231.567531   62.931585   Finland    FIN                FIN   \n",
       "182  SWE  352.792209   79.228140    Sweden    SWE                SWE   \n",
       "377  RUS   70.305320   30.520940    Russia  RUS45  RUS1,RUS...,RUS84   \n",
       "\n",
       "        GID_n                                           geometry  \n",
       "61    Finland  MULTIPOLYGON (((22.49806 59.72430, 22.49917 59...  \n",
       "182    Sweden  MULTIPOLYGON (((12.94139 55.46292, 12.94195 55...  \n",
       "377  Murmansk  MULTIPOLYGON (((40.53750 67.83334, 40.53959 67...  "
      ]
     },
     "execution_count": 18,
     "metadata": {},
     "output_type": "execute_result"
    }
   ],
   "source": [
    "\"\"\"Update the neighbours gdf with the gs\"\"\"\n",
    "neightbour_countries_gdf = neightbour_countries_gdf.set_geometry(finished_countries_gs)\n",
    "neightbour_countries_gdf"
   ]
  },
  {
   "cell_type": "code",
   "execution_count": 19,
   "metadata": {},
   "outputs": [
    {
     "name": "stderr",
     "output_type": "stream",
     "text": [
      "c:\\Users\\ruben.crespo\\Anaconda3\\envs\\geoprocessing\\lib\\site-packages\\geopandas\\io\\file.py:299: FutureWarning: pandas.Int64Index is deprecated and will be removed from pandas in a future version. Use pandas.Index with the appropriate dtype instead.\n",
      "  pd.Int64Index,\n"
     ]
    }
   ],
   "source": [
    "\"\"\"Do the exportation to see wtf is happening\"\"\"\n",
    "neightbour_countries_gdf.to_file('neighbour_new_fixed.shp', driver=\"ESRI Shapefile\")"
   ]
  }
 ],
 "metadata": {
  "interpreter": {
   "hash": "ef1643838ba400d9e56910a4ebe1d7c2ddcc0867ba383b6e8e5b6e0b2b833d6e"
  },
  "kernelspec": {
   "display_name": "Python 3.9.12 ('geoprocessing')",
   "language": "python",
   "name": "python3"
  },
  "language_info": {
   "codemirror_mode": {
    "name": "ipython",
    "version": 3
   },
   "file_extension": ".py",
   "mimetype": "text/x-python",
   "name": "python",
   "nbconvert_exporter": "python",
   "pygments_lexer": "ipython3",
   "version": "3.9.12"
  },
  "orig_nbformat": 4
 },
 "nbformat": 4,
 "nbformat_minor": 2
}
