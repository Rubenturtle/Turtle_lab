{
 "cells": [
  {
   "cell_type": "markdown",
   "metadata": {},
   "source": [
    "# GADM process layers\n",
    "Our clients want to use their country context, so we have to edit our GADM layer and make these new country context fit into GADM layer\n",
    "Here is the process:\n",
    "- Locate the polygon we want to substitute in the GADM layer\n",
    "- Get the surrounding countries as a new dataframe\n",
    "- Go country by country and calculate the difference between them and the new country\n",
    "- Update the geometries of the surrounding countries dataframe\n",
    "- Replace the countries on the gadm dataframe\n",
    "- Delete the old country of the gamd dataframe\n",
    "- Export it into a new vector file\n",
    "\n",
    "- import layers / variables:\n",
    "    * GADM layer\n",
    "    * Client country\n",
    "    * Client country Acronym\n",
    "\n",
    "- Main idea: https://gis.stackexchange.com/questions/245064/snapping-multiple-nodes-of-a-polygon-to-the-nodes-of-a-line\n",
    "- Create a linestring from the polygon: https://gis.stackexchange.com/questions/290756/transforming-a-polygon-to-a-linestring\n",
    "- Snap Geopandas: https://gis.stackexchange.com/questions/290092/how-to-do-snapping-in-geopandas\n",
    "- https://gis.stackexchange.com/questions/203058/why-is-shapelys-snapping-geo-snaps-not-working-as-expected\n",
    "- Replace rows from df to df: https://moonbooks.org/Articles/How-to-replace-rows-of-a-dataframe-using-rows-of-another-dataframe-based-on-indexes-with-pandas-/"
   ]
  },
  {
   "cell_type": "code",
   "execution_count": 2,
   "metadata": {},
   "outputs": [],
   "source": [
    "import geopandas as gpd\n",
    "import pandas as pd\n",
    "import numpy as np\n",
    "from shapely.geometry import Polygon, MultiPolygon, Point, box\n",
    "import os\n",
    "from sys import path\n",
    "import matplotlib.pyplot as plt\n"
   ]
  },
  {
   "cell_type": "code",
   "execution_count": 14,
   "metadata": {},
   "outputs": [],
   "source": [
    "\"\"\"Create dataframes of the import data\"\"\"\n",
    "os.chdir(r\"C:\\Users\\ruben.crespo\\Documents\\03_tests\\administrative_units\\09_norway_case\")\n",
    "\n",
    "client_country_name = \"NOR\"\n",
    "\n",
    "gadm_path = r\"C:\\Users\\ruben.crespo\\Documents\\03_tests\\administrative_units\\09_norway_case\\level3_gadm_404.shp\"\n",
    "client_path = r\"C:/Users/ruben.crespo/Documents/03_tests/administrative_units/09_norway_case/level0_norway_country.shp\"\n",
    "gadm_gdf = gpd.read_file(gadm_path)\n",
    "client_gdf = gpd.read_file(client_path)"
   ]
  },
  {
   "cell_type": "code",
   "execution_count": 4,
   "metadata": {},
   "outputs": [
    {
     "name": "stdout",
     "output_type": "stream",
     "text": [
      "{'MultiPolygon': 1}\n"
     ]
    }
   ],
   "source": [
    "# https://stackoverflow.com/questions/60780959/how-to-filter-a-geodataframe-by-geometry-type\n",
    "\"\"\"Here we check the geometry type and the number of polygons 6f the import file\"\"\"\n",
    "geometry_dic = {}\n",
    "geometry_type = client_gdf.geom_type.unique().tolist() #we create a list of unique geometries\n",
    "if len(geometry_type) > 0: #if there are more than one type we list them\n",
    "    for i in geometry_type:\n",
    "        geometry_gdf = client_gdf[client_gdf.geom_type == i] #new df with the geometry\n",
    "        geometry_rows = geometry_gdf.shape[0] #number of elements\n",
    "        geometry_dic.update({i:geometry_rows}) #add to dic\n",
    "        \n",
    "        \n",
    "print(geometry_dic)\n",
    "\n",
    "# geometry_str = ''.join(geometry_gdf.geom_type.unique().tolist()) #transform the list to string\n"
   ]
  },
  {
   "cell_type": "code",
   "execution_count": 4,
   "metadata": {},
   "outputs": [
    {
     "name": "stdout",
     "output_type": "stream",
     "text": [
      "0    Polygon\n",
      "dtype: object\n"
     ]
    }
   ],
   "source": [
    "\"\"\"if we have a multipolygon (lots of polygons), we dissolve it\"\"\"\n",
    "client_area_gdf = client_gdf.dissolve()\n",
    "print(str(client_area_gdf.geom_type)) # check again its geometry\n",
    "# client_area_gdf.plot()\n",
    "# client_dissolve.head()"
   ]
  },
  {
   "cell_type": "code",
   "execution_count": 15,
   "metadata": {},
   "outputs": [
    {
     "name": "stderr",
     "output_type": "stream",
     "text": [
      "c:\\Users\\ruben.crespo\\Anaconda3\\envs\\geoprocessing\\lib\\site-packages\\geopandas\\geoseries.py:207: FutureWarning: The default dtype for empty Series will be 'object' instead of 'float64' in a future version. Specify a dtype explicitly to silence this warning.\n",
      "  s = pd.Series(data, index=index, name=name, **kwargs)\n"
     ]
    }
   ],
   "source": [
    "\"\"\"Extract from GADM the country regions and replace it with the country if exists\"\"\"\n",
    "\"\"\"We extract from GADM the client country and dissolve it\"\"\"\n",
    "gadm_client_gdf = gadm_gdf.loc[(gadm_gdf[\"ID_0\"] == client_country_name)] #for gadm is ID_0 for our gadm is CID\n",
    "gadm_client_gdf = gadm_client_gdf.dissolve()\n",
    "\n",
    "\"\"\"Delete the client regions of gadm\"\"\"\n",
    "gadm_gdf = gadm_gdf.drop(gadm_gdf[gadm_gdf.ID_0 == client_country_name].index)\n",
    "\n",
    "\"\"\"Import the country and restart the index\"\"\"\n",
    "gadm_gdf = pd.concat([gadm_gdf, gadm_client_gdf]).reset_index(drop=True)\n"
   ]
  },
  {
   "cell_type": "code",
   "execution_count": null,
   "metadata": {},
   "outputs": [],
   "source": [
    "\"\"\"Here we create the GADM boundaries and the client country\"\"\"\n",
    "\n",
    "\"\"\"We extract from GADM the client country\"\"\"\n",
    "gadm_client_gdf = gadm_gdf.loc[(gadm_gdf[\"ID_0\"] == client_country_name)] \n",
    "\n",
    "\"\"\"Extract from GADM the surrounding countries of the one we want to edit\"\"\"\n",
    "for row_index, row in gadm_gdf.iterrows():\n",
    "    if row[0] == client_country_name: #the country we are importing\n",
    "        neightbour_countries_gdf = gadm_gdf[gadm_gdf.geometry.touches(row['geometry'])] #esta bien\n",
    "    else:\n",
    "        pass\n",
    "\n",
    "\"\"\"Union the gadm and client layers and dissolve it\"\"\"\n",
    "gadm_countries_gdf = neightbour_countries_gdf.append(gadm_client_gdf)\n",
    "gadm_boundaries_gdf = gadm_countries_gdf.dissolve() #esta bien\n"
   ]
  },
  {
   "cell_type": "code",
   "execution_count": 6,
   "metadata": {},
   "outputs": [],
   "source": [
    "\"\"\"If the country/region has a coast, do this\"\"\"\n",
    "\"\"\"Diference of the client and the gadm countries\"\"\"\n",
    "client_country_gs = client_area_gdf.difference(gadm_boundaries_gdf, align= False) #this is the template\n",
    "client_country_gs = client_area_gdf.difference(client_country_gs, align= False)\n",
    "client_country_gdf = gpd.GeoDataFrame(geometry=client_country_gs) #esta bien"
   ]
  },
  {
   "cell_type": "code",
   "execution_count": 7,
   "metadata": {},
   "outputs": [
    {
     "data": {
      "text/plain": [
       "['FIN', 'SWE', 'RUS']"
      ]
     },
     "execution_count": 7,
     "metadata": {},
     "output_type": "execute_result"
    }
   ],
   "source": [
    "\"\"\"Get the country list, and start doing a difference with both main and surrounding countries\"\"\" \n",
    "countries = []\n",
    "for row_index, country in neightbour_countries_gdf.iterrows():\n",
    "    countries.append(country[0])\n",
    "countries"
   ]
  },
  {
   "cell_type": "code",
   "execution_count": 8,
   "metadata": {},
   "outputs": [
    {
     "name": "stderr",
     "output_type": "stream",
     "text": [
      "c:\\Users\\ruben.crespo\\Anaconda3\\envs\\geoprocessing\\lib\\site-packages\\geopandas\\geoseries.py:207: FutureWarning: The default dtype for empty Series will be 'object' instead of 'float64' in a future version. Specify a dtype explicitly to silence this warning.\n",
      "  s = pd.Series(data, index=index, name=name, **kwargs)\n"
     ]
    }
   ],
   "source": [
    "\"\"\"We create an empty GeoSeries to append inside the countries that are finished\"\"\"\n",
    "finished_countries_gs = gpd.GeoSeries() #.reindex_like(client_area_gdf.geometry)\n",
    "finished_countries_gs.crs = \"EPSG:4326\""
   ]
  },
  {
   "cell_type": "code",
   "execution_count": 11,
   "metadata": {},
   "outputs": [
    {
     "name": "stderr",
     "output_type": "stream",
     "text": [
      "C:\\Users\\ruben.crespo\\AppData\\Local\\Temp\\ipykernel_10272\\380267381.py:42: UserWarning: Geometry is in a geographic CRS. Results from 'area' are likely incorrect. Use 'GeoSeries.to_crs()' to re-project geometries to a projected CRS before this operation.\n",
      "\n",
      "  bbox_gdf['area'] = bbox_gdf.area\n",
      "c:\\Users\\ruben.crespo\\Anaconda3\\envs\\geoprocessing\\lib\\site-packages\\geopandas\\geoseries.py:551: FutureWarning: The series.append method is deprecated and will be removed from pandas in a future version. Use pandas.concat instead.\n",
      "  val = getattr(super(GeoSeries, self), mtd)(*args, **kwargs)\n"
     ]
    }
   ],
   "source": [
    "\n",
    "\"\"\"Get the country\"\"\"\n",
    "for i in countries:\n",
    "    country_gdf = neightbour_countries_gdf.loc[(neightbour_countries_gdf[\"CID\"] == i)]\n",
    "    \n",
    "    \"\"\"Difference of the country and the client\"\"\"\n",
    "    new_country_gs = country_gdf.difference(client_country_gdf, align= False)\n",
    "    \n",
    "    \"\"\"Union the client country with the possible fixed countries\"\"\"\n",
    "    \"\"\"BEWARE: Union works with index, to make it work, it has to be one element per index value, GeoSeries with more than one geometry does not fit\"\"\"\n",
    "    if len(finished_countries_gs.index) == 0:\n",
    "        pass\n",
    "    else:\n",
    "        finished_countries_gdf = gpd.GeoDataFrame(geometry=finished_countries_gs)\n",
    "        \n",
    "        finished_countries_gdf = finished_countries_gdf.dissolve()\n",
    "        client_country_gs = client_country_gdf.geometry.union(finished_countries_gdf, align=False)\n",
    "\n",
    "    \"\"\"Union both countries  (+ possible fixed countries)\"\"\"\n",
    "    country_union_gs = new_country_gs.union(client_country_gs, align=False)\n",
    "    \n",
    "    \"\"\"We generate the bbox to create a megapolygon with the bbox of the union\"\"\"\n",
    "    offset = 1 #be careful with the projection. If meters = 100, if degrees = 1\n",
    "    tolerance = 1\n",
    "    bbox_df = country_union_gs.bounds + [-offset, -offset, offset, offset]\n",
    "    bbox_df['minx'] = bbox_df['minx'].sub(tolerance) # opearte in single columnn\n",
    "    bbox_df['miny'] = bbox_df['miny'].sub(tolerance)\n",
    "    bbox_df['maxx'] = bbox_df['maxx'].add(tolerance)\n",
    "    bbox_df['maxy'] = bbox_df['maxy'].add(tolerance)\n",
    "\n",
    "    b = [box(l, b, r, t) for l, b, r, t in zip(bbox_df.minx, bbox_df.miny, bbox_df.maxx, bbox_df.maxy)] #this is the geometry\n",
    "    bbox_gdf = gpd.GeoDataFrame(bbox_df, geometry=b)\n",
    "    bbox_gdf.crs = \"EPSG:4326\"\n",
    "    \n",
    "    \"\"\"Do a difference with both\"\"\"\n",
    "    bbox_gdf = bbox_gdf.difference(country_union_gs, align= False)\n",
    "    \n",
    "    \"\"\"Pass to gdf and explode the multiplygon\"\"\"\n",
    "    bbox_gdf = gpd.GeoDataFrame(geometry=gpd.GeoSeries(bbox_gdf)) \n",
    "    bbox_gdf = bbox_gdf.explode(index_parts=False)\n",
    "\n",
    "    \"\"\"Calculate the area and sort by size, then, delete the first row as it is the biggest one\"\"\"\n",
    "    bbox_gdf['area'] = bbox_gdf.area\n",
    "    bbox_gdf.sort_values(by=['area'], ascending=False) #sort the values to size\n",
    "    bbox_gdf = bbox_gdf.iloc[1: , :] #extract the first polygon, which is the biggest one\n",
    "    \n",
    "    \"\"\"Dissolve the small polygons and union with the country of sweeden\"\"\"\n",
    "    bbox_gdf = bbox_gdf.dissolve()\n",
    "    new_country_gs = new_country_gs.union(bbox_gdf['geometry'], align=False)\n",
    "    \n",
    "    \"\"\"Append new country to the finished gs list\"\"\"\n",
    "    finished_countries_gs = finished_countries_gs.append(new_country_gs)"
   ]
  },
  {
   "cell_type": "code",
   "execution_count": 9,
   "metadata": {},
   "outputs": [],
   "source": [
    "\"\"\"For testing\"\"\"\n",
    "country_gdf = neightbour_countries_gdf.loc[(neightbour_countries_gdf[\"CID\"] == \"FIN\")] #\"FIN\", SWE RUS\n",
    "\n",
    "\"\"\"Difference of the country and the client\"\"\"\n",
    "new_country_gs = country_gdf.difference(client_country_gdf, align= False)\n"
   ]
  },
  {
   "cell_type": "code",
   "execution_count": 11,
   "metadata": {},
   "outputs": [],
   "source": [
    "\"\"\"Update the neighbours gdf with the gs\"\"\"\n",
    "neightbour_countries_gdf = neightbour_countries_gdf.set_geometry(finished_countries_gs)"
   ]
  },
  {
   "cell_type": "code",
   "execution_count": 11,
   "metadata": {},
   "outputs": [],
   "source": [
    "\"\"\"Replace the new countries with the old ones in the gadm dataframe\"\"\"\n",
    "new_gadm_gdf = gadm_gdf.loc[neightbour_countries_gdf.index, :] = neightbour_countries_gdf[:]"
   ]
  },
  {
   "cell_type": "code",
   "execution_count": 12,
   "metadata": {},
   "outputs": [
    {
     "name": "stderr",
     "output_type": "stream",
     "text": [
      "c:\\Users\\ruben.crespo\\Anaconda3\\envs\\geoprocessing\\lib\\site-packages\\geopandas\\io\\file.py:299: FutureWarning: pandas.Int64Index is deprecated and will be removed from pandas in a future version. Use pandas.Index with the appropriate dtype instead.\n",
      "  pd.Int64Index,\n"
     ]
    }
   ],
   "source": [
    "\"\"\"Do the exportation of the new geodataframe\"\"\"\n",
    "neightbour_countries_gdf.to_file('neightbour_countries_region.shp', driver=\"ESRI Shapefile\")"
   ]
  }
 ],
 "metadata": {
  "interpreter": {
   "hash": "ef1643838ba400d9e56910a4ebe1d7c2ddcc0867ba383b6e8e5b6e0b2b833d6e"
  },
  "kernelspec": {
   "display_name": "Python 3.9.12 ('geoprocessing')",
   "language": "python",
   "name": "python3"
  },
  "language_info": {
   "codemirror_mode": {
    "name": "ipython",
    "version": 3
   },
   "file_extension": ".py",
   "mimetype": "text/x-python",
   "name": "python",
   "nbconvert_exporter": "python",
   "pygments_lexer": "ipython3",
   "version": "3.9.12"
  },
  "orig_nbformat": 4
 },
 "nbformat": 4,
 "nbformat_minor": 2
}
