{
 "cells": [
  {
   "cell_type": "markdown",
   "metadata": {},
   "source": [
    "# GADM process layers\n",
    "Our clients want to use their country context, so we have to edit our GADM layer and make these new country context fit into GADM layer\n",
    "Here is the process:\n",
    "- Locate the polygon we want to substitute in the GADM layer\n",
    "- Delete it from the layer\n",
    "- from the new polygon, get coordinate possitions\n",
    "- select the surrounding countries\n",
    "- snap the surrounding countries to the polygon\n",
    "\n",
    "- import layers:\n",
    "    * GADM layer\n",
    "    * Client country \n",
    "\n",
    "- Main idea: https://gis.stackexchange.com/questions/245064/snapping-multiple-nodes-of-a-polygon-to-the-nodes-of-a-line\n",
    "- Create a linestring from the polygon: https://gis.stackexchange.com/questions/290756/transforming-a-polygon-to-a-linestring\n",
    "- Snap Geopandas: https://gis.stackexchange.com/questions/290092/how-to-do-snapping-in-geopandas\n",
    "- https://gis.stackexchange.com/questions/203058/why-is-shapelys-snapping-geo-snaps-not-working-as-expected"
   ]
  },
  {
   "cell_type": "code",
   "execution_count": 1,
   "metadata": {},
   "outputs": [],
   "source": [
    "import geopandas as gpd\n",
    "import pandas as pd\n",
    "import numpy as np\n",
    "from shapely.geometry import Polygon, MultiPolygon, Point, box\n",
    "from shapely.ops import snap\n",
    "from shapely import wkt\n",
    "import os\n",
    "from sys import path\n",
    "import matplotlib.pyplot as plt\n"
   ]
  },
  {
   "cell_type": "code",
   "execution_count": 2,
   "metadata": {},
   "outputs": [],
   "source": [
    "\"\"\"Create dataframes of the import data\"\"\"\n",
    "os.chdir(r\"C:\\Users\\ruben.crespo\\Documents\\03_tests\\administrative_units\\09_norway_case\")\n",
    "\n",
    "client_country_name = \"NOR\"\n",
    "\n",
    "gadm_path = r\"C:\\Users\\ruben.crespo\\Documents\\03_tests\\administrative_units\\09_norway_case\\administrative_units_un_gadm_level0_can_rus_3.shp\"\n",
    "client_path = r\"C:/Users/ruben.crespo/Documents/03_tests/administrative_units/09_norway_case/kommuner_2022_wgs84_navn.shp\"\n",
    "gadm_gdf = gpd.read_file(gadm_path)\n",
    "client_gdf = gpd.read_file(client_path)"
   ]
  },
  {
   "cell_type": "code",
   "execution_count": 3,
   "metadata": {},
   "outputs": [
    {
     "name": "stdout",
     "output_type": "stream",
     "text": [
      "{'Polygon': 363}\n"
     ]
    }
   ],
   "source": [
    "# https://stackoverflow.com/questions/60780959/how-to-filter-a-geodataframe-by-geometry-type\n",
    "\"\"\"Here we check the geometry type and the number of polygons 6f the import file\"\"\"\n",
    "geometry_dic = {}\n",
    "geometry_type = client_gdf.geom_type.unique().tolist() #we create a list of unique geometries\n",
    "if len(geometry_type) > 0: #if there are more than one type we list them\n",
    "    for i in geometry_type:\n",
    "        geometry_gdf = client_gdf[client_gdf.geom_type == i] #new df with the geometry\n",
    "        geometry_rows = geometry_gdf.shape[0] #number of elements\n",
    "        geometry_dic.update({i:geometry_rows}) #add to dic\n",
    "        \n",
    "        \n",
    "print(geometry_dic)\n",
    "\n",
    "# geometry_str = ''.join(geometry_gdf.geom_type.unique().tolist()) #transform the list to string\n"
   ]
  },
  {
   "cell_type": "code",
   "execution_count": 4,
   "metadata": {},
   "outputs": [
    {
     "name": "stdout",
     "output_type": "stream",
     "text": [
      "0    Polygon\n",
      "dtype: object\n"
     ]
    },
    {
     "data": {
      "text/plain": [
       "<AxesSubplot:>"
      ]
     },
     "execution_count": 4,
     "metadata": {},
     "output_type": "execute_result"
    },
    {
     "data": {
      "image/png": "[encoded data removed]",
      "text/plain": [
       "<Figure size 432x288 with 1 Axes>"
      ]
     },
     "metadata": {
      "needs_background": "light"
     },
     "output_type": "display_data"
    }
   ],
   "source": [
    "\"\"\"if we have a multipolygon (lots of polygons), we dissolve it\"\"\"\n",
    "client_area_gdf = client_gdf.dissolve()\n",
    "# check again its geometry\n",
    "print(str(client_area_gdf.geom_type))\n",
    "client_area_gdf.plot()\n",
    "# client_dissolve.head()"
   ]
  },
  {
   "cell_type": "code",
   "execution_count": 5,
   "metadata": {},
   "outputs": [
    {
     "data": {
      "text/html": [
       "<div>\n",
       "<style scoped>\n",
       "    .dataframe tbody tr th:only-of-type {\n",
       "        vertical-align: middle;\n",
       "    }\n",
       "\n",
       "    .dataframe tbody tr th {\n",
       "        vertical-align: top;\n",
       "    }\n",
       "\n",
       "    .dataframe thead th {\n",
       "        text-align: right;\n",
       "    }\n",
       "</style>\n",
       "<table border=\"1\" class=\"dataframe\">\n",
       "  <thead>\n",
       "    <tr style=\"text-align: right;\">\n",
       "      <th></th>\n",
       "      <th>CID</th>\n",
       "      <th>Shape_Leng</th>\n",
       "      <th>Shape_Area</th>\n",
       "      <th>Country_n</th>\n",
       "      <th>GID</th>\n",
       "      <th>GID_list</th>\n",
       "      <th>GID_n</th>\n",
       "      <th>geometry</th>\n",
       "    </tr>\n",
       "  </thead>\n",
       "  <tbody>\n",
       "    <tr>\n",
       "      <th>61</th>\n",
       "      <td>FIN</td>\n",
       "      <td>231.567531</td>\n",
       "      <td>62.931585</td>\n",
       "      <td>Finland</td>\n",
       "      <td>FIN</td>\n",
       "      <td>FIN</td>\n",
       "      <td>Finland</td>\n",
       "      <td>MULTIPOLYGON (((22.49806 59.72403, 22.49806 59...</td>\n",
       "    </tr>\n",
       "    <tr>\n",
       "      <th>182</th>\n",
       "      <td>SWE</td>\n",
       "      <td>352.792209</td>\n",
       "      <td>79.228140</td>\n",
       "      <td>Sweden</td>\n",
       "      <td>SWE</td>\n",
       "      <td>SWE</td>\n",
       "      <td>Sweden</td>\n",
       "      <td>MULTIPOLYGON (((12.94139 55.46375, 12.94139 55...</td>\n",
       "    </tr>\n",
       "    <tr>\n",
       "      <th>377</th>\n",
       "      <td>RUS</td>\n",
       "      <td>70.305320</td>\n",
       "      <td>30.520940</td>\n",
       "      <td>Russia</td>\n",
       "      <td>RUS45</td>\n",
       "      <td>RUS1,RUS...,RUS84</td>\n",
       "      <td>Murmansk</td>\n",
       "      <td>MULTIPOLYGON (((40.53593 67.83385, 40.53750 67...</td>\n",
       "    </tr>\n",
       "  </tbody>\n",
       "</table>\n",
       "</div>"
      ],
      "text/plain": [
       "     CID  Shape_Leng  Shape_Area Country_n    GID           GID_list  \\\n",
       "61   FIN  231.567531   62.931585   Finland    FIN                FIN   \n",
       "182  SWE  352.792209   79.228140    Sweden    SWE                SWE   \n",
       "377  RUS   70.305320   30.520940    Russia  RUS45  RUS1,RUS...,RUS84   \n",
       "\n",
       "        GID_n                                           geometry  \n",
       "61    Finland  MULTIPOLYGON (((22.49806 59.72403, 22.49806 59...  \n",
       "182    Sweden  MULTIPOLYGON (((12.94139 55.46375, 12.94139 55...  \n",
       "377  Murmansk  MULTIPOLYGON (((40.53593 67.83385, 40.53750 67...  "
      ]
     },
     "execution_count": 5,
     "metadata": {},
     "output_type": "execute_result"
    }
   ],
   "source": [
    "# https://gis.stackexchange.com/questions/281652/finding-all-neighbors-using-geopandas\n",
    "\"\"\"Extract from GADM the surrounding countries of the one we want to edit\"\"\"\n",
    "for row_index, row in gadm_gdf.iterrows():\n",
    "    if row[0] == client_country_name: #the country we are importing\n",
    "        neightbour_countries_gdf = gadm_gdf[gadm_gdf.geometry.touches(row['geometry'])]\n",
    "    else:\n",
    "        pass\n",
    "# neightbour_countries_gdf = neightbour_countries_gdf.reset_index(drop=False) #restart the index MAYBE WE DONT HAVE TO DO THAT\n",
    "\n",
    "# ax = neightbour_countries_gdf.plot(cmap='jet', markersize=1, alpha=0.5)\n",
    "# ax.set_xlim([4.087524332196379, 31.761592895114386])\n",
    "# ax.set_ylim([57.75900528198801, 71.38487875561317])\n",
    "neightbour_countries_gdf.head()\n"
   ]
  },
  {
   "cell_type": "code",
   "execution_count": 6,
   "metadata": {},
   "outputs": [
    {
     "data": {
      "text/plain": [
       "['FIN', 'SWE', 'RUS']"
      ]
     },
     "execution_count": 6,
     "metadata": {},
     "output_type": "execute_result"
    }
   ],
   "source": [
    "\"\"\"Get the country list, and start doing a difference with both main and surrounding countries\"\"\" \n",
    "countries = []\n",
    "for row_index, country in neightbour_countries_gdf.iterrows():\n",
    "    countries.append(country[0])\n",
    "countries"
   ]
  },
  {
   "cell_type": "code",
   "execution_count": 7,
   "metadata": {},
   "outputs": [
    {
     "name": "stderr",
     "output_type": "stream",
     "text": [
      "c:\\Users\\ruben.crespo\\Anaconda3\\envs\\geoprocessing\\lib\\site-packages\\geopandas\\geoseries.py:207: FutureWarning: The default dtype for empty Series will be 'object' instead of 'float64' in a future version. Specify a dtype explicitly to silence this warning.\n",
      "  s = pd.Series(data, index=index, name=name, **kwargs)\n"
     ]
    }
   ],
   "source": [
    "\"\"\"We create an empty GeoDataFrame to append inside the countries that are finished\"\"\"\n",
    "finished_countries_gs = gpd.GeoSeries()#.reindex_like(new_neightbour_countries_gs)\n",
    "finished_countries_gs.crs = \"EPSG:4326\""
   ]
  },
  {
   "cell_type": "code",
   "execution_count": 8,
   "metadata": {},
   "outputs": [
    {
     "data": {
      "text/plain": [
       "<AxesSubplot:>"
      ]
     },
     "execution_count": 8,
     "metadata": {},
     "output_type": "execute_result"
    },
    {
     "data": {
      "image/png": "[encoded data removed]",
      "text/plain": [
       "<Figure size 432x288 with 1 Axes>"
      ]
     },
     "metadata": {
      "needs_background": "light"
     },
     "output_type": "display_data"
    }
   ],
   "source": [
    "\n",
    "\"\"\"Get the country\"\"\"\n",
    "#This sould iterate for every country, but as we are testing, we are only doing one\n",
    "for i in countries:\n",
    "    if i == \"FIN\": #FIN SWE RUS\n",
    "        country_gdf = neightbour_countries_gdf.loc[(neightbour_countries_gdf[\"CID\"] == \"FIN\")] #here goes i\n",
    "    else:\n",
    "        pass\n",
    "country_gdf.plot()"
   ]
  },
  {
   "cell_type": "code",
   "execution_count": 9,
   "metadata": {},
   "outputs": [
    {
     "data": {
      "text/plain": [
       "<AxesSubplot:>"
      ]
     },
     "execution_count": 9,
     "metadata": {},
     "output_type": "execute_result"
    },
    {
     "data": {
      "image/png": "[encoded data removed]",
      "text/plain": [
       "<Figure size 432x288 with 1 Axes>"
      ]
     },
     "metadata": {
      "needs_background": "light"
     },
     "output_type": "display_data"
    }
   ],
   "source": [
    "\"\"\"Difference of the country and the client\"\"\"\n",
    "new_country_gs = country_gdf.difference(client_area_gdf, align= False)\n",
    "new_country_gs.plot() #country_difference_gs"
   ]
  },
  {
   "cell_type": "code",
   "execution_count": 10,
   "metadata": {},
   "outputs": [
    {
     "data": {
      "text/plain": [
       "GeoSeries([], dtype: geometry)"
      ]
     },
     "execution_count": 10,
     "metadata": {},
     "output_type": "execute_result"
    }
   ],
   "source": [
    "finished_countries_gs"
   ]
  },
  {
   "cell_type": "code",
   "execution_count": null,
   "metadata": {},
   "outputs": [],
   "source": [
    "client_area_gs.plot()"
   ]
  },
  {
   "cell_type": "code",
   "execution_count": 15,
   "metadata": {},
   "outputs": [],
   "source": [
    "\"\"\"Union the client country with the possible fixed countries\"\"\"\n",
    "\"\"\"BEWARE: Union works with index, to make it work, it has to be one element per index value\"\"\"\n",
    "if len(finished_countries_gs.index) == 0:\n",
    "    pass\n",
    "else:\n",
    "    #Dissolve first, only works with gdf\n",
    "    finished_countries_gdf = gpd.GeoDataFrame(geometry=finished_countries_gs)\n",
    "    \n",
    "    finished_countries_gdf = finished_countries_gdf.dissolve()\n",
    "    client_area_gs = client_area_gdf.geometry.union(finished_countries_gdf, align=False)\n",
    "    client_area_gs.plot()"
   ]
  },
  {
   "cell_type": "code",
   "execution_count": 17,
   "metadata": {},
   "outputs": [
    {
     "data": {
      "text/plain": [
       "<AxesSubplot:>"
      ]
     },
     "execution_count": 17,
     "metadata": {},
     "output_type": "execute_result"
    },
    {
     "data": {
      "image/png": "[encoded data removed]",
      "text/plain": [
       "<Figure size 432x288 with 1 Axes>"
      ]
     },
     "metadata": {
      "needs_background": "light"
     },
     "output_type": "display_data"
    }
   ],
   "source": [
    "\"\"\"Union both countries  (+ possible fixed countries)\"\"\"\n",
    "# client_dissolve_gs = gpd.GeoSeries(client_area_gdf['geometry']) #transform the data to geoseries\n",
    "country_union_gs = new_country_gs.union(client_area_gdf.geometry, align=False)\n",
    "country_union_gs.plot()"
   ]
  },
  {
   "cell_type": "code",
   "execution_count": 24,
   "metadata": {},
   "outputs": [
    {
     "data": {
      "text/plain": [
       "<AxesSubplot:>"
      ]
     },
     "execution_count": 24,
     "metadata": {},
     "output_type": "execute_result"
    },
    {
     "data": {
      "image/png": "[encoded data removed]",
      "text/plain": [
       "<Figure size 432x288 with 1 Axes>"
      ]
     },
     "metadata": {
      "needs_background": "light"
     },
     "output_type": "display_data"
    }
   ],
   "source": [
    "\"\"\"We generate the bbox to create a megapolygon with the bbox of the union\"\"\"\n",
    "offset = 1 #be careful with the projection. If meters = 100, if degrees = 1\n",
    "tolerance = 1\n",
    "bbox_df = country_union_gs.bounds + [-offset, -offset, offset, offset]\n",
    "bbox_df['minx'] = bbox_df['minx'].sub(tolerance) # opearte in single columnn\n",
    "bbox_df['miny'] = bbox_df['miny'].sub(tolerance)\n",
    "bbox_df['maxx'] = bbox_df['maxx'].add(tolerance)\n",
    "bbox_df['maxy'] = bbox_df['maxy'].add(tolerance)\n",
    "\n",
    "b = [box(l, b, r, t) for l, b, r, t in zip(bbox_df.minx, bbox_df.miny, bbox_df.maxx, bbox_df.maxy)] #this is the geometry\n",
    "bbox_gdf = gpd.GeoDataFrame(bbox_df, geometry=b)\n",
    "bbox_gdf.crs = \"EPSG:4326\"\n",
    "bbox_gdf.plot() #pandas dataframe "
   ]
  },
  {
   "cell_type": "code",
   "execution_count": null,
   "metadata": {},
   "outputs": [],
   "source": [
    "\"\"\"This new approach, will do the difference with the bbox and the union countries, we are having problems here\"\"\"\n",
    "\"\"\"Do a difference of the both with the country\"\"\"\n",
    "country_union_gdf = gpd.GeoDataFrame(geometry=country_union_gs)\n",
    "country_union_gdf = country_union_gdf.difference(bbox_gdf.geometry, align= False)\n",
    "country_union_gdf.plot()"
   ]
  },
  {
   "cell_type": "code",
   "execution_count": 19,
   "metadata": {},
   "outputs": [
    {
     "data": {
      "text/plain": [
       "<AxesSubplot:>"
      ]
     },
     "execution_count": 19,
     "metadata": {},
     "output_type": "execute_result"
    },
    {
     "data": {
      "image/png": "[encoded data removed]",
      "text/plain": [
       "<Figure size 432x288 with 1 Axes>"
      ]
     },
     "metadata": {
      "needs_background": "light"
     },
     "output_type": "display_data"
    }
   ],
   "source": [
    "\"\"\"Do a difference with both\"\"\"\n",
    "\n",
    "bbox_gdf = bbox_gdf.difference(country_union_gs, align= False)\n",
    "bbox_gdf.plot()"
   ]
  },
  {
   "cell_type": "code",
   "execution_count": 20,
   "metadata": {},
   "outputs": [
    {
     "data": {
      "text/html": [
       "<div>\n",
       "<style scoped>\n",
       "    .dataframe tbody tr th:only-of-type {\n",
       "        vertical-align: middle;\n",
       "    }\n",
       "\n",
       "    .dataframe tbody tr th {\n",
       "        vertical-align: top;\n",
       "    }\n",
       "\n",
       "    .dataframe thead th {\n",
       "        text-align: right;\n",
       "    }\n",
       "</style>\n",
       "<table border=\"1\" class=\"dataframe\">\n",
       "  <thead>\n",
       "    <tr style=\"text-align: right;\">\n",
       "      <th></th>\n",
       "      <th></th>\n",
       "      <th>geometry</th>\n",
       "    </tr>\n",
       "  </thead>\n",
       "  <tbody>\n",
       "    <tr>\n",
       "      <th rowspan=\"5\" valign=\"top\">182</th>\n",
       "      <th>0</th>\n",
       "      <td>POLYGON ((2.08752 53.33625, 2.08752 73.38488, ...</td>\n",
       "    </tr>\n",
       "    <tr>\n",
       "      <th>1</th>\n",
       "      <td>POLYGON ((11.24509 59.09264, 11.24613 59.09290...</td>\n",
       "    </tr>\n",
       "    <tr>\n",
       "      <th>2</th>\n",
       "      <td>POLYGON ((11.29041 59.10025, 11.29646 59.10323...</td>\n",
       "    </tr>\n",
       "    <tr>\n",
       "      <th>3</th>\n",
       "      <td>POLYGON ((11.30106 59.10550, 11.30250 59.10621...</td>\n",
       "    </tr>\n",
       "    <tr>\n",
       "      <th>4</th>\n",
       "      <td>POLYGON ((11.32605 59.11172, 11.32624 59.11176...</td>\n",
       "    </tr>\n",
       "  </tbody>\n",
       "</table>\n",
       "</div>"
      ],
      "text/plain": [
       "                                                geometry\n",
       "182 0  POLYGON ((2.08752 53.33625, 2.08752 73.38488, ...\n",
       "    1  POLYGON ((11.24509 59.09264, 11.24613 59.09290...\n",
       "    2  POLYGON ((11.29041 59.10025, 11.29646 59.10323...\n",
       "    3  POLYGON ((11.30106 59.10550, 11.30250 59.10621...\n",
       "    4  POLYGON ((11.32605 59.11172, 11.32624 59.11176..."
      ]
     },
     "execution_count": 20,
     "metadata": {},
     "output_type": "execute_result"
    }
   ],
   "source": [
    "\n",
    "\"\"\"Pass to gdf and explode the multiplygon\"\"\"\n",
    "bbox_gdf = gpd.GeoDataFrame(geometry=gpd.GeoSeries(bbox_gdf)) \n",
    "bbox_gdf = bbox_gdf.explode(index_parts=False)\n",
    "bbox_gdf.head()"
   ]
  },
  {
   "cell_type": "code",
   "execution_count": 21,
   "metadata": {},
   "outputs": [
    {
     "name": "stderr",
     "output_type": "stream",
     "text": [
      "C:\\Users\\ruben.crespo\\AppData\\Local\\Temp\\ipykernel_19568\\2178125016.py:2: UserWarning: Geometry is in a geographic CRS. Results from 'area' are likely incorrect. Use 'GeoSeries.to_crs()' to re-project geometries to a projected CRS before this operation.\n",
      "\n",
      "  bbox_gdf['area'] = bbox_gdf.area\n"
     ]
    },
    {
     "data": {
      "text/html": [
       "<div>\n",
       "<style scoped>\n",
       "    .dataframe tbody tr th:only-of-type {\n",
       "        vertical-align: middle;\n",
       "    }\n",
       "\n",
       "    .dataframe tbody tr th {\n",
       "        vertical-align: top;\n",
       "    }\n",
       "\n",
       "    .dataframe thead th {\n",
       "        text-align: right;\n",
       "    }\n",
       "</style>\n",
       "<table border=\"1\" class=\"dataframe\">\n",
       "  <thead>\n",
       "    <tr style=\"text-align: right;\">\n",
       "      <th></th>\n",
       "      <th></th>\n",
       "      <th>geometry</th>\n",
       "      <th>area</th>\n",
       "    </tr>\n",
       "  </thead>\n",
       "  <tbody>\n",
       "    <tr>\n",
       "      <th rowspan=\"5\" valign=\"top\">182</th>\n",
       "      <th>1</th>\n",
       "      <td>POLYGON ((11.24509 59.09264, 11.24613 59.09290...</td>\n",
       "      <td>0.000009</td>\n",
       "    </tr>\n",
       "    <tr>\n",
       "      <th>2</th>\n",
       "      <td>POLYGON ((11.29041 59.10025, 11.29646 59.10323...</td>\n",
       "      <td>0.000009</td>\n",
       "    </tr>\n",
       "    <tr>\n",
       "      <th>3</th>\n",
       "      <td>POLYGON ((11.30106 59.10550, 11.30250 59.10621...</td>\n",
       "      <td>0.000016</td>\n",
       "    </tr>\n",
       "    <tr>\n",
       "      <th>4</th>\n",
       "      <td>POLYGON ((11.32605 59.11172, 11.32624 59.11176...</td>\n",
       "      <td>0.000020</td>\n",
       "    </tr>\n",
       "    <tr>\n",
       "      <th>5</th>\n",
       "      <td>POLYGON ((11.34757 59.11053, 11.35049 59.10884...</td>\n",
       "      <td>0.000002</td>\n",
       "    </tr>\n",
       "  </tbody>\n",
       "</table>\n",
       "</div>"
      ],
      "text/plain": [
       "                                                geometry      area\n",
       "182 1  POLYGON ((11.24509 59.09264, 11.24613 59.09290...  0.000009\n",
       "    2  POLYGON ((11.29041 59.10025, 11.29646 59.10323...  0.000009\n",
       "    3  POLYGON ((11.30106 59.10550, 11.30250 59.10621...  0.000016\n",
       "    4  POLYGON ((11.32605 59.11172, 11.32624 59.11176...  0.000020\n",
       "    5  POLYGON ((11.34757 59.11053, 11.35049 59.10884...  0.000002"
      ]
     },
     "execution_count": 21,
     "metadata": {},
     "output_type": "execute_result"
    }
   ],
   "source": [
    "\"\"\"Calculate the area and sort by size, then, delete the first row as it is the biggest one\"\"\"\n",
    "bbox_gdf['area'] = bbox_gdf.area\n",
    "bbox_gdf.sort_values(by=['area'], ascending=False) #sort the values to size\n",
    "bbox_gdf = bbox_gdf.iloc[1: , :] #extract the first polygon, which is the biggest one\n",
    "bbox_gdf.head()\n"
   ]
  },
  {
   "cell_type": "code",
   "execution_count": 79,
   "metadata": {},
   "outputs": [
    {
     "data": {
      "text/plain": [
       "<AxesSubplot:>"
      ]
     },
     "execution_count": 79,
     "metadata": {},
     "output_type": "execute_result"
    },
    {
     "data": {
      "image/png": "[encoded data removed]",
      "text/plain": [
       "<Figure size 432x288 with 1 Axes>"
      ]
     },
     "metadata": {
      "needs_background": "light"
     },
     "output_type": "display_data"
    }
   ],
   "source": [
    "\"\"\"Dissolve the small polygons and union with the country of sweeden\"\"\"\n",
    "bbox_gdf = bbox_gdf.dissolve()\n",
    "new_country_gs = new_country_gs.union(bbox_gdf['geometry'], align=False)\n",
    "new_country_gs.plot()"
   ]
  },
  {
   "cell_type": "code",
   "execution_count": 80,
   "metadata": {},
   "outputs": [
    {
     "name": "stderr",
     "output_type": "stream",
     "text": [
      "c:\\Users\\ruben.crespo\\Anaconda3\\envs\\geoprocessing\\lib\\site-packages\\geopandas\\geoseries.py:551: FutureWarning: The series.append method is deprecated and will be removed from pandas in a future version. Use pandas.concat instead.\n",
      "  val = getattr(super(GeoSeries, self), mtd)(*args, **kwargs)\n"
     ]
    }
   ],
   "source": [
    "\"\"\"Append new country to the finished gs list\"\"\"\n",
    "finished_countries_gs = finished_countries_gs.append(new_country_gs)"
   ]
  },
  {
   "cell_type": "code",
   "execution_count": 84,
   "metadata": {},
   "outputs": [
    {
     "data": {
      "text/html": [
       "<div>\n",
       "<style scoped>\n",
       "    .dataframe tbody tr th:only-of-type {\n",
       "        vertical-align: middle;\n",
       "    }\n",
       "\n",
       "    .dataframe tbody tr th {\n",
       "        vertical-align: top;\n",
       "    }\n",
       "\n",
       "    .dataframe thead th {\n",
       "        text-align: right;\n",
       "    }\n",
       "</style>\n",
       "<table border=\"1\" class=\"dataframe\">\n",
       "  <thead>\n",
       "    <tr style=\"text-align: right;\">\n",
       "      <th></th>\n",
       "      <th>CID</th>\n",
       "      <th>Shape_Leng</th>\n",
       "      <th>Shape_Area</th>\n",
       "      <th>Country_n</th>\n",
       "      <th>GID</th>\n",
       "      <th>GID_list</th>\n",
       "      <th>GID_n</th>\n",
       "      <th>geometry</th>\n",
       "    </tr>\n",
       "  </thead>\n",
       "  <tbody>\n",
       "    <tr>\n",
       "      <th>61</th>\n",
       "      <td>FIN</td>\n",
       "      <td>231.567531</td>\n",
       "      <td>62.931585</td>\n",
       "      <td>Finland</td>\n",
       "      <td>FIN</td>\n",
       "      <td>FIN</td>\n",
       "      <td>Finland</td>\n",
       "      <td>MULTIPOLYGON (((22.49917 59.72430, 22.49917 59...</td>\n",
       "    </tr>\n",
       "    <tr>\n",
       "      <th>182</th>\n",
       "      <td>SWE</td>\n",
       "      <td>352.792209</td>\n",
       "      <td>79.228140</td>\n",
       "      <td>Sweden</td>\n",
       "      <td>SWE</td>\n",
       "      <td>SWE</td>\n",
       "      <td>Sweden</td>\n",
       "      <td>MULTIPOLYGON (((12.94195 55.46292, 12.94195 55...</td>\n",
       "    </tr>\n",
       "    <tr>\n",
       "      <th>317</th>\n",
       "      <td>RUS</td>\n",
       "      <td>NaN</td>\n",
       "      <td>NaN</td>\n",
       "      <td>Russian Federation</td>\n",
       "      <td>RUS1</td>\n",
       "      <td>RUS1,RUS2</td>\n",
       "      <td>Russian Federation</td>\n",
       "      <td>MULTIPOLYGON (((33.06250 66.57917, 33.06042 66...</td>\n",
       "    </tr>\n",
       "  </tbody>\n",
       "</table>\n",
       "</div>"
      ],
      "text/plain": [
       "     CID  Shape_Leng  Shape_Area           Country_n   GID   GID_list  \\\n",
       "61   FIN  231.567531   62.931585             Finland   FIN        FIN   \n",
       "182  SWE  352.792209   79.228140              Sweden   SWE        SWE   \n",
       "317  RUS         NaN         NaN  Russian Federation  RUS1  RUS1,RUS2   \n",
       "\n",
       "                  GID_n                                           geometry  \n",
       "61              Finland  MULTIPOLYGON (((22.49917 59.72430, 22.49917 59...  \n",
       "182              Sweden  MULTIPOLYGON (((12.94195 55.46292, 12.94195 55...  \n",
       "317  Russian Federation  MULTIPOLYGON (((33.06250 66.57917, 33.06042 66...  "
      ]
     },
     "execution_count": 84,
     "metadata": {},
     "output_type": "execute_result"
    }
   ],
   "source": [
    "\"\"\"Update the neighbours gdf with the gs\"\"\"\n",
    "neightbour_countries_gdf = neightbour_countries_gdf.set_geometry(finished_countries_gs)\n",
    "neightbour_countries_gdf"
   ]
  },
  {
   "cell_type": "code",
   "execution_count": 85,
   "metadata": {},
   "outputs": [
    {
     "name": "stderr",
     "output_type": "stream",
     "text": [
      "c:\\Users\\ruben.crespo\\Anaconda3\\envs\\geoprocessing\\lib\\site-packages\\geopandas\\io\\file.py:299: FutureWarning: pandas.Int64Index is deprecated and will be removed from pandas in a future version. Use pandas.Index with the appropriate dtype instead.\n",
      "  pd.Int64Index,\n"
     ]
    }
   ],
   "source": [
    "\"\"\"Do the exportation to see wtf is happening\"\"\"\n",
    "neightbour_countries_gdf.to_file('neighbour_fixed.shp', driver=\"ESRI Shapefile\")"
   ]
  },
  {
   "cell_type": "code",
   "execution_count": null,
   "metadata": {},
   "outputs": [],
   "source": [
    "\"\"\"Create a gs with the new country and the rest of the neightbour country geometries\"\"\"\n",
    "\n",
    "#we do a copy, which will be updated\n",
    "\n",
    "new_neightbour_countries_gs = new_country_gs\n",
    "\n",
    "for row_index, row in neightbour_countries_gdf.iterrows(): #row is a pandas series\n",
    "     #row_index 0,1,2\n",
    "     row_gs = gpd.GeoSeries(row['geometry'], index=[row_index]) #transform to Geoseries, adds the index VERY IMPORTANT if not, everything will be 0\n",
    "\n",
    "     row_gs.crs =  \"EPSG:4326\" #transform to correct projection\n",
    "     if row_index == new_country_gs.index: #we want to slip that part\n",
    "          pass\n",
    "     else:\n",
    "          new_neightbour_countries_gs = new_neightbour_countries_gs.append(row_gs, ignore_index=False) #the \"x = x\" must be the same so we accumulate the values\n",
    "\n",
    "new_neightbour_countries_gs.sort_index() #Here we sort the index descending\n",
    "\n",
    "\"\"\"Update the neighbours gdf with the gs\"\"\"\n",
    "neightbour_countries_gdf = neightbour_countries_gdf.set_geometry(new_neightbour_countries_gs)\n",
    "neightbour_countries_gdf"
   ]
  },
  {
   "cell_type": "markdown",
   "metadata": {},
   "source": [
    "# OTHER STUFF I HAVE BEEN TESTING\n",
    "\n",
    "# Here is an idea\n",
    "- Dissolve all the touching countries into one.\n",
    "- Do the difference with the clien_country"
   ]
  },
  {
   "cell_type": "code",
   "execution_count": 10,
   "metadata": {},
   "outputs": [
    {
     "data": {
      "text/plain": [
       "<AxesSubplot:>"
      ]
     },
     "execution_count": 10,
     "metadata": {},
     "output_type": "execute_result"
    },
    {
     "data": {
      "image/png": "[encoded data removed]",
      "text/plain": [
       "<Figure size 432x288 with 1 Axes>"
      ]
     },
     "metadata": {
      "needs_background": "light"
     },
     "output_type": "display_data"
    }
   ],
   "source": [
    "\"\"\"Dissolve neightbour countries\"\"\"\n",
    "neightbour_dissolve_gdf = neightbour_countries_gdf.dissolve()\n",
    "# neightbour_dissolve_gdf.plot(cmap='jet')"
   ]
  },
  {
   "cell_type": "code",
   "execution_count": 42,
   "metadata": {},
   "outputs": [],
   "source": [
    "\"\"\"Difference of norway and rest so we define the external limitation\"\"\"\n",
    "neightbour_difference_gs = neightbour_dissolve_gdf.difference(client_dissolve_gdf, align= False)\n",
    "# country_difference_gs.plot(cmap='jet')\n",
    "\"\"\"Difference of norway and sweeden\"\"\"\n",
    "country_difference_gs = country_gdf.difference(client_dissolve_gdf, align= False)\n",
    "# country_difference_gs.plot()"
   ]
  },
  {
   "cell_type": "code",
   "execution_count": 43,
   "metadata": {},
   "outputs": [],
   "source": [
    "\"\"\"Union / Dissolve everything, the neightbourhgtour countries and the client country\"\"\"\n",
    "client_dissolve_gs = gpd.GeoSeries(client_dissolve_gdf['geometry']) #transform the data to geoseries\n",
    "country_neightbour_union_gs = neightbour_difference_gs.union(client_dissolve_gs, align=False)\n",
    "# country_union_gs.plot()"
   ]
  },
  {
   "cell_type": "code",
   "execution_count": null,
   "metadata": {},
   "outputs": [],
   "source": [
    "\"\"\"We generate the bbox to create a megapolygon with the bbox of the whole union\"\"\"\n",
    "offset = 1 #be careful with the projection. If meters = 100, if degrees = 1\n",
    "tolerance = 1\n",
    "bbox_df = country_neightbour_union_gs.bounds + [-offset, -offset, offset, offset]\n",
    "\n",
    "bbox_df['minx'] = bbox_df['minx'].sub(tolerance) # opearte in single columnn\n",
    "bbox_df['miny'] = bbox_df['miny'].sub(tolerance)\n",
    "bbox_df['maxx'] = bbox_df['maxx'].add(tolerance)\n",
    "bbox_df['maxy'] = bbox_df['maxy'].add(tolerance)\n",
    "\n",
    "b = [box(l, b, r, t) for l, b, r, t in zip(bbox_df.minx, bbox_df.miny, bbox_df.maxx, bbox_df.maxy)] #this is the geometry\n",
    "bbox_gdf = gpd.GeoDataFrame(bbox_df, geometry=b) #bbox dataframe to geodataframe \n",
    "bbox_gdf.crs = \"EPSG:4326\" #set the crs\n",
    "\n",
    "\"\"\"Do a difference with both\"\"\"\n",
    "bbox_gdf = bbox_gdf.difference(country_union_gs, align= False)\n",
    "\n",
    "\n",
    "\"\"\"Pass to gdf and explode the multiplygon\"\"\"\n",
    "bbox_gdf = gpd.GeoDataFrame(geometry=gpd.GeoSeries(bbox_gdf))\n",
    "#important documentation from explode: https://gis.stackexchange.com/questions/384513/exploding-column-in-geopandas\n",
    "bbox_gdf = bbox_gdf.explode(ignore_index=False, index_parts=False) #the index_parts does not work, it creates a multiindex\n",
    "# print(bbox_gdf.reset_index())\n",
    "bbox_gdf = bbox_gdf.reset_index(level=[0,1]) #to undo the multidindex\n",
    "\n",
    "#Here we loose the original index\n",
    "\n",
    "\"\"\"Calculate the area and sort by size, then, delete the first row as it is the biggest one\"\"\"\n",
    "# bbox_gs = gpd.GeoSeries(bbox_gdf['geometry'])\n",
    "# bbox_gdf = gpd.GeoDataFrame(geometry=gpd.GeoSeries(bbox_gs))\n",
    "bbox_gdf['area'] = bbox_gdf.area\n",
    "\n",
    "\n",
    "\n",
    "bbox_gdf.sort_values(by=['area'], ascending=False) #sort the values to size\n",
    "bbox_gdf = bbox_gdf.iloc[1: , :] #extract the first polygon, which is the biggest one"
   ]
  },
  {
   "cell_type": "code",
   "execution_count": 78,
   "metadata": {},
   "outputs": [
    {
     "data": {
      "text/html": [
       "<div>\n",
       "<style scoped>\n",
       "    .dataframe tbody tr th:only-of-type {\n",
       "        vertical-align: middle;\n",
       "    }\n",
       "\n",
       "    .dataframe tbody tr th {\n",
       "        vertical-align: top;\n",
       "    }\n",
       "\n",
       "    .dataframe thead th {\n",
       "        text-align: right;\n",
       "    }\n",
       "</style>\n",
       "<table border=\"1\" class=\"dataframe\">\n",
       "  <thead>\n",
       "    <tr style=\"text-align: right;\">\n",
       "      <th></th>\n",
       "      <th>level_0</th>\n",
       "      <th>level_1</th>\n",
       "      <th>geometry</th>\n",
       "      <th>area</th>\n",
       "    </tr>\n",
       "  </thead>\n",
       "  <tbody>\n",
       "    <tr>\n",
       "      <th>1</th>\n",
       "      <td>0</td>\n",
       "      <td>1</td>\n",
       "      <td>POLYGON ((27.74018 58.99980, 27.74021 58.99983...</td>\n",
       "      <td>1.599644e-07</td>\n",
       "    </tr>\n",
       "    <tr>\n",
       "      <th>2</th>\n",
       "      <td>0</td>\n",
       "      <td>2</td>\n",
       "      <td>POLYGON ((28.06322 59.29858, 28.06309 59.29877...</td>\n",
       "      <td>1.732305e-06</td>\n",
       "    </tr>\n",
       "    <tr>\n",
       "      <th>3</th>\n",
       "      <td>0</td>\n",
       "      <td>3</td>\n",
       "      <td>POLYGON ((28.06208 59.29820, 28.06206 59.29834...</td>\n",
       "      <td>4.277355e-07</td>\n",
       "    </tr>\n",
       "    <tr>\n",
       "      <th>4</th>\n",
       "      <td>0</td>\n",
       "      <td>4</td>\n",
       "      <td>POLYGON ((11.24509 59.09264, 11.24613 59.09290...</td>\n",
       "      <td>8.744653e-06</td>\n",
       "    </tr>\n",
       "    <tr>\n",
       "      <th>5</th>\n",
       "      <td>0</td>\n",
       "      <td>5</td>\n",
       "      <td>POLYGON ((11.29041 59.10025, 11.29646 59.10323...</td>\n",
       "      <td>8.598755e-06</td>\n",
       "    </tr>\n",
       "  </tbody>\n",
       "</table>\n",
       "</div>"
      ],
      "text/plain": [
       "   level_0  level_1                                           geometry  \\\n",
       "1        0        1  POLYGON ((27.74018 58.99980, 27.74021 58.99983...   \n",
       "2        0        2  POLYGON ((28.06322 59.29858, 28.06309 59.29877...   \n",
       "3        0        3  POLYGON ((28.06208 59.29820, 28.06206 59.29834...   \n",
       "4        0        4  POLYGON ((11.24509 59.09264, 11.24613 59.09290...   \n",
       "5        0        5  POLYGON ((11.29041 59.10025, 11.29646 59.10323...   \n",
       "\n",
       "           area  \n",
       "1  1.599644e-07  \n",
       "2  1.732305e-06  \n",
       "3  4.277355e-07  \n",
       "4  8.744653e-06  \n",
       "5  8.598755e-06  "
      ]
     },
     "execution_count": 78,
     "metadata": {},
     "output_type": "execute_result"
    }
   ],
   "source": [
    "bbox_gdf.head()"
   ]
  },
  {
   "cell_type": "code",
   "execution_count": 76,
   "metadata": {},
   "outputs": [
    {
     "data": {
      "text/plain": [
       "<AxesSubplot:>"
      ]
     },
     "execution_count": 76,
     "metadata": {},
     "output_type": "execute_result"
    },
    {
     "data": {
      "image/png": "[encoded data removed]",
      "text/plain": [
       "<Figure size 432x288 with 1 Axes>"
      ]
     },
     "metadata": {
      "needs_background": "light"
     },
     "output_type": "display_data"
    }
   ],
   "source": [
    "country_difference_gs.plot()"
   ]
  },
  {
   "cell_type": "code",
   "execution_count": 94,
   "metadata": {},
   "outputs": [
    {
     "name": "stderr",
     "output_type": "stream",
     "text": [
      "c:\\Users\\ruben.crespo\\Anaconda3\\envs\\geoprocessing\\lib\\site-packages\\geopandas\\io\\file.py:299: FutureWarning: pandas.Int64Index is deprecated and will be removed from pandas in a future version. Use pandas.Index with the appropriate dtype instead.\n",
      "  pd.Int64Index,\n"
     ]
    }
   ],
   "source": [
    "\"\"\"Do the exportation to see wtf is happening\"\"\"\n",
    "country_difference_gs.to_file('country_difference_gs_1.shp', driver=\"ESRI Shapefile\")"
   ]
  },
  {
   "cell_type": "code",
   "execution_count": 93,
   "metadata": {},
   "outputs": [
    {
     "data": {
      "text/plain": [
       "<AxesSubplot:>"
      ]
     },
     "execution_count": 93,
     "metadata": {},
     "output_type": "execute_result"
    },
    {
     "data": {
      "image/png": "[encoded data removed]",
      "text/plain": [
       "<Figure size 432x288 with 1 Axes>"
      ]
     },
     "metadata": {
      "needs_background": "light"
     },
     "output_type": "display_data"
    }
   ],
   "source": [
    "\"\"\"Dissolve the small polygons and union with the country of sweeden\"\"\"\n",
    "bbox_gdf = bbox_gdf.dissolve()\n",
    "# bbox_gs = gpd.GeoSeries(bbox_gdf['geometry']) #transform the data to geoseries\n",
    "country_difference_gs = country_difference_gs.union(bbox_gdf.geometry, align=False)\n",
    "country_difference_gs.plot()"
   ]
  },
  {
   "cell_type": "code",
   "execution_count": 92,
   "metadata": {},
   "outputs": [],
   "source": [
    "\"\"\"Take all the small polygons that touch the country\"\"\"\n",
    "\n",
    "test_gs = bbox_gdf['geometry'].sindex\n",
    "# bbox_gs = gpd.GeoSeries(bbox_gdf['geometry'])\n",
    "# country_gs = gpd.GeoSeries(country_gdf['geometry'])\n",
    "# neightbour_countries_gdf = country_union_gs[country_union_gs.geometry.touches(row['geometry'])]\n",
    "\n",
    "# boo = test_gs.touches(country_difference_gs)\n",
    "\n",
    "# test_gdf = test_gdf[test_gdf.geometry.touches(country_difference_gs)]\n",
    "#the elements touch the country, so we get the lsit of the elemetns and union to the main country\n"
   ]
  },
  {
   "cell_type": "markdown",
   "metadata": {},
   "source": [
    "Problem is here: we can only touch one polygon, the bbox has a crs and the polygons, and the country_difference is correct"
   ]
  },
  {
   "cell_type": "code",
   "execution_count": 88,
   "metadata": {},
   "outputs": [
    {
     "name": "stdout",
     "output_type": "stream",
     "text": [
      "True\n"
     ]
    }
   ],
   "source": [
    "for i in boo:\n",
    "    if i == True:\n",
    "        print(i)\n",
    "    else:\n",
    "        pass"
   ]
  },
  {
   "cell_type": "code",
   "execution_count": 28,
   "metadata": {},
   "outputs": [
    {
     "name": "stderr",
     "output_type": "stream",
     "text": [
      "c:\\Users\\ruben.crespo\\Anaconda3\\envs\\geoprocessing\\lib\\site-packages\\geopandas\\geoseries.py:551: FutureWarning: The series.append method is deprecated and will be removed from pandas in a future version. Use pandas.concat instead.\n",
      "  val = getattr(super(GeoSeries, self), mtd)(*args, **kwargs)\n"
     ]
    }
   ],
   "source": [
    "\"\"\"Take all the small polygons that touch the country\"\"\"\n",
    "\"\"\"Union the small pieces of the bbox with the country we are working on\"\"\"\n",
    "test_gdf = country_gdf\n",
    "\n",
    "# bbox_gs = gpd.GeoSeries(bbox_gdf['geometry'])\n",
    "# country_gs = gpd.GeoSeries(country_gdf['geometry'])\n",
    "\n",
    "test_gs = test_gdf.geometry.append(bbox_gdf.geometry, ignore_index=False)\n",
    "# tmp = tmp.join(neightbour_countries.reset_index(drop=True), on=\"polygon_i\")\n",
    "\n"
   ]
  },
  {
   "cell_type": "code",
   "execution_count": 29,
   "metadata": {},
   "outputs": [
    {
     "data": {
      "text/plain": [
       "182       MULTIPOLYGON (((12.94139 55.46375, 12.94139 55...\n",
       "(0, 1)    POLYGON ((27.74018 58.99980, 27.74021 58.99983...\n",
       "(0, 2)    POLYGON ((28.06322 59.29858, 28.06309 59.29877...\n",
       "(0, 3)    POLYGON ((28.06208 59.29820, 28.06206 59.29834...\n",
       "(0, 4)    POLYGON ((11.24509 59.09264, 11.24613 59.09290...\n",
       "dtype: geometry"
      ]
     },
     "execution_count": 29,
     "metadata": {},
     "output_type": "execute_result"
    }
   ],
   "source": [
    "test_gs.head()"
   ]
  },
  {
   "cell_type": "code",
   "execution_count": null,
   "metadata": {},
   "outputs": [],
   "source": [
    "\"\"\"Dissolve the small polygons and union with the country of sweeden\"\"\"\n",
    "bbox_gdf = bbox_gdf.dissolve()\n",
    "bbox_gs = gpd.GeoSeries(bbox_gdf['geometry']) #transform the data to geoseries\n",
    "country_difference_gs = country_difference_gs.union(bbox_gs, align=False)\n",
    "country_difference_gs.plot()"
   ]
  },
  {
   "cell_type": "code",
   "execution_count": 6,
   "metadata": {},
   "outputs": [],
   "source": [
    "\n",
    "\"\"\"Create the output file\"\"\"\n",
    "res = client_dissolve\n",
    "lines2_union = neightbour_countries.geometry.unary_union\n",
    "res.geometry = res.geometry.apply(lambda x: snap(x, lines2_union, 10))\n",
    "res.to_file('result.shp', driver=\"ESRI Shapefile\")"
   ]
  },
  {
   "cell_type": "code",
   "execution_count": null,
   "metadata": {},
   "outputs": [],
   "source": [
    "tmp_gdf = neightbour_countries.copy()\n",
    "tmp_gdf['distance'] = tmp_gdf.distance(client_dissolve)\n",
    "closest_geom = list(tmp_gdf.sort_values('distance')['geometry'])[1]"
   ]
  },
  {
   "cell_type": "code",
   "execution_count": null,
   "metadata": {},
   "outputs": [],
   "source": [
    "#client_dissolve\n",
    "for index, row in neightbour_countries.iterrows(): #country is the row that corresponds to the multipolygon of the country\n",
    "\n",
    "    \n",
    "   \n",
    "    client_snapped = snap(row.loc['geometry'], client_dissolve.loc['geometry'] , 1)\n",
    "    \n",
    "    # print(row['geometry'], \"\\n\")\n",
    "    # tmp_gdf = s.copy()\n",
    "    # tmp_gdf['distance'] = tmp_gdf.distance(row['geometry'])\n",
    "    # closest_geom = list(tmp_gdf.sort_values('distance')['geometry'])[1]\n",
    "    # # I took 1 because index 0 would be the row itself\n",
    "    # snapped_geom = snap(row['geometry'], closest_geom, 0.5)\n",
    "    # s.set_value(index, 'geometry', snapped_geom)\n",
    "    # print(row, \"\\n\")"
   ]
  },
  {
   "cell_type": "code",
   "execution_count": 18,
   "metadata": {},
   "outputs": [
    {
     "name": "stderr",
     "output_type": "stream",
     "text": [
      "C:\\Users\\ruben.crespo\\AppData\\Local\\Temp\\ipykernel_12528\\3922114552.py:3: UserWarning: Geometry is in a geographic CRS. Results from 'distance' are likely incorrect. Use 'GeoSeries.to_crs()' to re-project geometries to a projected CRS before this operation.\n",
      "\n",
      "  tmp_gdf['distance'] = tmp_gdf.distance(row['geometry'])\n"
     ]
    }
   ],
   "source": [
    "for index, row in neightbour_countries.iterrows():\n",
    "    tmp_gdf = neightbour_countries.copy()\n",
    "    tmp_gdf['distance'] = tmp_gdf.distance(row['geometry'])\n",
    "    closest_geom = list(tmp_gdf.sort_values('distance')['geometry'])[1]\n",
    "    # I took 1 because index 0 would be the row itself\n",
    "    snapped_geom = snap(row['geometry'], closest_geom, 1)\n",
    "    neightbour_countries.loc[index, 'geometry'] = snapped_geom"
   ]
  },
  {
   "cell_type": "code",
   "execution_count": null,
   "metadata": {},
   "outputs": [],
   "source": [
    "\"\"\"The snapping part (this in an example)\"\"\"\n",
    "square = Polygon([(1,1), (2, 1), (2, 2), (1, 2), (1, 1)])\n",
    "line = LineString([(0,0), (0.8, 0.8), (1.8, 0.95), (2.6, 0.5)])\n",
    "result = snap(line, square, 0.5)\n",
    "result.wkt"
   ]
  },
  {
   "cell_type": "code",
   "execution_count": 16,
   "metadata": {},
   "outputs": [
    {
     "name": "stdout",
     "output_type": "stream",
     "text": [
      "<class 'geopandas.geoseries.GeoSeries'>\n"
     ]
    },
    {
     "data": {
      "image/png": "[encoded data removed]",
      "text/plain": [
       "<Figure size 432x288 with 1 Axes>"
      ]
     },
     "metadata": {
      "needs_background": "light"
     },
     "output_type": "display_data"
    }
   ],
   "source": [
    "# Create a linestring from the polygon\n",
    "if ''.join(client_dissolve.geom_type.unique().tolist()) == 'Polygon':\n",
    "    client_linestring = client_dissolve.boundary\n",
    "    print(type(client_linestring))\n",
    "    client_linestring.plot()\n",
    "else:\n",
    "    print('check the geometry type again')\n",
    "  "
   ]
  },
  {
   "cell_type": "code",
   "execution_count": 33,
   "metadata": {},
   "outputs": [
    {
     "data": {
      "text/html": [
       "<div>\n",
       "<style scoped>\n",
       "    .dataframe tbody tr th:only-of-type {\n",
       "        vertical-align: middle;\n",
       "    }\n",
       "\n",
       "    .dataframe tbody tr th {\n",
       "        vertical-align: top;\n",
       "    }\n",
       "\n",
       "    .dataframe thead th {\n",
       "        text-align: right;\n",
       "    }\n",
       "</style>\n",
       "<table border=\"1\" class=\"dataframe\">\n",
       "  <thead>\n",
       "    <tr style=\"text-align: right;\">\n",
       "      <th></th>\n",
       "      <th>geometry</th>\n",
       "    </tr>\n",
       "  </thead>\n",
       "  <tbody>\n",
       "    <tr>\n",
       "      <th>0</th>\n",
       "      <td>POINT (5.60118 58.28464)</td>\n",
       "    </tr>\n",
       "    <tr>\n",
       "      <th>1</th>\n",
       "      <td>POINT (5.59022 58.29056)</td>\n",
       "    </tr>\n",
       "    <tr>\n",
       "      <th>2</th>\n",
       "      <td>POINT (5.57860 58.29713)</td>\n",
       "    </tr>\n",
       "    <tr>\n",
       "      <th>3</th>\n",
       "      <td>POINT (5.57682 58.29820)</td>\n",
       "    </tr>\n",
       "    <tr>\n",
       "      <th>4</th>\n",
       "      <td>POINT (5.51954 58.33251)</td>\n",
       "    </tr>\n",
       "    <tr>\n",
       "      <th>...</th>\n",
       "      <td>...</td>\n",
       "    </tr>\n",
       "    <tr>\n",
       "      <th>19020</th>\n",
       "      <td>POINT (6.04436 58.07749)</td>\n",
       "    </tr>\n",
       "    <tr>\n",
       "      <th>19021</th>\n",
       "      <td>POINT (5.87175 58.15833)</td>\n",
       "    </tr>\n",
       "    <tr>\n",
       "      <th>19022</th>\n",
       "      <td>POINT (5.62302 58.27372)</td>\n",
       "    </tr>\n",
       "    <tr>\n",
       "      <th>19023</th>\n",
       "      <td>POINT (5.61046 58.27979)</td>\n",
       "    </tr>\n",
       "    <tr>\n",
       "      <th>19024</th>\n",
       "      <td>POINT (5.60118 58.28464)</td>\n",
       "    </tr>\n",
       "  </tbody>\n",
       "</table>\n",
       "<p>19025 rows × 1 columns</p>\n",
       "</div>"
      ],
      "text/plain": [
       "                       geometry\n",
       "0      POINT (5.60118 58.28464)\n",
       "1      POINT (5.59022 58.29056)\n",
       "2      POINT (5.57860 58.29713)\n",
       "3      POINT (5.57682 58.29820)\n",
       "4      POINT (5.51954 58.33251)\n",
       "...                         ...\n",
       "19020  POINT (6.04436 58.07749)\n",
       "19021  POINT (5.87175 58.15833)\n",
       "19022  POINT (5.62302 58.27372)\n",
       "19023  POINT (5.61046 58.27979)\n",
       "19024  POINT (5.60118 58.28464)\n",
       "\n",
       "[19025 rows x 1 columns]"
      ]
     },
     "execution_count": 33,
     "metadata": {},
     "output_type": "execute_result"
    }
   ],
   "source": [
    "\"\"\"We creaate the GeoSeries Points from the Linestring\"\"\"\n",
    "\n",
    "tuple_list = list(client_linestring.geometry[0].coords) #the elements inside are tuples\n",
    "points = []\n",
    "\n",
    "for x in tuple_list:\n",
    "    y = Point(x)\n",
    "    points.append(y)\n",
    "    \n",
    "# print(points)\n",
    "d = {'geometry': points}\n",
    "client_points = gpd.GeoDataFrame(d, crs=\"EPSG:4326\") #this has to be a geodataframe, no geoseries\n",
    "type(client_points)\n",
    "client_points"
   ]
  },
  {
   "cell_type": "code",
   "execution_count": 8,
   "metadata": {},
   "outputs": [],
   "source": [
    "\n",
    "\"\"\"from the gadm layer, remove the client country\"\"\"\n",
    "client_country = (gadm_gdf['CID'] == 'NOR') #create a filter and use it the the dataframe\n",
    "new_gadm_gdf = gadm_gdf.loc[gadm_gdf['CID'] != 'NOR'] #create dataframe out of the filter"
   ]
  },
  {
   "cell_type": "code",
   "execution_count": 14,
   "metadata": {},
   "outputs": [
    {
     "data": {
      "text/html": [
       "<div>\n",
       "<style scoped>\n",
       "    .dataframe tbody tr th:only-of-type {\n",
       "        vertical-align: middle;\n",
       "    }\n",
       "\n",
       "    .dataframe tbody tr th {\n",
       "        vertical-align: top;\n",
       "    }\n",
       "\n",
       "    .dataframe thead th {\n",
       "        text-align: right;\n",
       "    }\n",
       "</style>\n",
       "<table border=\"1\" class=\"dataframe\">\n",
       "  <thead>\n",
       "    <tr style=\"text-align: right;\">\n",
       "      <th></th>\n",
       "      <th>CID</th>\n",
       "      <th>Shape_Leng</th>\n",
       "      <th>Shape_Area</th>\n",
       "      <th>Country_n</th>\n",
       "      <th>GID</th>\n",
       "      <th>GID_list</th>\n",
       "      <th>GID_n</th>\n",
       "      <th>geometry</th>\n",
       "    </tr>\n",
       "  </thead>\n",
       "  <tbody>\n",
       "    <tr>\n",
       "      <th>61</th>\n",
       "      <td>FIN</td>\n",
       "      <td>231.567531</td>\n",
       "      <td>62.931585</td>\n",
       "      <td>Finland</td>\n",
       "      <td>FIN</td>\n",
       "      <td>FIN</td>\n",
       "      <td>Finland</td>\n",
       "      <td>MULTIPOLYGON (((22.49806 59.72403, 22.49806 59...</td>\n",
       "    </tr>\n",
       "    <tr>\n",
       "      <th>182</th>\n",
       "      <td>SWE</td>\n",
       "      <td>352.792209</td>\n",
       "      <td>79.228140</td>\n",
       "      <td>Sweden</td>\n",
       "      <td>SWE</td>\n",
       "      <td>SWE</td>\n",
       "      <td>Sweden</td>\n",
       "      <td>MULTIPOLYGON (((12.94139 55.46375, 12.94139 55...</td>\n",
       "    </tr>\n",
       "    <tr>\n",
       "      <th>317</th>\n",
       "      <td>RUS</td>\n",
       "      <td>NaN</td>\n",
       "      <td>NaN</td>\n",
       "      <td>Russian Federation</td>\n",
       "      <td>RUS1</td>\n",
       "      <td>RUS1,RUS2</td>\n",
       "      <td>Russian Federation</td>\n",
       "      <td>MULTIPOLYGON (((33.06509 66.58080, 33.06406 66...</td>\n",
       "    </tr>\n",
       "  </tbody>\n",
       "</table>\n",
       "</div>"
      ],
      "text/plain": [
       "     CID  Shape_Leng  Shape_Area           Country_n   GID   GID_list  \\\n",
       "61   FIN  231.567531   62.931585             Finland   FIN        FIN   \n",
       "182  SWE  352.792209   79.228140              Sweden   SWE        SWE   \n",
       "317  RUS         NaN         NaN  Russian Federation  RUS1  RUS1,RUS2   \n",
       "\n",
       "                  GID_n                                           geometry  \n",
       "61              Finland  MULTIPOLYGON (((22.49806 59.72403, 22.49806 59...  \n",
       "182              Sweden  MULTIPOLYGON (((12.94139 55.46375, 12.94139 55...  \n",
       "317  Russian Federation  MULTIPOLYGON (((33.06509 66.58080, 33.06406 66...  "
      ]
     },
     "execution_count": 14,
     "metadata": {},
     "output_type": "execute_result"
    }
   ],
   "source": [
    "\"\"\"View the result\"\"\"\n",
    "neightbour_countries.head()"
   ]
  },
  {
   "cell_type": "code",
   "execution_count": 69,
   "metadata": {},
   "outputs": [
    {
     "data": {
      "text/html": [
       "<div>\n",
       "<style scoped>\n",
       "    .dataframe tbody tr th:only-of-type {\n",
       "        vertical-align: middle;\n",
       "    }\n",
       "\n",
       "    .dataframe tbody tr th {\n",
       "        vertical-align: top;\n",
       "    }\n",
       "\n",
       "    .dataframe thead th {\n",
       "        text-align: right;\n",
       "    }\n",
       "</style>\n",
       "<table border=\"1\" class=\"dataframe\">\n",
       "  <thead>\n",
       "    <tr style=\"text-align: right;\">\n",
       "      <th></th>\n",
       "      <th>minx</th>\n",
       "      <th>miny</th>\n",
       "      <th>maxx</th>\n",
       "      <th>maxy</th>\n",
       "    </tr>\n",
       "  </thead>\n",
       "  <tbody>\n",
       "    <tr>\n",
       "      <th>0</th>\n",
       "      <td>3.601176</td>\n",
       "      <td>56.284641</td>\n",
       "      <td>7.601176</td>\n",
       "      <td>60.284641</td>\n",
       "    </tr>\n",
       "    <tr>\n",
       "      <th>1</th>\n",
       "      <td>3.590221</td>\n",
       "      <td>56.290565</td>\n",
       "      <td>7.590221</td>\n",
       "      <td>60.290565</td>\n",
       "    </tr>\n",
       "    <tr>\n",
       "      <th>2</th>\n",
       "      <td>3.578601</td>\n",
       "      <td>56.297134</td>\n",
       "      <td>7.578601</td>\n",
       "      <td>60.297134</td>\n",
       "    </tr>\n",
       "    <tr>\n",
       "      <th>3</th>\n",
       "      <td>3.576819</td>\n",
       "      <td>56.298196</td>\n",
       "      <td>7.576819</td>\n",
       "      <td>60.298196</td>\n",
       "    </tr>\n",
       "    <tr>\n",
       "      <th>4</th>\n",
       "      <td>3.519542</td>\n",
       "      <td>56.332509</td>\n",
       "      <td>7.519542</td>\n",
       "      <td>60.332509</td>\n",
       "    </tr>\n",
       "    <tr>\n",
       "      <th>...</th>\n",
       "      <td>...</td>\n",
       "      <td>...</td>\n",
       "      <td>...</td>\n",
       "      <td>...</td>\n",
       "    </tr>\n",
       "    <tr>\n",
       "      <th>19020</th>\n",
       "      <td>4.044365</td>\n",
       "      <td>56.077490</td>\n",
       "      <td>8.044365</td>\n",
       "      <td>60.077490</td>\n",
       "    </tr>\n",
       "    <tr>\n",
       "      <th>19021</th>\n",
       "      <td>3.871745</td>\n",
       "      <td>56.158331</td>\n",
       "      <td>7.871745</td>\n",
       "      <td>60.158331</td>\n",
       "    </tr>\n",
       "    <tr>\n",
       "      <th>19022</th>\n",
       "      <td>3.623019</td>\n",
       "      <td>56.273725</td>\n",
       "      <td>7.623019</td>\n",
       "      <td>60.273725</td>\n",
       "    </tr>\n",
       "    <tr>\n",
       "      <th>19023</th>\n",
       "      <td>3.610456</td>\n",
       "      <td>56.279791</td>\n",
       "      <td>7.610456</td>\n",
       "      <td>60.279791</td>\n",
       "    </tr>\n",
       "    <tr>\n",
       "      <th>19024</th>\n",
       "      <td>3.601176</td>\n",
       "      <td>56.284641</td>\n",
       "      <td>7.601176</td>\n",
       "      <td>60.284641</td>\n",
       "    </tr>\n",
       "  </tbody>\n",
       "</table>\n",
       "<p>19025 rows × 4 columns</p>\n",
       "</div>"
      ],
      "text/plain": [
       "           minx       miny      maxx       maxy\n",
       "0      3.601176  56.284641  7.601176  60.284641\n",
       "1      3.590221  56.290565  7.590221  60.290565\n",
       "2      3.578601  56.297134  7.578601  60.297134\n",
       "3      3.576819  56.298196  7.576819  60.298196\n",
       "4      3.519542  56.332509  7.519542  60.332509\n",
       "...         ...        ...       ...        ...\n",
       "19020  4.044365  56.077490  8.044365  60.077490\n",
       "19021  3.871745  56.158331  7.871745  60.158331\n",
       "19022  3.623019  56.273725  7.623019  60.273725\n",
       "19023  3.610456  56.279791  7.610456  60.279791\n",
       "19024  3.601176  56.284641  7.601176  60.284641\n",
       "\n",
       "[19025 rows x 4 columns]"
      ]
     },
     "execution_count": 69,
     "metadata": {},
     "output_type": "execute_result"
    }
   ],
   "source": [
    "#https://medium.com/@brendan_ward/how-to-leverage-geopandas-for-faster-snapping-of-points-to-lines-6113c94e59aa\n",
    "\"\"\"Create a bbox out of the points\"\"\"\n",
    "offset = 1 #be careful with the projection. If meters = 100, if degrees = 1\n",
    "bbox = client_points.bounds + [-offset, -offset, offset, offset]\n",
    "tolerance = 1\n",
    "bbox['minx'] = bbox['minx'].sub(tolerance) # opearte in single columnn\n",
    "bbox['miny'] = bbox['miny'].sub(tolerance)\n",
    "bbox['maxx'] = bbox['maxx'].add(tolerance)\n",
    "bbox['maxy'] = bbox['maxy'].add(tolerance)\n",
    "bbox #pandas dataframe "
   ]
  },
  {
   "cell_type": "code",
   "execution_count": null,
   "metadata": {},
   "outputs": [],
   "source": [
    "\"\"\"we have to explode everything in order to create a spatial index because we ahve a mix of polygons and multypolygons\"\"\"\n",
    "#https://stackoverflow.com/questions/68861184/convert-geopandas-multipolygon-to-polygon\n",
    "gadm_exploded=neightbour_countries.explode()\n",
    "gadm_sindex = gadm_exploded.sindex\n",
    "\n",
    "# How many groups do we have?\n",
    "print(\"Number of groups:\", len(gadm_sindex.leaves()), '\\n')\n",
    "# Print some basic info for few of them\n",
    "n_iterations = 5\n",
    "for i, group in enumerate(gadm_sindex.leaves()):\n",
    "    group_idx, indices, bbox = group\n",
    "    print(\"Group\", group_idx, \"contains \", len(indices), \"geometries, bounding box:\", bbox)\n",
    "    i+=1\n",
    "    if i == n_iterations:\n",
    "        break"
   ]
  },
  {
   "cell_type": "code",
   "execution_count": null,
   "metadata": {},
   "outputs": [],
   "source": [
    "# Get the bounding box coordinates of the Polygon as a list\n",
    "bounds = list(client_dissolve.bounds.values[0])\n",
    "\n",
    "# Get the indices of the Points that are likely to be inside the bounding box of the given Polygon\n",
    "point_candidate_idx = list(gadm_sindex.intersection(bounds))\n",
    "point_candidates = neightbour_countries.loc[point_candidate_idx]\n",
    "\n",
    "# Let's see what we have now\n",
    "ax = client_dissolve.plot(color='red', alpha=0.5)\n",
    "ax = point_candidates.plot(ax=ax, color='black', markersize=2)"
   ]
  },
  {
   "cell_type": "code",
   "execution_count": 70,
   "metadata": {},
   "outputs": [
    {
     "data": {
      "text/plain": [
       "0        []\n",
       "1        []\n",
       "2        []\n",
       "3        []\n",
       "4        []\n",
       "         ..\n",
       "19020    []\n",
       "19021    []\n",
       "19022    []\n",
       "19023    []\n",
       "19024    []\n",
       "Length: 19025, dtype: object"
      ]
     },
     "execution_count": 70,
     "metadata": {},
     "output_type": "execute_result"
    }
   ],
   "source": [
    "\"\"\"We are looking for the polygons that intesect with the bbox of the points\"\"\"\n",
    "#we get the spatial indexes of each polygon we touch\n",
    "# hits = bbox.apply(lambda row: list(gadm_exploded.sindex.intersection(row)), axis=1)\n",
    "hits = bbox.apply(lambda row: list(neightbour_countries.sindex.intersection(row)), axis=1)\n",
    "hits #the row number is the point and the array number are the spatial indexes"
   ]
  },
  {
   "cell_type": "code",
   "execution_count": 71,
   "metadata": {},
   "outputs": [
    {
     "data": {
      "text/html": [
       "<div>\n",
       "<style scoped>\n",
       "    .dataframe tbody tr th:only-of-type {\n",
       "        vertical-align: middle;\n",
       "    }\n",
       "\n",
       "    .dataframe tbody tr th {\n",
       "        vertical-align: top;\n",
       "    }\n",
       "\n",
       "    .dataframe thead th {\n",
       "        text-align: right;\n",
       "    }\n",
       "</style>\n",
       "<table border=\"1\" class=\"dataframe\">\n",
       "  <thead>\n",
       "    <tr style=\"text-align: right;\">\n",
       "      <th></th>\n",
       "      <th>point_index</th>\n",
       "      <th>polygon_i</th>\n",
       "    </tr>\n",
       "  </thead>\n",
       "  <tbody>\n",
       "    <tr>\n",
       "      <th>0</th>\n",
       "      <td>195</td>\n",
       "      <td>1.0</td>\n",
       "    </tr>\n",
       "    <tr>\n",
       "      <th>1</th>\n",
       "      <td>196</td>\n",
       "      <td>1.0</td>\n",
       "    </tr>\n",
       "    <tr>\n",
       "      <th>2</th>\n",
       "      <td>197</td>\n",
       "      <td>1.0</td>\n",
       "    </tr>\n",
       "    <tr>\n",
       "      <th>3</th>\n",
       "      <td>198</td>\n",
       "      <td>1.0</td>\n",
       "    </tr>\n",
       "    <tr>\n",
       "      <th>4</th>\n",
       "      <td>199</td>\n",
       "      <td>1.0</td>\n",
       "    </tr>\n",
       "    <tr>\n",
       "      <th>...</th>\n",
       "      <td>...</td>\n",
       "      <td>...</td>\n",
       "    </tr>\n",
       "    <tr>\n",
       "      <th>38878</th>\n",
       "      <td>18924</td>\n",
       "      <td>1.0</td>\n",
       "    </tr>\n",
       "    <tr>\n",
       "      <th>38879</th>\n",
       "      <td>18925</td>\n",
       "      <td>1.0</td>\n",
       "    </tr>\n",
       "    <tr>\n",
       "      <th>38880</th>\n",
       "      <td>18926</td>\n",
       "      <td>1.0</td>\n",
       "    </tr>\n",
       "    <tr>\n",
       "      <th>38881</th>\n",
       "      <td>18927</td>\n",
       "      <td>1.0</td>\n",
       "    </tr>\n",
       "    <tr>\n",
       "      <th>38882</th>\n",
       "      <td>18928</td>\n",
       "      <td>1.0</td>\n",
       "    </tr>\n",
       "  </tbody>\n",
       "</table>\n",
       "<p>38883 rows × 2 columns</p>\n",
       "</div>"
      ],
      "text/plain": [
       "       point_index  polygon_i\n",
       "0              195        1.0\n",
       "1              196        1.0\n",
       "2              197        1.0\n",
       "3              198        1.0\n",
       "4              199        1.0\n",
       "...            ...        ...\n",
       "38878        18924        1.0\n",
       "38879        18925        1.0\n",
       "38880        18926        1.0\n",
       "38881        18927        1.0\n",
       "38882        18928        1.0\n",
       "\n",
       "[38883 rows x 2 columns]"
      ]
     },
     "execution_count": 71,
     "metadata": {},
     "output_type": "execute_result"
    }
   ],
   "source": [
    "tmp = pd.DataFrame({\n",
    "    # index of points table\n",
    "    \"point_index\": np.repeat(hits.index, hits.apply(len)), #repite el valor del indice de la tabla \"hits\" el numero de veces de len\n",
    "    # it gices the values of the point index by row\n",
    "    \"polygon_i\": np.concatenate(hits.values)\n",
    "})\n",
    "tmp"
   ]
  },
  {
   "cell_type": "code",
   "execution_count": 72,
   "metadata": {},
   "outputs": [
    {
     "data": {
      "text/html": [
       "<div>\n",
       "<style scoped>\n",
       "    .dataframe tbody tr th:only-of-type {\n",
       "        vertical-align: middle;\n",
       "    }\n",
       "\n",
       "    .dataframe tbody tr th {\n",
       "        vertical-align: top;\n",
       "    }\n",
       "\n",
       "    .dataframe thead th {\n",
       "        text-align: right;\n",
       "    }\n",
       "</style>\n",
       "<table border=\"1\" class=\"dataframe\">\n",
       "  <thead>\n",
       "    <tr style=\"text-align: right;\">\n",
       "      <th></th>\n",
       "      <th>point_index</th>\n",
       "      <th>polygon_i</th>\n",
       "      <th>CID</th>\n",
       "      <th>Shape_Leng</th>\n",
       "      <th>Shape_Area</th>\n",
       "      <th>Country_n</th>\n",
       "      <th>GID</th>\n",
       "      <th>GID_list</th>\n",
       "      <th>GID_n</th>\n",
       "      <th>geometry</th>\n",
       "      <th>point</th>\n",
       "    </tr>\n",
       "  </thead>\n",
       "  <tbody>\n",
       "    <tr>\n",
       "      <th>0</th>\n",
       "      <td>195</td>\n",
       "      <td>1.0</td>\n",
       "      <td>SWE</td>\n",
       "      <td>352.792209</td>\n",
       "      <td>79.22814</td>\n",
       "      <td>Sweden</td>\n",
       "      <td>SWE</td>\n",
       "      <td>SWE</td>\n",
       "      <td>Sweden</td>\n",
       "      <td>MULTIPOLYGON (((12.94139 55.46375, 12.94139 55...</td>\n",
       "      <td>POINT (9.32524 64.54729)</td>\n",
       "    </tr>\n",
       "    <tr>\n",
       "      <th>1</th>\n",
       "      <td>196</td>\n",
       "      <td>1.0</td>\n",
       "      <td>SWE</td>\n",
       "      <td>352.792209</td>\n",
       "      <td>79.22814</td>\n",
       "      <td>Sweden</td>\n",
       "      <td>SWE</td>\n",
       "      <td>SWE</td>\n",
       "      <td>Sweden</td>\n",
       "      <td>MULTIPOLYGON (((12.94139 55.46375, 12.94139 55...</td>\n",
       "      <td>POINT (9.32524 64.54729)</td>\n",
       "    </tr>\n",
       "    <tr>\n",
       "      <th>2</th>\n",
       "      <td>197</td>\n",
       "      <td>1.0</td>\n",
       "      <td>SWE</td>\n",
       "      <td>352.792209</td>\n",
       "      <td>79.22814</td>\n",
       "      <td>Sweden</td>\n",
       "      <td>SWE</td>\n",
       "      <td>SWE</td>\n",
       "      <td>Sweden</td>\n",
       "      <td>MULTIPOLYGON (((12.94139 55.46375, 12.94139 55...</td>\n",
       "      <td>POINT (9.69981 64.72845)</td>\n",
       "    </tr>\n",
       "    <tr>\n",
       "      <th>3</th>\n",
       "      <td>198</td>\n",
       "      <td>1.0</td>\n",
       "      <td>SWE</td>\n",
       "      <td>352.792209</td>\n",
       "      <td>79.22814</td>\n",
       "      <td>Sweden</td>\n",
       "      <td>SWE</td>\n",
       "      <td>SWE</td>\n",
       "      <td>Sweden</td>\n",
       "      <td>MULTIPOLYGON (((12.94139 55.46375, 12.94139 55...</td>\n",
       "      <td>POINT (9.80379 64.77815)</td>\n",
       "    </tr>\n",
       "    <tr>\n",
       "      <th>4</th>\n",
       "      <td>199</td>\n",
       "      <td>1.0</td>\n",
       "      <td>SWE</td>\n",
       "      <td>352.792209</td>\n",
       "      <td>79.22814</td>\n",
       "      <td>Sweden</td>\n",
       "      <td>SWE</td>\n",
       "      <td>SWE</td>\n",
       "      <td>Sweden</td>\n",
       "      <td>MULTIPOLYGON (((12.94139 55.46375, 12.94139 55...</td>\n",
       "      <td>POINT (9.99696 64.86981)</td>\n",
       "    </tr>\n",
       "    <tr>\n",
       "      <th>...</th>\n",
       "      <td>...</td>\n",
       "      <td>...</td>\n",
       "      <td>...</td>\n",
       "      <td>...</td>\n",
       "      <td>...</td>\n",
       "      <td>...</td>\n",
       "      <td>...</td>\n",
       "      <td>...</td>\n",
       "      <td>...</td>\n",
       "      <td>...</td>\n",
       "      <td>...</td>\n",
       "    </tr>\n",
       "    <tr>\n",
       "      <th>38878</th>\n",
       "      <td>18924</td>\n",
       "      <td>1.0</td>\n",
       "      <td>SWE</td>\n",
       "      <td>352.792209</td>\n",
       "      <td>79.22814</td>\n",
       "      <td>Sweden</td>\n",
       "      <td>SWE</td>\n",
       "      <td>SWE</td>\n",
       "      <td>Sweden</td>\n",
       "      <td>MULTIPOLYGON (((12.94139 55.46375, 12.94139 55...</td>\n",
       "      <td>POINT (9.53165 58.52364)</td>\n",
       "    </tr>\n",
       "    <tr>\n",
       "      <th>38879</th>\n",
       "      <td>18925</td>\n",
       "      <td>1.0</td>\n",
       "      <td>SWE</td>\n",
       "      <td>352.792209</td>\n",
       "      <td>79.22814</td>\n",
       "      <td>Sweden</td>\n",
       "      <td>SWE</td>\n",
       "      <td>SWE</td>\n",
       "      <td>Sweden</td>\n",
       "      <td>MULTIPOLYGON (((12.94139 55.46375, 12.94139 55...</td>\n",
       "      <td>POINT (9.36409 58.42566)</td>\n",
       "    </tr>\n",
       "    <tr>\n",
       "      <th>38880</th>\n",
       "      <td>18926</td>\n",
       "      <td>1.0</td>\n",
       "      <td>SWE</td>\n",
       "      <td>352.792209</td>\n",
       "      <td>79.22814</td>\n",
       "      <td>Sweden</td>\n",
       "      <td>SWE</td>\n",
       "      <td>SWE</td>\n",
       "      <td>Sweden</td>\n",
       "      <td>MULTIPOLYGON (((12.94139 55.46375, 12.94139 55...</td>\n",
       "      <td>POINT (9.35397 58.41973)</td>\n",
       "    </tr>\n",
       "    <tr>\n",
       "      <th>38881</th>\n",
       "      <td>18927</td>\n",
       "      <td>1.0</td>\n",
       "      <td>SWE</td>\n",
       "      <td>352.792209</td>\n",
       "      <td>79.22814</td>\n",
       "      <td>Sweden</td>\n",
       "      <td>SWE</td>\n",
       "      <td>SWE</td>\n",
       "      <td>Sweden</td>\n",
       "      <td>MULTIPOLYGON (((12.94139 55.46375, 12.94139 55...</td>\n",
       "      <td>POINT (9.30011 58.38806)</td>\n",
       "    </tr>\n",
       "    <tr>\n",
       "      <th>38882</th>\n",
       "      <td>18928</td>\n",
       "      <td>1.0</td>\n",
       "      <td>SWE</td>\n",
       "      <td>352.792209</td>\n",
       "      <td>79.22814</td>\n",
       "      <td>Sweden</td>\n",
       "      <td>SWE</td>\n",
       "      <td>SWE</td>\n",
       "      <td>Sweden</td>\n",
       "      <td>MULTIPOLYGON (((12.94139 55.46375, 12.94139 55...</td>\n",
       "      <td>POINT (9.06727 58.25027)</td>\n",
       "    </tr>\n",
       "  </tbody>\n",
       "</table>\n",
       "<p>38883 rows × 11 columns</p>\n",
       "</div>"
      ],
      "text/plain": [
       "       point_index  polygon_i  CID  Shape_Leng  Shape_Area Country_n  GID  \\\n",
       "0              195        1.0  SWE  352.792209    79.22814    Sweden  SWE   \n",
       "1              196        1.0  SWE  352.792209    79.22814    Sweden  SWE   \n",
       "2              197        1.0  SWE  352.792209    79.22814    Sweden  SWE   \n",
       "3              198        1.0  SWE  352.792209    79.22814    Sweden  SWE   \n",
       "4              199        1.0  SWE  352.792209    79.22814    Sweden  SWE   \n",
       "...            ...        ...  ...         ...         ...       ...  ...   \n",
       "38878        18924        1.0  SWE  352.792209    79.22814    Sweden  SWE   \n",
       "38879        18925        1.0  SWE  352.792209    79.22814    Sweden  SWE   \n",
       "38880        18926        1.0  SWE  352.792209    79.22814    Sweden  SWE   \n",
       "38881        18927        1.0  SWE  352.792209    79.22814    Sweden  SWE   \n",
       "38882        18928        1.0  SWE  352.792209    79.22814    Sweden  SWE   \n",
       "\n",
       "      GID_list   GID_n                                           geometry  \\\n",
       "0          SWE  Sweden  MULTIPOLYGON (((12.94139 55.46375, 12.94139 55...   \n",
       "1          SWE  Sweden  MULTIPOLYGON (((12.94139 55.46375, 12.94139 55...   \n",
       "2          SWE  Sweden  MULTIPOLYGON (((12.94139 55.46375, 12.94139 55...   \n",
       "3          SWE  Sweden  MULTIPOLYGON (((12.94139 55.46375, 12.94139 55...   \n",
       "4          SWE  Sweden  MULTIPOLYGON (((12.94139 55.46375, 12.94139 55...   \n",
       "...        ...     ...                                                ...   \n",
       "38878      SWE  Sweden  MULTIPOLYGON (((12.94139 55.46375, 12.94139 55...   \n",
       "38879      SWE  Sweden  MULTIPOLYGON (((12.94139 55.46375, 12.94139 55...   \n",
       "38880      SWE  Sweden  MULTIPOLYGON (((12.94139 55.46375, 12.94139 55...   \n",
       "38881      SWE  Sweden  MULTIPOLYGON (((12.94139 55.46375, 12.94139 55...   \n",
       "38882      SWE  Sweden  MULTIPOLYGON (((12.94139 55.46375, 12.94139 55...   \n",
       "\n",
       "                          point  \n",
       "0      POINT (9.32524 64.54729)  \n",
       "1      POINT (9.32524 64.54729)  \n",
       "2      POINT (9.69981 64.72845)  \n",
       "3      POINT (9.80379 64.77815)  \n",
       "4      POINT (9.99696 64.86981)  \n",
       "...                         ...  \n",
       "38878  POINT (9.53165 58.52364)  \n",
       "38879  POINT (9.36409 58.42566)  \n",
       "38880  POINT (9.35397 58.41973)  \n",
       "38881  POINT (9.30011 58.38806)  \n",
       "38882  POINT (9.06727 58.25027)  \n",
       "\n",
       "[38883 rows x 11 columns]"
      ]
     },
     "execution_count": 72,
     "metadata": {},
     "output_type": "execute_result"
    }
   ],
   "source": [
    "\"\"\"Join back the geometries\"\"\"\n",
    "# Join back to the polygons on polygon_i; we use reset_index() to \n",
    "# give us the ordinal position of each line\n",
    "tmp = tmp.join(neightbour_countries.reset_index(drop=True), on=\"polygon_i\")\n",
    "\n",
    "# Join back to the original points to get their geometry\n",
    "# rename the point geometry as \"point\"\n",
    "tmp = tmp.join(client_points.geometry.rename(\"point\"), on=\"point_index\")\n",
    "# Convert back to a GeoDataFrame, so we can do spatial ops\n",
    "tmp = gpd.GeoDataFrame(tmp, geometry=\"geometry\", crs=client_points.crs)\n",
    "tmp\n",
    "#be careful with the \"tmp\" variable, if you repeat, start by the previous part"
   ]
  },
  {
   "cell_type": "code",
   "execution_count": 73,
   "metadata": {},
   "outputs": [
    {
     "name": "stderr",
     "output_type": "stream",
     "text": [
      "C:\\Users\\ruben.crespo\\AppData\\Local\\Temp\\ipykernel_3544\\882466350.py:2: UserWarning: Geometry is in a geographic CRS. Results from 'distance' are likely incorrect. Use 'GeoSeries.to_crs()' to re-project geometries to a projected CRS before this operation.\n",
      "\n",
      "  tmp[\"snap_dist\"] = tmp.geometry.distance(gpd.GeoSeries(tmp.point))\n"
     ]
    },
    {
     "data": {
      "text/plain": [
       "0        2.940010\n",
       "1        2.940009\n",
       "2        2.701126\n",
       "3        2.632405\n",
       "4        2.506639\n",
       "           ...   \n",
       "38878    1.471820\n",
       "38879    1.655158\n",
       "38880    1.666308\n",
       "38881    1.725825\n",
       "38882    1.979594\n",
       "Name: snap_dist, Length: 38883, dtype: float64"
      ]
     },
     "execution_count": 73,
     "metadata": {},
     "output_type": "execute_result"
    }
   ],
   "source": [
    "\"\"\"Find the closests polygon to each point\"\"\"\n",
    "tmp[\"snap_dist\"] = tmp.geometry.distance(gpd.GeoSeries(tmp.point)) #point is the name of the column\n",
    "tmp[\"snap_dist\"]\n",
    "\n",
    "#time = 5mins"
   ]
  },
  {
   "cell_type": "code",
   "execution_count": 76,
   "metadata": {},
   "outputs": [
    {
     "data": {
      "text/html": [
       "<div>\n",
       "<style scoped>\n",
       "    .dataframe tbody tr th:only-of-type {\n",
       "        vertical-align: middle;\n",
       "    }\n",
       "\n",
       "    .dataframe tbody tr th {\n",
       "        vertical-align: top;\n",
       "    }\n",
       "\n",
       "    .dataframe thead th {\n",
       "        text-align: right;\n",
       "    }\n",
       "</style>\n",
       "<table border=\"1\" class=\"dataframe\">\n",
       "  <thead>\n",
       "    <tr style=\"text-align: right;\">\n",
       "      <th></th>\n",
       "      <th>point_index</th>\n",
       "      <th>polygon_i</th>\n",
       "      <th>CID</th>\n",
       "      <th>Shape_Leng</th>\n",
       "      <th>Shape_Area</th>\n",
       "      <th>Country_n</th>\n",
       "      <th>GID</th>\n",
       "      <th>GID_list</th>\n",
       "      <th>GID_n</th>\n",
       "      <th>geometry</th>\n",
       "      <th>point</th>\n",
       "      <th>snap_dist</th>\n",
       "    </tr>\n",
       "  </thead>\n",
       "  <tbody>\n",
       "    <tr>\n",
       "      <th>16610</th>\n",
       "      <td>8570</td>\n",
       "      <td>0.0</td>\n",
       "      <td>FIN</td>\n",
       "      <td>231.567531</td>\n",
       "      <td>62.931585</td>\n",
       "      <td>Finland</td>\n",
       "      <td>FIN</td>\n",
       "      <td>FIN</td>\n",
       "      <td>Finland</td>\n",
       "      <td>MULTIPOLYGON (((22.49806 59.72403, 22.49806 59...</td>\n",
       "      <td>POINT (27.28812 69.95196)</td>\n",
       "      <td>0.000000</td>\n",
       "    </tr>\n",
       "    <tr>\n",
       "      <th>36591</th>\n",
       "      <td>16637</td>\n",
       "      <td>1.0</td>\n",
       "      <td>SWE</td>\n",
       "      <td>352.792209</td>\n",
       "      <td>79.228140</td>\n",
       "      <td>Sweden</td>\n",
       "      <td>SWE</td>\n",
       "      <td>SWE</td>\n",
       "      <td>Sweden</td>\n",
       "      <td>MULTIPOLYGON (((12.94139 55.46375, 12.94139 55...</td>\n",
       "      <td>POINT (11.79107 59.37278)</td>\n",
       "      <td>0.000000</td>\n",
       "    </tr>\n",
       "    <tr>\n",
       "      <th>36590</th>\n",
       "      <td>16636</td>\n",
       "      <td>1.0</td>\n",
       "      <td>SWE</td>\n",
       "      <td>352.792209</td>\n",
       "      <td>79.228140</td>\n",
       "      <td>Sweden</td>\n",
       "      <td>SWE</td>\n",
       "      <td>SWE</td>\n",
       "      <td>Sweden</td>\n",
       "      <td>MULTIPOLYGON (((12.94139 55.46375, 12.94139 55...</td>\n",
       "      <td>POINT (11.79112 59.37282)</td>\n",
       "      <td>0.000000</td>\n",
       "    </tr>\n",
       "    <tr>\n",
       "      <th>36589</th>\n",
       "      <td>16635</td>\n",
       "      <td>1.0</td>\n",
       "      <td>SWE</td>\n",
       "      <td>352.792209</td>\n",
       "      <td>79.228140</td>\n",
       "      <td>Sweden</td>\n",
       "      <td>SWE</td>\n",
       "      <td>SWE</td>\n",
       "      <td>Sweden</td>\n",
       "      <td>MULTIPOLYGON (((12.94139 55.46375, 12.94139 55...</td>\n",
       "      <td>POINT (11.79120 59.37287)</td>\n",
       "      <td>0.000000</td>\n",
       "    </tr>\n",
       "    <tr>\n",
       "      <th>36588</th>\n",
       "      <td>16634</td>\n",
       "      <td>1.0</td>\n",
       "      <td>SWE</td>\n",
       "      <td>352.792209</td>\n",
       "      <td>79.228140</td>\n",
       "      <td>Sweden</td>\n",
       "      <td>SWE</td>\n",
       "      <td>SWE</td>\n",
       "      <td>Sweden</td>\n",
       "      <td>MULTIPOLYGON (((12.94139 55.46375, 12.94139 55...</td>\n",
       "      <td>POINT (11.79127 59.37292)</td>\n",
       "      <td>0.000000</td>\n",
       "    </tr>\n",
       "    <tr>\n",
       "      <th>...</th>\n",
       "      <td>...</td>\n",
       "      <td>...</td>\n",
       "      <td>...</td>\n",
       "      <td>...</td>\n",
       "      <td>...</td>\n",
       "      <td>...</td>\n",
       "      <td>...</td>\n",
       "      <td>...</td>\n",
       "      <td>...</td>\n",
       "      <td>...</td>\n",
       "      <td>...</td>\n",
       "      <td>...</td>\n",
       "    </tr>\n",
       "    <tr>\n",
       "      <th>38874</th>\n",
       "      <td>18920</td>\n",
       "      <td>1.0</td>\n",
       "      <td>SWE</td>\n",
       "      <td>352.792209</td>\n",
       "      <td>79.228140</td>\n",
       "      <td>Sweden</td>\n",
       "      <td>SWE</td>\n",
       "      <td>SWE</td>\n",
       "      <td>Sweden</td>\n",
       "      <td>MULTIPOLYGON (((12.94139 55.46375, 12.94139 55...</td>\n",
       "      <td>POINT (9.98804 58.72529)</td>\n",
       "      <td>0.986883</td>\n",
       "    </tr>\n",
       "    <tr>\n",
       "      <th>11218</th>\n",
       "      <td>5874</td>\n",
       "      <td>0.0</td>\n",
       "      <td>FIN</td>\n",
       "      <td>231.567531</td>\n",
       "      <td>62.931585</td>\n",
       "      <td>Finland</td>\n",
       "      <td>FIN</td>\n",
       "      <td>FIN</td>\n",
       "      <td>Finland</td>\n",
       "      <td>MULTIPOLYGON (((22.49806 59.72403, 22.49806 59...</td>\n",
       "      <td>POINT (30.31669 69.62449)</td>\n",
       "      <td>0.990374</td>\n",
       "    </tr>\n",
       "    <tr>\n",
       "      <th>34281</th>\n",
       "      <td>14731</td>\n",
       "      <td>1.0</td>\n",
       "      <td>SWE</td>\n",
       "      <td>352.792209</td>\n",
       "      <td>79.228140</td>\n",
       "      <td>Sweden</td>\n",
       "      <td>SWE</td>\n",
       "      <td>SWE</td>\n",
       "      <td>Sweden</td>\n",
       "      <td>MULTIPOLYGON (((12.94139 55.46375, 12.94139 55...</td>\n",
       "      <td>POINT (24.30226 68.71735)</td>\n",
       "      <td>0.993999</td>\n",
       "    </tr>\n",
       "    <tr>\n",
       "      <th>11216</th>\n",
       "      <td>5873</td>\n",
       "      <td>0.0</td>\n",
       "      <td>FIN</td>\n",
       "      <td>231.567531</td>\n",
       "      <td>62.931585</td>\n",
       "      <td>Finland</td>\n",
       "      <td>FIN</td>\n",
       "      <td>FIN</td>\n",
       "      <td>Finland</td>\n",
       "      <td>MULTIPOLYGON (((22.49806 59.72403, 22.49806 59...</td>\n",
       "      <td>POINT (30.32232 69.62257)</td>\n",
       "      <td>0.995695</td>\n",
       "    </tr>\n",
       "    <tr>\n",
       "      <th>34762</th>\n",
       "      <td>14891</td>\n",
       "      <td>0.0</td>\n",
       "      <td>FIN</td>\n",
       "      <td>231.567531</td>\n",
       "      <td>62.931585</td>\n",
       "      <td>Finland</td>\n",
       "      <td>FIN</td>\n",
       "      <td>FIN</td>\n",
       "      <td>Finland</td>\n",
       "      <td>MULTIPOLYGON (((22.49806 59.72403, 22.49806 59...</td>\n",
       "      <td>POINT (19.82491 68.37317)</td>\n",
       "      <td>0.998773</td>\n",
       "    </tr>\n",
       "  </tbody>\n",
       "</table>\n",
       "<p>20979 rows × 12 columns</p>\n",
       "</div>"
      ],
      "text/plain": [
       "       point_index  polygon_i  CID  Shape_Leng  Shape_Area Country_n  GID  \\\n",
       "16610         8570        0.0  FIN  231.567531   62.931585   Finland  FIN   \n",
       "36591        16637        1.0  SWE  352.792209   79.228140    Sweden  SWE   \n",
       "36590        16636        1.0  SWE  352.792209   79.228140    Sweden  SWE   \n",
       "36589        16635        1.0  SWE  352.792209   79.228140    Sweden  SWE   \n",
       "36588        16634        1.0  SWE  352.792209   79.228140    Sweden  SWE   \n",
       "...            ...        ...  ...         ...         ...       ...  ...   \n",
       "38874        18920        1.0  SWE  352.792209   79.228140    Sweden  SWE   \n",
       "11218         5874        0.0  FIN  231.567531   62.931585   Finland  FIN   \n",
       "34281        14731        1.0  SWE  352.792209   79.228140    Sweden  SWE   \n",
       "11216         5873        0.0  FIN  231.567531   62.931585   Finland  FIN   \n",
       "34762        14891        0.0  FIN  231.567531   62.931585   Finland  FIN   \n",
       "\n",
       "      GID_list    GID_n                                           geometry  \\\n",
       "16610      FIN  Finland  MULTIPOLYGON (((22.49806 59.72403, 22.49806 59...   \n",
       "36591      SWE   Sweden  MULTIPOLYGON (((12.94139 55.46375, 12.94139 55...   \n",
       "36590      SWE   Sweden  MULTIPOLYGON (((12.94139 55.46375, 12.94139 55...   \n",
       "36589      SWE   Sweden  MULTIPOLYGON (((12.94139 55.46375, 12.94139 55...   \n",
       "36588      SWE   Sweden  MULTIPOLYGON (((12.94139 55.46375, 12.94139 55...   \n",
       "...        ...      ...                                                ...   \n",
       "38874      SWE   Sweden  MULTIPOLYGON (((12.94139 55.46375, 12.94139 55...   \n",
       "11218      FIN  Finland  MULTIPOLYGON (((22.49806 59.72403, 22.49806 59...   \n",
       "34281      SWE   Sweden  MULTIPOLYGON (((12.94139 55.46375, 12.94139 55...   \n",
       "11216      FIN  Finland  MULTIPOLYGON (((22.49806 59.72403, 22.49806 59...   \n",
       "34762      FIN  Finland  MULTIPOLYGON (((22.49806 59.72403, 22.49806 59...   \n",
       "\n",
       "                           point  snap_dist  \n",
       "16610  POINT (27.28812 69.95196)   0.000000  \n",
       "36591  POINT (11.79107 59.37278)   0.000000  \n",
       "36590  POINT (11.79112 59.37282)   0.000000  \n",
       "36589  POINT (11.79120 59.37287)   0.000000  \n",
       "36588  POINT (11.79127 59.37292)   0.000000  \n",
       "...                          ...        ...  \n",
       "38874   POINT (9.98804 58.72529)   0.986883  \n",
       "11218  POINT (30.31669 69.62449)   0.990374  \n",
       "34281  POINT (24.30226 68.71735)   0.993999  \n",
       "11216  POINT (30.32232 69.62257)   0.995695  \n",
       "34762  POINT (19.82491 68.37317)   0.998773  \n",
       "\n",
       "[20979 rows x 12 columns]"
      ]
     },
     "execution_count": 76,
     "metadata": {},
     "output_type": "execute_result"
    }
   ],
   "source": [
    "\"\"\"From the list, delete the distances (from polygons) that are less than the tolerance\"\"\"\n",
    "# Discard any lines that are greater than tolerance from points\n",
    "tmp = tmp.loc[tmp.snap_dist <= tolerance]\n",
    "# Sort on ascending snap distance, so that closest goes to top\n",
    "tmp = tmp.sort_values(by=[\"snap_dist\"])\n",
    "tmp"
   ]
  },
  {
   "cell_type": "code",
   "execution_count": 77,
   "metadata": {},
   "outputs": [],
   "source": [
    "\"\"\"group by the index of the points and take the first, which is the\"\"\"\n",
    "# closest polygon \n",
    "closest = tmp.groupby(\"point_index\").first() #this is a dataframe\n",
    "# construct a GeoDataFrame of the closest lines\n",
    "closest = gpd.GeoDataFrame(closest, geometry=\"geometry\")"
   ]
  },
  {
   "cell_type": "code",
   "execution_count": null,
   "metadata": {},
   "outputs": [],
   "source": [
    "\"\"\"Position of nearest point from start of the polygon\"\"\"\n",
    "pos = closest.geometry.project(gpd.GeoSeries(closest.point)) # ValueError in Shapely 2.0. raise GeometryTypeError(\"Only linear types support this operation\")\n",
    "# Get new point location geometry\n",
    "new_pts = closest.geometry.interpolate(pos)"
   ]
  },
  {
   "cell_type": "code",
   "execution_count": 11,
   "metadata": {},
   "outputs": [
    {
     "data": {
      "text/plain": [
       "<AxesSubplot:>"
      ]
     },
     "execution_count": 11,
     "metadata": {},
     "output_type": "execute_result"
    },
    {
     "data": {
      "image/png": "[encoded data removed]",
      "text/plain": [
       "<Figure size 432x288 with 1 Axes>"
      ]
     },
     "metadata": {
      "needs_background": "light"
     },
     "output_type": "display_data"
    }
   ],
   "source": [
    "\"\"\"Here we are visualizing the spatial index of the country as a test\"\"\"\n",
    "\"\"\"\n",
    "SELECT ST_AsEWKT(ST_MakeEnvelope (\n",
    "    4.087524332196379, 57.75900528198801, --lng-lat bounding \n",
    "    31.761592895114386, 71.38487875561317, --lng-lat box limits (Example)\n",
    "    4326))\n",
    "\"\"\"\n",
    "#this polygon is from the spatial index of the linestring, the idea is to see what does it have\n",
    "polygon_test = Polygon([(4.08752433219638, 57.759005281988),(4.08752433219638, 71.3848787556132),(31.7615928951144, 71.3848787556132),(31.7615928951144, 57.759005281988),(4.08752433219638, 57.759005281988)])\n",
    "\n",
    "fig, ax = plt.subplots(1)\n",
    "test_gdf = gpd.GeoSeries(polygon_test)\n",
    "test_gdf.plot(ax=ax, cmap = 'jet')\n",
    "client_dissolve.plot(ax=ax, color='red')\n",
    "#this is not okay, the spatial index is way too big"
   ]
  }
 ],
 "metadata": {
  "interpreter": {
   "hash": "ef1643838ba400d9e56910a4ebe1d7c2ddcc0867ba383b6e8e5b6e0b2b833d6e"
  },
  "kernelspec": {
   "display_name": "Python 3.9.12 ('geoprocessing')",
   "language": "python",
   "name": "python3"
  },
  "language_info": {
   "codemirror_mode": {
    "name": "ipython",
    "version": 3
   },
   "file_extension": ".py",
   "mimetype": "text/x-python",
   "name": "python",
   "nbconvert_exporter": "python",
   "pygments_lexer": "ipython3",
   "version": "3.9.12"
  },
  "orig_nbformat": 4
 },
 "nbformat": 4,
 "nbformat_minor": 2
}
