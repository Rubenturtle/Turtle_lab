{
 "cells": [
  {
   "cell_type": "markdown",
   "metadata": {},
   "source": [
    "# Get the workspaces of a remote geoserver\n",
    "- get into the getcapabilities service\n",
    "- list all the resources\n",
    "- filter the first part of the string and get the unique values"
   ]
  },
  {
   "cell_type": "code",
   "execution_count": 1,
   "metadata": {},
   "outputs": [],
   "source": [
    "from bs4 import BeautifulSoup\n",
    "import requests"
   ]
  },
  {
   "cell_type": "code",
   "execution_count": 3,
   "metadata": {},
   "outputs": [
    {
     "name": "stderr",
     "output_type": "stream",
     "text": [
      "c:\\Users\\ruben.crespo\\Anaconda3\\lib\\site-packages\\urllib3\\connectionpool.py:1013: InsecureRequestWarning: Unverified HTTPS request is being made to host 'geo.hazi.eus'. Adding certificate verification is strongly advised. See: https://urllib3.readthedocs.io/en/1.26.x/advanced-usage.html#ssl-warnings\n",
      "  warnings.warn(\n"
     ]
    }
   ],
   "source": [
    "html_text = requests.get('https://geo.hazi.eus/ows?service=WCS&version=2.0.1&request=GetCapabilities', verify=False).text"
   ]
  },
  {
   "cell_type": "code",
   "execution_count": 4,
   "metadata": {},
   "outputs": [],
   "source": [
    "soup = BeautifulSoup(html_text, 'lxml')"
   ]
  },
  {
   "cell_type": "code",
   "execution_count": 15,
   "metadata": {},
   "outputs": [],
   "source": [
    "#esto va a la primera oferta en un bloque completo\n",
    "coverageid_list = []\n",
    "coverageid = soup.find_all('wcs:coverageid')\n",
    "for id in coverageid:\n",
    "    workspace = id.text.split(\"__\",1)[0] #limited to one split and we get the first part\n",
    "    if workspace not in coverageid_list:\n",
    "        coverageid_list.append(workspace)\n",
    "    else:\n",
    "        pass\n"
   ]
  },
  {
   "cell_type": "code",
   "execution_count": 18,
   "metadata": {},
   "outputs": [
    {
     "name": "stdout",
     "output_type": "stream",
     "text": [
      "['INNOBANDAS', 'GEOEUSKADI', 'TELEDETEKZIOA', 'L8GEOEUSKADI_EVI', 'L8GEOEUSKADI_LAI', 'L8GEOEUSKADI_MNDW', 'L8GEOEUSKADI_MSAVI2', 'L8GEOEUSKADI_NBR', 'L8GEOEUSKADI_NDVI', 'L8GEOEUSKADI_NDWI', 'L8GEOEUSKADI_SAVI', 'L8GEOEUSKADI', 'L8GEOEUSKADI_RGB', 'L8GEOEUSKADI_B05B06B04', 'L8GEOEUSKADI_B06B05B02', 'L8GEOEUSKADI_B07B05B04', 'L8GEOEUSKADI_B07B06B04', 'L8GEOEUSKADI_B07B06B05', 'L8GEOEUSKADI_IRRG', 'OFFLINE_KARTO', 'ORTOFOTOS', 'S2GEOEUSKADI', 'S2GEOEUSKADI_MSAVI2', 'S2GEOEUSKADI_NDVI', 'S2GEOEUSKADI_MNDW', 'S2GEOEUSKADI_NBR', 'S2GEOEUSKADI_RGB', 'S2GEOEUSKADI_EVI', 'S2GEOEUSKADI_LAI', 'S2GEOEUSKADI_NDWI', 'S2GEOEUSKADI_SAVI', 'S2GEOEUSKADI_IRRG', 'S2GEOEUSKADI_B11B08B02', 'S2GEOEUSKADI_B12B11B04', 'S2GEOEUSKADI_B12B11B08', 'S2GEOEUSKADI_B12B8AB04', 'S2GEOEUSKADI_B8AB11B02', 'S2GEOEUSKADI_B8AB11B04']\n"
     ]
    }
   ],
   "source": [
    "print(coverageid_list)"
   ]
  }
 ],
 "metadata": {
  "kernelspec": {
   "display_name": "Python 3.9.7 ('base')",
   "language": "python",
   "name": "python3"
  },
  "language_info": {
   "codemirror_mode": {
    "name": "ipython",
    "version": 3
   },
   "file_extension": ".py",
   "mimetype": "text/x-python",
   "name": "python",
   "nbconvert_exporter": "python",
   "pygments_lexer": "ipython3",
   "version": "3.9.7"
  },
  "orig_nbformat": 4,
  "vscode": {
   "interpreter": {
    "hash": "ea83a5ad54c8cc9e7ff8f4ab9d2bf25c75f7997df51cce98e5453f4f3fcc4a0a"
   }
  }
 },
 "nbformat": 4,
 "nbformat_minor": 2
}
