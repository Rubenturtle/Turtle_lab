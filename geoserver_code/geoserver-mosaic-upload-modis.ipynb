{
 "cells": [
  {
   "cell_type": "markdown",
   "metadata": {},
   "source": [
    "This code parses a folder containing a list of mosaics, filters them, zips them b their respective year and finally\n",
    "uploads everything into geoserver"
   ]
  },
  {
   "cell_type": "code",
   "execution_count": null,
   "metadata": {},
   "outputs": [],
   "source": [
    "from zipfile import ZipFile\n",
    "import os\n",
    "from geoserver.catalog import Catalog #gsconfig, is obsolete"
   ]
  },
  {
   "cell_type": "code",
   "execution_count": 2,
   "metadata": {},
   "outputs": [],
   "source": [
    "#Get a list of the years inside a folder\n",
    "path = r\"C:\\Users\\ruben.crespo\\Downloads\\MODIS\"\n",
    "Year_list = [] #f for f in os.listdir(path) if os.isfile(mypath,f)\n",
    "for year in os.listdir(path):\n",
    "    year_number = year[14:18]\n",
    "    if year_number in Year_list:\n",
    "        pass\n",
    "    else:\n",
    "        Year_list.append(year_number)\n"
   ]
  },
  {
   "cell_type": "code",
   "execution_count": 3,
   "metadata": {
    "tags": []
   },
   "outputs": [
    {
     "name": "stdout",
     "output_type": "stream",
     "text": [
      "MCD64A1_MODIS_burned_data_2001.zip\n",
      "MCD64A1_Global2001-0000000000-0000000000.tif\n",
      "MCD64A1_Global2001-0000000000-0000065536.tif\n",
      "MCD64A1_Global2001-0000000000-0000131072.tif\n",
      "MCD64A1_Global2001-0000065536-0000000000.tif\n",
      "MCD64A1_Global2001-0000065536-0000065536.tif\n",
      "MCD64A1_Global2001-0000065536-0000131072.tif\n",
      "MCD64A1_MODIS_burned_data_2002.zip\n",
      "MCD64A1_Global2002-0000000000-0000000000.tif\n",
      "MCD64A1_Global2002-0000000000-0000065536.tif\n",
      "MCD64A1_Global2002-0000000000-0000131072.tif\n",
      "MCD64A1_Global2002-0000065536-0000000000.tif\n",
      "MCD64A1_Global2002-0000065536-0000065536.tif\n",
      "MCD64A1_Global2002-0000065536-0000131072.tif\n",
      "MCD64A1_MODIS_burned_data_2003.zip\n",
      "MCD64A1_Global2003-0000000000-0000000000.tif\n",
      "MCD64A1_Global2003-0000000000-0000065536.tif\n",
      "MCD64A1_Global2003-0000000000-0000131072.tif\n",
      "MCD64A1_Global2003-0000065536-0000000000.tif\n",
      "MCD64A1_Global2003-0000065536-0000065536.tif\n",
      "MCD64A1_Global2003-0000065536-0000131072.tif\n",
      "MCD64A1_MODIS_burned_data_2004.zip\n",
      "MCD64A1_Global2004-0000000000-0000000000.tif\n",
      "MCD64A1_Global2004-0000000000-0000065536.tif\n",
      "MCD64A1_Global2004-0000000000-0000131072.tif\n",
      "MCD64A1_Global2004-0000065536-0000000000.tif\n",
      "MCD64A1_Global2004-0000065536-0000065536.tif\n",
      "MCD64A1_Global2004-0000065536-0000131072.tif\n",
      "MCD64A1_MODIS_burned_data_2005.zip\n",
      "MCD64A1_Global2005-0000000000-0000000000.tif\n",
      "MCD64A1_Global2005-0000000000-0000065536.tif\n",
      "MCD64A1_Global2005-0000000000-0000131072.tif\n",
      "MCD64A1_Global2005-0000065536-0000000000.tif\n",
      "MCD64A1_Global2005-0000065536-0000065536.tif\n",
      "MCD64A1_Global2005-0000065536-0000131072.tif\n",
      "MCD64A1_MODIS_burned_data_2006.zip\n",
      "MCD64A1_Global2006-0000000000-0000000000.tif\n",
      "MCD64A1_Global2006-0000000000-0000065536.tif\n",
      "MCD64A1_Global2006-0000000000-0000131072.tif\n",
      "MCD64A1_Global2006-0000065536-0000000000.tif\n",
      "MCD64A1_Global2006-0000065536-0000065536.tif\n",
      "MCD64A1_Global2006-0000065536-0000131072.tif\n",
      "MCD64A1_MODIS_burned_data_2007.zip\n",
      "MCD64A1_Global2007-0000000000-0000000000.tif\n",
      "MCD64A1_Global2007-0000000000-0000065536.tif\n",
      "MCD64A1_Global2007-0000000000-0000131072.tif\n",
      "MCD64A1_Global2007-0000065536-0000000000.tif\n",
      "MCD64A1_Global2007-0000065536-0000065536.tif\n",
      "MCD64A1_Global2007-0000065536-0000131072.tif\n",
      "MCD64A1_MODIS_burned_data_2008.zip\n",
      "MCD64A1_Global2008-0000000000-0000000000.tif\n",
      "MCD64A1_Global2008-0000000000-0000065536.tif\n",
      "MCD64A1_Global2008-0000000000-0000131072.tif\n",
      "MCD64A1_Global2008-0000065536-0000000000.tif\n",
      "MCD64A1_Global2008-0000065536-0000065536.tif\n",
      "MCD64A1_Global2008-0000065536-0000131072.tif\n",
      "MCD64A1_MODIS_burned_data_2009.zip\n",
      "MCD64A1_Global2009-0000000000-0000000000.tif\n",
      "MCD64A1_Global2009-0000000000-0000065536.tif\n",
      "MCD64A1_Global2009-0000000000-0000131072.tif\n",
      "MCD64A1_Global2009-0000065536-0000000000.tif\n",
      "MCD64A1_Global2009-0000065536-0000065536.tif\n",
      "MCD64A1_Global2009-0000065536-0000131072.tif\n",
      "MCD64A1_MODIS_burned_data_2010.zip\n",
      "MCD64A1_Global2010-0000000000-0000000000.tif\n",
      "MCD64A1_Global2010-0000000000-0000065536.tif\n",
      "MCD64A1_Global2010-0000000000-0000131072.tif\n",
      "MCD64A1_Global2010-0000065536-0000000000.tif\n",
      "MCD64A1_Global2010-0000065536-0000065536.tif\n",
      "MCD64A1_Global2010-0000065536-0000131072.tif\n",
      "MCD64A1_MODIS_burned_data_2011.zip\n",
      "MCD64A1_Global2011-0000000000-0000000000.tif\n",
      "MCD64A1_Global2011-0000000000-0000065536.tif\n",
      "MCD64A1_Global2011-0000000000-0000131072.tif\n",
      "MCD64A1_Global2011-0000065536-0000000000.tif\n",
      "MCD64A1_Global2011-0000065536-0000065536.tif\n",
      "MCD64A1_Global2011-0000065536-0000131072.tif\n",
      "MCD64A1_MODIS_burned_data_2012.zip\n",
      "MCD64A1_Global2012-0000000000-0000000000.tif\n",
      "MCD64A1_Global2012-0000000000-0000065536.tif\n",
      "MCD64A1_Global2012-0000000000-0000131072.tif\n",
      "MCD64A1_Global2012-0000065536-0000000000.tif\n",
      "MCD64A1_Global2012-0000065536-0000065536.tif\n",
      "MCD64A1_Global2012-0000065536-0000131072.tif\n",
      "MCD64A1_MODIS_burned_data_2013.zip\n",
      "MCD64A1_Global2013-0000000000-0000000000.tif\n",
      "MCD64A1_Global2013-0000000000-0000065536.tif\n",
      "MCD64A1_Global2013-0000000000-0000131072.tif\n",
      "MCD64A1_Global2013-0000065536-0000000000.tif\n",
      "MCD64A1_Global2013-0000065536-0000065536.tif\n",
      "MCD64A1_Global2013-0000065536-0000131072.tif\n",
      "MCD64A1_MODIS_burned_data_2014.zip\n",
      "MCD64A1_Global2014-0000000000-0000000000.tif\n",
      "MCD64A1_Global2014-0000000000-0000065536.tif\n",
      "MCD64A1_Global2014-0000000000-0000131072.tif\n",
      "MCD64A1_Global2014-0000065536-0000000000.tif\n",
      "MCD64A1_Global2014-0000065536-0000065536.tif\n",
      "MCD64A1_Global2014-0000065536-0000131072.tif\n",
      "MCD64A1_MODIS_burned_data_2015.zip\n",
      "MCD64A1_Global2015-0000000000-0000000000.tif\n",
      "MCD64A1_Global2015-0000000000-0000065536.tif\n",
      "MCD64A1_Global2015-0000000000-0000131072.tif\n",
      "MCD64A1_Global2015-0000065536-0000000000.tif\n",
      "MCD64A1_Global2015-0000065536-0000065536.tif\n",
      "MCD64A1_Global2015-0000065536-0000131072.tif\n",
      "MCD64A1_MODIS_burned_data_2016.zip\n",
      "MCD64A1_Global2016-0000000000-0000000000.tif\n",
      "MCD64A1_Global2016-0000000000-0000065536.tif\n",
      "MCD64A1_Global2016-0000000000-0000131072.tif\n",
      "MCD64A1_Global2016-0000065536-0000000000.tif\n",
      "MCD64A1_Global2016-0000065536-0000065536.tif\n",
      "MCD64A1_Global2016-0000065536-0000131072.tif\n",
      "MCD64A1_MODIS_burned_data_2017.zip\n",
      "MCD64A1_Global2017-0000000000-0000000000.tif\n",
      "MCD64A1_Global2017-0000000000-0000065536.tif\n",
      "MCD64A1_Global2017-0000000000-0000131072.tif\n",
      "MCD64A1_Global2017-0000065536-0000000000.tif\n",
      "MCD64A1_Global2017-0000065536-0000065536.tif\n",
      "MCD64A1_Global2017-0000065536-0000131072.tif\n",
      "MCD64A1_MODIS_burned_data_2018.zip\n",
      "MCD64A1_Global2018-0000000000-0000000000.tif\n",
      "MCD64A1_Global2018-0000000000-0000065536.tif\n",
      "MCD64A1_Global2018-0000000000-0000131072.tif\n",
      "MCD64A1_Global2018-0000065536-0000000000.tif\n",
      "MCD64A1_Global2018-0000065536-0000065536.tif\n",
      "MCD64A1_Global2018-0000065536-0000131072.tif\n",
      "MCD64A1_MODIS_burned_data_2019.zip\n",
      "MCD64A1_Global2019-0000000000-0000000000.tif\n",
      "MCD64A1_Global2019-0000000000-0000065536.tif\n",
      "MCD64A1_Global2019-0000000000-0000131072.tif\n",
      "MCD64A1_Global2019-0000065536-0000000000.tif\n",
      "MCD64A1_Global2019-0000065536-0000065536.tif\n",
      "MCD64A1_Global2019-0000065536-0000131072.tif\n",
      "MCD64A1_MODIS_burned_data_2020.zip\n",
      "MCD64A1_Global2020-0000000000-0000000000.tif\n",
      "MCD64A1_Global2020-0000000000-0000065536.tif\n",
      "MCD64A1_Global2020-0000000000-0000131072.tif\n",
      "MCD64A1_Global2020-0000065536-0000000000.tif\n",
      "MCD64A1_Global2020-0000065536-0000065536.tif\n",
      "MCD64A1_Global2020-0000065536-0000131072.tif\n"
     ]
    }
   ],
   "source": [
    "#Zip the files according to the year value\n",
    "os.chdir(r\"C:\\Users\\ruben.crespo\\Downloads\\MODIS\")\n",
    "zip_file_list = []\n",
    "for year in Year_list:\n",
    "    zip_file = \"MCD64A1_MODIS_burned_data_\" + year + \".zip\"\n",
    "    print(zip_file)\n",
    "    #this list is to import one by one the \n",
    "    zip_file_list.append(zip_file)\n",
    "    #We create the object with the name\n",
    "    zipObj = ZipFile(zip_file, 'w')\n",
    "    #We iterate over the folder\n",
    "    for file_name in os.listdir(path):\n",
    "        if year in file_name:\n",
    "            if file_name != zip_file: #to avoid the already created zip file\n",
    "                # file_path = path + \"\\\\\" + filename\n",
    "                print(file_name)\n",
    "                zipObj.write(file_name)\n",
    "        else:\n",
    "            pass\n",
    "\n",
    "    zipObj.close()"
   ]
  },
  {
   "cell_type": "code",
   "execution_count": 13,
   "metadata": {},
   "outputs": [],
   "source": [
    "#Open the geoserver\n",
    "cat = Catalog(\"http://192.168.250.122:8600/geoserver/rest/\", username=\"\", password=\"\") #the py3 version in the path always end with \"/\"\n",
    "\n"
   ]
  },
  {
   "cell_type": "code",
   "execution_count": 16,
   "metadata": {},
   "outputs": [
    {
     "ename": "FileNotFoundError",
     "evalue": "[Errno 2] No such file or directory: 'C:\\\\Users\\\\ruben.crespo\\\\Downloads\\\\MODIS\\\\MCD64A1_MODIS_burned_databurn.zip'",
     "output_type": "error",
     "traceback": [
      "\u001b[1;31m---------------------------------------------------------------------------\u001b[0m",
      "\u001b[1;31mFileNotFoundError\u001b[0m                         Traceback (most recent call last)",
      "\u001b[1;32m<ipython-input-16-2044ae2fa5c0>\u001b[0m in \u001b[0;36m<module>\u001b[1;34m\u001b[0m\n\u001b[0;32m      1\u001b[0m \u001b[1;31m#Import the mosaics one by one\u001b[0m\u001b[1;33m\u001b[0m\u001b[1;33m\u001b[0m\u001b[1;33m\u001b[0m\u001b[0m\n\u001b[0;32m      2\u001b[0m \u001b[1;32mfor\u001b[0m \u001b[0mf\u001b[0m \u001b[1;32min\u001b[0m \u001b[0mzip_file_list\u001b[0m\u001b[1;33m:\u001b[0m\u001b[1;33m\u001b[0m\u001b[1;33m\u001b[0m\u001b[0m\n\u001b[1;32m----> 3\u001b[1;33m     \u001b[0mcat\u001b[0m\u001b[1;33m.\u001b[0m\u001b[0mcreate_imagemosaic\u001b[0m\u001b[1;33m(\u001b[0m\u001b[0mf\u001b[0m\u001b[1;33m[\u001b[0m\u001b[1;33m:\u001b[0m\u001b[1;33m-\u001b[0m\u001b[1;36m4\u001b[0m\u001b[1;33m]\u001b[0m\u001b[1;33m,\u001b[0m \u001b[0mpath\u001b[0m \u001b[1;33m+\u001b[0m \u001b[1;34m\"\\\\\"\u001b[0m \u001b[1;33m+\u001b[0m \u001b[0mf\u001b[0m\u001b[1;33m,\u001b[0m \u001b[0mworkspace\u001b[0m\u001b[1;33m=\u001b[0m\u001b[1;34m'test'\u001b[0m\u001b[1;33m)\u001b[0m\u001b[1;33m\u001b[0m\u001b[1;33m\u001b[0m\u001b[0m\n\u001b[0m",
      "\u001b[1;32m~\\Anaconda3\\lib\\site-packages\\geoserver\\catalog.py\u001b[0m in \u001b[0;36mcreate_imagemosaic\u001b[1;34m(self, name, data, configure, workspace, overwrite, charset)\u001b[0m\n\u001b[0;32m    445\u001b[0m         }\n\u001b[0;32m    446\u001b[0m         \u001b[1;32mif\u001b[0m \u001b[0misinstance\u001b[0m\u001b[1;33m(\u001b[0m\u001b[0mdata\u001b[0m\u001b[1;33m,\u001b[0m \u001b[0mstr\u001b[0m\u001b[1;33m)\u001b[0m\u001b[1;33m:\u001b[0m\u001b[1;33m\u001b[0m\u001b[1;33m\u001b[0m\u001b[0m\n\u001b[1;32m--> 447\u001b[1;33m             \u001b[0mmessage\u001b[0m \u001b[1;33m=\u001b[0m \u001b[0mopen\u001b[0m\u001b[1;33m(\u001b[0m\u001b[0mdata\u001b[0m\u001b[1;33m,\u001b[0m \u001b[1;34m'rb'\u001b[0m\u001b[1;33m)\u001b[0m\u001b[1;33m\u001b[0m\u001b[1;33m\u001b[0m\u001b[0m\n\u001b[0m\u001b[0;32m    448\u001b[0m         \u001b[1;32melse\u001b[0m\u001b[1;33m:\u001b[0m\u001b[1;33m\u001b[0m\u001b[1;33m\u001b[0m\u001b[0m\n\u001b[0;32m    449\u001b[0m             \u001b[0mmessage\u001b[0m \u001b[1;33m=\u001b[0m \u001b[0mdata\u001b[0m\u001b[1;33m\u001b[0m\u001b[1;33m\u001b[0m\u001b[0m\n",
      "\u001b[1;31mFileNotFoundError\u001b[0m: [Errno 2] No such file or directory: 'C:\\\\Users\\\\ruben.crespo\\\\Downloads\\\\MODIS\\\\MCD64A1_MODIS_burned_databurn.zip'"
     ]
    }
   ],
   "source": [
    "#Import the mosaics one by one in geoserver\n",
    "for f in zip_file_list:\n",
    "    cat.create_imagemosaic(f[:-4], path + \"\\\\\" + f, workspace='test') #the -4 is to remove the .zip part"
   ]
  },
  {
   "cell_type": "code",
   "execution_count": null,
   "metadata": {},
   "outputs": [],
   "source": []
  },
  {
   "cell_type": "code",
   "execution_count": null,
   "metadata": {},
   "outputs": [],
   "source": []
  }
 ],
 "metadata": {
  "kernelspec": {
   "display_name": "Python 3.9.12 ('geoprocessing')",
   "language": "python",
   "name": "python3"
  },
  "language_info": {
   "codemirror_mode": {
    "name": "ipython",
    "version": 3
   },
   "file_extension": ".py",
   "mimetype": "text/x-python",
   "name": "python",
   "nbconvert_exporter": "python",
   "pygments_lexer": "ipython3",
   "version": "3.9.12"
  },
  "orig_nbformat": 4,
  "vscode": {
   "interpreter": {
    "hash": "ef1643838ba400d9e56910a4ebe1d7c2ddcc0867ba383b6e8e5b6e0b2b833d6e"
   }
  }
 },
 "nbformat": 4,
 "nbformat_minor": 2
}
