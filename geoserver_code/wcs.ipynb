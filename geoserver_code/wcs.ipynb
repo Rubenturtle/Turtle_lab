{
 "cells": [
  {
   "cell_type": "code",
   "execution_count": 4,
   "id": "ee46cd0f-6186-42b7-892f-f9fab7a34699",
   "metadata": {},
   "outputs": [
    {
     "name": "stdout",
     "output_type": "stream",
     "text": [
      "dict_keys(['1', '2', '3', '4', '5', '6', '7', '8', '9', '10', '11', '12', '13', '14', '15', '16', '17', '18', '19', '20', '21', '22', '23'])\n"
     ]
    }
   ],
   "source": [
    "from owslib.wcs import WebCoverageService\n",
    "\n",
    "my_wcs = WebCoverageService('https://www.geo.euskadi.eus/WCS_KARTOGRAFIA', version='1.0.0')\n",
    "\n",
    "\n",
    "#Get list of coverages\n",
    "coveragenames = my_wcs.contents.keys()\n",
    "\n",
    "print(coveragenames)"
   ]
  },
  {
   "cell_type": "code",
   "execution_count": 7,
   "id": "6fe5faa7-e04a-4f25-8537-75c429b1aade",
   "metadata": {},
   "outputs": [
    {
     "name": "stdout",
     "output_type": "stream",
     "text": [
      "Layer title : MDT_LIDAR_25M_EGUNERATUENA_MAS_ACTUALIZADA\n",
      "BoundingBox : (-3.4814534007606626, 42.451767812607706, -1.6837220937023762, 43.45865767293003)\n",
      "Formats : ['GeoTIFF', 'NITF', 'HDF']\n",
      "Grid upper limits : ['5817', '4439']\n"
     ]
    }
   ],
   "source": [
    "layerid = \"4\"\n",
    "temp = my_wcs[layerid]\n",
    "# Title\n",
    "print(\"Layer title :\", temp.title)\n",
    "# bounding box\n",
    "print(\"BoundingBox :\", temp.boundingBoxWGS84)\n",
    "# supported data formats - we'll use geotiff\n",
    "print(\"Formats :\", temp.supportedFormats)\n",
    "# grid dimensions\n",
    "print(\"Grid upper limits :\", temp.grid.highlimits)"
   ]
  },
  {
   "cell_type": "code",
   "execution_count": 11,
   "id": "f64ff1e5-f248-43ef-bf6b-34beb0741c17",
   "metadata": {},
   "outputs": [
    {
     "name": "stdout",
     "output_type": "stream",
     "text": [
      "Format: image/geotiff\n",
      "Bounding box: (461050.0, 4700750.0, 606500.0, 4811750.0)\n",
      "Projection: EPSG:25830\n",
      "Resolution: 500 x 500\n"
     ]
    },
    {
     "ename": "HTTPError",
     "evalue": "404 Client Error: Not Found for url: https://www.geo.euskadi.eus:443/geoeuskadi/services/U11/WCS_KARTOGRAFIA/MapServer/WCSServer?version=1.0.0&request=GetCoverage&service=WCS&Coverage=%5B%274%27%5D&BBox=461050.0%2C4700750.0%2C606500.0%2C4811750.0&crs=EPSG%3A25830&format=image%2Fgeotiff&width=500&height=500",
     "output_type": "error",
     "traceback": [
      "\u001b[0;31m---------------------------------------------------------------------------\u001b[0m",
      "\u001b[0;31mHTTPError\u001b[0m                                 Traceback (most recent call last)",
      "Cell \u001b[0;32mIn [11], line 12\u001b[0m\n\u001b[1;32m      9\u001b[0m \u001b[38;5;28mprint\u001b[39m(\u001b[38;5;124m\"\u001b[39m\u001b[38;5;124mProjection:\u001b[39m\u001b[38;5;124m\"\u001b[39m, crs_wcs)\n\u001b[1;32m     10\u001b[0m \u001b[38;5;28mprint\u001b[39m(\u001b[38;5;124mf\u001b[39m\u001b[38;5;124m\"\u001b[39m\u001b[38;5;124mResolution: \u001b[39m\u001b[38;5;132;01m{\u001b[39;00mw\u001b[38;5;132;01m}\u001b[39;00m\u001b[38;5;124m x \u001b[39m\u001b[38;5;132;01m{\u001b[39;00mh\u001b[38;5;132;01m}\u001b[39;00m\u001b[38;5;124m\"\u001b[39m)\n\u001b[0;32m---> 12\u001b[0m output \u001b[38;5;241m=\u001b[39m \u001b[43mmy_wcs\u001b[49m\u001b[38;5;241;43m.\u001b[39;49m\u001b[43mgetCoverage\u001b[49m\u001b[43m(\u001b[49m\n\u001b[1;32m     13\u001b[0m \u001b[43m    \u001b[49m\u001b[43midentifier\u001b[49m\u001b[38;5;241;43m=\u001b[39;49m\u001b[43m[\u001b[49m\n\u001b[1;32m     14\u001b[0m \u001b[43m        \u001b[49m\u001b[43mlayerid\u001b[49m\u001b[43m,\u001b[49m\n\u001b[1;32m     15\u001b[0m \u001b[43m    \u001b[49m\u001b[43m]\u001b[49m\u001b[43m,\u001b[49m\n\u001b[1;32m     16\u001b[0m \u001b[43m    \u001b[49m\u001b[43mcrs\u001b[49m\u001b[38;5;241;43m=\u001b[39;49m\u001b[43mcrs_wcs\u001b[49m\u001b[43m,\u001b[49m\n\u001b[1;32m     17\u001b[0m \u001b[43m    \u001b[49m\u001b[43mbbox\u001b[49m\u001b[38;5;241;43m=\u001b[39;49m\u001b[43mbbox_wcs\u001b[49m\u001b[43m,\u001b[49m\n\u001b[1;32m     18\u001b[0m \u001b[43m    \u001b[49m\u001b[43mwidth\u001b[49m\u001b[38;5;241;43m=\u001b[39;49m\u001b[43mw\u001b[49m\u001b[43m,\u001b[49m\n\u001b[1;32m     19\u001b[0m \u001b[43m    \u001b[49m\u001b[43mheight\u001b[49m\u001b[38;5;241;43m=\u001b[39;49m\u001b[43mh\u001b[49m\u001b[43m,\u001b[49m\n\u001b[1;32m     20\u001b[0m \u001b[43m    \u001b[49m\u001b[38;5;28;43mformat\u001b[39;49m\u001b[38;5;241;43m=\u001b[39;49m\u001b[43mformat_wcs\u001b[49m\u001b[43m,\u001b[49m\n\u001b[1;32m     21\u001b[0m \u001b[43m)\u001b[49m\n\u001b[1;32m     22\u001b[0m \u001b[38;5;28mprint\u001b[39m(output)\n",
      "File \u001b[0;32m~/.local/lib/python3.10/site-packages/owslib/coverage/wcs100.py:158\u001b[0m, in \u001b[0;36mWebCoverageService_1_0_0.getCoverage\u001b[0;34m(self, identifier, bbox, time, format, crs, width, height, resx, resy, resz, parameter, method, timeout, **kwargs)\u001b[0m\n\u001b[1;32m    155\u001b[0m data \u001b[38;5;241m=\u001b[39m urlencode(request)\n\u001b[1;32m    156\u001b[0m log\u001b[38;5;241m.\u001b[39mdebug(\u001b[38;5;124m'\u001b[39m\u001b[38;5;124mWCS 1.0.0 DEBUG: Second part of URL: \u001b[39m\u001b[38;5;132;01m%s\u001b[39;00m\u001b[38;5;124m'\u001b[39m \u001b[38;5;241m%\u001b[39m data)\n\u001b[0;32m--> 158\u001b[0m u \u001b[38;5;241m=\u001b[39m \u001b[43mopenURL\u001b[49m\u001b[43m(\u001b[49m\u001b[43mbase_url\u001b[49m\u001b[43m,\u001b[49m\u001b[43m \u001b[49m\u001b[43mdata\u001b[49m\u001b[43m,\u001b[49m\u001b[43m \u001b[49m\u001b[43mmethod\u001b[49m\u001b[43m,\u001b[49m\u001b[43m \u001b[49m\u001b[38;5;28;43mself\u001b[39;49m\u001b[38;5;241;43m.\u001b[39;49m\u001b[43mcookies\u001b[49m\u001b[43m,\u001b[49m\u001b[43m \u001b[49m\u001b[43mauth\u001b[49m\u001b[38;5;241;43m=\u001b[39;49m\u001b[38;5;28;43mself\u001b[39;49m\u001b[38;5;241;43m.\u001b[39;49m\u001b[43mauth\u001b[49m\u001b[43m,\u001b[49m\u001b[43m \u001b[49m\u001b[43mtimeout\u001b[49m\u001b[38;5;241;43m=\u001b[39;49m\u001b[43mtimeout\u001b[49m\u001b[43m,\u001b[49m\u001b[43m \u001b[49m\u001b[43mheaders\u001b[49m\u001b[38;5;241;43m=\u001b[39;49m\u001b[38;5;28;43mself\u001b[39;49m\u001b[38;5;241;43m.\u001b[39;49m\u001b[43mheaders\u001b[49m\u001b[43m)\u001b[49m\n\u001b[1;32m    159\u001b[0m \u001b[38;5;28;01mreturn\u001b[39;00m u\n",
      "File \u001b[0;32m~/.local/lib/python3.10/site-packages/owslib/util.py:214\u001b[0m, in \u001b[0;36mopenURL\u001b[0;34m(url_base, data, method, cookies, username, password, timeout, headers, verify, cert, auth)\u001b[0m\n\u001b[1;32m    211\u001b[0m     \u001b[38;5;28;01mraise\u001b[39;00m ServiceException(req\u001b[38;5;241m.\u001b[39mtext)\n\u001b[1;32m    213\u001b[0m \u001b[38;5;28;01mif\u001b[39;00m req\u001b[38;5;241m.\u001b[39mstatus_code \u001b[38;5;129;01min\u001b[39;00m [\u001b[38;5;241m404\u001b[39m, \u001b[38;5;241m500\u001b[39m, \u001b[38;5;241m502\u001b[39m, \u001b[38;5;241m503\u001b[39m, \u001b[38;5;241m504\u001b[39m]:    \u001b[38;5;66;03m# add more if needed\u001b[39;00m\n\u001b[0;32m--> 214\u001b[0m     \u001b[43mreq\u001b[49m\u001b[38;5;241;43m.\u001b[39;49m\u001b[43mraise_for_status\u001b[49m\u001b[43m(\u001b[49m\u001b[43m)\u001b[49m\n\u001b[1;32m    216\u001b[0m \u001b[38;5;66;03m# check for service exceptions without the http header set\u001b[39;00m\n\u001b[1;32m    217\u001b[0m \u001b[38;5;28;01mif\u001b[39;00m \u001b[38;5;124m'\u001b[39m\u001b[38;5;124mContent-Type\u001b[39m\u001b[38;5;124m'\u001b[39m \u001b[38;5;129;01min\u001b[39;00m req\u001b[38;5;241m.\u001b[39mheaders \u001b[38;5;129;01mand\u001b[39;00m \\\n\u001b[1;32m    218\u001b[0m         req\u001b[38;5;241m.\u001b[39mheaders[\u001b[38;5;124m'\u001b[39m\u001b[38;5;124mContent-Type\u001b[39m\u001b[38;5;124m'\u001b[39m] \u001b[38;5;129;01min\u001b[39;00m [\u001b[38;5;124m'\u001b[39m\u001b[38;5;124mtext/xml\u001b[39m\u001b[38;5;124m'\u001b[39m, \u001b[38;5;124m'\u001b[39m\u001b[38;5;124mapplication/xml\u001b[39m\u001b[38;5;124m'\u001b[39m, \u001b[38;5;124m'\u001b[39m\u001b[38;5;124mapplication/vnd.ogc.se_xml\u001b[39m\u001b[38;5;124m'\u001b[39m]:\n\u001b[1;32m    219\u001b[0m     \u001b[38;5;66;03m# just in case 400 headers were not set, going to have to read the xml to see if it's an exception report.\u001b[39;00m\n",
      "File \u001b[0;32m~/.local/lib/python3.10/site-packages/requests/models.py:1021\u001b[0m, in \u001b[0;36mResponse.raise_for_status\u001b[0;34m(self)\u001b[0m\n\u001b[1;32m   1016\u001b[0m     http_error_msg \u001b[38;5;241m=\u001b[39m (\n\u001b[1;32m   1017\u001b[0m         \u001b[38;5;124mf\u001b[39m\u001b[38;5;124m\"\u001b[39m\u001b[38;5;132;01m{\u001b[39;00m\u001b[38;5;28mself\u001b[39m\u001b[38;5;241m.\u001b[39mstatus_code\u001b[38;5;132;01m}\u001b[39;00m\u001b[38;5;124m Server Error: \u001b[39m\u001b[38;5;132;01m{\u001b[39;00mreason\u001b[38;5;132;01m}\u001b[39;00m\u001b[38;5;124m for url: \u001b[39m\u001b[38;5;132;01m{\u001b[39;00m\u001b[38;5;28mself\u001b[39m\u001b[38;5;241m.\u001b[39murl\u001b[38;5;132;01m}\u001b[39;00m\u001b[38;5;124m\"\u001b[39m\n\u001b[1;32m   1018\u001b[0m     )\n\u001b[1;32m   1020\u001b[0m \u001b[38;5;28;01mif\u001b[39;00m http_error_msg:\n\u001b[0;32m-> 1021\u001b[0m     \u001b[38;5;28;01mraise\u001b[39;00m HTTPError(http_error_msg, response\u001b[38;5;241m=\u001b[39m\u001b[38;5;28mself\u001b[39m)\n",
      "\u001b[0;31mHTTPError\u001b[0m: 404 Client Error: Not Found for url: https://www.geo.euskadi.eus:443/geoeuskadi/services/U11/WCS_KARTOGRAFIA/MapServer/WCSServer?version=1.0.0&request=GetCoverage&service=WCS&Coverage=%5B%274%27%5D&BBox=461050.0%2C4700750.0%2C606500.0%2C4811750.0&crs=EPSG%3A25830&format=image%2Fgeotiff&width=500&height=500"
     ]
    }
   ],
   "source": [
    "\n",
    "format_wcs = \"image/geotiff\"\n",
    "bbox_wcs = temp.boundingboxes[0][\"bbox\"]  # Get the entire domain\n",
    "crs_wcs = temp.boundingboxes[0][\"nativeSrs\"]  # Coordinate system\n",
    "w = 500 # int(temp.grid.highlimits[0])\n",
    "h = 500 # int(temp.grid.highlimits[1])\n",
    "\n",
    "print(\"Format:\", format_wcs)\n",
    "print(\"Bounding box:\", bbox_wcs)\n",
    "print(\"Projection:\", crs_wcs)\n",
    "print(f\"Resolution: {w} x {h}\")\n",
    "\n",
    "output = my_wcs.getCoverage(\n",
    "    identifier=[\n",
    "        layerid,\n",
    "    ],\n",
    "    crs=crs_wcs,\n",
    "    bbox=bbox_wcs,\n",
    "    width=w,\n",
    "    height=h,\n",
    "    format=format_wcs,\n",
    ")\n",
    "print(output)\n",
    "\n"
   ]
  },
  {
   "cell_type": "code",
   "execution_count": null,
   "id": "154a5e1e-39a4-4489-ac57-2369c0649666",
   "metadata": {},
   "outputs": [],
   "source": [
    "SERVICE=WCS, VERSION=1.0.0, REQUEST=GetCoverage, COVERAGE=name,CRS=crs_identifier,\n",
    "BBOX=minx,miny,maxx,maxy or TIME=time1,time2, WIDTH=w,HEIGHT=h FORMAT=format"
   ]
  }
 ],
 "metadata": {
  "kernelspec": {
   "display_name": "Python 3 (ipykernel)",
   "language": "python",
   "name": "python3"
  },
  "language_info": {
   "codemirror_mode": {
    "name": "ipython",
    "version": 3
   },
   "file_extension": ".py",
   "mimetype": "text/x-python",
   "name": "python",
   "nbconvert_exporter": "python",
   "pygments_lexer": "ipython3",
   "version": "3.10.6"
  }
 },
 "nbformat": 4,
 "nbformat_minor": 5
}
