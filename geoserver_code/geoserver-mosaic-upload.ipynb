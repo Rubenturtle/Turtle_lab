{
 "cells": [
  {
   "cell_type": "markdown",
   "metadata": {},
   "source": [
    "# Import a mosain into Geoserver\n",
    "- info source: https://pypi.org/project/geoserver-rest/\n",
    "- Things that we need:\n",
    "https://github.com/geosolutions-it/geotools"
   ]
  },
  {
   "cell_type": "code",
   "execution_count": 1,
   "metadata": {},
   "outputs": [],
   "source": [
    "import os\n",
    "from zipfile import ZipFile\n",
    "from geo.Geoserver import Geoserver\n",
    "import pandas as pd"
   ]
  },
  {
   "cell_type": "code",
   "execution_count": 2,
   "metadata": {},
   "outputs": [],
   "source": [
    "\"\"\"WARNING, BE CAREFUL WITH WHAT DO YOU IMPORT, MAKE SURE ARE TIFS\"\"\"\n",
    "path = r\"Z:\\data\\ruben\\global_forest_watch_data_adapted\""
   ]
  },
  {
   "cell_type": "code",
   "execution_count": 3,
   "metadata": {},
   "outputs": [],
   "source": [
    "\"\"\"Take the folders in case there is more than one folder\"\"\"\n",
    "def get_folder_list(path):\n",
    "    Folder_list = [] #f for f in os.listdir(path) if os.isfile(mypath,f)\n",
    "    for folder in os.listdir(path): # [1:]\n",
    "        if os.path.isdir(folder):\n",
    "            if folder not in Folder_list:\n",
    "                Folder_list.append(os.path.join(path, folder).replace(\"\\\\\",\"/\"))\n",
    "        else:\n",
    "            pass\n",
    "    if not Folder_list:\n",
    "        Folder_list = [path]\n",
    "        return Folder_list\n",
    "    else:\n",
    "        return Folder_list\n"
   ]
  },
  {
   "cell_type": "code",
   "execution_count": 1,
   "metadata": {},
   "outputs": [],
   "source": [
    "# We need to crete with geotools the required parameters to import into Geoserver\n",
    "# Here are some tips to publish: https://github.com/geosolutions-it/geoserver-restconfig\n",
    "# Here are the instructions: https://github.com/geosolutions-it/geotools \n",
    "# Here are the properties of a mosaic: https://docs.geotools.org/latest/userguide/library/coverage/mosaic.html"
   ]
  },
  {
   "cell_type": "code",
   "execution_count": 8,
   "metadata": {},
   "outputs": [],
   "source": [
    "def create_zip(folder):\n",
    "    \"\"\"Creates a zip inside the folder for every raster that is inside\"\"\"\n",
    "    # Get the parent directory of the input folder\n",
    "    parent_folder = os.path.dirname(folder)\n",
    "    #We create the object with the name outside the scope of the folder\n",
    "    zip_file_path = os.path.join(parent_folder, os.path.basename(folder) + \".zip\")\n",
    "    zipObj = ZipFile(zip_file_path, 'w')\n",
    "    # Iterate over the files in the folder\n",
    "    for file_name in os.listdir(folder):\n",
    "        file_path = os.path.join(folder, file_name)\n",
    "        if os.path.isfile(file_path) and (file_name.endswith(\".tif\") or file_name.endswith(\".tiff\")):\n",
    "            zipObj.write(file_path, file_name)\n",
    "    return zip_file_path"
   ]
  },
  {
   "cell_type": "code",
   "execution_count": null,
   "metadata": {},
   "outputs": [],
   "source": [
    "folder_list = get_folder_list(path)"
   ]
  },
  {
   "cell_type": "code",
   "execution_count": 9,
   "metadata": {},
   "outputs": [],
   "source": [
    "for folder in folder_list:\n",
    "    zip_path_list = []\n",
    "    zip_file_path = create_zip(folder)\n",
    "    # Store the path of the zips\n",
    "    zip_path_list.append(zip_file_path)"
   ]
  },
  {
   "cell_type": "code",
   "execution_count": null,
   "metadata": {},
   "outputs": [],
   "source": [
    "#Initialize the library\n",
    "\"\"\"Production-geoserver\"\"\"\n",
    "#geo = Geoserver('https://integratedmodelling.org/dev-geoserver', username='admin', password='curd-h0cod')\n",
    "\"\"\"Development-geoserver\"\"\"\n",
    "geo = Geoserver('http://192.168.250.122:8600/geoserver', username='', password='')\n",
    "\n",
    "# Name of the workspace\n",
    "workspace_name = \"ruben\""
   ]
  },
  {
   "cell_type": "code",
   "execution_count": null,
   "metadata": {},
   "outputs": [],
   "source": [
    "# Create workspace if it doesn't exist\n",
    "workspace = geo.get_workspace(workspace_name)\n",
    "if workspace is None:\n",
    "    geo.create_workspace(workspace_name, workspace_name)"
   ]
  },
  {
   "cell_type": "code",
   "execution_count": null,
   "metadata": {},
   "outputs": [],
   "source": [
    "def geoserver_raster_batch(geo, file_path, workspace_name):\n",
    "    name = os.path.basename(file_path).replace('.tif','') # Store the name without .tif\n",
    "    # Upload raster data to the geoserver\n",
    "    geo.create_imagemosaic(lyr_name=name, path=file_path, workspace = workspace_name)\n",
    "    return print(\"Imported: \" + file_path)\n",
    "\n",
    "for file_path in zip_path_list:\n",
    "    geoserver_raster_batch(geo, file_path, workspace_name)"
   ]
  },
  {
   "cell_type": "code",
   "execution_count": null,
   "metadata": {},
   "outputs": [],
   "source": [
    "for file_path in zip_path_list:\n",
    "    geoserver_raster_batch(geo, file_path, workspace_name)"
   ]
  },
  {
   "cell_type": "code",
   "execution_count": null,
   "metadata": {},
   "outputs": [],
   "source": [
    "for file in os.listdir(path):\n",
    "    geoserver_raster_batch(geo, path, file, workspace_name)\n",
    "\n",
    "\n",
    "#geo.create_coveragestore(lyr_name=\"global-accessibility-2021\", path=\"C:/Users/ruben.crespo/Documents/03_tests/global_accesibility/access_50k/store/global-accessibility-2021.tif\", workspace='im-data-global-demography')"
   ]
  }
 ],
 "metadata": {
  "kernelspec": {
   "display_name": "geo_env",
   "language": "python",
   "name": "python3"
  },
  "language_info": {
   "codemirror_mode": {
    "name": "ipython",
    "version": 3
   },
   "file_extension": ".py",
   "mimetype": "text/x-python",
   "name": "python",
   "nbconvert_exporter": "python",
   "pygments_lexer": "ipython3",
   "version": "3.8.15"
  }
 },
 "nbformat": 4,
 "nbformat_minor": 2
}
