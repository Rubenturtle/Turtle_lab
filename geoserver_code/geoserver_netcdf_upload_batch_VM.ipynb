{
 "cells": [
  {
   "cell_type": "markdown",
   "metadata": {},
   "source": [
    "# We are going to upload some raster NetCDF files to geoserver\n",
    "info source: https://pypi.org/project/geoserver-rest/\n",
    "\n",
    "\n",
    "\n"
   ]
  },
  {
   "cell_type": "code",
   "execution_count": 4,
   "metadata": {},
   "outputs": [],
   "source": [
    "import os\n",
    "from sys import path\n",
    "from geo.Geoserver import Geoserver"
   ]
  },
  {
   "cell_type": "code",
   "execution_count": 5,
   "metadata": {},
   "outputs": [
    {
     "data": {
      "text/plain": [
       "'201 Workspace aries_mendia_climpy_test created!'"
      ]
     },
     "execution_count": 5,
     "metadata": {},
     "output_type": "execute_result"
    }
   ],
   "source": [
    "#Initialize the library\n",
    "geo = Geoserver('http://192.168.250.122:8600/geoserver', username='', password='')\n",
    "\n",
    "# Create a workspace\n",
    "geo.create_workspace(workspace='aries_mendia_climpy_test')"
   ]
  },
  {
   "cell_type": "code",
   "execution_count": 6,
   "metadata": {},
   "outputs": [
    {
     "name": "stdout",
     "output_type": "stream",
     "text": [
      "imported layer\n",
      "imported layer\n",
      "imported layer\n",
      "imported layer\n",
      "imported layer\n",
      "imported layer\n",
      "It's over, congratulations\n"
     ]
    }
   ],
   "source": [
    "# Upload raster data to the geoserver\n",
    "\n",
    "#path to our source data\n",
    "#path=r\"//akif.internal/public/z_resources/nca_southafrica/nlc_sa_crs9221/nlc_reprojected/out_sa\"\n",
    "path=r\"//akif.internal/public/demo-geo-stack/geoserver/data/climpy_data/aries_mendia_climpy/climpy_rain_amount_corrected_test\"\n",
    "\n",
    "\n",
    "\n",
    "for file in os.listdir(path):\n",
    "    location = path +\"/\"+ file #we create the location\n",
    "    name = file.replace('.nc','') #store the name without .tif\n",
    "    # Upload raster data to the geoserver\n",
    "    geo.create_coveragestore(lyr_name=name, path=location, workspace='aries_mendia_climpy_test')\n",
    "    print(\"imported layer\")\n",
    "print(\"It's over, congratulations\")\n"
   ]
  }
 ],
 "metadata": {
  "interpreter": {
   "hash": "18a43b7b0ec0ebc8e0283c9b56cb351972e27c719084286c879186d4b017f817"
  },
  "kernelspec": {
   "display_name": "Python 3.7.12 ('gdal')",
   "language": "python",
   "name": "python3"
  },
  "language_info": {
   "codemirror_mode": {
    "name": "ipython",
    "version": 3
   },
   "file_extension": ".py",
   "mimetype": "text/x-python",
   "name": "python",
   "nbconvert_exporter": "python",
   "pygments_lexer": "ipython3",
   "version": "3.8.12"
  },
  "orig_nbformat": 4
 },
 "nbformat": 4,
 "nbformat_minor": 2
}
