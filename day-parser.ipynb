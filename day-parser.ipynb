{
 "cells": [
  {
   "cell_type": "code",
   "execution_count": 2,
   "metadata": {},
   "outputs": [],
   "source": [
    "import datetime"
   ]
  },
  {
   "cell_type": "code",
   "execution_count": 5,
   "metadata": {},
   "outputs": [
    {
     "name": "stdout",
     "output_type": "stream",
     "text": [
      "['1995_5_25', '1995_05_26', '1995_05_27', '1995_05_28', '1995_05_29', '1995_05_30', '1995_05_31', '1995_06_01', '1995_06_02', '1995_06_03']\n"
     ]
    }
   ],
   "source": [
    "\"\"\"We parse by days and get a list\"\"\"\n",
    "\n",
    "starting_date_str = \"1995_5_25\"\n",
    "number_bands = 345\n",
    "\n",
    "date_time_obj = datetime.datetime.strptime(starting_date_str, \"%Y_%m_%d\")\n",
    "date_time_list = []\n",
    "date_time_list.append(starting_date_str)\n",
    "for i in range(number_bands):\n",
    "    date_time_obj += datetime.timedelta(days=1)\n",
    "    date_time_str = date_time_obj.strftime(\"%Y_%m_%d\")\n",
    "    date_time_list.append(date_time_str)\n",
    "i = None\n",
    "print(date_time_list[0:10])"
   ]
  }
 ],
 "metadata": {
  "kernelspec": {
   "display_name": "geoprocessing",
   "language": "python",
   "name": "python3"
  },
  "language_info": {
   "codemirror_mode": {
    "name": "ipython",
    "version": 3
   },
   "file_extension": ".py",
   "mimetype": "text/x-python",
   "name": "python",
   "nbconvert_exporter": "python",
   "pygments_lexer": "ipython3",
   "version": "3.9.12 | packaged by conda-forge | (main, Mar 24 2022, 23:18:12) [MSC v.1929 64 bit (AMD64)]"
  },
  "orig_nbformat": 4,
  "vscode": {
   "interpreter": {
    "hash": "ef1643838ba400d9e56910a4ebe1d7c2ddcc0867ba383b6e8e5b6e0b2b833d6e"
   }
  }
 },
 "nbformat": 4,
 "nbformat_minor": 2
}
