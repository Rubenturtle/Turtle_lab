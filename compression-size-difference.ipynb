{
 "cells": [
  {
   "cell_type": "markdown",
   "metadata": {},
   "source": [
    "## Compression test\n",
    "This code makes different compressions out of a file to see its differences"
   ]
  },
  {
   "cell_type": "code",
   "execution_count": 27,
   "metadata": {},
   "outputs": [],
   "source": [
    "import os\n",
    "from osgeo import gdal "
   ]
  },
  {
   "cell_type": "code",
   "execution_count": null,
   "metadata": {},
   "outputs": [],
   "source": [
    "os.chdir(r\"\\\\akif.internal\\public\\z_resources\\hydrosoil\\ruben\")\n",
    "source = os.getcwd()\n",
    "\n",
    "#iterate the files\n",
    "hihidrosil_files = [f for f in os.listdir('.') if os.path.isfile(f)]\n",
    "for f in hihidrosil_files:\n",
    "    file_total = os.path.join(source, f)\n",
    "    file_location = file_total.replace(\".tif\",\"\")\n",
    "    # print(file_location)\n",
    "    command_deflate_1 = \"gdal_translate -of GTiff -co \\\"COMPRESS=DEFLATE\\\" -co \\\"PREDICTOR=1\\\" -co \\\"TILED=YES\\\" \" + file_total + \" \" + file_location + \"_deflate_1.tif\"\n",
    "    print(command_deflate_1)\n",
    "    result = os.system(command_deflate_1)\n",
    "    print(result)"
   ]
  },
  {
   "cell_type": "code",
   "execution_count": 11,
   "metadata": {},
   "outputs": [
    {
     "data": {
      "text/plain": [
       "'\\\\\\\\akif.internal\\\\public\\\\z_resources\\\\hydrosoil\\\\ruben'"
      ]
     },
     "execution_count": 11,
     "metadata": {},
     "output_type": "execute_result"
    }
   ],
   "source": [
    "path = os.getcwd()\n",
    "path"
   ]
  },
  {
   "cell_type": "code",
   "execution_count": null,
   "metadata": {},
   "outputs": [],
   "source": [
    "\n",
    "# generate filenames\n",
    "input = os.path.join(tmp_dir, \"input.tif\")\n",
    "uncompressed = os.path.join(tmp_dir, \"uncompressed.tif\")\n",
    "deflate_1 = os.path.join(tmp_dir, \"deflate_1.tif\")\n",
    "\n",
    "\n",
    "# make sure to have uncompressed input\n",
    "command = \"gdal_translate -of GTiff \" + src_img + \" \" + input\n",
    "print \"## Make sure input is uncompressed ##\"\n",
    "os.system(command)\n",
    "\n",
    "# compression commands\n",
    "command_deflate_1 = \"gdal_translate -of GTiff -co \\\"COMPRESS=DEFLATE\\\" -co \\\"PREDICTOR=1\\\" -co \\\"TILED=YES\\\" \" + input + \" \" + deflate_1\n",
    "\n",
    "\n",
    "# remove tmp directory\n",
    "files = [input, uncompressed, packbits, deflate_1, deflate_2, lzw_1, lzw_2]\n",
    "for file in files:\n",
    "    os.remove(file)\n",
    "os.removedirs(tmp_dir)\n"
   ]
  }
 ],
 "metadata": {
  "interpreter": {
   "hash": "b3ba2566441a7c06988d0923437866b63cedc61552a5af99d1f4fb67d367b25f"
  },
  "kernelspec": {
   "display_name": "Python 3.8.5 64-bit ('base': conda)",
   "name": "python3"
  },
  "language_info": {
   "codemirror_mode": {
    "name": "ipython",
    "version": 3
   },
   "file_extension": ".py",
   "mimetype": "text/x-python",
   "name": "python",
   "nbconvert_exporter": "python",
   "pygments_lexer": "ipython3",
   "version": "3.8.5"
  },
  "orig_nbformat": 4
 },
 "nbformat": 4,
 "nbformat_minor": 2
}
