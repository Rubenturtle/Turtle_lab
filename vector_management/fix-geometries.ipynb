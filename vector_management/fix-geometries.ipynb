{
 "cells": [
  {
   "cell_type": "markdown",
   "metadata": {},
   "source": [
    "# Geometry Fixer for Vector Files\n",
    "\n",
    "## Description\n",
    "This Python script reads a vector file (e.g., Shapefile, GeoJSON), fixes invalid geometries, and saves the corrected geometries to a new output file. It uses the `geopandas` and `shapely` libraries to handle geospatial data and repair geometry errors effectively.\n",
    "\n",
    "The script is designed to address common geometry issues such as:\n",
    "- Self-intersecting polygons\n",
    "- Invalid topology\n",
    "- Other minor geometry inconsistencies\n",
    "\n",
    "## Requirements\n",
    "- Python 3.x\n",
    "- `geopandas` and `shapely` libraries\n",
    "\n",
    "## Author\n",
    "- Rubén Crespo Ceballos"
   ]
  },
  {
   "cell_type": "code",
   "execution_count": null,
   "metadata": {},
   "outputs": [],
   "source": [
    "import geopandas as gpd\n",
    "from shapely.geometry import MultiPolygon\n",
    "import os"
   ]
  },
  {
   "cell_type": "code",
   "execution_count": null,
   "metadata": {},
   "outputs": [],
   "source": [
    "\"\"\"Input variables\"\"\"\n",
    "input_path = r\"\"\n",
    "# In this case we have the output on the same folder."
   ]
  },
  {
   "cell_type": "code",
   "execution_count": null,
   "metadata": {},
   "outputs": [],
   "source": [
    "def get_vector_file_list(path):\n",
    "    \"\"\"\n",
    "    Get a list of the vector files inside the folder\n",
    "    Parameters:\n",
    "    - path (str): path of the folder with the resources.\n",
    "\n",
    "    Returns:\n",
    "    - File_list (list). list of the resources.\n",
    "    \"\"\"\n",
    "    File_list = [] #f for f in os.listdir(path) if os.isfile(mypath,f)\n",
    "    for file in os.listdir(path):\n",
    "        # \"anat\" is just to get here necessary ones\n",
    "        if file.endswith(\".shp\"):\n",
    "            if file not in File_list:\n",
    "                File_list.append(os.path.join(path,file))\n",
    "        else:\n",
    "            pass\n",
    "    return File_list\n",
    "\n",
    "def fix_geometries(input_file, output_file):\n",
    "    \"\"\"\n",
    "    Reads a vector file, fixes invalid geometries, and saves the corrected file.\n",
    "\n",
    "    Parameters:\n",
    "        input_file (str): The path to the input vector file (e.g., Shapefile or GeoJSON).\n",
    "        output_file (str): The path to save the output file with fixed geometries.\n",
    "\n",
    "    Returns:\n",
    "        None: The function saves the fixed file to the specified output path.\n",
    "    \"\"\"\n",
    "    # Read the vector file into a GeoDataFrame\n",
    "    gdf = gpd.read_file(input_file)\n",
    "    \n",
    "    # Function to fix individual geometries\n",
    "    def fix_geometry(geom):\n",
    "        \"\"\"\n",
    "        Fixes an individual geometry if it is invalid.\n",
    "\n",
    "        Parameters:\n",
    "            geom (shapely.geometry.base.BaseGeometry): A geometry object to be fixed.\n",
    "\n",
    "        Returns:\n",
    "            shapely.geometry.base.BaseGeometry: The fixed geometry object.\n",
    "        \"\"\"\n",
    "        if geom.is_valid:\n",
    "            return geom\n",
    "        else:\n",
    "            return geom.buffer(0)  # Buffer(0) often fixes geometry errors\n",
    "    \n",
    "    # Fix all geometries in the GeoDataFrame\n",
    "    gdf['geometry'] = gdf['geometry'].apply(fix_geometry)\n",
    "    \n",
    "    # Handle MultiPolygons, if needed\n",
    "    gdf['geometry'] = gdf['geometry'].apply(\n",
    "        lambda geom: MultiPolygon([geom]) if geom.geom_type == 'Polygon' else geom\n",
    "    )\n",
    "    \n",
    "    # Save the corrected GeoDataFrame to a new file\n",
    "    gdf.to_file(output_file)\n",
    "    print(f\"Fixed geometries saved to {output_file}\")\n"
   ]
  },
  {
   "cell_type": "code",
   "execution_count": null,
   "metadata": {},
   "outputs": [],
   "source": [
    "vector_files_list = get_vector_file_list(input_path)\n",
    "for file in vector_files_list:\n",
    "    output_file = file.replace(\".tif\", \"_fixed_geometries.tif\")\n",
    "    fix_geometries(file, output_file)"
   ]
  }
 ],
 "metadata": {
  "kernelspec": {
   "display_name": "geoprocessing",
   "language": "python",
   "name": "python3"
  },
  "language_info": {
   "name": "python",
   "version": "3.9.12"
  }
 },
 "nbformat": 4,
 "nbformat_minor": 2
}
