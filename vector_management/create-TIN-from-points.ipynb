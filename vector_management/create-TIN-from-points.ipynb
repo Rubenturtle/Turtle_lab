{
 "cells": [
  {
   "cell_type": "markdown",
   "metadata": {},
   "source": [
    "# TIN Interpolation from points\n",
    "- This script creates a vector TIN multipolygon out of the points"
   ]
  },
  {
   "cell_type": "code",
   "execution_count": 2,
   "metadata": {},
   "outputs": [],
   "source": [
    "import geopandas as gpd\n",
    "import numpy as np\n",
    "from scipy.spatial import Delaunay\n",
    "from shapely.geometry import Polygon, box\n",
    "import os\n",
    "import pandas as pd"
   ]
  },
  {
   "cell_type": "code",
   "execution_count": 2,
   "metadata": {},
   "outputs": [],
   "source": [
    "\"\"\"Export a certain area of the shapefile\"\"\"\n",
    "# Load the shapefile\n",
    "shapefile_path = r\"C:\\Users\\ruben.crespo\\Documents\\03_tests\\Res properties layer-KEN\\Kenya_building shapefile\\buildings_4326.shp\"\n",
    "gdf = gpd.read_file(shapefile_path)\n",
    "\n",
    "# Define the bounding box of the area of interest (xmin, ymin, xmax, ymax)\n",
    "xmin, ymin, xmax, ymax = 36.508395485, -1.475357495, 37.273437225, -1.081326365\n",
    "# 36.4341,-1.4812 : 37.1991,-1.0871\n",
    "area_of_interest = box(xmin, ymin, xmax, ymax)\n",
    "\n",
    "# Filter points within the area of interest using spatial indexing\n",
    "gdf_filtered = gdf[gdf.geometry.within(area_of_interest)]\n",
    "\n",
    "# Export the filtered points to a new shapefile\n",
    "output_filtered_points_path = r\"C:\\Users\\ruben.crespo\\Documents\\03_tests\\Res properties layer-KEN\\Kenya_building shapefile\\filtered_points.shp\"\n",
    "gdf_filtered.to_file(output_filtered_points_path)"
   ]
  },
  {
   "cell_type": "code",
   "execution_count": 4,
   "metadata": {},
   "outputs": [],
   "source": [
    "\"\"\"Create TIN\"\"\"\n",
    "# I don't want to repeat the computation\n",
    "output_filtered_points_path = r\"C:\\Users\\ruben.crespo\\Documents\\03_tests\\Res properties layer-KEN\\Kenya_building shapefile\\filtered_points.shp\"\n",
    "gdf_filtered = gpd.read_file(output_filtered_points_path)\n",
    "\n",
    "# Extract the coordinates of the filtered points\n",
    "points = np.array([[point.x, point.y] for point in gdf_filtered.geometry])\n",
    "\n",
    "# Perform Delaunay triangulation\n",
    "tri = Delaunay(points)\n",
    "\n",
    "# Optionally, save the TIN as a new shapefile (triangles)\n",
    "triangles = []\n",
    "for simplex in tri.simplices:\n",
    "    triangle = Polygon(points[simplex])\n",
    "    triangles.append(triangle)\n",
    "\n",
    "# Create a GeoDataFrame with the triangles\n",
    "tin_gdf = gpd.GeoDataFrame({'geometry': triangles}, crs=gdf.crs)\n",
    "\n",
    "tin_gdf.to_file(r\"C:\\Users\\ruben.crespo\\Documents\\03_tests\\Res properties layer-KEN\\Kenya_building shapefile\\tin.shp\")"
   ]
  }
 ],
 "metadata": {
  "kernelspec": {
   "display_name": "geo_forge_env",
   "language": "python",
   "name": "python3"
  },
  "language_info": {
   "codemirror_mode": {
    "name": "ipython",
    "version": 3
   },
   "file_extension": ".py",
   "mimetype": "text/x-python",
   "name": "python",
   "nbconvert_exporter": "python",
   "pygments_lexer": "ipython3",
   "version": "3.8.15"
  }
 },
 "nbformat": 4,
 "nbformat_minor": 2
}
