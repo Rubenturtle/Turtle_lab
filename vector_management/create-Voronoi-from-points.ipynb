{
 "cells": [
  {
   "cell_type": "markdown",
   "metadata": {},
   "source": [
    "# Create Voronoi from points\n",
    "This notebook creates a Voronoi polygon mesh out of a set of points, including inifinite vertices\n",
    "### Author\n",
    "- Rubén Crespo Ceballos\n",
    "## Outline\n",
    "1. Open the points set. \n",
    "2. Create the Voronoi points, areas.\n",
    "3. Convert them to polygons.\n",
    "4. Clip them to the bounding box / AOI.\n",
    "5. Append the info of the point to the polygon.\n",
    "6. Export the result.\n"
   ]
  },
  {
   "cell_type": "code",
   "execution_count": 1,
   "metadata": {},
   "outputs": [],
   "source": [
    "import geopandas as gpd\n",
    "import numpy as np\n",
    "from scipy.spatial import Voronoi\n",
    "from shapely.geometry import Polygon, box, Point, MultiPolygon\n",
    "from shapely.ops import unary_union\n"
   ]
  },
  {
   "cell_type": "code",
   "execution_count": 10,
   "metadata": {},
   "outputs": [],
   "source": [
    "def voronoi_polygons(vor, points_array):\n",
    "    \"\"\"\n",
    "    Generate Voronoi polygons from Voronoi diagram.\n",
    "\n",
    "    Parameters:\n",
    "    vor (Voronoi): A Voronoi object from scipy.spatial\n",
    "    points_array (np.array): Array of points used to generate the Voronoi diagram\n",
    "\n",
    "    Returns:\n",
    "    list: List of Shapely Polygon objects representing the Voronoi regions\n",
    "    \"\"\"\n",
    "    new_regions = []\n",
    "    failed_regions = []\n",
    "    valid_regions = []\n",
    "    # Iterate over each point and its corresponding Voronoi region index\n",
    "    for point_idx, region_idx in enumerate(vor.point_region):\n",
    "        region = vor.regions[region_idx]\n",
    "        # If the region does not contain an infinite vertex (-1) and has vertices\n",
    "        if not -1 in region and len(region) > 0:\n",
    "            polygon = Polygon([vor.vertices[i] for i in region]) # Create the polygon\n",
    "            if polygon.is_valid:\n",
    "                new_regions.append(polygon)\n",
    "                valid_regions.append(polygon)\n",
    "        else:\n",
    "            # Handle regions with infinite vertices\n",
    "            finite_region = [vor.vertices[i] for i in region if i != -1]\n",
    "            if len(finite_region) > 2: # Ensure enough vertices to form a polygon\n",
    "                finite_polygon = Polygon(finite_region)\n",
    "                if finite_polygon.is_valid:\n",
    "                    new_regions.append(finite_polygon)\n",
    "                    valid_regions.append(polygon)\n",
    "            else:\n",
    "                # Store the failed polygons. \n",
    "                failed_regions.append(finite_region)\n",
    "\n",
    "    if failed_regions: # This is very unlickely to happen, but just in case\n",
    "        print(\"There are failed regions\")\n",
    "        # Create union of all valid polygons to find the covered area\n",
    "        covered_area = unary_union(valid_regions)\n",
    "        \n",
    "        # Define a sufficiently large bounding box around the points\n",
    "        min_x, min_y = points_array.min(axis=0) - 1\n",
    "        max_x, max_y = points_array.max(axis=0) + 1\n",
    "        bounding_box = Polygon([(min_x, min_y), (min_x, max_y), (max_x, max_y), (max_x, min_y)])\n",
    "        \n",
    "        # Calculate the empty area\n",
    "        empty_area = bounding_box.difference(covered_area)\n",
    "        \n",
    "        # Add buffer polygons clipped to the empty area\n",
    "        for point_idx, region_idx in enumerate(vor.point_region):\n",
    "            region = vor.regions[region_idx]\n",
    "            if -1 in region or len(region) <= 2:\n",
    "                buffer_polygon = Point(points_array[point_idx]).buffer(0.1) # Adjust the buffer to the projection type\n",
    "                clipped_polygon = buffer_polygon.intersection(empty_area)\n",
    "                if clipped_polygon.is_valid and not clipped_polygon.is_empty:\n",
    "                    new_regions.append(clipped_polygon)\n",
    "    \n",
    "    return new_regions, failed_regions"
   ]
  },
  {
   "cell_type": "code",
   "execution_count": 11,
   "metadata": {},
   "outputs": [],
   "source": [
    "# Load the points shapefile\n",
    "gdf = gpd.read_file(r\"Z:\\z_resources\\ruben\\tin_buildings\\filtered_points.shp\")  # Replace with the correct path to your shapefile\n",
    "points = np.array(list(zip(gdf.geometry.x, gdf.geometry.y)))\n",
    "\n",
    "# Generate Voronoi diagram\n",
    "vor = Voronoi(points)\n",
    "\n",
    "# Generate Voronoi polygons\n",
    "voronoi_polys, failed_regions = voronoi_polygons(vor, points)\n",
    "\n",
    "if failed_regions:\n",
    "    print(\"We have a problem here\")"
   ]
  },
  {
   "cell_type": "code",
   "execution_count": 12,
   "metadata": {},
   "outputs": [],
   "source": [
    "# Define the bounding box around the points\n",
    "minx, miny, maxx, maxy = gdf.total_bounds\n",
    "additional_units = 0.001\n",
    "aoi = box(minx - additional_units, miny - additional_units, maxx + additional_units, maxy + additional_units)"
   ]
  },
  {
   "cell_type": "code",
   "execution_count": null,
   "metadata": {},
   "outputs": [],
   "source": [
    "# If I want to use the linestring of a multypolygon\n",
    "aoi_gdf = gpd.read_file('path_to_your_aoi_file.shp')\n",
    "\n",
    "# Ensure AOI is a MultiPolygon\n",
    "if isinstance(aoi_gdf.geometry.iloc[0], MultiPolygon):\n",
    "    aoi = aoi_gdf.geometry.iloc[0]\n",
    "else:\n",
    "    aoi = unary_union(aoi_gdf.geometry)"
   ]
  },
  {
   "cell_type": "code",
   "execution_count": null,
   "metadata": {},
   "outputs": [],
   "source": [
    "# Clip the polygons to the bounding box (This will be changed with a vector intput of the AOI)\n",
    "clipped_polygons = [poly.intersection(aoi) for poly in voronoi_polys]"
   ]
  },
  {
   "cell_type": "code",
   "execution_count": 13,
   "metadata": {},
   "outputs": [],
   "source": [
    "\"\"\"Pass the points attribute info to the polygons 1-1\"\"\"\n",
    "# Ensure the number of polygons matches the number of points\n",
    "assert len(clipped_polygons) == len(points), \"Number of polygons does not match number of points\"\n",
    "\n",
    "# Create a GeoDataFrame for the Voronoi polygons\n",
    "voronoi_gdf = gpd.GeoDataFrame(geometry=clipped_polygons, crs=gdf.crs)\n",
    "\n",
    "# Add the original point attributes to the Voronoi polygons\n",
    "joined_gdf = voronoi_gdf.join(gdf.drop(columns='geometry')) # drop the geometry of the points"
   ]
  },
  {
   "cell_type": "code",
   "execution_count": 14,
   "metadata": {},
   "outputs": [],
   "source": [
    "# Export the final GeoDataFrame\n",
    "joined_gdf.to_file(r\"Z:\\z_resources\\ruben\\tin_buildings\\voronoi_test_no_buffer.shp\")"
   ]
  }
 ],
 "metadata": {
  "kernelspec": {
   "display_name": "geo_forge_env",
   "language": "python",
   "name": "python3"
  },
  "language_info": {
   "codemirror_mode": {
    "name": "ipython",
    "version": 3
   },
   "file_extension": ".py",
   "mimetype": "text/x-python",
   "name": "python",
   "nbconvert_exporter": "python",
   "pygments_lexer": "ipython3",
   "version": "3.8.15"
  }
 },
 "nbformat": 4,
 "nbformat_minor": 2
}
