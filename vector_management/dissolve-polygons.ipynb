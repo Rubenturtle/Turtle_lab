{
 "cells": [
  {
   "cell_type": "code",
   "execution_count": 2,
   "metadata": {},
   "outputs": [],
   "source": [
    "import geopandas as gpd\n",
    "from shapely.geometry import Polygon, MultiPolygon\n",
    "from shapely import wkt\n",
    "import mat"
   ]
  },
  {
   "cell_type": "code",
   "execution_count": 8,
   "metadata": {},
   "outputs": [],
   "source": [
    "def dissolve_polygons(gdf):\n",
    "    # Dissolve all geometries into one by using an arbitrary constant column\n",
    "    gdf['dissolve'] = 1\n",
    "    dissolved_gdf = gdf.dissolve(by='dissolve')\n",
    "    return dissolved_gdf"
   ]
  },
  {
   "cell_type": "code",
   "execution_count": 4,
   "metadata": {},
   "outputs": [],
   "source": [
    "# Path to the input shapefile\n",
    "input_shapefile = r\"Z:\\z_resources\\ruben\\tin_buildings\\ken_adm3_agg.shp\"\n",
    "\n",
    "# Read the shapefile using Geopandas\n",
    "gdf = gpd.read_file(input_shapefile)\n",
    "dissolved_gdf = dissolve_polygons(gdf)\n"
   ]
  },
  {
   "cell_type": "code",
   "execution_count": 10,
   "metadata": {},
   "outputs": [],
   "source": [
    "dissolved.to_file(r\"Z:\\z_resources\\ruben\\tin_buildings\\ken_adm3_agg_dissolv.shp\")"
   ]
  }
 ],
 "metadata": {
  "kernelspec": {
   "display_name": "geo_forge_env",
   "language": "python",
   "name": "python3"
  },
  "language_info": {
   "codemirror_mode": {
    "name": "ipython",
    "version": 3
   },
   "file_extension": ".py",
   "mimetype": "text/x-python",
   "name": "python",
   "nbconvert_exporter": "python",
   "pygments_lexer": "ipython3",
   "version": "3.8.15"
  }
 },
 "nbformat": 4,
 "nbformat_minor": 2
}
