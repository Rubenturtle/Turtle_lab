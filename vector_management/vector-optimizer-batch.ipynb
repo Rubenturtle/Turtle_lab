{
 "cells": [
  {
   "cell_type": "markdown",
   "metadata": {},
   "source": [
    "# Vector optimizer\n",
    "- this script will check the input as vector files and then, evaluate if the file is good enought to work with.\n",
    "- we are not planning to do any transformation"
   ]
  },
  {
   "cell_type": "code",
   "execution_count": null,
   "metadata": {},
   "outputs": [],
   "source": [
    "import geopandas as gpd\n",
    "from shapely.geometry import Polygon\n",
    "import unicodedata\n",
    "import os"
   ]
  },
  {
   "cell_type": "code",
   "execution_count": null,
   "metadata": {},
   "outputs": [],
   "source": [
    "\"\"\"Get a list of the vector files inside the folder\"\"\"\n",
    "path = r\"C:\\Users\\admin\\Downloads\"\n",
    "output_path = path + \"\\output\"\n",
    "\n",
    "File_list = [] #f for f in os.listdir(path) if os.isfile(mypath,f)\n",
    "for file in os.listdir(path):\n",
    "    if file.endswith(\".shp\"):\n",
    "        if file not in File_list:\n",
    "\n",
    "            File_list.append(os.path.join(path,file))\n",
    "    else:\n",
    "        pass\n",
    "print(File_list)\n",
    "\n",
    "def get_vector_file_list(path):\n",
    "    \"\"\"Get a list of the vector files inside the folder (we asume we are working only with shp format data)\"\"\"\n",
    "    File_list = [] #f for f in os.listdir(path) if os.isfile(mypath,f)\n",
    "    for file in os.listdir(path):\n",
    "        if file.endswith(\".shp\"):\n",
    "            if file not in File_list:\n",
    "\n",
    "                File_list.append(os.path.join(path,file))\n",
    "        else:\n",
    "            pass\n",
    "    return File_list"
   ]
  },
  {
   "cell_type": "code",
   "execution_count": null,
   "metadata": {},
   "outputs": [],
   "source": [
    "def check_topology(geometry):\n",
    "    return geometry.is_valid\n",
    "\n",
    "def check_geometry(geometry):\n",
    "    return not geometry.is_empty\n",
    "\n",
    "def check_latin1(text):\n",
    "    try:\n",
    "        text.encode('latin1')\n",
    "    except UnicodeEncodeError:\n",
    "        return False\n",
    "    return True\n",
    "\n",
    "def check_complexity(geometry):\n",
    "    if isinstance(geometry, Polygon):\n",
    "        num_vertices = len(geometry.exterior.coords)\n",
    "        area = geometry.area\n",
    "        complexity = area / num_vertices\n",
    "        return complexity\n",
    "    return None"
   ]
  },
  {
   "cell_type": "code",
   "execution_count": null,
   "metadata": {},
   "outputs": [],
   "source": [
    "vector_file_path = \"\"\n",
    "gdf = gpd.read_file(vector_file_path)\n",
    "    \n",
    "for index, row in gdf.iterrows():\n",
    "    geometry = row['geometry']\n",
    "    attributes = row.drop('geometry')\n",
    "    \n",
    "    is_valid_topology = check_topology(geometry)\n",
    "    is_valid_geometry = check_geometry(geometry)\n",
    "    \n",
    "    non_latin1_fields = [field for field, value in attributes.items() if not check_latin1(str(value))]\n",
    "    \n",
    "    complexity = check_complexity(geometry)\n",
    "    \n",
    "    print(f\"Feature {index + 1}:\")\n",
    "    print(f\"Topology Valid: {is_valid_topology}\")\n",
    "    print(f\"Geometry Valid: {is_valid_geometry}\")\n",
    "    print(f\"Non-Latin1 Fields: {non_latin1_fields}\")\n",
    "    if complexity is not None:\n",
    "        print(f\"Complexity: {complexity}\")\n",
    "    print(\"===\")"
   ]
  }
 ],
 "metadata": {
  "language_info": {
   "name": "python"
  },
  "orig_nbformat": 4
 },
 "nbformat": 4,
 "nbformat_minor": 2
}
