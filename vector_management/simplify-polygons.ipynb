{
 "cells": [
  {
   "cell_type": "markdown",
   "metadata": {},
   "source": [
    "# Simplify multipolygon\n",
    "We are going to simplify a multipolygon:\n",
    "- Simplify the multipolygon\n",
    "- Make sure that the boundaries are respected\n",
    "\n",
    "- import layers:\n",
    "    -  multipolygon layer\n",
    "\n",
    "- Documentation:\n",
    "    - geopandas simplify: https://geopandas.org/en/stable/docs/reference/api/geopandas.GeoSeries.simplify.html\n",
    "    - shapely simplify: https://shapely.readthedocs.io/en/latest/manual.html#object.simplify"
   ]
  },
  {
   "cell_type": "code",
   "execution_count": 1,
   "metadata": {},
   "outputs": [],
   "source": [
    "import geopandas as gpd\n",
    "import pandas as pd\n",
    "import numpy as np\n",
    "from shapely.geometry import Polygon, MultiPolygon, Point\n",
    "from shapely.ops import snap\n",
    "import os\n",
    "from sys import path\n",
    "import matplotlib.pyplot as plt\n",
    "import topojson as tp"
   ]
  },
  {
   "cell_type": "code",
   "execution_count": 2,
   "metadata": {},
   "outputs": [],
   "source": [
    "\"\"\"Check memory usage\"\"\"\n",
    "# https://stackoverflow.com/questions/39100971/how-do-i-release-memory-used-by-a-pandas-dataframe\n",
    "import psutil\n",
    "def usage():\n",
    "    process = psutil.Process(os.getpid())\n",
    "    return print(\"Memory status: \", process.memory_info()[0] / float(2 ** 20))\n"
   ]
  },
  {
   "cell_type": "code",
   "execution_count": 3,
   "metadata": {},
   "outputs": [
    {
     "name": "stdout",
     "output_type": "stream",
     "text": [
      "Memory status:  225.1484375\n"
     ]
    }
   ],
   "source": [
    "\"\"\"Read the input as a geodataframe\"\"\"\n",
    "input_path = r\"Z:\\z_resources\\ruben\\gadm_col2\\gadm41_col_2.shp\"\n",
    "\n",
    "gdf = gpd.read_file(input_path)\n",
    "usage()"
   ]
  },
  {
   "cell_type": "code",
   "execution_count": 4,
   "metadata": {},
   "outputs": [
    {
     "name": "stdout",
     "output_type": "stream",
     "text": [
      "{'Polygon': 1089, 'MultiPolygon': 30}\n",
      "Memory status:  225.59765625\n"
     ]
    }
   ],
   "source": [
    "\"\"\"\n",
    "Here we check the geometry type and the number of polygons of the import file.\n",
    "Idea taken from: https://stackoverflow.com/questions/60780959/how-to-filter-a-geodataframe-by-geometry-type\n",
    "\"\"\"\n",
    "geometry_dic = {}\n",
    "geometry_type = gdf.geom_type.unique().tolist() #we create a list of unique geometries\n",
    "if len(geometry_type) > 0: #if there are more than one type we list them\n",
    "    for i in geometry_type:\n",
    "        geometry_gdf = gdf[gdf.geom_type == i] #new df with the geometry\n",
    "        geometry_rows = geometry_gdf.shape[0] #number of elements\n",
    "        geometry_dic.update({i:geometry_rows}) #add to dic\n",
    "        \n",
    "        \n",
    "print(geometry_dic)\n",
    "usage()\n",
    "# geometry_str = ''.join(geometry_gdf.geom_type.unique().tolist()) #transform the list to string"
   ]
  },
  {
   "cell_type": "markdown",
   "metadata": {},
   "source": [
    "# Simplification by Topojson"
   ]
  },
  {
   "cell_type": "code",
   "execution_count": null,
   "metadata": {},
   "outputs": [],
   "source": [
    "\"\"\"Basic concept, don't execute\"\"\"\n",
    "# https://gis.stackexchange.com/questions/325766/geopandas-simplify-results-in-gaps-between-polygons\n",
    "unit = 0.005\n",
    "topo = tp.Topology(gdf.to_crs(epsg='4326'), prequantize=False)\n",
    "simplification = topo.toposimplify(unit).to_gdf()\n",
    "simplification.plot()"
   ]
  },
  {
   "cell_type": "markdown",
   "metadata": {},
   "source": [
    "Here we are going to compare different preccision units and see the differences"
   ]
  },
  {
   "cell_type": "code",
   "execution_count": 5,
   "metadata": {},
   "outputs": [],
   "source": [
    "def get_area(gdf):\n",
    "    # https://gis.stackexchange.com/questions/218450/getting-polygon-areas-using-geopandas\n",
    "    if gdf.crs.is_geographic is True: # projection must be projected to calculate the area in meters\n",
    "        # gdf_copy = gdf.copy() # make a copy of the df\n",
    "        \"\"\"https://epsg.io/ Search for the optimal projection of the country\"\"\"\n",
    "        # For specific areas, you might want to use a local CRS\n",
    "        # Here, we use EPSG:3857 (Web Mercator) for simplicity\n",
    "        gdf = gdf.to_crs(\"EPSG:3857\")\n",
    "\n",
    "    calculated_area = gdf.area / 10**6 # Calculate the area in square meters and convert to square kilometers\n",
    "    return calculated_area.iloc[0] # We take the first element of the series.\n",
    "\n",
    "def get_number_of_vertex(gdf):\n",
    "    # https://gis.stackexchange.com/questions/328884/counting-number-of-vertices-in-geopandas\n",
    "    for x, row in gdf.iterrows():\n",
    "        geom = row.geometry\n",
    "        if geom.geom_type == \"MultiPolygon\":\n",
    "            n = 0\n",
    "            # iterate over all parts of multigeometry\n",
    "            for polygon in geom.geoms:\n",
    "                n += len(polygon.exterior.coords)\n",
    "        else:\n",
    "            n = len(row.geometry.exterior.coords) \n",
    "    return n"
   ]
  },
  {
   "cell_type": "code",
   "execution_count": 6,
   "metadata": {},
   "outputs": [
    {
     "name": "stdout",
     "output_type": "stream",
     "text": [
      "Memory status:  227.9375\n"
     ]
    }
   ],
   "source": [
    "\"\"\"Prepare the df and get the intial data parameters\"\"\"\n",
    "info = [] # Create empty list\n",
    "df_output = pd.DataFrame([], columns=['precision', 'size_km2', 'area_percentage', 'number_of_vertex', 'vertex_percentage', 'area_vertex_ratio']) # create empty dataframe\n",
    "\n",
    "\"\"\"init value of list\"\"\"\n",
    "info.append(0)\n",
    "\n",
    "\"\"\"get the area\"\"\"\n",
    "initial_calc_area = get_area(gdf)\n",
    "info.append(initial_calc_area)\n",
    "\n",
    "\"\"\"area_percentage\"\"\"\n",
    "info.append(100)\n",
    "\n",
    "\"\"\"get number of coords\"\"\"\n",
    "initial_vertex_number = get_number_of_vertex(gdf)\n",
    "info.append(initial_vertex_number)\n",
    "\n",
    "\"\"\"init percentage\"\"\"\n",
    "info.append(100)\n",
    "\n",
    "\"\"\"area_ratio\"\"\"\n",
    "info.append(initial_calc_area/initial_vertex_number)\n",
    "\n",
    "\"\"\"concat the info into the dataframe\"\"\"\n",
    "df_output = pd.concat([df_output, pd.DataFrame([info], columns=['precision', 'size_km2','area_percentage', 'number_of_vertex', 'vertex_percentage', 'area_vertex_ratio'])], axis=0)\n",
    "\n",
    "\"\"\"empty memory\"\"\"\n",
    "# del gdf\n",
    "usage()"
   ]
  },
  {
   "cell_type": "code",
   "execution_count": 8,
   "metadata": {},
   "outputs": [
    {
     "name": "stdout",
     "output_type": "stream",
     "text": [
      "finished:  5e-06\n",
      "finished:  1.5e-05\n",
      "finished:  2e-05\n",
      "finished:  5e-05\n",
      "finished:  0.00015\n",
      "finished:  0.0002\n"
     ]
    }
   ],
   "source": [
    "\"\"\"make an output for different levels\"\"\"\n",
    "\n",
    "topo = tp.Topology(gdf.to_crs(epsg='4326'), prequantize=False)\n",
    "\n",
    "# units = [0.00005, 0.00015, 0.00020]\n",
    "# units = [0.000005, 0.000015, 0.000020]\n",
    "units = [0.000005, 0.000015, 0.00002, 0.00005, 0.00015, 0.0002] # Descending order\n",
    "\n",
    "info = []\n",
    "\n",
    "for i in units:\n",
    "    info.append(i) #append the unit\n",
    "    simplification = topo.toposimplify(i).to_gdf() #do the simplification\n",
    "        \n",
    "    \"\"\"get the area\"\"\"\n",
    "    calc_area = get_area(simplification)\n",
    "    info.append(calc_area)\n",
    "\n",
    "    \"\"\"get the area percentage\"\"\"\n",
    "    info.append(calc_area * 100 / initial_calc_area)\n",
    "    \n",
    "    \"\"\"get number of vertex\"\"\"\n",
    "    vertex_number = get_number_of_vertex(simplification)\n",
    "    info.append(vertex_number)\n",
    "    \n",
    "    \"\"\"get the percentage\"\"\"\n",
    "    info.append(vertex_number * 100 / initial_vertex_number)\n",
    "\n",
    "    \"\"\"area_ratio\"\"\"\n",
    "    info.append(calc_area/vertex_number)\n",
    "    \n",
    "    \"\"\"Pass the list values to a df\"\"\"\n",
    "    df_output = pd.concat([df_output, pd.DataFrame([info], columns=['precision', 'size_km2', 'area_percentage', 'number_of_vertex', 'vertex_percentage', 'area_vertex_ratio'])], axis=0)\n",
    "    info = [] #empty the list\n",
    "    \n",
    "    \"\"\"Export of the data\"\"\"\n",
    "    simplification.to_file('\\\\'.join((input_path.split('\\\\'))[0:-1]) + '\\colombia_simplified_level_2_{}.shp'.format(i),index=False)\n",
    "    print(\"finished: \", i)\n",
    "    \"\"\"Release memory\"\"\"\n",
    "    # source: https://stackoverflow.com/questions/39100971/how-do-i-release-memory-used-by-a-pandas-dataframe\n",
    "    \n",
    "    "
   ]
  },
  {
   "cell_type": "markdown",
   "metadata": {},
   "source": [
    "# Simplification by Geopandas"
   ]
  },
  {
   "cell_type": "code",
   "execution_count": 4,
   "metadata": {},
   "outputs": [],
   "source": [
    "\"\"\"It wont work for multipolygons since the algorithm is not topology aware\"\"\"\n",
    "# Issue source:  https://gis.stackexchange.com/questions/325766/geopandas-simplify-results-in-gaps-between-polygons\n",
    "gdf_simplified = gdf.simplify(100, preserve_topology=True)\n",
    "# 7 minutes topology false\n",
    "# 10 minutes topology true"
   ]
  }
 ],
 "metadata": {
  "kernelspec": {
   "display_name": "Python 3.9.12 ('geoprocessing')",
   "language": "python",
   "name": "python3"
  },
  "language_info": {
   "codemirror_mode": {
    "name": "ipython",
    "version": 3
   },
   "file_extension": ".py",
   "mimetype": "text/x-python",
   "name": "python",
   "nbconvert_exporter": "python",
   "pygments_lexer": "ipython3",
   "version": "3.8.15"
  },
  "orig_nbformat": 4,
  "vscode": {
   "interpreter": {
    "hash": "ef1643838ba400d9e56910a4ebe1d7c2ddcc0867ba383b6e8e5b6e0b2b833d6e"
   }
  }
 },
 "nbformat": 4,
 "nbformat_minor": 2
}
