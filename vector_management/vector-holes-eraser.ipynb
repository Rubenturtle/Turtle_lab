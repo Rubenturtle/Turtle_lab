{
 "cells": [
  {
   "cell_type": "markdown",
   "metadata": {},
   "source": [
    "# Vector holes eraser.\n",
    "- Iterate over every polygon and delete the internal holes\n",
    "- A limit to the hole size can be set"
   ]
  },
  {
   "cell_type": "code",
   "execution_count": 1,
   "metadata": {},
   "outputs": [],
   "source": [
    "import geopandas as gpd\n",
    "from shapely import wkt\n",
    "from shapely.geometry import Polygon, MultiPolygon\n",
    "import os\n",
    "import numpy as np"
   ]
  },
  {
   "cell_type": "code",
   "execution_count": 2,
   "metadata": {},
   "outputs": [],
   "source": [
    "def convert_coords_gdf(gdf):\n",
    "    def convert_coords(geom):\n",
    "        if isinstance(geom, Polygon):\n",
    "            exterior_coords = np.array(geom.exterior.coords)\n",
    "            exterior_xy_coords = exterior_coords[:, :2]  # Extract only the first two columns (X and Y)\n",
    "\n",
    "            interior_coords = [np.array(interior.coords)[:, :2] for interior in geom.interiors]\n",
    "            interior_xy_coords = [coords for coords in interior_coords]  # Extract only the first two columns (X and Y) for each interior ring\n",
    "\n",
    "            transformed_exterior = Polygon(exterior_xy_coords, holes=interior_xy_coords)\n",
    "\n",
    "            return transformed_exterior\n",
    "        elif isinstance(geom, MultiPolygon):\n",
    "            parts = [convert_coords(part) for part in geom.geoms] # Esto es una función recursiva\n",
    "            return MultiPolygon(parts)\n",
    "        else:\n",
    "            raise ValueError(\"Unsupported geometry type\")\n",
    "\n",
    "    gdf['geometry'] = gdf['geometry'].apply(convert_coords)\n",
    "    return gdf\n",
    "\n",
    "\n",
    "def get_all_interiors(gdf):\n",
    "    multipolygon_wkt = gdf['geometry']\n",
    "    multipolygon = wkt.loads(str(multipolygon_wkt[0]))\n",
    "\n",
    "    all_interiors = []\n",
    "    for polygon in multipolygon.geoms:\n",
    "        for interior in polygon.interiors: # Interior es un linestring, no se puede calcular area, solo longitud\n",
    "            p = Polygon(interior)\n",
    "\n",
    "            all_interiors.append(p.area)\n",
    "    \n",
    "    # interior_lengths = sorted([interior.length for interior in all_interiors])       \n",
    "    return sorted(all_interiors)\n",
    "\n",
    "def holes_filter(gdf, epsg, hole_area):\n",
    "    multipolygon_wkt = gdf['geometry']\n",
    "    multipolygon = wkt.loads(str(multipolygon_wkt[0]))\n",
    "\n",
    "    list_parts = []\n",
    "    for polygon in multipolygon.geoms:\n",
    "        list_interiors = []\n",
    "\n",
    "        for interior in polygon.interiors: # Interior es un linestring, no se puede calcular area, solo longitud\n",
    "            p = Polygon(interior)\n",
    "            if p.area > hole_area: # Filter by the size\n",
    "                list_interiors.append(interior)\n",
    "        \n",
    "        # Put all together\n",
    "        temp_pol = Polygon(polygon.exterior, holes=list_interiors)\n",
    "        list_parts.append(temp_pol)\n",
    "        \n",
    "    new_multipolygon = MultiPolygon(list_parts)\n",
    "    no_holes_gdf = gpd.GeoDataFrame(geometry=[new_multipolygon], crs=gdf.crs) # Get the crs of the input gdf\n",
    "    \n",
    "    # Copy all columns and values from the input gdf\n",
    "    for col in gdf.columns:\n",
    "        if col != 'geometry':\n",
    "            no_holes_gdf[col] = gdf[col].iloc[0]\n",
    "    return no_holes_gdf"
   ]
  },
  {
   "cell_type": "code",
   "execution_count": 3,
   "metadata": {},
   "outputs": [],
   "source": [
    "vector_file = r\"Z:\\z_resources\\ruben\\tin_buildings\\ken_adm3_agg_dissolv.shp\"\n",
    "# vector_file = r\"Z:\\data\\im-nca-germany\\bfn_grosslandschaften\\test_2.shp\"\n",
    "output_path = os.path.dirname(vector_file)\n",
    "epsg = 25832 # Projection of all the inputs "
   ]
  },
  {
   "cell_type": "code",
   "execution_count": 4,
   "metadata": {},
   "outputs": [],
   "source": [
    "gdf = gpd.read_file(vector_file)\n",
    "# Delete the third dimension\n",
    "has_z = gdf.geometry.has_z # this is a series of [0]\n",
    "if has_z[0]:\n",
    "    print(\"We have the z dimension\")\n",
    "    gdf = convert_coords_gdf(gdf)\n",
    "\n",
    "interior_areas = get_all_interiors(gdf)\n",
    "\n",
    "hole_length = 7000000"
   ]
  },
  {
   "cell_type": "code",
   "execution_count": 5,
   "metadata": {},
   "outputs": [
    {
     "data": {
      "text/plain": [
       "[]"
      ]
     },
     "execution_count": 5,
     "metadata": {},
     "output_type": "execute_result"
    }
   ],
   "source": [
    "# See the results\n",
    "interior_areas"
   ]
  },
  {
   "cell_type": "code",
   "execution_count": 6,
   "metadata": {},
   "outputs": [],
   "source": [
    "no_holes_gdf = holes_filter(gdf, epsg, hole_length)\n",
    "no_holes_gdf.to_file(os.path.join(output_path, \"final.shp\"))"
   ]
  }
 ],
 "metadata": {
  "kernelspec": {
   "display_name": "geo_forge_env",
   "language": "python",
   "name": "python3"
  },
  "language_info": {
   "codemirror_mode": {
    "name": "ipython",
    "version": 3
   },
   "file_extension": ".py",
   "mimetype": "text/x-python",
   "name": "python",
   "nbconvert_exporter": "python",
   "pygments_lexer": "ipython3",
   "version": "3.8.15"
  }
 },
 "nbformat": 4,
 "nbformat_minor": 2
}
