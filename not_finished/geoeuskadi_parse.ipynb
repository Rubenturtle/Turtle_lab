{
 "cells": [
  {
   "cell_type": "markdown",
   "metadata": {},
   "source": [
    "# Parse the Geoeuskadi website\n",
    "- This code will parse throught all the geoeuskadi database and export everything in a list,\n",
    "if the destination doesn't end with a \".\" extension, it will go deeper until it finds it"
   ]
  },
  {
   "cell_type": "code",
   "execution_count": 1,
   "metadata": {},
   "outputs": [],
   "source": [
    "from bs4 import BeautifulSoup as bs #library to parse\n",
    "import requests #library to read web URL"
   ]
  },
  {
   "cell_type": "code",
   "execution_count": null,
   "metadata": {},
   "outputs": [],
   "source": [
    "html_text = requests.get('https://www.geo.euskadi.eus/cartografia/DatosDescarga/Agricultura/').text #source HTML\n",
    "soup = bs(html_text, 'lxml')\n",
    "\n",
    "categories = soup.find_all('a') #the categories have an 'a' tag\n",
    "\n",
    "\n",
    "root = \"https://www.geo.euskadi.eus\"\n",
    "\n"
   ]
  },
  {
   "cell_type": "code",
   "execution_count": null,
   "metadata": {},
   "outputs": [],
   "source": []
  }
 ],
 "metadata": {
  "kernelspec": {
   "display_name": "Python 3.9.7 ('base')",
   "language": "python",
   "name": "python3"
  },
  "language_info": {
   "codemirror_mode": {
    "name": "ipython",
    "version": 3
   },
   "file_extension": ".py",
   "mimetype": "text/x-python",
   "name": "python",
   "nbconvert_exporter": "python",
   "pygments_lexer": "ipython3",
   "version": "3.9.7"
  },
  "orig_nbformat": 4,
  "vscode": {
   "interpreter": {
    "hash": "ea83a5ad54c8cc9e7ff8f4ab9d2bf25c75f7997df51cce98e5453f4f3fcc4a0a"
   }
  }
 },
 "nbformat": 4,
 "nbformat_minor": 2
}
