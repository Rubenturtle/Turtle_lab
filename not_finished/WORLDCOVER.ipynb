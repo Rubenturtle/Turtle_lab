{
 "cells": [
  {
   "cell_type": "markdown",
   "metadata": {},
   "source": [
    "# AWS data analysis\n",
    "- We will do some research on the WORDCOVER data\n",
    "- The goal is to extract the data, no need to download, and fetch it into k.lab by a geoserver\n",
    "\n",
    "UNFINISHED"
   ]
  },
  {
   "cell_type": "code",
   "execution_count": 1,
   "metadata": {},
   "outputs": [],
   "source": [
    "import urllib.request\n",
    "import json\n",
    "import subprocess"
   ]
  },
  {
   "cell_type": "code",
   "execution_count": null,
   "metadata": {},
   "outputs": [],
   "source": [
    "url = 'https://copernicus-dem-30m.s3.amazonaws.com/'\n",
    "fileList = 'tileList.txt'\n",
    "file = urllib.request.urlopen(url+fileList)\n",
    "#data = file.read()\n",
    "\n",
    "files= []\n",
    "\n",
    "with file as f:\n",
    "    lines = f.readlines()\n",
    "    [files.append(url+i.decode(\"utf-8\").rstrip('\\r\\n')+'/'+i.decode(\"utf-8\").rstrip('\\r\\n')+\".tif\") for i in lines]\n",
    "\n",
    "def cmdBuild(cogUrl,geoserverUrl, username, password):\n",
    "  return \"curl -u \" + username + \":\" + password + ' -XPOST -H \"Content-type: text/plain\" --write-out %{http_code} -d ' + '\"' + cogUrl + '\"' + \" \" + '\"' + geoserverUrl + '\"'\n",
    "\n",
    "geoserverUrl = \"http://localhost:8080/geoserver/rest/workspaces/test/coveragestores/copernicus-dem/remote.imagemosaic\"\n",
    "user = \"admin\"\n",
    "password = \"geoserver\"\n",
    "\n",
    "cmds = []\n",
    "\n",
    "[cmds.append(cmdBuild(i, geoserverUrl, user, password)) for i in files]\n",
    "\n",
    "\n",
    "[subprocess.call(i, shell=True) for i in cmds]"
   ]
  },
  {
   "cell_type": "code",
   "execution_count": null,
   "metadata": {},
   "outputs": [],
   "source": [
    "import boto3"
   ]
  },
  {
   "cell_type": "code",
   "execution_count": null,
   "metadata": {},
   "outputs": [],
   "source": [
    "client = boto3.client('s3')\n"
   ]
  }
 ],
 "metadata": {
  "interpreter": {
   "hash": "5fc5257bea4e763ee08f18430ea8f79d03ae8076c69d72636b66273cfda20946"
  },
  "kernelspec": {
   "display_name": "Python 3.8.12 64-bit ('amazon': conda)",
   "name": "python3"
  },
  "language_info": {
   "codemirror_mode": {
    "name": "ipython",
    "version": 3
   },
   "file_extension": ".py",
   "mimetype": "text/x-python",
   "name": "python",
   "nbconvert_exporter": "python",
   "pygments_lexer": "ipython3",
   "version": "3.8.12"
  },
  "orig_nbformat": 4
 },
 "nbformat": 4,
 "nbformat_minor": 2
}
