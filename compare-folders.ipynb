{
 "cells": [
  {
   "cell_type": "markdown",
   "metadata": {},
   "source": [
    "# Compare folders\n",
    "- this is a simple script to compare between folders"
   ]
  },
  {
   "cell_type": "code",
   "execution_count": 1,
   "metadata": {},
   "outputs": [],
   "source": [
    "import os"
   ]
  },
  {
   "cell_type": "code",
   "execution_count": 2,
   "metadata": {},
   "outputs": [],
   "source": [
    "path_folder_1 = r\"C:\\Users\\admin\\Downloads\\global_forest_watch_data\"\n",
    "path_folder_2 = r\"C:\\Users\\admin\\Downloads\\global_forest_watch_data\\output\""
   ]
  },
  {
   "cell_type": "code",
   "execution_count": 3,
   "metadata": {},
   "outputs": [],
   "source": [
    "\"\"\"Get a list of the files inside the folder in case of MULTIPLE files\"\"\"\n",
    "def get_raster_file_list(path):\n",
    "    File_list = [] #f for f in os.listdir(path) if os.isfile(mypath,f)\n",
    "    for file in os.listdir(path):\n",
    "        # file = os.path.basename(file)\n",
    "        # print(file)\n",
    "        if file.endswith(\".tif\") or file.endswith(\".tiff\"):\n",
    "            if file not in File_list:\n",
    "                File_list.append(file)\n",
    "        else:\n",
    "            pass\n",
    "        \n",
    "\n",
    "    return File_list"
   ]
  },
  {
   "cell_type": "code",
   "execution_count": 4,
   "metadata": {},
   "outputs": [
    {
     "name": "stdout",
     "output_type": "stream",
     "text": [
      "The following files are missing:\n",
      "treecover2010_20n_110w.tif\n",
      "treecover2010_20n_120e.tif\n",
      "treecover2010_20n_110e.tif\n",
      "treecover2010_20n_160w.tif\n",
      "treecover2010_20s_010e.tif\n"
     ]
    }
   ],
   "source": [
    "file_list_1 =  get_raster_file_list(path_folder_1)\n",
    "file_list_2 = get_raster_file_list(path_folder_2)\n",
    "set_list_1 = set(file_list_1)\n",
    "set_list_2 = set(file_list_2)\n",
    "missing_files = set_list_1 - set_list_2\n",
    "\n",
    "if missing_files:\n",
    "    print(\"The following files are missing:\")\n",
    "    for file in missing_files:\n",
    "        print(file)"
   ]
  },
  {
   "cell_type": "code",
   "execution_count": null,
   "metadata": {},
   "outputs": [],
   "source": []
  },
  {
   "cell_type": "code",
   "execution_count": null,
   "metadata": {},
   "outputs": [],
   "source": [
    "\"\"\"Check for missing files\"\"\"\n",
    "# List all files in the download folder\n",
    "local_file_list = os.listdir(download_folder)\n",
    "\n",
    "# Convert both lists to sets for efficient comparison. Set eveything to minus, the files are different in naming.\n",
    "downloaded_files_set = set(map(str.lower, local_file_list))\n",
    "website_files_set = set(map(str.lower, web_file_list))\n",
    "\n",
    "# Find missing files by taking the difference between the sets\n",
    "missing_files = website_files_set - downloaded_files_set\n",
    "\n",
    "if missing_files:\n",
    "    print(\"The following files are missing:\")\n",
    "    for file in missing_files:\n",
    "        print(file)"
   ]
  }
 ],
 "metadata": {
  "kernelspec": {
   "display_name": "gdal_env",
   "language": "python",
   "name": "python3"
  },
  "language_info": {
   "codemirror_mode": {
    "name": "ipython",
    "version": 3
   },
   "file_extension": ".py",
   "mimetype": "text/x-python",
   "name": "python",
   "nbconvert_exporter": "python",
   "pygments_lexer": "ipython3",
   "version": "3.7.12"
  }
 },
 "nbformat": 4,
 "nbformat_minor": 2
}
